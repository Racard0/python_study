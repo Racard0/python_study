{
 "cells": [
  {
   "cell_type": "code",
   "execution_count": 1,
   "id": "0c56aa2e",
   "metadata": {},
   "outputs": [],
   "source": [
    "import numpy as np"
   ]
  },
  {
   "cell_type": "code",
   "execution_count": 3,
   "id": "9ac537c6",
   "metadata": {},
   "outputs": [],
   "source": [
    "arr1 = np.array([-1,3,-5,7,-9])"
   ]
  },
  {
   "cell_type": "code",
   "execution_count": 5,
   "id": "6772b42b",
   "metadata": {},
   "outputs": [
    {
     "data": {
      "text/plain": [
       "array([-1,  3, -5,  7, -9])"
      ]
     },
     "execution_count": 5,
     "metadata": {},
     "output_type": "execute_result"
    }
   ],
   "source": [
    "arr1"
   ]
  },
  {
   "cell_type": "code",
   "execution_count": 8,
   "id": "52f44480",
   "metadata": {},
   "outputs": [],
   "source": [
    "# dtype - 规定数据类型\n",
    "arr2 = np.array([2,-4,6,-8,10], dtype = 'float')"
   ]
  },
  {
   "cell_type": "code",
   "execution_count": 9,
   "id": "52d813b4",
   "metadata": {},
   "outputs": [
    {
     "data": {
      "text/plain": [
       "array([ 2., -4.,  6., -8., 10.])"
      ]
     },
     "execution_count": 9,
     "metadata": {},
     "output_type": "execute_result"
    }
   ],
   "source": [
    "arr2"
   ]
  },
  {
   "cell_type": "code",
   "execution_count": 10,
   "id": "55ce047c",
   "metadata": {},
   "outputs": [],
   "source": [
    "arr3 = np.array([1,2,3,-4,-5,-6], dtype = 'str')"
   ]
  },
  {
   "cell_type": "code",
   "execution_count": 11,
   "id": "04f567e1",
   "metadata": {},
   "outputs": [
    {
     "data": {
      "text/plain": [
       "array(['1', '2', '3', '-4', '-5', '-6'], dtype='<U2')"
      ]
     },
     "execution_count": 11,
     "metadata": {},
     "output_type": "execute_result"
    }
   ],
   "source": [
    "arr3"
   ]
  },
  {
   "cell_type": "code",
   "execution_count": 14,
   "id": "b175aa6b",
   "metadata": {},
   "outputs": [],
   "source": [
    "# 二维数组，嵌套写\n",
    "arr4 = np.array([[1,3,5,7],[2,4,5,7],[3,3,5,6]])"
   ]
  },
  {
   "cell_type": "code",
   "execution_count": 15,
   "id": "57ceea57",
   "metadata": {},
   "outputs": [
    {
     "data": {
      "text/plain": [
       "array([[1, 3, 5, 7],\n",
       "       [2, 4, 5, 7],\n",
       "       [3, 3, 5, 6]])"
      ]
     },
     "execution_count": 15,
     "metadata": {},
     "output_type": "execute_result"
    }
   ],
   "source": [
    "arr4"
   ]
  },
  {
   "cell_type": "code",
   "execution_count": 20,
   "id": "dfaed621",
   "metadata": {
    "scrolled": true
   },
   "outputs": [
    {
     "name": "stdout",
     "output_type": "stream",
     "text": [
      "[0 1 2 3 4 5 6 7 8 9]\n",
      "[0.  0.5 1.  1.5 2.  2.5 3.  3.5 4.  4.5 5.  5.5 6.  6.5 7.  7.5 8.  8.5\n",
      " 9.  9.5]\n"
     ]
    }
   ],
   "source": [
    "# 0-10\n",
    "print(np.arange(0,10))\n",
    "# 0-10,步长为05\n",
    "print(np.arange(0,10,0.5))"
   ]
  },
  {
   "cell_type": "code",
   "execution_count": 25,
   "id": "e7ce7065",
   "metadata": {},
   "outputs": [
    {
     "name": "stdout",
     "output_type": "stream",
     "text": [
      "[ 1.  2.  3.  4.  5.  6.  7.  8.  9. 10.]\n",
      "[ 1.    1.75  2.5   3.25  4.    4.75  5.5   6.25  7.    7.75  8.5   9.25\n",
      " 10.  ]\n"
     ]
    }
   ],
   "source": [
    "# linspace - 等差数列\n",
    "print(np.linspace(1,10,10))\n",
    "#                 1-10,10个\n",
    "print(np.linspace(1,10,13))\n",
    "#                 1-10,13个"
   ]
  },
  {
   "cell_type": "code",
   "execution_count": 29,
   "id": "b60188d4",
   "metadata": {},
   "outputs": [
    {
     "name": "stdout",
     "output_type": "stream",
     "text": [
      "[1.  1.9 2.8 3.7 4.6 5.5 6.4 7.3 8.2 9.1]\n",
      "[ 1.   1.9  2.8  3.7  4.6  5.5  6.4  7.3  8.2  9.1 10. ]\n"
     ]
    }
   ],
   "source": [
    "print(np.linspace(1,10,10,endpoint = False))\n",
    "# 生成10个，但取不到最后一个数\n",
    "# 相当于\n",
    "print(np.linspace(1,10,11))\n",
    "# 舍去10"
   ]
  },
  {
   "cell_type": "code",
   "execution_count": 30,
   "id": "7e8659a5",
   "metadata": {},
   "outputs": [
    {
     "data": {
      "text/plain": [
       "array([1.        , 1.44444444, 1.88888889, 2.33333333, 2.77777778,\n",
       "       3.22222222, 3.66666667, 4.11111111, 4.55555556, 5.        ])"
      ]
     },
     "execution_count": 30,
     "metadata": {},
     "output_type": "execute_result"
    }
   ],
   "source": [
    "np.linspace(1,5,10)"
   ]
  },
  {
   "cell_type": "code",
   "execution_count": 32,
   "id": "db7bc26d",
   "metadata": {},
   "outputs": [
    {
     "data": {
      "text/plain": [
       "array([ 2.        ,  2.72158   ,  3.70349885,  5.0396842 ,  6.85795186,\n",
       "        9.33223232, 12.69920842, 17.28095582, 23.51575188, 32.        ])"
      ]
     },
     "execution_count": 32,
     "metadata": {},
     "output_type": "execute_result"
    }
   ],
   "source": [
    "# 等比函数\n",
    "np.logspace(1,5,base = 2, num = 10)\n",
    "# 以2为底,1-5的10个数为指数"
   ]
  },
  {
   "cell_type": "code",
   "execution_count": 34,
   "id": "346423bc",
   "metadata": {},
   "outputs": [
    {
     "data": {
      "text/plain": [
       "array([ 2.        ,  2.72158   ,  3.70349885,  5.0396842 ,  6.85795186,\n",
       "        9.33223232, 12.69920842, 17.28095582, 23.51575188, 32.        ])"
      ]
     },
     "execution_count": 34,
     "metadata": {},
     "output_type": "execute_result"
    }
   ],
   "source": [
    "# 相当于\n",
    "2 ** np.linspace(1,5,10)"
   ]
  },
  {
   "cell_type": "code",
   "execution_count": 33,
   "id": "9f917eac",
   "metadata": {
    "scrolled": true
   },
   "outputs": [
    {
     "data": {
      "text/plain": [
       "array([  4.,  16.,  64., 256.])"
      ]
     },
     "execution_count": 33,
     "metadata": {},
     "output_type": "execute_result"
    }
   ],
   "source": [
    "np.logspace(2,8,num=4,base=2)\n",
    "# 以2为底,2-8的4个数为指数"
   ]
  },
  {
   "cell_type": "code",
   "execution_count": 43,
   "id": "c7e57954",
   "metadata": {},
   "outputs": [
    {
     "name": "stdout",
     "output_type": "stream",
     "text": [
      "[[0. 0. 0.]\n",
      " [0. 0. 0.]]\n",
      "\n",
      "\n",
      "[0. 0. 0. 0. 0.]\n",
      "\n",
      "\n",
      "[[0.]\n",
      " [0.]\n",
      " [0.]]\n"
     ]
    }
   ],
   "source": [
    "# zeros - 创建全为0的数组\n",
    "print(np.zeros((2,3)))\n",
    "print('\\n')\n",
    "print(np.zeros(5))\n",
    "print('\\n')\n",
    "print(np.zeros((3,1)))"
   ]
  },
  {
   "cell_type": "code",
   "execution_count": 44,
   "id": "b0ba9f16",
   "metadata": {},
   "outputs": [
    {
     "name": "stdout",
     "output_type": "stream",
     "text": [
      "[[1. 1. 1.]\n",
      " [1. 1. 1.]]\n",
      "\n",
      "\n",
      "[1. 1. 1. 1. 1.]\n",
      "\n",
      "\n",
      "[[1.]\n",
      " [1.]\n",
      " [1.]]\n"
     ]
    }
   ],
   "source": [
    "# ones - 创建全为1的数组\n",
    "print(np.ones((2,3)))\n",
    "print('\\n')\n",
    "print(np.ones(5))\n",
    "print('\\n')\n",
    "print(np.ones((3,1)))"
   ]
  },
  {
   "cell_type": "code",
   "execution_count": 45,
   "id": "549ef371",
   "metadata": {},
   "outputs": [
    {
     "data": {
      "text/plain": [
       "array([[1., 0., 0., 0., 0., 0.],\n",
       "       [0., 1., 0., 0., 0., 0.],\n",
       "       [0., 0., 1., 0., 0., 0.],\n",
       "       [0., 0., 0., 1., 0., 0.],\n",
       "       [0., 0., 0., 0., 1., 0.],\n",
       "       [0., 0., 0., 0., 0., 1.]])"
      ]
     },
     "execution_count": 45,
     "metadata": {},
     "output_type": "execute_result"
    }
   ],
   "source": [
    "# eye - 创建单位矩阵\n",
    "# 主对角线全为1\n",
    "np.eye(6)"
   ]
  },
  {
   "cell_type": "code",
   "execution_count": 46,
   "id": "c9c15690",
   "metadata": {},
   "outputs": [
    {
     "data": {
      "text/plain": [
       "array([[3, 0, 0],\n",
       "       [0, 6, 0],\n",
       "       [0, 0, 9]])"
      ]
     },
     "execution_count": 46,
     "metadata": {},
     "output_type": "execute_result"
    }
   ],
   "source": [
    "# diag - 对焦矩阵\n",
    "np.diag([3,6,9])"
   ]
  },
  {
   "cell_type": "code",
   "execution_count": 47,
   "id": "8d729fc3",
   "metadata": {},
   "outputs": [
    {
     "data": {
      "text/plain": [
       "array([[ 4,  1,  1],\n",
       "       [ 1,  7,  1],\n",
       "       [ 1,  1, 10]])"
      ]
     },
     "execution_count": 47,
     "metadata": {},
     "output_type": "execute_result"
    }
   ],
   "source": [
    "np.diag([3,6,9])+1\n",
    "# 所有元素+1"
   ]
  },
  {
   "cell_type": "code",
   "execution_count": 48,
   "id": "90906892",
   "metadata": {},
   "outputs": [
    {
     "data": {
      "text/plain": [
       "array([[1, 3, 5, 7],\n",
       "       [2, 4, 5, 7],\n",
       "       [3, 3, 5, 6]])"
      ]
     },
     "execution_count": 48,
     "metadata": {},
     "output_type": "execute_result"
    }
   ],
   "source": [
    "arr4"
   ]
  },
  {
   "cell_type": "code",
   "execution_count": 50,
   "id": "98f99f8b",
   "metadata": {},
   "outputs": [
    {
     "data": {
      "text/plain": [
       "(3, 4)"
      ]
     },
     "execution_count": 50,
     "metadata": {},
     "output_type": "execute_result"
    }
   ],
   "source": [
    "# 几行几列 \n",
    "arr4.shape"
   ]
  },
  {
   "cell_type": "code",
   "execution_count": 51,
   "id": "99671565",
   "metadata": {},
   "outputs": [
    {
     "data": {
      "text/plain": [
       "2"
      ]
     },
     "execution_count": 51,
     "metadata": {},
     "output_type": "execute_result"
    }
   ],
   "source": [
    "# 维度 - 行与列\n",
    "arr4.ndim"
   ]
  },
  {
   "cell_type": "code",
   "execution_count": 52,
   "id": "db0173de",
   "metadata": {},
   "outputs": [
    {
     "data": {
      "text/plain": [
       "1"
      ]
     },
     "execution_count": 52,
     "metadata": {},
     "output_type": "execute_result"
    }
   ],
   "source": [
    "# 一维数组\n",
    "arr1.ndim"
   ]
  },
  {
   "cell_type": "code",
   "execution_count": 53,
   "id": "d2c0e63b",
   "metadata": {},
   "outputs": [
    {
     "data": {
      "text/plain": [
       "(5,)"
      ]
     },
     "execution_count": 53,
     "metadata": {},
     "output_type": "execute_result"
    }
   ],
   "source": [
    "arr1.shape"
   ]
  },
  {
   "cell_type": "code",
   "execution_count": 54,
   "id": "439f25c7",
   "metadata": {},
   "outputs": [
    {
     "data": {
      "text/plain": [
       "dtype('int32')"
      ]
     },
     "execution_count": 54,
     "metadata": {},
     "output_type": "execute_result"
    }
   ],
   "source": [
    "arr4.dtype"
   ]
  },
  {
   "cell_type": "code",
   "execution_count": 56,
   "id": "a3bf2eb5",
   "metadata": {},
   "outputs": [
    {
     "data": {
      "text/plain": [
       "dtype('<U2')"
      ]
     },
     "execution_count": 56,
     "metadata": {},
     "output_type": "execute_result"
    }
   ],
   "source": [
    "arr3.dtype"
   ]
  }
 ],
 "metadata": {
  "kernelspec": {
   "display_name": "Python 3 (ipykernel)",
   "language": "python",
   "name": "python3"
  },
  "language_info": {
   "codemirror_mode": {
    "name": "ipython",
    "version": 3
   },
   "file_extension": ".py",
   "mimetype": "text/x-python",
   "name": "python",
   "nbconvert_exporter": "python",
   "pygments_lexer": "ipython3",
   "version": "3.9.7"
  }
 },
 "nbformat": 4,
 "nbformat_minor": 5
}
