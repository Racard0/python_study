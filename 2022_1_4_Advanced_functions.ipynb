{
 "cells": [
  {
   "cell_type": "markdown",
   "id": "c4fd6581",
   "metadata": {},
   "source": [
    "# 高级函数"
   ]
  },
  {
   "cell_type": "markdown",
   "id": "49e40d79",
   "metadata": {},
   "source": [
    "## lambda 函数简化"
   ]
  },
  {
   "cell_type": "code",
   "execution_count": 3,
   "id": "8f141d37",
   "metadata": {},
   "outputs": [],
   "source": [
    "g = lambda x: x**2"
   ]
  },
  {
   "cell_type": "code",
   "execution_count": 4,
   "id": "435cb997",
   "metadata": {},
   "outputs": [
    {
     "data": {
      "text/plain": [
       "4"
      ]
     },
     "execution_count": 4,
     "metadata": {},
     "output_type": "execute_result"
    }
   ],
   "source": [
    "g(2)"
   ]
  },
  {
   "cell_type": "code",
   "execution_count": 5,
   "id": "5adf170a",
   "metadata": {},
   "outputs": [],
   "source": [
    "f1 = lambda x: 'A' if x == 1 else 'B'"
   ]
  },
  {
   "cell_type": "code",
   "execution_count": 6,
   "id": "2b26fa76",
   "metadata": {},
   "outputs": [
    {
     "data": {
      "text/plain": [
       "'A'"
      ]
     },
     "execution_count": 6,
     "metadata": {},
     "output_type": "execute_result"
    }
   ],
   "source": [
    "f1(1)"
   ]
  },
  {
   "cell_type": "code",
   "execution_count": 7,
   "id": "a8af97e0",
   "metadata": {},
   "outputs": [
    {
     "data": {
      "text/plain": [
       "'B'"
      ]
     },
     "execution_count": 7,
     "metadata": {},
     "output_type": "execute_result"
    }
   ],
   "source": [
    "f1(2)"
   ]
  },
  {
   "cell_type": "code",
   "execution_count": 8,
   "id": "680d9832",
   "metadata": {},
   "outputs": [
    {
     "data": {
      "text/plain": [
       "'A'"
      ]
     },
     "execution_count": 8,
     "metadata": {},
     "output_type": "execute_result"
    }
   ],
   "source": [
    "f1(1.00)"
   ]
  },
  {
   "cell_type": "code",
   "execution_count": 9,
   "id": "5dce0e2f",
   "metadata": {},
   "outputs": [],
   "source": [
    "f2 = lambda x,y,z: x+1+y*2+z**3"
   ]
  },
  {
   "cell_type": "code",
   "execution_count": 10,
   "id": "875751fa",
   "metadata": {},
   "outputs": [
    {
     "data": {
      "text/plain": [
       "33"
      ]
     },
     "execution_count": 10,
     "metadata": {},
     "output_type": "execute_result"
    }
   ],
   "source": [
    "f2(1,2,3)"
   ]
  },
  {
   "cell_type": "markdown",
   "id": "1e2dad11",
   "metadata": {},
   "source": [
    "## map 映射函数"
   ]
  },
  {
   "cell_type": "code",
   "execution_count": 15,
   "id": "7048a3c7",
   "metadata": {},
   "outputs": [],
   "source": [
    "item = [1,2,3,4,5,6]\n",
    "i = lambda x: x**2"
   ]
  },
  {
   "cell_type": "code",
   "execution_count": 16,
   "id": "bb4f7b06",
   "metadata": {},
   "outputs": [
    {
     "data": {
      "text/plain": [
       "[1, 4, 9, 16, 25, 36]"
      ]
     },
     "execution_count": 16,
     "metadata": {},
     "output_type": "execute_result"
    }
   ],
   "source": [
    "list(map(i, item))"
   ]
  },
  {
   "cell_type": "code",
   "execution_count": 17,
   "id": "6b5c024d",
   "metadata": {},
   "outputs": [
    {
     "data": {
      "text/plain": [
       "[1, 4, 9, 16, 25, 36]"
      ]
     },
     "execution_count": 17,
     "metadata": {},
     "output_type": "execute_result"
    }
   ],
   "source": [
    "list(map(lambda x: x**2, item))"
   ]
  },
  {
   "cell_type": "markdown",
   "id": "05d15052",
   "metadata": {},
   "source": [
    "## reduce 拼接函数"
   ]
  },
  {
   "cell_type": "code",
   "execution_count": null,
   "id": "bd3f6192",
   "metadata": {},
   "outputs": [],
   "source": [
    "# reduce() 函数会对参数序列中元素进行累积。\n",
    "# 函数将一个数据集合（链表，元组等）中的所有数据进行下列操作：用传给 reduce 中的函数 function（有两个参数）先对集合中的第 1、2 个元素进行操作，得到的结果再与第三个数据用 function 函数运算，最后得到一个结果。"
   ]
  },
  {
   "cell_type": "code",
   "execution_count": 2,
   "id": "9e2cc6cc",
   "metadata": {},
   "outputs": [],
   "source": [
    "from functools import reduce"
   ]
  },
  {
   "cell_type": "code",
   "execution_count": 8,
   "id": "e4dae9bc",
   "metadata": {},
   "outputs": [],
   "source": [
    "f = lambda x,y: x+y"
   ]
  },
  {
   "cell_type": "code",
   "execution_count": 9,
   "id": "ac2ee617",
   "metadata": {},
   "outputs": [
    {
     "data": {
      "text/plain": [
       "25"
      ]
     },
     "execution_count": 9,
     "metadata": {},
     "output_type": "execute_result"
    }
   ],
   "source": [
    "item = [1,3,5,7,9]\n",
    "reduce(f,item)"
   ]
  },
  {
   "cell_type": "code",
   "execution_count": 11,
   "id": "8e4e00fd",
   "metadata": {},
   "outputs": [
    {
     "data": {
      "text/plain": [
       "5050"
      ]
     },
     "execution_count": 11,
     "metadata": {},
     "output_type": "execute_result"
    }
   ],
   "source": [
    "item1 = range(1,101)\n",
    "reduce(f,item1)"
   ]
  },
  {
   "cell_type": "code",
   "execution_count": 20,
   "id": "705162e8",
   "metadata": {},
   "outputs": [],
   "source": [
    "# # 拼接字符串\n",
    "item2 = ['!fuck!', '!you!', '!montherfuck!']"
   ]
  },
  {
   "cell_type": "code",
   "execution_count": 21,
   "id": "8f49703b",
   "metadata": {},
   "outputs": [
    {
     "data": {
      "text/plain": [
       "'!fuck!!you!!montherfuck!'"
      ]
     },
     "execution_count": 21,
     "metadata": {},
     "output_type": "execute_result"
    }
   ],
   "source": [
    "reduce(lambda x,y: x+y, item2)"
   ]
  },
  {
   "cell_type": "markdown",
   "id": "94db672d",
   "metadata": {},
   "source": [
    "## filter 过滤函数"
   ]
  },
  {
   "cell_type": "code",
   "execution_count": 17,
   "id": "57cf6a5f",
   "metadata": {},
   "outputs": [],
   "source": [
    "# filter() 函数用于过滤序列，过滤掉不符合条件的元素，返回由符合条件元素组成的新列表。"
   ]
  },
  {
   "cell_type": "code",
   "execution_count": 23,
   "id": "3f631a5c",
   "metadata": {},
   "outputs": [
    {
     "data": {
      "text/plain": [
       "[0, 2, 4, 6, 8, 10, 12, 14, 16, 18]"
      ]
     },
     "execution_count": 23,
     "metadata": {},
     "output_type": "execute_result"
    }
   ],
   "source": [
    "list(filter(lambda x:x%2==0, range(20)))"
   ]
  },
  {
   "cell_type": "code",
   "execution_count": 27,
   "id": "57f33add",
   "metadata": {},
   "outputs": [],
   "source": [
    "item3 = [2,4,6,8,'!fuck!', '!you!', '!montherfuck!',-1,-2]"
   ]
  },
  {
   "cell_type": "code",
   "execution_count": 28,
   "id": "d7651137",
   "metadata": {},
   "outputs": [
    {
     "data": {
      "text/plain": [
       "[2, 4, 6, 8, -1, -2]"
      ]
     },
     "execution_count": 28,
     "metadata": {},
     "output_type": "execute_result"
    }
   ],
   "source": [
    "list(filter(lambda x: isinstance(x, int), item3))"
   ]
  },
  {
   "cell_type": "code",
   "execution_count": 33,
   "id": "f31abfc2",
   "metadata": {},
   "outputs": [],
   "source": [
    "def int_num(x):\n",
    "    if isinstance(x,int):\n",
    "        return 1\n",
    "    else:\n",
    "        return 0\n",
    "# 1:True 0:False"
   ]
  },
  {
   "cell_type": "code",
   "execution_count": 34,
   "id": "d2ae22b3",
   "metadata": {},
   "outputs": [
    {
     "data": {
      "text/plain": [
       "[2, 4, 6, 8, -1, -2]"
      ]
     },
     "execution_count": 34,
     "metadata": {},
     "output_type": "execute_result"
    }
   ],
   "source": [
    "list(filter(int_num, item3))"
   ]
  },
  {
   "cell_type": "code",
   "execution_count": null,
   "id": "355451a6",
   "metadata": {},
   "outputs": [],
   "source": []
  }
 ],
 "metadata": {
  "kernelspec": {
   "display_name": "Python 3 (ipykernel)",
   "language": "python",
   "name": "python3"
  },
  "language_info": {
   "codemirror_mode": {
    "name": "ipython",
    "version": 3
   },
   "file_extension": ".py",
   "mimetype": "text/x-python",
   "name": "python",
   "nbconvert_exporter": "python",
   "pygments_lexer": "ipython3",
   "version": "3.9.7"
  }
 },
 "nbformat": 4,
 "nbformat_minor": 5
}
