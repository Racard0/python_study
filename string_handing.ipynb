{
 "cells": [
  {
   "cell_type": "markdown",
   "id": "b921a720",
   "metadata": {},
   "source": [
    "# P14 字符串处理"
   ]
  },
  {
   "cell_type": "code",
   "execution_count": 5,
   "id": "0db43796",
   "metadata": {},
   "outputs": [
    {
     "name": "stdout",
     "output_type": "stream",
     "text": [
      "fuck\n",
      " you\n",
      "fuck\t you\n"
     ]
    }
   ],
   "source": [
    "print('fuck\\n you')\n",
    "print('fuck\\t you')"
   ]
  },
  {
   "cell_type": "code",
   "execution_count": 4,
   "id": "440e964a",
   "metadata": {
    "scrolled": true
   },
   "outputs": [
    {
     "name": "stdout",
     "output_type": "stream",
     "text": [
      "\\云开见明\\n云开见明\\t第一章\n"
     ]
    }
   ],
   "source": [
    "# r - 防止转义\n",
    "print(r'\\云开见明\\n云开见明\\t第一章')"
   ]
  },
  {
   "cell_type": "code",
   "execution_count": 6,
   "id": "3d2da8ab",
   "metadata": {},
   "outputs": [
    {
     "name": "stdout",
     "output_type": "stream",
     "text": [
      "\\云开见明\b云开见明\b第一章\n"
     ]
    }
   ],
   "source": [
    "# \\b - 退格\n",
    "print('\\云开见明\\b云开见明\\b第一章')"
   ]
  },
  {
   "cell_type": "code",
   "execution_count": 9,
   "id": "807c84c0",
   "metadata": {},
   "outputs": [
    {
     "name": "stdout",
     "output_type": "stream",
     "text": [
      "i am 30 years old\n"
     ]
    }
   ],
   "source": [
    "print('i am %s years old' %30)"
   ]
  },
  {
   "cell_type": "code",
   "execution_count": 13,
   "id": "a46544b2",
   "metadata": {},
   "outputs": [
    {
     "name": "stdout",
     "output_type": "stream",
     "text": [
      "i am 30 years old\n"
     ]
    }
   ],
   "source": [
    "# format - 同上起占位替换作用\n",
    "print('i am {years} years old' .format(years = 30))"
   ]
  },
  {
   "cell_type": "code",
   "execution_count": 14,
   "id": "871f384d",
   "metadata": {},
   "outputs": [
    {
     "name": "stdout",
     "output_type": "stream",
     "text": [
      "i am 3.14 years old\n"
     ]
    }
   ],
   "source": [
    "# 浮点型\n",
    "print('i am %.2f years old' % 3.1415926)"
   ]
  },
  {
   "cell_type": "code",
   "execution_count": 15,
   "id": "5a203c43",
   "metadata": {},
   "outputs": [
    {
     "name": "stdout",
     "output_type": "stream",
     "text": [
      "i am 3.14e+07 years old\n"
     ]
    }
   ],
   "source": [
    "# 科学计数法\n",
    "print('i am %.2e years old' % 31415926)"
   ]
  },
  {
   "cell_type": "code",
   "execution_count": 16,
   "id": "22c21ef6",
   "metadata": {},
   "outputs": [
    {
     "name": "stdout",
     "output_type": "stream",
     "text": [
      "经济增长速度为3.14%\n"
     ]
    }
   ],
   "source": [
    "print('经济增长速度为%.2f%%' % 3.1415926)"
   ]
  },
  {
   "cell_type": "code",
   "execution_count": 19,
   "id": "3def30bf",
   "metadata": {},
   "outputs": [
    {
     "name": "stdout",
     "output_type": "stream",
     "text": [
      "i am 22 years old and 我的薪水是捌万\n"
     ]
    }
   ],
   "source": [
    "print('i am %s years old and 我的薪水是%s' % (22, '捌万'))"
   ]
  },
  {
   "cell_type": "code",
   "execution_count": 22,
   "id": "4a0a79e7",
   "metadata": {},
   "outputs": [
    {
     "name": "stdout",
     "output_type": "stream",
     "text": [
      "i am 22 years old and my salary is 捌万\n",
      "i am 22.00 years old and my salary is 捌万\n"
     ]
    }
   ],
   "source": [
    "# format\n",
    "print('i am {} years old and my salary is {}' .format(22, '捌万'))\n",
    "print('i am {:.2f} years old and my salary is {}' .format(22, '捌万'))"
   ]
  },
  {
   "cell_type": "code",
   "execution_count": null,
   "id": "002c297e",
   "metadata": {},
   "outputs": [],
   "source": []
  },
  {
   "cell_type": "code",
   "execution_count": 23,
   "id": "72e4566e",
   "metadata": {},
   "outputs": [],
   "source": [
    "f = open(r'E:\\云开见明\\云开见明Python数据分析师课程数据（仅与云开见明Python数据分析师配套）\\第一章\\equipment_1.txt', encoding = 'utf-8')\n",
    "f_read = f.readlines()\n",
    "# 按行读取"
   ]
  },
  {
   "cell_type": "code",
   "execution_count": 24,
   "id": "e1c2faf9",
   "metadata": {},
   "outputs": [
    {
     "data": {
      "text/plain": [
       "['运营商\\t设备型号\\t设备名称\\t系统版本\\t内存容量\\t操作系统\\t内存剩余容量\\tMAC地址\\tIP地址\\t是否root\\t是否使用模拟器\\t设备身份码\\t电池电量\\tsim卡状态(服务状态)\\tsim卡状态(漫游)\\tsim卡状态(移动网络状态)\\tsd卡容量\\t分辨率\\t抓取时间\\t客户姓名\\t客户手机号\\t客户身份证号\\t客户注册时间\\n',\n",
       " '中国电信\\t\"GOME S1\"\\taus6737t_66_m0\\t6.0\\t\"25.19 GB\"\\tAndroid6.0\\t\"17.72 GB\"\\t20:f4:52:06:24:69\\t192.168.1.100\\t0\\t0\\tA1000053232DD2\\t79%\\t良好\\t非漫游\\t已连接\\t\"25.19 GB\"\\t720*1280像素\\t\"2018-05-14 15:06:48\"\\t王茜\\t134X8916636\\t5101XX198007230626\\t\"2018-04-04 12:02:47\"\\n',\n",
       " 'CMCC\\t\"vivo Y67\"\\tPD1612\\t6.0\\t\"24.55 GB\"\\tAndroid6.0\\t\"2.40 GB\"\\t02:00:00:00:00:00\\t192.168.0.102\\t0\\t0\\t863600031885927\\t22%\\t良好\\t非漫游\\t已连接\\t\"24.55 GB\"\\t720*1280像素\\t\"2018-04-21 19:37:49\"\\t回龙涛\\t187X0193126\\t1305XX199202083018\\t\"2018-04-21 19:37:49\"\\n',\n",
       " '中国电信\\t\"vivo X9\"\\tPD1616\\t7.1.2\\t\"52.96 GB\"\\tAndroid7.1.2\\t\"29.28 GB\"\\t02:00:00:00:00:00\\t192.168.0.105\\t0\\t0\\t864161030857010\\t54%\\t良好\\t非漫游\\t已连接\\t\"52.37 GB\"\\t1080*1920像素\\t\"2018-04-26 15:22:01\"\\t韦晓平\\t1557X867751\\t45260XX98611161833\\t\"2018-04-24 13:47:03\"\\n',\n",
       " '中国电信\\t\"vivo X9\"\\tPD1616\\t7.1.2\\t\"52.96 GB\"\\tAndroid7.1.2\\t\"29.27 GB\"\\t02:00:00:00:00:00\\t10.85.172.165\\t0\\t0\\t864161030857010\\t52%\\t良好\\t非漫游\\t已连接\\t\"52.37 GB\"\\t1080*1920像素\\t\"2018-04-26 15:39:48\"\\t韦晓平\\t1557X867751\\t45260XX98611161833\\t\"2018-04-24 13:47:03\"\\n',\n",
       " '中国电信\\t\"vivo X9\"\\tPD1616\\t7.1.2\\t\"52.96 GB\"\\tAndroid7.1.2\\t\"29.16 GB\"\\t02:00:00:00:00:00\\t100.124.238.32\\t0\\t0\\t864161030857010\\t28%\\t良好\\t非漫游\\t已连接\\t\"52.37 GB\"\\t1080*1920像素\\t\"2018-04-27 11:33:35\"\\t韦晓平\\t1557X867751\\t45260XX98611161833\\t\"2018-04-24 13:47:03\"\\n',\n",
       " 'CMCC\\t\"vivo X9Plus\"\\tPD1619\\t7.1.1\\t\"52.96 GB\"\\tAndroid7.1.1\\t\"6.53 GB\"\\t02:00:00:00:00:00\\t192.168.1.105\\t0\\t0\\t864427032448177\\t98%\\t良好\\t非漫游\\t已连接\\t\"52.37 GB\"\\t1080*1920像素\\t\"2018-05-01 10:29:29\"\\t雷涛\\t1530X732669\\t51052XX99405303030\\t\"2018-04-28 19:28:12\"\\n',\n",
       " '中国电信\\t\"vivo X20\"\\tPD1709\\t7.1.1\\t\"51.34 GB\"\\tAndroid7.1.1\\t\"29.23 GB\"\\t02:00:00:00:00:00\\t10.175.165.105\\t0\\t0\\t866933038437559\\t56%\\t良好\\t非漫游\\t已连接\\t\"50.75 GB\"\\t1080*2160像素\\t\"2018-05-03 15:22:12\"\\t聂子钧\\t1894X270083\\t22028XX99404201117\\t\"2018-05-03 15:11:13\"\\n',\n",
       " '中国电信\\t\"vivo X20\"\\tPD1709\\t7.1.1\\t\"51.34 GB\"\\tAndroid7.1.1\\t\"29.23 GB\"\\t02:00:00:00:00:00\\t10.175.165.105\\t0\\t0\\t866933038437559\\t76%\\t良好\\t非漫游\\t已连接\\t\"50.75 GB\"\\t1080*2160像素\\t\"2018-05-03 15:59:20\"\\t聂子钧\\t1894X270083\\t22028XX99404201117\\t\"2018-05-03 15:11:13\"\\n',\n",
       " '中国电信\\t\"vivo X20\"\\tPD1709\\t7.1.1\\t\"51.34 GB\"\\tAndroid7.1.1\\t\"29.23 GB\"\\t02:00:00:00:00:00\\t10.175.165.105\\t0\\t0\\t866933038437559\\t76%\\t良好\\t非漫游\\t已连接\\t\"50.75 GB\"\\t1080*2160像素\\t\"2018-05-03 16:08:35\"\\t聂子钧\\t1894X270083\\t22028XX99404201117\\t\"2018-05-03 15:11:13\"\\n',\n",
       " '中国电信\\t\"vivo X20\"\\tPD1709\\t7.1.1\\t\"51.34 GB\"\\tAndroid7.1.1\\t\"29.18 GB\"\\t02:00:00:00:00:00\\t10.175.165.105\\t0\\t0\\t866933038437559\\t36%\\t良好\\t非漫游\\t已连接\\t\"50.75 GB\"\\t1080*2160像素\\t\"2018-05-04 00:57:37\"\\t聂子钧\\t1894X270083\\t22028XX99404201117\\t\"2018-05-03 15:11:13\"\\n',\n",
       " '中国电信\\t\"vivo X20\"\\tPD1709\\t7.1.1\\t\"51.34 GB\"\\tAndroid7.1.1\\t\"29.15 GB\"\\t02:00:00:00:00:00\\t10.145.95.237\\t0\\t0\\t866933038437559\\t50%\\t良好\\t非漫游\\t已连接\\t\"50.75 GB\"\\t1080*2160像素\\t\"2018-05-04 12:35:22\"\\t聂子钧\\t1894U270083\\t22028XX99404201117\\t\"2018-05-03 15:11:13\"\\n',\n",
       " '中国电信\\t\"vivo X20\"\\tPD1709\\t7.1.1\\t\"51.34 GB\"\\tAndroid7.1.1\\t\"28.94 GB\"\\t02:00:00:00:00:00\\t10.10.195.231\\t0\\t0\\t866933038437559\\t40%\\t良好\\t非漫游\\t已连接\\t\"50.75 GB\"\\t1080*2160像素\\t\"2018-05-05 12:55:39\"\\t聂子钧\\t1894X270083\\t22028XX99404201117\\t\"2018-05-03 15:11:13\"\\n',\n",
       " '中国电信\\t\"vivo X20\"\\tPD1709\\t7.1.1\\t\"51.34 GB\"\\tAndroid7.1.1\\t\"26.27 GB\"\\t02:00:00:00:00:00\\t10.92.188.223\\t0\\t0\\t866933038437559\\t71%\\t良好\\t非漫游\\t已连接\\t\"50.75 GB\"\\t1080*2160像素\\t\"2018-05-10 09:13:11\"\\t聂子钧\\t1894D270083\\t22028XX99404201117\\t\"2018-05-03 15:11:13\"\\n',\n",
       " '中国电信\\t\"vivo X20\"\\tPD1709\\t7.1.1\\t\"51.34 GB\"\\tAndroid7.1.1\\t\"25.94 GB\"\\t02:00:00:00:00:00\\t10.89.79.183\\t0\\t0\\t866933038437559\\t47%\\t良好\\t非漫游\\t已连接\\t\"50.75 GB\"\\t1080*2160像素\\t\"2018-05-11 18:49:42\"\\t聂子钧\\t1894F270083\\t22028XX99404201117\\t\"2018-05-03 15:11:13\"\\n',\n",
       " '中国移动\\t\"iPhone 7 Plus\"\\tiPhone\\t11.3.1\\t119.2GB\\tIOS\\t79.5GB\\t\\t223.104.95.87\\t0\\t0\\t23B348E8-C3F6-43BB-8772-44F9F951A13B\\t20.00%\\t\\t\\t\\t\\t414*736dp\\t\"2018-05-07 17:45:06\"\\t李寿琴\\t15186993130\\t5103XX199008018121\\t\"2018-05-04 09:26:21\"\\n',\n",
       " '中国电信\\t\"OPPO R9s Plus\"\\tR9sPlus\\t6.0.1\\t\"53.92 GB\"\\tAndroid6.0.1\\t\"18.36 GB\"\\t02:00:00:00:00:00\\t100.69.38.52\\t0\\t0\\tA0000061AEFCEE\\t40%\\t良好\\t非漫游\\t已连接\\t\"53.87 GB\"\\t1080*1920像素\\t\"2018-05-07 13:14:11\"\\t廖忠益\\t180F5414945\\t5227XX19991018121X\\t\"2018-05-07 10:21:02\"\\n',\n",
       " '中国电信\\tEML-AL00\\tHWEML\\t8.1.0\\t121GB\\tAndroid8.1.0\\t98.13GB\\t02:00:00:00:00:00\\t10.147.188.61\\t0\\t0\\t867130036049994\\t78%\\t良好\\t非漫游\\t已连接\\t121GB\\t1080*2244像素\\t\"2018-05-07 16:08:40\"\\t刘姗姗\\t1373F535959\\t6421XX197805010066\\t\"2018-05-07 15:46:06\"\\n',\n",
       " 'CMCC\\tBLA-AL00\\tHWBLA\\t8.0.0\\t\"56.61 GB\"\\tAndroid8.0.0\\t\"39.56 GB\"\\t02:00:00:00:00:00\\t192.168.1.5\\t0\\t0\\t868794032519778\\t74%\\t良好\\t非漫游\\t已连接\\t\"56.59 GB\"\\t1080*2040像素\\t\"2018-05-08 13:23:34\"\\t赖孝科\\t1838F441400\\t5101XX199308195018\\t\"2018-05-08 13:20:21\"\\n',\n",
       " '中国电信\\t\"HTC M8d\"\\thtc_m8dwg\\t6.0\\t\"10.43 GB\"\\tAndroid6.0\\t\"3.71 GB\"\\t02:00:00:00:00:00\\t192.168.108.164\\t1\\t0\\tA1000037D2410A\\t26%\\t良好\\t非漫游\\t已连接\\t\"10.43 GB\"\\t1080*1920像素\\t\"2018-05-11 12:31:46\"\\t王鹏\\t1818F921023\\t5111XX198605262911\\t\"2018-05-11 12:28:38\"\\n',\n",
       " '中国电信\\t\"OPPO A59s\"\\tA59\\t5.1\\t\"26.12 GB\"\\tAndroid5.1\\t\"5.49 GB\"\\t6c:5c:14:43:aa:6e\\t192.168.0.101\\t0\\t0\\t863438035348331\\t95%\\t良好\\t非漫游\\t已连接\\t\"26.07 GB\"\\t720*1280像素\\t\"2018-05-11 13:45:53\"\\t岳茂林\\t1394F564247\\t2309XX198506150713\\t\"2018-05-11 13:45:53\"\\n',\n",
       " '中国移动\\t\"iPhone 6 Plus\"\\tiPhone\\t10.3.1\\t14.9GB\\tIOS\\t591.0MB\\t\\t110.85.16.150\\t0\\t0\\t82FD6916-0D80-4E96-B524-59D69CFD2C32\\t65.00%\\t\\t\\t\\t\\t414*736dp\\t\"2018-05-12 19:57:41\"\\t杨孙超\\t1348F432560\\t3505XX198110207411\\t\"2018-05-12 19:53:40\"\\n',\n",
       " '中国移动\\t\"iPhone 6 Plus\"\\tiPhone\\t10.3.1\\t14.9GB\\tIOS\\t582.6MB\\t\\t110.85.16.150\\t0\\t0\\t82FD6916-0D80-4E96-B524-59D69CFD2C32\\t61.00%\\t\\t\\t\\t\\t414*736dp\\t\"2018-05-12 20:13:41\"\\t杨孙超\\t1348D432560\\t3505XX198110207411\\t\"2018-05-12 19:53:40\"\\n',\n",
       " '中国移动\\t\"iPhone 6 Plus\"\\tiPhone\\t10.3.1\\t14.9GB\\tIOS\\t577.8MB\\t\\t110.85.16.150\\t0\\t0\\t82FD6916-0D80-4E96-B524-59D69CFD2C32\\t58.00%\\t\\t\\t\\t\\t414*736dp\\t\"2018-05-12 20:25:44\"\\t杨孙超\\t1348E432560\\t3505XX198110207411\\t\"2018-05-12 19:53:40\"\\n',\n",
       " '中国移动\\t\"iPhone 7\"\\t张幼稚的iPhone\\t10.3.3\\t29.8GB\\tIOS\\t923.3MB\\t\\t175.167.128.155\\t0\\t0\\t7D3491F8-9B00-4021-9EC2-1F9C10E3AA7C\\t85.00%\\t\\t\\t\\t\\t375*667dp\\t\"2018-05-13 14:09:18\"\\t张继锋\\t1584XX66044\\t2108XX199702107032\\t\"2018-05-13 14:04:46\"\\n',\n",
       " '中国联通\\tiPhone9,3\\tiPhone\\t11.3\\t119.2GB\\tIOS\\t97.6GB\\t\\t39.181.143.220\\t0\\t0\\tD84A1CEF-7C29-4E19-8318-3B1B3353827D\\t20.00%\\t\\t\\t\\t\\t375*667dp\\t\"2018-05-13 18:07:02\"\\t蔡宏双\\t166XX373168\\t4210XX198809202437\\t\"2018-05-13 18:07:02\"\\n',\n",
       " 'CMCC\\tTRT-AL00A\\tHWTRT-Q\\t7.0\\t\"53.80 GB\"\\tAndroid7.0\\t\"34.80 GB\"\\t02:00:00:00:00:00\\t172.20.10.9\\t0\\t0\\t867537030235900\\t0%\\t良好\\t非漫游\\t已连接\\t\"53.78 GB\"\\t720*1208像素\\t\"2018-05-13 21:41:17\"\\t曾伍义\\t152XX527030\\t5224XX199506039118\\t\"2018-05-13 21:41:17\"\\n',\n",
       " '中国移动\\t\"iPhone 8 Plus\"\\t\"冠群的 iPhone\"\\t11.3.1\\t59.6GB\\tIOS\\t46.2GB\\t\\t117.136.91.93\\t0\\t0\\tC230F610-09C7-4A1D-8864-185357CA8D28\\t10.00%\\t\\t\\t\\t\\t414*736dp\\t\"2018-05-13 23:29:45\"\\t高新彭\\t1309XX12332\\t1427XX199211126412\\t\"2018-05-13 23:27:24\"\\n',\n",
       " '中国电信\\t\"iPhone 7\"\\tiPhone\\t10.3.2\\t29.8GB\\tIOS\\t8.0GB\\t\\t106.61.94.77\\t0\\t0\\t7A83A787-4E4D-4A51-9777-C977CBEB965D\\t16.00%\\t\\t\\t\\t\\t375*667dp\\t\"2018-05-14 00:47:08\"\\t苏永顺\\t1818XX45051\\t53262XX19980729053X\\t\"2018-05-14 00:44:46\"\\n',\n",
       " '中国联通\\t\"MI 6\"\\tsagit\\t8.0.0\\t\"55.43 GB\"\\tAndroid8.0.0\\t\"24.87 GB\"\\t02:00:00:00:00:00\\t192.168.0.103\\t0\\t0\\t866822034415844\\t51%\\t良好\\t非漫游\\t已连接\\t\"55.43 GB\"\\t1080*1920像素\\t\"2018-05-14 12:05:19\"\\t任良奔\\t157XX056474\\t3426XX19940306115X\\t\"2018-05-14 12:05:19\"']"
      ]
     },
     "execution_count": 24,
     "metadata": {},
     "output_type": "execute_result"
    }
   ],
   "source": [
    "f_read"
   ]
  },
  {
   "cell_type": "code",
   "execution_count": 25,
   "id": "7630ec71",
   "metadata": {},
   "outputs": [
    {
     "data": {
      "text/plain": [
       "'中国电信\\t\"GOME S1\"\\taus6737t_66_m0\\t6.0\\t\"25.19 GB\"\\tAndroid6.0\\t\"17.72 GB\"\\t20:f4:52:06:24:69\\t192.168.1.100\\t0\\t0\\tA1000053232DD2\\t79%\\t良好\\t非漫游\\t已连接\\t\"25.19 GB\"\\t720*1280像素\\t\"2018-05-14 15:06:48\"\\t王茜\\t134X8916636\\t5101XX198007230626\\t\"2018-04-04 12:02:47\"\\n'"
      ]
     },
     "execution_count": 25,
     "metadata": {},
     "output_type": "execute_result"
    }
   ],
   "source": [
    "f_read[1]"
   ]
  },
  {
   "cell_type": "code",
   "execution_count": 27,
   "id": "15d63d0a",
   "metadata": {},
   "outputs": [],
   "source": [
    "S = f_read[1]"
   ]
  },
  {
   "cell_type": "code",
   "execution_count": 28,
   "id": "79dfeaf9",
   "metadata": {},
   "outputs": [],
   "source": [
    "# split - 对指定分隔符分隔，按\\t分隔\n",
    "S = S.split('\\t')"
   ]
  },
  {
   "cell_type": "code",
   "execution_count": 29,
   "id": "4353cedf",
   "metadata": {},
   "outputs": [
    {
     "data": {
      "text/plain": [
       "['中国电信',\n",
       " '\"GOME S1\"',\n",
       " 'aus6737t_66_m0',\n",
       " '6.0',\n",
       " '\"25.19 GB\"',\n",
       " 'Android6.0',\n",
       " '\"17.72 GB\"',\n",
       " '20:f4:52:06:24:69',\n",
       " '192.168.1.100',\n",
       " '0',\n",
       " '0',\n",
       " 'A1000053232DD2',\n",
       " '79%',\n",
       " '良好',\n",
       " '非漫游',\n",
       " '已连接',\n",
       " '\"25.19 GB\"',\n",
       " '720*1280像素',\n",
       " '\"2018-05-14 15:06:48\"',\n",
       " '王茜',\n",
       " '134X8916636',\n",
       " '5101XX198007230626',\n",
       " '\"2018-04-04 12:02:47\"\\n']"
      ]
     },
     "execution_count": 29,
     "metadata": {},
     "output_type": "execute_result"
    }
   ],
   "source": [
    "S"
   ]
  },
  {
   "cell_type": "code",
   "execution_count": 30,
   "id": "80898093",
   "metadata": {},
   "outputs": [
    {
     "data": {
      "text/plain": [
       "'5101XX198007230626'"
      ]
     },
     "execution_count": 30,
     "metadata": {},
     "output_type": "execute_result"
    }
   ],
   "source": [
    "S[-2]"
   ]
  },
  {
   "cell_type": "code",
   "execution_count": 31,
   "id": "83c8fda9",
   "metadata": {},
   "outputs": [],
   "source": [
    "data = S[-2]"
   ]
  },
  {
   "cell_type": "code",
   "execution_count": 34,
   "id": "e02a63ed",
   "metadata": {},
   "outputs": [
    {
     "data": {
      "text/plain": [
       "6"
      ]
     },
     "execution_count": 34,
     "metadata": {},
     "output_type": "execute_result"
    }
   ],
   "source": [
    "# find - 检测字符串是否包含,找不到返回-1\n",
    "# 类似index，找不到报错\n",
    "data.find('1980')"
   ]
  },
  {
   "cell_type": "code",
   "execution_count": 35,
   "id": "0eb2c91d",
   "metadata": {},
   "outputs": [
    {
     "data": {
      "text/plain": [
       "-1"
      ]
     },
     "execution_count": 35,
     "metadata": {},
     "output_type": "execute_result"
    }
   ],
   "source": [
    "data.find('1981')"
   ]
  },
  {
   "cell_type": "code",
   "execution_count": 36,
   "id": "3f8aad62",
   "metadata": {},
   "outputs": [],
   "source": [
    "x = 'fuck you'"
   ]
  },
  {
   "cell_type": "code",
   "execution_count": 38,
   "id": "44dde16c",
   "metadata": {},
   "outputs": [
    {
     "data": {
      "text/plain": [
       "'FUCK YOU'"
      ]
     },
     "execution_count": 38,
     "metadata": {},
     "output_type": "execute_result"
    }
   ],
   "source": [
    "# 大写输出\n",
    "x.upper()"
   ]
  },
  {
   "cell_type": "code",
   "execution_count": 40,
   "id": "7c8b8749",
   "metadata": {},
   "outputs": [
    {
     "data": {
      "text/plain": [
       "'fuck you'"
      ]
     },
     "execution_count": 40,
     "metadata": {},
     "output_type": "execute_result"
    }
   ],
   "source": [
    "# 小写输出\n",
    "x.lower()"
   ]
  },
  {
   "cell_type": "code",
   "execution_count": 41,
   "id": "b59cae2b",
   "metadata": {},
   "outputs": [
    {
     "data": {
      "text/plain": [
       "'Fuck you'"
      ]
     },
     "execution_count": 41,
     "metadata": {},
     "output_type": "execute_result"
    }
   ],
   "source": [
    "# 首字母大写\n",
    "x.capitalize()"
   ]
  },
  {
   "cell_type": "code",
   "execution_count": 45,
   "id": "44e0ae51",
   "metadata": {},
   "outputs": [
    {
     "data": {
      "text/plain": [
       "'中国电信 * \"GOME S1\" * aus6737t_66_m0 * 6.0 * \"25.19 GB\" * Android6.0 * \"17.72 GB\" * 20:f4:52:06:24:69 * 192.168.1.100 * 0 * 0 * A1000053232DD2 * 79% * 良好 * 非漫游 * 已连接 * \"25.19 GB\" * 720*1280像素 * \"2018-05-14 15:06:48\" * 王茜 * 134X8916636 * 5101XX198007230626 * \"2018-04-04 12:02:47\"\\n'"
      ]
     },
     "execution_count": 45,
     "metadata": {},
     "output_type": "execute_result"
    }
   ],
   "source": [
    "# 拼接,用\" \"里的内容拼接\n",
    "\" * \".join(S)"
   ]
  },
  {
   "cell_type": "code",
   "execution_count": 48,
   "id": "bf26620f",
   "metadata": {
    "scrolled": true
   },
   "outputs": [
    {
     "data": {
      "text/plain": [
       "'中国电信 * \"GOME S1\" * aus6737t_66_m0 * 6.0 * \"25.19 GB\" * Android6.0 * \"17.72 GB\" * 20:f4:52:06:24:69 * 192.168.1.100 * 0 * 0 * A1000053232DD2 * 79% * 良好 * 非漫游 * 已连接 * \"25.19 GB\" * 720*1280像素 * \"2018-05-14 15:06:48\" * 王茜 * 134X8916636 * 5101XX198007230626 * \"2018-04-04 12:02:47\"'"
      ]
     },
     "execution_count": 48,
     "metadata": {},
     "output_type": "execute_result"
    }
   ],
   "source": [
    "# replace（a,b） - 把a替换成b\n",
    "\" * \".join(S).replace('\\n', '')"
   ]
  },
  {
   "cell_type": "code",
   "execution_count": null,
   "id": "2934e160",
   "metadata": {},
   "outputs": [],
   "source": []
  }
 ],
 "metadata": {
  "kernelspec": {
   "display_name": "Python 3 (ipykernel)",
   "language": "python",
   "name": "python3"
  },
  "language_info": {
   "codemirror_mode": {
    "name": "ipython",
    "version": 3
   },
   "file_extension": ".py",
   "mimetype": "text/x-python",
   "name": "python",
   "nbconvert_exporter": "python",
   "pygments_lexer": "ipython3",
   "version": "3.9.7"
  }
 },
 "nbformat": 4,
 "nbformat_minor": 5
}
