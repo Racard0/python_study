{
 "cells": [
  {
   "cell_type": "code",
   "execution_count": 1,
   "id": "46841126",
   "metadata": {},
   "outputs": [],
   "source": [
    "# 集合\n",
    "a_set = {1,1,1,2,2,3,3,4,4,5,5,6,6,'fuck'}"
   ]
  },
  {
   "cell_type": "code",
   "execution_count": 2,
   "id": "a85800af",
   "metadata": {},
   "outputs": [
    {
     "data": {
      "text/plain": [
       "{1, 2, 3, 4, 5, 6, 'fuck'}"
      ]
     },
     "execution_count": 2,
     "metadata": {},
     "output_type": "execute_result"
    }
   ],
   "source": [
    "a_set"
   ]
  },
  {
   "cell_type": "code",
   "execution_count": 3,
   "id": "f0d25dbf",
   "metadata": {},
   "outputs": [],
   "source": [
    "b_set = set([1,1,2,7,7,7,8,8,9,10])"
   ]
  },
  {
   "cell_type": "code",
   "execution_count": 4,
   "id": "1f537d04",
   "metadata": {},
   "outputs": [
    {
     "data": {
      "text/plain": [
       "{1, 2, 7, 8, 9, 10}"
      ]
     },
     "execution_count": 4,
     "metadata": {},
     "output_type": "execute_result"
    }
   ],
   "source": [
    "b_set"
   ]
  },
  {
   "cell_type": "code",
   "execution_count": 5,
   "id": "eea111cf",
   "metadata": {},
   "outputs": [
    {
     "data": {
      "text/plain": [
       "type"
      ]
     },
     "execution_count": 5,
     "metadata": {},
     "output_type": "execute_result"
    }
   ],
   "source": [
    "type(set)"
   ]
  },
  {
   "cell_type": "code",
   "execution_count": 6,
   "id": "06cabe80",
   "metadata": {},
   "outputs": [],
   "source": [
    "a_set.add(100)\n",
    "# 集合的增加是无序的"
   ]
  },
  {
   "cell_type": "code",
   "execution_count": 7,
   "id": "43235bc4",
   "metadata": {},
   "outputs": [
    {
     "data": {
      "text/plain": [
       "{1, 100, 2, 3, 4, 5, 6, 'fuck'}"
      ]
     },
     "execution_count": 7,
     "metadata": {},
     "output_type": "execute_result"
    }
   ],
   "source": [
    "a_set"
   ]
  },
  {
   "cell_type": "code",
   "execution_count": 8,
   "id": "200581d3",
   "metadata": {},
   "outputs": [],
   "source": [
    "a_set.remove(100)"
   ]
  },
  {
   "cell_type": "code",
   "execution_count": 9,
   "id": "c5ec54d2",
   "metadata": {},
   "outputs": [
    {
     "data": {
      "text/plain": [
       "{1, 2, 3, 4, 5, 6, 'fuck'}"
      ]
     },
     "execution_count": 9,
     "metadata": {},
     "output_type": "execute_result"
    }
   ],
   "source": [
    "a_set"
   ]
  },
  {
   "cell_type": "code",
   "execution_count": 10,
   "id": "3f58d5e6",
   "metadata": {},
   "outputs": [
    {
     "data": {
      "text/plain": [
       "True"
      ]
     },
     "execution_count": 10,
     "metadata": {},
     "output_type": "execute_result"
    }
   ],
   "source": [
    "# issubset() 用于判断元素是否被指定集合包含\n",
    "{1}.issubset(a_set)"
   ]
  },
  {
   "cell_type": "code",
   "execution_count": 11,
   "id": "b4832670",
   "metadata": {},
   "outputs": [
    {
     "data": {
      "text/plain": [
       "True"
      ]
     },
     "execution_count": 11,
     "metadata": {},
     "output_type": "execute_result"
    }
   ],
   "source": [
    "{10}.issubset(b_set)"
   ]
  },
  {
   "cell_type": "code",
   "execution_count": 12,
   "id": "39f5f703",
   "metadata": {},
   "outputs": [
    {
     "data": {
      "text/plain": [
       "False"
      ]
     },
     "execution_count": 12,
     "metadata": {},
     "output_type": "execute_result"
    }
   ],
   "source": [
    "{1,10}.issubset(a_set)"
   ]
  },
  {
   "cell_type": "code",
   "execution_count": 13,
   "id": "a7336a73",
   "metadata": {},
   "outputs": [
    {
     "data": {
      "text/plain": [
       "{1, 2, 3, 4, 5, 6, 'fuck'}"
      ]
     },
     "execution_count": 13,
     "metadata": {},
     "output_type": "execute_result"
    }
   ],
   "source": [
    "a_set"
   ]
  },
  {
   "cell_type": "code",
   "execution_count": 14,
   "id": "faf0393c",
   "metadata": {},
   "outputs": [
    {
     "data": {
      "text/plain": [
       "{1, 2, 7, 8, 9, 10}"
      ]
     },
     "execution_count": 14,
     "metadata": {},
     "output_type": "execute_result"
    }
   ],
   "source": [
    "b_set"
   ]
  },
  {
   "cell_type": "code",
   "execution_count": 15,
   "id": "bbcba54d",
   "metadata": {},
   "outputs": [
    {
     "data": {
      "text/plain": [
       "{3, 4, 5, 6, 'fuck'}"
      ]
     },
     "execution_count": 15,
     "metadata": {},
     "output_type": "execute_result"
    }
   ],
   "source": [
    "a_set - b_set"
   ]
  },
  {
   "cell_type": "code",
   "execution_count": 16,
   "id": "7c5b9a2d",
   "metadata": {},
   "outputs": [
    {
     "data": {
      "text/plain": [
       "{1, 10, 2, 3, 4, 5, 6, 7, 8, 9, 'fuck'}"
      ]
     },
     "execution_count": 16,
     "metadata": {},
     "output_type": "execute_result"
    }
   ],
   "source": [
    "# \\ - 并集\n",
    "a_set | b_set"
   ]
  },
  {
   "cell_type": "code",
   "execution_count": 17,
   "id": "4fe50fe0",
   "metadata": {},
   "outputs": [
    {
     "data": {
      "text/plain": [
       "{1, 2}"
      ]
     },
     "execution_count": 17,
     "metadata": {},
     "output_type": "execute_result"
    }
   ],
   "source": [
    "# & - 交集\n",
    "a_set & b_set"
   ]
  },
  {
   "cell_type": "code",
   "execution_count": 18,
   "id": "6a7928c7",
   "metadata": {},
   "outputs": [
    {
     "data": {
      "text/plain": [
       "False"
      ]
     },
     "execution_count": 18,
     "metadata": {},
     "output_type": "execute_result"
    }
   ],
   "source": [
    "a_set < b_set\n",
    "# a是不是b的子集"
   ]
  },
  {
   "cell_type": "code",
   "execution_count": 19,
   "id": "15564848",
   "metadata": {},
   "outputs": [
    {
     "data": {
      "text/plain": [
       "{10, 3, 4, 5, 6, 7, 8, 9, 'fuck'}"
      ]
     },
     "execution_count": 19,
     "metadata": {},
     "output_type": "execute_result"
    }
   ],
   "source": [
    "a_set ^ b_set\n",
    "# 相当于（a_set | b_set) - (a_set & b_set)"
   ]
  },
  {
   "cell_type": "code",
   "execution_count": 22,
   "id": "86d54974",
   "metadata": {},
   "outputs": [
    {
     "data": {
      "text/plain": [
       "{10, 3, 4, 5, 6, 7, 8, 9, 'fuck'}"
      ]
     },
     "execution_count": 22,
     "metadata": {},
     "output_type": "execute_result"
    }
   ],
   "source": [
    "set(a_set | b_set) - set(a_set & b_set)"
   ]
  },
  {
   "cell_type": "code",
   "execution_count": 23,
   "id": "a61f8fd6",
   "metadata": {},
   "outputs": [
    {
     "data": {
      "text/plain": [
       "{3, 4, 5, 6, 'fuck'}"
      ]
     },
     "execution_count": 23,
     "metadata": {},
     "output_type": "execute_result"
    }
   ],
   "source": [
    "# difference - 返回集合的差集，即包含在第一个集合但不在第二个集合\n",
    "a_set.difference(b_set)\n",
    "# 相当于 a_set - b_set"
   ]
  },
  {
   "cell_type": "code",
   "execution_count": 24,
   "id": "07ea647d",
   "metadata": {},
   "outputs": [
    {
     "data": {
      "text/plain": [
       "{1, 10, 2, 3, 4, 5, 6, 7, 8, 9, 'fuck'}"
      ]
     },
     "execution_count": 24,
     "metadata": {},
     "output_type": "execute_result"
    }
   ],
   "source": [
    "# union - 并集\n",
    "a_set.union(b_set)\n",
    "# 相当于 a_set | b_set"
   ]
  },
  {
   "cell_type": "code",
   "execution_count": 25,
   "id": "1ab01a64",
   "metadata": {},
   "outputs": [
    {
     "data": {
      "text/plain": [
       "{1, 2}"
      ]
     },
     "execution_count": 25,
     "metadata": {},
     "output_type": "execute_result"
    }
   ],
   "source": [
    "# intersection - 交集\n",
    "a_set.intersection(b_set)\n",
    "# 相当于 a_set & b_set"
   ]
  },
  {
   "cell_type": "code",
   "execution_count": 26,
   "id": "15518bb6",
   "metadata": {},
   "outputs": [
    {
     "data": {
      "text/plain": [
       "{10, 3, 4, 5, 6, 7, 8, 9, 'fuck'}"
      ]
     },
     "execution_count": 26,
     "metadata": {},
     "output_type": "execute_result"
    }
   ],
   "source": [
    "# symmetric_difference - 返回俩集合中不重复的元素，即移除两个集合都存在的元素\n",
    "a_set.symmetric_difference(b_set)\n",
    "# 相当于 a_set ^ b_set"
   ]
  }
 ],
 "metadata": {
  "kernelspec": {
   "display_name": "Python 3 (ipykernel)",
   "language": "python",
   "name": "python3"
  },
  "language_info": {
   "codemirror_mode": {
    "name": "ipython",
    "version": 3
   },
   "file_extension": ".py",
   "mimetype": "text/x-python",
   "name": "python",
   "nbconvert_exporter": "python",
   "pygments_lexer": "ipython3",
   "version": "3.9.7"
  }
 },
 "nbformat": 4,
 "nbformat_minor": 5
}
