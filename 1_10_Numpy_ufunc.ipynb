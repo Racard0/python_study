{
 "cells": [
  {
   "cell_type": "markdown",
   "id": "fd855679",
   "metadata": {},
   "source": [
    "# P23 数组的ufunc广播机制"
   ]
  },
  {
   "cell_type": "markdown",
   "id": "50ac0273",
   "metadata": {},
   "source": [
    "###### ufunc通用函数，能对array所有元素进行操作"
   ]
  },
  {
   "cell_type": "code",
   "execution_count": 1,
   "id": "1cef8d9b",
   "metadata": {},
   "outputs": [],
   "source": [
    "import numpy as np"
   ]
  },
  {
   "cell_type": "code",
   "execution_count": 17,
   "id": "d210be00",
   "metadata": {},
   "outputs": [],
   "source": [
    "arr = np.arange(12).reshape(4,3)"
   ]
  },
  {
   "cell_type": "code",
   "execution_count": 18,
   "id": "c329fde2",
   "metadata": {
    "scrolled": true
   },
   "outputs": [
    {
     "data": {
      "text/plain": [
       "array([[ 0,  1,  2],\n",
       "       [ 3,  4,  5],\n",
       "       [ 6,  7,  8],\n",
       "       [ 9, 10, 11]])"
      ]
     },
     "execution_count": 18,
     "metadata": {},
     "output_type": "execute_result"
    }
   ],
   "source": [
    "arr"
   ]
  },
  {
   "cell_type": "code",
   "execution_count": 19,
   "id": "d3b36a76",
   "metadata": {},
   "outputs": [],
   "source": [
    "arr1 = np.array([[1,-3,5],[-2,4,6],[8,-10,12],[3,-6.6,9.9]])"
   ]
  },
  {
   "cell_type": "code",
   "execution_count": 20,
   "id": "70fb8160",
   "metadata": {},
   "outputs": [
    {
     "data": {
      "text/plain": [
       "array([[  1. ,  -3. ,   5. ],\n",
       "       [ -2. ,   4. ,   6. ],\n",
       "       [  8. , -10. ,  12. ],\n",
       "       [  3. ,  -6.6,   9.9]])"
      ]
     },
     "execution_count": 20,
     "metadata": {},
     "output_type": "execute_result"
    }
   ],
   "source": [
    "arr1"
   ]
  },
  {
   "cell_type": "code",
   "execution_count": 10,
   "id": "3beb9dd2",
   "metadata": {},
   "outputs": [
    {
     "data": {
      "text/plain": [
       "array([[ 1. , -2. ,  7. ],\n",
       "       [ 1. ,  8. , 11. ],\n",
       "       [14. , -3. , 20. ],\n",
       "       [12. ,  3.4, 20.9]])"
      ]
     },
     "execution_count": 10,
     "metadata": {},
     "output_type": "execute_result"
    }
   ],
   "source": [
    "arr + arr1"
   ]
  },
  {
   "cell_type": "code",
   "execution_count": 11,
   "id": "5cff0c9f",
   "metadata": {},
   "outputs": [],
   "source": [
    "arr2 = np.array([1,2,3])"
   ]
  },
  {
   "cell_type": "code",
   "execution_count": 12,
   "id": "a6e4b195",
   "metadata": {},
   "outputs": [
    {
     "data": {
      "text/plain": [
       "array([1, 2, 3])"
      ]
     },
     "execution_count": 12,
     "metadata": {},
     "output_type": "execute_result"
    }
   ],
   "source": [
    "arr2"
   ]
  },
  {
   "cell_type": "code",
   "execution_count": 18,
   "id": "15fb4acf",
   "metadata": {},
   "outputs": [],
   "source": [
    "# 行列不同进行了广播机制\n",
    "# 一维数组按行补齐，不一致使先补齐行数再运算\n",
    "# 二维数组同上，哪个不齐先补哪个"
   ]
  },
  {
   "cell_type": "code",
   "execution_count": 15,
   "id": "6ca19a54",
   "metadata": {},
   "outputs": [
    {
     "data": {
      "text/plain": [
       "array([[ 1,  3,  5],\n",
       "       [ 4,  6,  8],\n",
       "       [ 7,  9, 11],\n",
       "       [10, 12, 14]])"
      ]
     },
     "execution_count": 15,
     "metadata": {},
     "output_type": "execute_result"
    }
   ],
   "source": [
    "arr + arr2"
   ]
  },
  {
   "cell_type": "code",
   "execution_count": 16,
   "id": "dae034d0",
   "metadata": {},
   "outputs": [],
   "source": [
    "arr3 = np.array([1,2,3,4]).reshape(4,1)"
   ]
  },
  {
   "cell_type": "code",
   "execution_count": 17,
   "id": "2be32457",
   "metadata": {},
   "outputs": [
    {
     "data": {
      "text/plain": [
       "array([[1],\n",
       "       [2],\n",
       "       [3],\n",
       "       [4]])"
      ]
     },
     "execution_count": 17,
     "metadata": {},
     "output_type": "execute_result"
    }
   ],
   "source": [
    "arr3"
   ]
  },
  {
   "cell_type": "code",
   "execution_count": 19,
   "id": "5d847d12",
   "metadata": {},
   "outputs": [
    {
     "data": {
      "text/plain": [
       "array([[ 1,  2,  3],\n",
       "       [ 5,  6,  7],\n",
       "       [ 9, 10, 11],\n",
       "       [13, 14, 15]])"
      ]
     },
     "execution_count": 19,
     "metadata": {},
     "output_type": "execute_result"
    }
   ],
   "source": [
    "arr + arr3"
   ]
  },
  {
   "cell_type": "code",
   "execution_count": 20,
   "id": "6db7aeef",
   "metadata": {},
   "outputs": [],
   "source": [
    "math = np.array([60,70,80,90,95,55])\n",
    "english = math.copy()\n",
    "cs = math.copy()"
   ]
  },
  {
   "cell_type": "code",
   "execution_count": 21,
   "id": "de2b841e",
   "metadata": {},
   "outputs": [
    {
     "data": {
      "text/plain": [
       "array([60, 70, 80, 90, 95, 55])"
      ]
     },
     "execution_count": 21,
     "metadata": {},
     "output_type": "execute_result"
    }
   ],
   "source": [
    "english"
   ]
  },
  {
   "cell_type": "code",
   "execution_count": 26,
   "id": "9d0b8017",
   "metadata": {},
   "outputs": [
    {
     "data": {
      "text/plain": [
       "array([60, 70, 80, 90, 95, 55])"
      ]
     },
     "execution_count": 26,
     "metadata": {},
     "output_type": "execute_result"
    }
   ],
   "source": [
    "cs"
   ]
  },
  {
   "cell_type": "code",
   "execution_count": 22,
   "id": "f08acd42",
   "metadata": {},
   "outputs": [],
   "source": [
    "total = math + english + cs"
   ]
  },
  {
   "cell_type": "code",
   "execution_count": 23,
   "id": "340319a2",
   "metadata": {},
   "outputs": [
    {
     "data": {
      "text/plain": [
       "array([180, 210, 240, 270, 285, 165])"
      ]
     },
     "execution_count": 23,
     "metadata": {},
     "output_type": "execute_result"
    }
   ],
   "source": [
    "total"
   ]
  },
  {
   "cell_type": "code",
   "execution_count": 24,
   "id": "57e83a5a",
   "metadata": {},
   "outputs": [
    {
     "data": {
      "text/plain": [
       "array([180, 210, 240, 270, 285, 165])"
      ]
     },
     "execution_count": 24,
     "metadata": {},
     "output_type": "execute_result"
    }
   ],
   "source": [
    "# add(,)\n",
    "np.add(math,np.add(english,cs))"
   ]
  },
  {
   "cell_type": "code",
   "execution_count": 27,
   "id": "af1c9c60",
   "metadata": {},
   "outputs": [
    {
     "data": {
      "text/plain": [
       "array([0, 0, 0, 0, 0, 0])"
      ]
     },
     "execution_count": 27,
     "metadata": {},
     "output_type": "execute_result"
    }
   ],
   "source": [
    "# subtract(,)\n",
    "np.subtract(math,cs)"
   ]
  },
  {
   "cell_type": "code",
   "execution_count": 28,
   "id": "d91365a4",
   "metadata": {},
   "outputs": [
    {
     "data": {
      "text/plain": [
       "array([1., 1., 1., 1., 1., 1.])"
      ]
     },
     "execution_count": 28,
     "metadata": {},
     "output_type": "execute_result"
    }
   ],
   "source": [
    "# divide(,) - 除\n",
    "np.divide(math,cs)"
   ]
  },
  {
   "cell_type": "code",
   "execution_count": 29,
   "id": "3c67e5e3",
   "metadata": {},
   "outputs": [
    {
     "data": {
      "text/plain": [
       "array([3600, 4900, 6400, 8100, 9025, 3025])"
      ]
     },
     "execution_count": 29,
     "metadata": {},
     "output_type": "execute_result"
    }
   ],
   "source": [
    "# multiply(,) - 乘\n",
    "np.multiply(math,cs)"
   ]
  },
  {
   "cell_type": "code",
   "execution_count": 30,
   "id": "48eb2824",
   "metadata": {},
   "outputs": [
    {
     "data": {
      "text/plain": [
       "array([[  1. ,  -3. ,   5. ],\n",
       "       [ -2. ,   4. ,   6. ],\n",
       "       [  8. , -10. ,  12. ],\n",
       "       [  3. ,  -6.6,   9.9]])"
      ]
     },
     "execution_count": 30,
     "metadata": {},
     "output_type": "execute_result"
    }
   ],
   "source": [
    "arr1"
   ]
  },
  {
   "cell_type": "code",
   "execution_count": 35,
   "id": "b2df6495",
   "metadata": {},
   "outputs": [
    {
     "data": {
      "text/plain": [
       "array([[   0,    1,    8],\n",
       "       [  27,   64,  125],\n",
       "       [ 216,  343,  512],\n",
       "       [ 729, 1000, 1331]], dtype=int32)"
      ]
     },
     "execution_count": 35,
     "metadata": {},
     "output_type": "execute_result"
    }
   ],
   "source": [
    "# power(,) - 目标函数的几次方\n",
    "np.power(arr,3)"
   ]
  },
  {
   "cell_type": "code",
   "execution_count": 36,
   "id": "d7ac88b6",
   "metadata": {},
   "outputs": [],
   "source": [
    "s = np.array([1,3,5,7,9,2,4,6,8,10,1,2,3,4,3,2,1,2,3,4,3,2,1])"
   ]
  },
  {
   "cell_type": "code",
   "execution_count": 37,
   "id": "417bec97",
   "metadata": {},
   "outputs": [],
   "source": [
    "t = [3,4,5]"
   ]
  },
  {
   "cell_type": "code",
   "execution_count": 43,
   "id": "aead56b4",
   "metadata": {},
   "outputs": [
    {
     "data": {
      "text/plain": [
       "array([False,  True, False, False, False, False,  True, False, False,\n",
       "       False, False, False,  True,  True,  True, False, False, False,\n",
       "        True,  True, False, False])"
      ]
     },
     "execution_count": 43,
     "metadata": {},
     "output_type": "execute_result"
    }
   ],
   "source": [
    "# in1d(x,y) - 判断y中元素是否再x中存在.in1d,1是数字1\n",
    "np.in1d(s,t)"
   ]
  },
  {
   "cell_type": "code",
   "execution_count": 47,
   "id": "e0cfcb17",
   "metadata": {
    "scrolled": true
   },
   "outputs": [
    {
     "data": {
      "text/plain": [
       "array([3, 4])"
      ]
     },
     "execution_count": 47,
     "metadata": {},
     "output_type": "execute_result"
    }
   ],
   "source": [
    "# intersect1d(x,y) - 返回交集,数字1\n",
    "np.intersect1d(t,s)"
   ]
  },
  {
   "cell_type": "code",
   "execution_count": 38,
   "id": "6e493db9",
   "metadata": {},
   "outputs": [
    {
     "data": {
      "text/plain": [
       "array([ 1,  2,  3,  4,  5,  6,  7,  8,  9, 10])"
      ]
     },
     "execution_count": 38,
     "metadata": {},
     "output_type": "execute_result"
    }
   ],
   "source": [
    "# unique - 去重\n",
    "np.unique(s)"
   ]
  },
  {
   "cell_type": "code",
   "execution_count": 48,
   "id": "804b88f1",
   "metadata": {},
   "outputs": [
    {
     "data": {
      "text/plain": [
       "array([[False, False, False],\n",
       "       [False,  True, False],\n",
       "       [False, False, False],\n",
       "       [False, False, False]])"
      ]
     },
     "execution_count": 48,
     "metadata": {},
     "output_type": "execute_result"
    }
   ],
   "source": [
    "arr == arr1"
   ]
  },
  {
   "cell_type": "code",
   "execution_count": 51,
   "id": "9af92686",
   "metadata": {},
   "outputs": [
    {
     "data": {
      "text/plain": [
       "array([[False, False, False],\n",
       "       [False,  True, False],\n",
       "       [False, False, False],\n",
       "       [False, False, False]])"
      ]
     },
     "execution_count": 51,
     "metadata": {},
     "output_type": "execute_result"
    }
   ],
   "source": [
    "# equal - 相等\n",
    "# 同上\n",
    "np.equal(arr, arr1)"
   ]
  },
  {
   "cell_type": "code",
   "execution_count": 52,
   "id": "9217d219",
   "metadata": {},
   "outputs": [
    {
     "data": {
      "text/plain": [
       "array([[False,  True, False],\n",
       "       [ True, False, False],\n",
       "       [False,  True, False],\n",
       "       [ True,  True,  True]])"
      ]
     },
     "execution_count": 52,
     "metadata": {},
     "output_type": "execute_result"
    }
   ],
   "source": [
    "arr > arr1"
   ]
  },
  {
   "cell_type": "code",
   "execution_count": 53,
   "id": "2dd65732",
   "metadata": {},
   "outputs": [
    {
     "data": {
      "text/plain": [
       "array([[False,  True, False],\n",
       "       [ True, False, False],\n",
       "       [False,  True, False],\n",
       "       [ True,  True,  True]])"
      ]
     },
     "execution_count": 53,
     "metadata": {},
     "output_type": "execute_result"
    }
   ],
   "source": [
    "# greater - 大于\n",
    "# 同上\n",
    "np.greater(arr,arr1)"
   ]
  },
  {
   "cell_type": "code",
   "execution_count": 54,
   "id": "9cb9c2a6",
   "metadata": {},
   "outputs": [
    {
     "data": {
      "text/plain": [
       "True"
      ]
     },
     "execution_count": 54,
     "metadata": {},
     "output_type": "execute_result"
    }
   ],
   "source": [
    "# any() - 一真为真\n",
    "np.greater(arr,arr1).any()"
   ]
  },
  {
   "cell_type": "code",
   "execution_count": 55,
   "id": "50419d21",
   "metadata": {},
   "outputs": [
    {
     "data": {
      "text/plain": [
       "False"
      ]
     },
     "execution_count": 55,
     "metadata": {},
     "output_type": "execute_result"
    }
   ],
   "source": [
    "# all() - 一假为假\n",
    "np.greater(arr,arr1).all()"
   ]
  },
  {
   "cell_type": "code",
   "execution_count": 57,
   "id": "d0688b73",
   "metadata": {},
   "outputs": [],
   "source": [
    "n = [1,1,np.nan]"
   ]
  },
  {
   "cell_type": "code",
   "execution_count": 58,
   "id": "ccaad5f8",
   "metadata": {},
   "outputs": [
    {
     "data": {
      "text/plain": [
       "[1, 1, nan]"
      ]
     },
     "execution_count": 58,
     "metadata": {},
     "output_type": "execute_result"
    }
   ],
   "source": [
    "n"
   ]
  },
  {
   "cell_type": "code",
   "execution_count": 59,
   "id": "3dcc61e1",
   "metadata": {
    "scrolled": true
   },
   "outputs": [
    {
     "data": {
      "text/plain": [
       "array([False, False,  True])"
      ]
     },
     "execution_count": 59,
     "metadata": {},
     "output_type": "execute_result"
    }
   ],
   "source": [
    "# isnan - 对空值进行判断\n",
    "np.isnan(n)"
   ]
  },
  {
   "cell_type": "markdown",
   "id": "47eb9a87",
   "metadata": {},
   "source": [
    "# 搜索与排序 P24"
   ]
  },
  {
   "cell_type": "code",
   "execution_count": 4,
   "id": "27a0813f",
   "metadata": {},
   "outputs": [],
   "source": [
    "import numpy as np"
   ]
  },
  {
   "cell_type": "code",
   "execution_count": 14,
   "id": "1214cac6",
   "metadata": {},
   "outputs": [],
   "source": [
    "s = np.array([9,7,6,4,1,4,5,7,8,3,2,5,8,8,5,2,4])"
   ]
  },
  {
   "cell_type": "code",
   "execution_count": 5,
   "id": "102ef836",
   "metadata": {},
   "outputs": [
    {
     "data": {
      "text/plain": [
       "array([1, 2, 2, 3, 4, 4, 4, 5, 5, 5, 6, 7, 7, 8, 8, 8, 9])"
      ]
     },
     "execution_count": 5,
     "metadata": {},
     "output_type": "execute_result"
    }
   ],
   "source": [
    "# 升序\n",
    "np.sort(s)\n",
    "# 返回的是数组"
   ]
  },
  {
   "cell_type": "code",
   "execution_count": 6,
   "id": "94faca2b",
   "metadata": {},
   "outputs": [
    {
     "data": {
      "text/plain": [
       "[1, 2, 2, 3, 4, 4, 4, 5, 5, 5, 6, 7, 7, 8, 8, 8, 9]"
      ]
     },
     "execution_count": 6,
     "metadata": {},
     "output_type": "execute_result"
    }
   ],
   "source": [
    "sorted(s)  \n",
    "# 返回的是列表"
   ]
  },
  {
   "cell_type": "code",
   "execution_count": 8,
   "id": "ead543ff",
   "metadata": {},
   "outputs": [
    {
     "data": {
      "text/plain": [
       "[9, 8, 8, 8, 7, 7, 6, 5, 5, 5, 4, 4, 4, 3, 2, 2, 1]"
      ]
     },
     "execution_count": 8,
     "metadata": {},
     "output_type": "execute_result"
    }
   ],
   "source": [
    "# 降序\n",
    "sorted(s,reverse = True)"
   ]
  },
  {
   "cell_type": "code",
   "execution_count": 9,
   "id": "23d903b6",
   "metadata": {},
   "outputs": [
    {
     "data": {
      "text/plain": [
       "array([9, 8, 8, 8, 7, 7, 6, 5, 5, 5, 4, 4, 4, 3, 2, 2, 1])"
      ]
     },
     "execution_count": 9,
     "metadata": {},
     "output_type": "execute_result"
    }
   ],
   "source": [
    "# 转换为数组\n",
    "np.array(sorted(s,reverse = True))"
   ]
  },
  {
   "cell_type": "code",
   "execution_count": 10,
   "id": "98bb4294",
   "metadata": {},
   "outputs": [
    {
     "data": {
      "text/plain": [
       "array([ 4, 15, 10,  9, 16,  3,  5,  6, 11, 14,  2,  1,  7,  8, 12, 13,  0],\n",
       "      dtype=int64)"
      ]
     },
     "execution_count": 10,
     "metadata": {},
     "output_type": "execute_result"
    }
   ],
   "source": [
    "# argsort - 排完序在原数据的索引位置\n",
    "np.argsort(s)"
   ]
  },
  {
   "cell_type": "code",
   "execution_count": 12,
   "id": "ba2c7275",
   "metadata": {},
   "outputs": [
    {
     "data": {
      "text/plain": [
       "0"
      ]
     },
     "execution_count": 12,
     "metadata": {},
     "output_type": "execute_result"
    }
   ],
   "source": [
    "# argmax - 最大数在原数据索引位置\n",
    "np.argmax(s)"
   ]
  },
  {
   "cell_type": "code",
   "execution_count": 15,
   "id": "834a156d",
   "metadata": {
    "scrolled": true
   },
   "outputs": [
    {
     "data": {
      "text/plain": [
       "4"
      ]
     },
     "execution_count": 15,
     "metadata": {},
     "output_type": "execute_result"
    }
   ],
   "source": [
    "# 同上，找最小\n",
    "s.argmin()"
   ]
  },
  {
   "cell_type": "code",
   "execution_count": 21,
   "id": "a2bee956",
   "metadata": {},
   "outputs": [
    {
     "data": {
      "text/plain": [
       "array([[  1. ,  -3. ,   5. ],\n",
       "       [ -2. ,   4. ,   6. ],\n",
       "       [  8. , -10. ,  12. ],\n",
       "       [  3. ,  -6.6,   9.9]])"
      ]
     },
     "execution_count": 21,
     "metadata": {},
     "output_type": "execute_result"
    }
   ],
   "source": [
    "arr1"
   ]
  },
  {
   "cell_type": "code",
   "execution_count": 22,
   "id": "e07bc69c",
   "metadata": {},
   "outputs": [
    {
     "data": {
      "text/plain": [
       "array([2, 2, 2, 2], dtype=int64)"
      ]
     },
     "execution_count": 22,
     "metadata": {},
     "output_type": "execute_result"
    }
   ],
   "source": [
    "# 按行\n",
    "arr1.argmax(axis = 1)"
   ]
  },
  {
   "cell_type": "code",
   "execution_count": 24,
   "id": "01116ec8",
   "metadata": {},
   "outputs": [
    {
     "data": {
      "text/plain": [
       "array([2, 1, 2], dtype=int64)"
      ]
     },
     "execution_count": 24,
     "metadata": {},
     "output_type": "execute_result"
    }
   ],
   "source": [
    "# 按列\n",
    "arr1.argmax(axis = 0)"
   ]
  },
  {
   "cell_type": "code",
   "execution_count": 25,
   "id": "57dcfb23",
   "metadata": {},
   "outputs": [
    {
     "data": {
      "text/plain": [
       "(array([1, 2, 2, 3], dtype=int64), array([2, 0, 2, 2], dtype=int64))"
      ]
     },
     "execution_count": 25,
     "metadata": {},
     "output_type": "execute_result"
    }
   ],
   "source": [
    "# where(condition,x,y) - 条件语句\n",
    "# 返回的是下标\n",
    "np.where(arr1>5)\n",
    "# (1,2) (2,0) (2,2) (3,2)"
   ]
  },
  {
   "cell_type": "code",
   "execution_count": 26,
   "id": "58f0c8f5",
   "metadata": {},
   "outputs": [
    {
     "data": {
      "text/plain": [
       "array([[0, 0, 0],\n",
       "       [0, 0, 1],\n",
       "       [1, 0, 1],\n",
       "       [0, 0, 1]])"
      ]
     },
     "execution_count": 26,
     "metadata": {},
     "output_type": "execute_result"
    }
   ],
   "source": [
    "# 大于5返回1，否则返回0\n",
    "np.where(arr1>5,1,0)"
   ]
  },
  {
   "cell_type": "code",
   "execution_count": 27,
   "id": "818bfc5b",
   "metadata": {},
   "outputs": [
    {
     "data": {
      "text/plain": [
       "array([[ 0,  1,  2],\n",
       "       [ 3,  4,  5],\n",
       "       [ 6,  7,  8],\n",
       "       [ 9, 10, 11]])"
      ]
     },
     "execution_count": 27,
     "metadata": {},
     "output_type": "execute_result"
    }
   ],
   "source": [
    "arr"
   ]
  },
  {
   "cell_type": "code",
   "execution_count": 32,
   "id": "5de8b203",
   "metadata": {},
   "outputs": [
    {
     "data": {
      "text/plain": [
       "array([[  0. ,  -3. ,   2. ],\n",
       "       [ -2. ,   4. ,   5. ],\n",
       "       [  6. , -10. ,   8. ],\n",
       "       [  3. ,  -6.6,   9.9]])"
      ]
     },
     "execution_count": 32,
     "metadata": {},
     "output_type": "execute_result"
    }
   ],
   "source": [
    "# 如果arr>arr1，返回arr1,否则返回arr\n",
    "np.where(arr > arr1, arr1, arr)"
   ]
  },
  {
   "cell_type": "code",
   "execution_count": 34,
   "id": "377764f1",
   "metadata": {},
   "outputs": [
    {
     "data": {
      "text/plain": [
       "array([ -3. ,  -2. , -10. ,   3. ,  -6.6,   9.9])"
      ]
     },
     "execution_count": 34,
     "metadata": {},
     "output_type": "execute_result"
    }
   ],
   "source": [
    "# extract - 提取\n",
    "# 如果arr > arr1,就提取arr1\n",
    "np.extract(arr > arr1, arr1)"
   ]
  },
  {
   "cell_type": "code",
   "execution_count": 36,
   "id": "50735744",
   "metadata": {},
   "outputs": [
    {
     "data": {
      "text/plain": [
       "array([[  1. ,  -3. ,   5. ],\n",
       "       [ -2. ,   4. ,   6. ],\n",
       "       [  8. , -10. ,  12. ],\n",
       "       [  3. ,  -6.6,   9.9]])"
      ]
     },
     "execution_count": 36,
     "metadata": {},
     "output_type": "execute_result"
    }
   ],
   "source": [
    "arr1"
   ]
  },
  {
   "cell_type": "code",
   "execution_count": 35,
   "id": "17e371c3",
   "metadata": {
    "scrolled": true
   },
   "outputs": [
    {
     "data": {
      "text/plain": [
       "array([[False,  True, False],\n",
       "       [ True, False, False],\n",
       "       [False,  True, False],\n",
       "       [ True,  True,  True]])"
      ]
     },
     "execution_count": 35,
     "metadata": {},
     "output_type": "execute_result"
    }
   ],
   "source": [
    "arr > arr1"
   ]
  },
  {
   "cell_type": "code",
   "execution_count": null,
   "id": "65e797cc",
   "metadata": {},
   "outputs": [],
   "source": []
  }
 ],
 "metadata": {
  "kernelspec": {
   "display_name": "Python 3 (ipykernel)",
   "language": "python",
   "name": "python3"
  },
  "language_info": {
   "codemirror_mode": {
    "name": "ipython",
    "version": 3
   },
   "file_extension": ".py",
   "mimetype": "text/x-python",
   "name": "python",
   "nbconvert_exporter": "python",
   "pygments_lexer": "ipython3",
   "version": "3.9.7"
  }
 },
 "nbformat": 4,
 "nbformat_minor": 5
}
