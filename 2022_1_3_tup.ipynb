{
 "cells": [
  {
   "cell_type": "code",
   "execution_count": 2,
   "id": "dc4dddee",
   "metadata": {},
   "outputs": [],
   "source": [
    "# 元组\n",
    "a_tuple = (1,2,3,4)"
   ]
  },
  {
   "cell_type": "code",
   "execution_count": 3,
   "id": "811c1779",
   "metadata": {},
   "outputs": [
    {
     "data": {
      "text/plain": [
       "tuple"
      ]
     },
     "execution_count": 3,
     "metadata": {},
     "output_type": "execute_result"
    }
   ],
   "source": [
    "type(a_tuple)"
   ]
  },
  {
   "cell_type": "code",
   "execution_count": 4,
   "id": "c14f9a0b",
   "metadata": {},
   "outputs": [],
   "source": [
    "# 列表转化为元组\n",
    "tup_b = tuple([5,6,7,8])"
   ]
  },
  {
   "cell_type": "code",
   "execution_count": 5,
   "id": "711c7830",
   "metadata": {},
   "outputs": [
    {
     "data": {
      "text/plain": [
       "tuple"
      ]
     },
     "execution_count": 5,
     "metadata": {},
     "output_type": "execute_result"
    }
   ],
   "source": [
    "type(tup_b)"
   ]
  },
  {
   "cell_type": "code",
   "execution_count": 6,
   "id": "bd36f076",
   "metadata": {},
   "outputs": [
    {
     "data": {
      "text/plain": [
       "(1, 2)"
      ]
     },
     "execution_count": 6,
     "metadata": {},
     "output_type": "execute_result"
    }
   ],
   "source": [
    "a_tuple[0:2]"
   ]
  },
  {
   "cell_type": "code",
   "execution_count": 7,
   "id": "2612e5b4",
   "metadata": {},
   "outputs": [
    {
     "ename": "TypeError",
     "evalue": "'tuple' object does not support item assignment",
     "output_type": "error",
     "traceback": [
      "\u001b[1;31m---------------------------------------------------------------------------\u001b[0m",
      "\u001b[1;31mTypeError\u001b[0m                                 Traceback (most recent call last)",
      "\u001b[1;32m~\\AppData\\Local\\Temp/ipykernel_8744/1862550888.py\u001b[0m in \u001b[0;36m<module>\u001b[1;34m\u001b[0m\n\u001b[1;32m----> 1\u001b[1;33m \u001b[0ma_tuple\u001b[0m\u001b[1;33m[\u001b[0m\u001b[1;36m1\u001b[0m\u001b[1;33m]\u001b[0m \u001b[1;33m=\u001b[0m \u001b[1;36m5\u001b[0m\u001b[1;33m\u001b[0m\u001b[1;33m\u001b[0m\u001b[0m\n\u001b[0m",
      "\u001b[1;31mTypeError\u001b[0m: 'tuple' object does not support item assignment"
     ]
    }
   ],
   "source": [
    "a_tuple[1] = 5\n",
    "# 元组无法修改"
   ]
  },
  {
   "cell_type": "code",
   "execution_count": 8,
   "id": "bab7ee18",
   "metadata": {},
   "outputs": [],
   "source": [
    "del a_tuple"
   ]
  },
  {
   "cell_type": "code",
   "execution_count": 9,
   "id": "0ae2622f",
   "metadata": {},
   "outputs": [
    {
     "ename": "NameError",
     "evalue": "name 'a_tuple' is not defined",
     "output_type": "error",
     "traceback": [
      "\u001b[1;31m---------------------------------------------------------------------------\u001b[0m",
      "\u001b[1;31mNameError\u001b[0m                                 Traceback (most recent call last)",
      "\u001b[1;32m~\\AppData\\Local\\Temp/ipykernel_8744/418800075.py\u001b[0m in \u001b[0;36m<module>\u001b[1;34m\u001b[0m\n\u001b[1;32m----> 1\u001b[1;33m \u001b[0ma_tuple\u001b[0m\u001b[1;33m\u001b[0m\u001b[1;33m\u001b[0m\u001b[0m\n\u001b[0m",
      "\u001b[1;31mNameError\u001b[0m: name 'a_tuple' is not defined"
     ]
    }
   ],
   "source": [
    "a_tuple"
   ]
  },
  {
   "cell_type": "code",
   "execution_count": 10,
   "id": "d1128252",
   "metadata": {},
   "outputs": [],
   "source": [
    "c = (1,2,3,4)\n",
    "d = (5,6,7)\n",
    "# 元组是(), 列表是[]"
   ]
  },
  {
   "cell_type": "code",
   "execution_count": 11,
   "id": "b81dbd1d",
   "metadata": {},
   "outputs": [
    {
     "data": {
      "text/plain": [
       "(1, 2, 3, 4, 5, 6, 7)"
      ]
     },
     "execution_count": 11,
     "metadata": {},
     "output_type": "execute_result"
    }
   ],
   "source": [
    "c+d"
   ]
  },
  {
   "cell_type": "code",
   "execution_count": 13,
   "id": "5e158f58",
   "metadata": {},
   "outputs": [],
   "source": [
    "a1,a2,a3,a4,a5,a6,a7=c+d\n",
    "# 元组赋值，拆包"
   ]
  },
  {
   "cell_type": "code",
   "execution_count": 14,
   "id": "94708ed6",
   "metadata": {},
   "outputs": [
    {
     "data": {
      "text/plain": [
       "1"
      ]
     },
     "execution_count": 14,
     "metadata": {},
     "output_type": "execute_result"
    }
   ],
   "source": [
    "a1"
   ]
  },
  {
   "cell_type": "code",
   "execution_count": 15,
   "id": "172abf96",
   "metadata": {},
   "outputs": [
    {
     "data": {
      "text/plain": [
       "7"
      ]
     },
     "execution_count": 15,
     "metadata": {},
     "output_type": "execute_result"
    }
   ],
   "source": [
    "a7"
   ]
  },
  {
   "cell_type": "code",
   "execution_count": 16,
   "id": "2c901b4b",
   "metadata": {},
   "outputs": [
    {
     "data": {
      "text/plain": [
       "(5, 6, 7, 5, 6, 7, 5, 6, 7)"
      ]
     },
     "execution_count": 16,
     "metadata": {},
     "output_type": "execute_result"
    }
   ],
   "source": [
    " d*3"
   ]
  },
  {
   "cell_type": "code",
   "execution_count": 18,
   "id": "6d8d2f53",
   "metadata": {},
   "outputs": [
    {
     "data": {
      "text/plain": [
       "5"
      ]
     },
     "execution_count": 18,
     "metadata": {},
     "output_type": "execute_result"
    }
   ],
   "source": [
    "tup_b[0]"
   ]
  },
  {
   "cell_type": "code",
   "execution_count": 19,
   "id": "2e23e699",
   "metadata": {},
   "outputs": [
    {
     "data": {
      "text/plain": [
       "(5, 6)"
      ]
     },
     "execution_count": 19,
     "metadata": {},
     "output_type": "execute_result"
    }
   ],
   "source": [
    "tup_b[0:2]"
   ]
  },
  {
   "cell_type": "code",
   "execution_count": 21,
   "id": "dd69083d",
   "metadata": {},
   "outputs": [
    {
     "data": {
      "text/plain": [
       "(5, 6, 7, 8)"
      ]
     },
     "execution_count": 21,
     "metadata": {},
     "output_type": "execute_result"
    }
   ],
   "source": [
    "tup_b"
   ]
  },
  {
   "cell_type": "code",
   "execution_count": 20,
   "id": "6ec021f1",
   "metadata": {},
   "outputs": [
    {
     "data": {
      "text/plain": [
       "(8, 7, 6, 5)"
      ]
     },
     "execution_count": 20,
     "metadata": {},
     "output_type": "execute_result"
    }
   ],
   "source": [
    "tup_b[::-1]"
   ]
  }
 ],
 "metadata": {
  "kernelspec": {
   "display_name": "Python 3 (ipykernel)",
   "language": "python",
   "name": "python3"
  },
  "language_info": {
   "codemirror_mode": {
    "name": "ipython",
    "version": 3
   },
   "file_extension": ".py",
   "mimetype": "text/x-python",
   "name": "python",
   "nbconvert_exporter": "python",
   "pygments_lexer": "ipython3",
   "version": "3.9.7"
  }
 },
 "nbformat": 4,
 "nbformat_minor": 5
}
