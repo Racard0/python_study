{
 "cells": [
  {
   "cell_type": "markdown",
   "id": "27bc3938",
   "metadata": {},
   "source": [
    "# P35 数据库数据获取和保存"
   ]
  },
  {
   "cell_type": "code",
   "execution_count": null,
   "id": "a07af350",
   "metadata": {},
   "outputs": [],
   "source": [
    "# 先学学mysql吧。。。"
   ]
  },
  {
   "cell_type": "code",
   "execution_count": 2,
   "id": "626a8157",
   "metadata": {},
   "outputs": [],
   "source": [
    "import pymysql\n",
    "from sqlalchemy import create_engine\n",
    "import pandas as pd"
   ]
  },
  {
   "cell_type": "code",
   "execution_count": null,
   "id": "005a771b",
   "metadata": {},
   "outputs": [],
   "source": [
    "# 建立连接\n",
    "conn = create_engine('mysql+pymysql:/root:')"
   ]
  }
 ],
 "metadata": {
  "kernelspec": {
   "display_name": "Python 3 (ipykernel)",
   "language": "python",
   "name": "python3"
  },
  "language_info": {
   "codemirror_mode": {
    "name": "ipython",
    "version": 3
   },
   "file_extension": ".py",
   "mimetype": "text/x-python",
   "name": "python",
   "nbconvert_exporter": "python",
   "pygments_lexer": "ipython3",
   "version": "3.9.7"
  }
 },
 "nbformat": 4,
 "nbformat_minor": 5
}
