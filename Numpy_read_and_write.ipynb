{
 "cells": [
  {
   "cell_type": "markdown",
   "id": "9b68c7b9",
   "metadata": {},
   "source": [
    "# P25 Numpy运用，文件读写"
   ]
  },
  {
   "cell_type": "code",
   "execution_count": 1,
   "id": "98e550c9",
   "metadata": {},
   "outputs": [],
   "source": [
    "import numpy as np"
   ]
  },
  {
   "cell_type": "code",
   "execution_count": 4,
   "id": "9c471327",
   "metadata": {},
   "outputs": [],
   "source": [
    "# genfromtxt - 导入数据的一种方式\n",
    "# delimiter - 分隔符\n",
    "data = np.genfromtxt(r'E:\\云开见明\\云开见明Python数据分析师课程数据（仅与云开见明Python数据分析师配套）\\第二章\\arr.txt',delimiter=',')"
   ]
  },
  {
   "cell_type": "code",
   "execution_count": 22,
   "id": "34806d23",
   "metadata": {},
   "outputs": [],
   "source": [
    "# genfromtxt - 方法介绍\n",
    "np.genfromtxt?"
   ]
  },
  {
   "cell_type": "code",
   "execution_count": 5,
   "id": "037227fc",
   "metadata": {},
   "outputs": [
    {
     "data": {
      "text/plain": [
       "array([[0.15896 , 0.153071, 0.69553 , 0.318766, 0.69197 , 0.554383,\n",
       "        0.388951],\n",
       "       [0.925132, 0.84167 , 0.357398, 0.043591, 0.304768, 0.398186,\n",
       "        0.704959],\n",
       "       [0.995358, 0.355915, 0.762548, 0.593177, 0.691702, 0.151127,\n",
       "        0.398876],\n",
       "       [0.240856, 0.343456, 0.513128, 0.666625, 0.105908, 0.130895,\n",
       "        0.321981],\n",
       "       [0.661564, 0.846506, 0.553257, 0.854452, 0.384838, 0.316788,\n",
       "        0.354265],\n",
       "       [0.171082, 0.829113, 0.338671, 0.55237 , 0.578551, 0.521533,\n",
       "        0.002688],\n",
       "       [0.988345, 0.905342, 0.207636, 0.292489, 0.52001 , 0.901911,\n",
       "        0.983631]])"
      ]
     },
     "execution_count": 5,
     "metadata": {},
     "output_type": "execute_result"
    }
   ],
   "source": [
    "data"
   ]
  },
  {
   "cell_type": "code",
   "execution_count": 7,
   "id": "731280e0",
   "metadata": {},
   "outputs": [
    {
     "data": {
      "text/plain": [
       "numpy.ndarray"
      ]
     },
     "execution_count": 7,
     "metadata": {},
     "output_type": "execute_result"
    }
   ],
   "source": [
    "type(data)"
   ]
  },
  {
   "cell_type": "code",
   "execution_count": 13,
   "id": "95941385",
   "metadata": {},
   "outputs": [],
   "source": [
    "# skip_header - 跳过表头\n",
    "data_1 = np.genfromtxt(r'E:\\云开见明\\云开见明Python数据分析师课程数据（仅与云开见明Python数据分析师配套）\\第二章\\sales.csv',delimiter=',',skip_header=1)"
   ]
  },
  {
   "cell_type": "code",
   "execution_count": 14,
   "id": "04e968f3",
   "metadata": {},
   "outputs": [
    {
     "data": {
      "text/plain": [
       "array([[4.149e+01, 2.902e+01, 3.770e+00, 8.460e+00, 8.274e+01],\n",
       "       [2.908e+01, 3.580e+00, 6.810e+00, 7.700e-01, 4.024e+01],\n",
       "       [1.585e+01, 1.288e+01, 3.790e+00, 3.310e+00, 3.582e+01],\n",
       "       ...,\n",
       "       [0.000e+00, 0.000e+00, 0.000e+00, 0.000e+00, 1.000e-02],\n",
       "       [0.000e+00, 1.000e-02, 0.000e+00, 0.000e+00, 1.000e-02],\n",
       "       [1.000e-02, 0.000e+00, 0.000e+00, 0.000e+00, 1.000e-02]])"
      ]
     },
     "execution_count": 14,
     "metadata": {},
     "output_type": "execute_result"
    }
   ],
   "source": [
    "data_1"
   ]
  },
  {
   "cell_type": "code",
   "execution_count": 18,
   "id": "30564b51",
   "metadata": {},
   "outputs": [],
   "source": [
    "# loadtxt作用同genfromtxt\n",
    "data_2 = np.loadtxt(r'E:\\云开见明\\云开见明Python数据分析师课程数据（仅与云开见明Python数据分析师配套）\\第二章\\arr.txt',delimiter = ',')"
   ]
  },
  {
   "cell_type": "code",
   "execution_count": 21,
   "id": "1339c175",
   "metadata": {},
   "outputs": [],
   "source": [
    "np.loadtxt?"
   ]
  },
  {
   "cell_type": "code",
   "execution_count": 19,
   "id": "770f0a14",
   "metadata": {},
   "outputs": [
    {
     "data": {
      "text/plain": [
       "array([[0.15896 , 0.153071, 0.69553 , 0.318766, 0.69197 , 0.554383,\n",
       "        0.388951],\n",
       "       [0.925132, 0.84167 , 0.357398, 0.043591, 0.304768, 0.398186,\n",
       "        0.704959],\n",
       "       [0.995358, 0.355915, 0.762548, 0.593177, 0.691702, 0.151127,\n",
       "        0.398876],\n",
       "       [0.240856, 0.343456, 0.513128, 0.666625, 0.105908, 0.130895,\n",
       "        0.321981],\n",
       "       [0.661564, 0.846506, 0.553257, 0.854452, 0.384838, 0.316788,\n",
       "        0.354265],\n",
       "       [0.171082, 0.829113, 0.338671, 0.55237 , 0.578551, 0.521533,\n",
       "        0.002688],\n",
       "       [0.988345, 0.905342, 0.207636, 0.292489, 0.52001 , 0.901911,\n",
       "        0.983631]])"
      ]
     },
     "execution_count": 19,
     "metadata": {},
     "output_type": "execute_result"
    }
   ],
   "source": [
    "data_2"
   ]
  },
  {
   "cell_type": "markdown",
   "id": "3e27ecd2",
   "metadata": {},
   "source": [
    "# numpy存储数据"
   ]
  },
  {
   "cell_type": "code",
   "execution_count": 24,
   "id": "62546d3c",
   "metadata": {},
   "outputs": [
    {
     "data": {
      "text/plain": [
       "array([[0.15896 , 0.153071, 0.69553 , 0.318766, 0.69197 , 0.554383,\n",
       "        0.388951],\n",
       "       [0.925132, 0.84167 , 0.357398, 0.043591, 0.304768, 0.398186,\n",
       "        0.704959],\n",
       "       [0.995358, 0.355915, 0.762548, 0.593177, 0.691702, 0.151127,\n",
       "        0.398876],\n",
       "       [0.240856, 0.343456, 0.513128, 0.666625, 0.105908, 0.130895,\n",
       "        0.321981],\n",
       "       [0.661564, 0.846506, 0.553257, 0.854452, 0.384838, 0.316788,\n",
       "        0.354265],\n",
       "       [0.171082, 0.829113, 0.338671, 0.55237 , 0.578551, 0.521533,\n",
       "        0.002688],\n",
       "       [0.988345, 0.905342, 0.207636, 0.292489, 0.52001 , 0.901911,\n",
       "        0.983631]])"
      ]
     },
     "execution_count": 24,
     "metadata": {},
     "output_type": "execute_result"
    }
   ],
   "source": [
    "data"
   ]
  },
  {
   "cell_type": "code",
   "execution_count": 25,
   "id": "3417d731",
   "metadata": {},
   "outputs": [],
   "source": [
    "# np.savetxt(path,data,delimiter,fmt)\n",
    "# fmt - 存储数据格式"
   ]
  },
  {
   "cell_type": "code",
   "execution_count": 27,
   "id": "add28499",
   "metadata": {},
   "outputs": [],
   "source": [
    "# 保存为 test.txt 文件\n",
    "np.savetxt(r'E:\\云开见明\\云开见明Python数据分析师课程数据（仅与云开见明Python数据分析师配套）\\第二章\\test.txt',data,delimiter = ',',fmt = '%.3f')"
   ]
  },
  {
   "cell_type": "code",
   "execution_count": 28,
   "id": "dc426ffd",
   "metadata": {},
   "outputs": [
    {
     "data": {
      "text/plain": [
       "array([[0.159, 0.153, 0.696, 0.319, 0.692, 0.554, 0.389],\n",
       "       [0.925, 0.842, 0.357, 0.044, 0.305, 0.398, 0.705],\n",
       "       [0.995, 0.356, 0.763, 0.593, 0.692, 0.151, 0.399],\n",
       "       [0.241, 0.343, 0.513, 0.667, 0.106, 0.131, 0.322],\n",
       "       [0.662, 0.847, 0.553, 0.854, 0.385, 0.317, 0.354],\n",
       "       [0.171, 0.829, 0.339, 0.552, 0.579, 0.522, 0.003],\n",
       "       [0.988, 0.905, 0.208, 0.292, 0.52 , 0.902, 0.984]])"
      ]
     },
     "execution_count": 28,
     "metadata": {},
     "output_type": "execute_result"
    }
   ],
   "source": [
    "# 读取 test.txt 文件\n",
    "np.genfromtxt(r'E:\\云开见明\\云开见明Python数据分析师课程数据（仅与云开见明Python数据分析师配套）\\第二章\\test.txt',delimiter = ',')"
   ]
  },
  {
   "cell_type": "markdown",
   "id": "fade6ecc",
   "metadata": {},
   "source": [
    "# P26 Numpy字符串处理"
   ]
  },
  {
   "cell_type": "code",
   "execution_count": 1,
   "id": "2d9ea14e",
   "metadata": {},
   "outputs": [],
   "source": [
    "str_list = ['Hello','World']"
   ]
  },
  {
   "cell_type": "code",
   "execution_count": 3,
   "id": "fcef3fc3",
   "metadata": {},
   "outputs": [
    {
     "data": {
      "text/plain": [
       "['HELLO', 'WORLD']"
      ]
     },
     "execution_count": 3,
     "metadata": {},
     "output_type": "execute_result"
    }
   ],
   "source": [
    "[i.upper() for i in str_list]"
   ]
  },
  {
   "cell_type": "code",
   "execution_count": 4,
   "id": "b23a4ad0",
   "metadata": {},
   "outputs": [],
   "source": [
    "import numpy as np"
   ]
  },
  {
   "cell_type": "code",
   "execution_count": 11,
   "id": "603ece1e",
   "metadata": {},
   "outputs": [],
   "source": [
    "# numpy方法\n",
    "# 字母大写\n",
    "str_arr = np.char.upper(str_list)"
   ]
  },
  {
   "cell_type": "code",
   "execution_count": 8,
   "id": "d2168bd1",
   "metadata": {},
   "outputs": [
    {
     "data": {
      "text/plain": [
       "array(['HELLO', 'WORLD'], dtype='<U5')"
      ]
     },
     "execution_count": 8,
     "metadata": {},
     "output_type": "execute_result"
    }
   ],
   "source": [
    "str_arr"
   ]
  },
  {
   "cell_type": "code",
   "execution_count": 12,
   "id": "a9914c17",
   "metadata": {},
   "outputs": [
    {
     "data": {
      "text/plain": [
       "array(['steam#wegame#', 'origin#epic#'], dtype='<U14')"
      ]
     },
     "execution_count": 12,
     "metadata": {},
     "output_type": "execute_result"
    }
   ],
   "source": [
    "# 字符串拼接\n",
    "np.char.add(['steam#','origin#'],['wegame#','epic#'])"
   ]
  },
  {
   "cell_type": "code",
   "execution_count": 13,
   "id": "7cdb4fe6",
   "metadata": {},
   "outputs": [
    {
     "data": {
      "text/plain": [
       "array(['steam#steam#steam#', 'origin#origin#origin#'], dtype='<U21')"
      ]
     },
     "execution_count": 13,
     "metadata": {},
     "output_type": "execute_result"
    }
   ],
   "source": [
    "np.char.multiply(['steam#','origin#'],3)"
   ]
  },
  {
   "cell_type": "code",
   "execution_count": 14,
   "id": "e2b85fb8",
   "metadata": {},
   "outputs": [
    {
     "data": {
      "text/plain": [
       "['steamsteamsteam', 'originoriginorigin']"
      ]
     },
     "execution_count": 14,
     "metadata": {},
     "output_type": "execute_result"
    }
   ],
   "source": [
    "# 列表推导式\n",
    "[i*3 for i in ['steam','origin']]"
   ]
  },
  {
   "cell_type": "code",
   "execution_count": 17,
   "id": "7de1d49d",
   "metadata": {},
   "outputs": [
    {
     "data": {
      "text/plain": [
       "array(['h+e+l+l+o', 'w-o-r-l-d'], dtype='<U9')"
      ]
     },
     "execution_count": 17,
     "metadata": {},
     "output_type": "execute_result"
    }
   ],
   "source": [
    "# char.join() - 分隔\n",
    "np.char.join(['+','-'],['hello','world'])"
   ]
  },
  {
   "cell_type": "code",
   "execution_count": 19,
   "id": "5c6b9045",
   "metadata": {},
   "outputs": [
    {
     "data": {
      "text/plain": [
       "array(['steam ', 'is ', '666bage'], dtype='<U7')"
      ]
     },
     "execution_count": 19,
     "metadata": {},
     "output_type": "execute_result"
    }
   ],
   "source": [
    "# char.replace() - 替换\n",
    "a = ['steam ','is ','garbage']\n",
    "np.char.replace(a,'gar','666')"
   ]
  },
  {
   "cell_type": "code",
   "execution_count": 20,
   "id": "d7d0fb90",
   "metadata": {},
   "outputs": [
    {
     "data": {
      "text/plain": [
       "['steam ', 'is ', '666bage']"
      ]
     },
     "execution_count": 20,
     "metadata": {},
     "output_type": "execute_result"
    }
   ],
   "source": [
    "# 推导式\n",
    "[i.replace('gar','666') for i in a]"
   ]
  },
  {
   "cell_type": "code",
   "execution_count": 21,
   "id": "ec44b190",
   "metadata": {},
   "outputs": [
    {
     "data": {
      "text/plain": [
       "array(['腾讯', '阿狸-', '+陈瑞'], dtype='<U4')"
      ]
     },
     "execution_count": 21,
     "metadata": {},
     "output_type": "execute_result"
    }
   ],
   "source": [
    "# char.strip() - 去掉字符串,只能去开头结尾\n",
    "b = ['*腾讯*','*阿狸-','+陈瑞*']\n",
    "np.char.strip(b,'*')"
   ]
  },
  {
   "cell_type": "code",
   "execution_count": 22,
   "id": "0f59699e",
   "metadata": {},
   "outputs": [],
   "source": [
    "f = open(r'E:\\云开见明\\云开见明Python数据分析师课程数据（仅与云开见明Python数据分析师配套）\\第一章\\equipment_1.txt',encoding = 'utf-8').readlines()"
   ]
  },
  {
   "cell_type": "code",
   "execution_count": 23,
   "id": "e322c825",
   "metadata": {},
   "outputs": [
    {
     "data": {
      "text/plain": [
       "['运营商\\t设备型号\\t设备名称\\t系统版本\\t内存容量\\t操作系统\\t内存剩余容量\\tMAC地址\\tIP地址\\t是否root\\t是否使用模拟器\\t设备身份码\\t电池电量\\tsim卡状态(服务状态)\\tsim卡状态(漫游)\\tsim卡状态(移动网络状态)\\tsd卡容量\\t分辨率\\t抓取时间\\t客户姓名\\t客户手机号\\t客户身份证号\\t客户注册时间\\n',\n",
       " '中国电信\\t\"GOME S1\"\\taus6737t_66_m0\\t6.0\\t\"25.19 GB\"\\tAndroid6.0\\t\"17.72 GB\"\\t20:f4:52:06:24:69\\t192.168.1.100\\t0\\t0\\tA1000053232DD2\\t79%\\t良好\\t非漫游\\t已连接\\t\"25.19 GB\"\\t720*1280像素\\t\"2018-05-14 15:06:48\"\\t王茜\\t134X8916636\\t5101XX198007230626\\t\"2018-04-04 12:02:47\"\\n',\n",
       " 'CMCC\\t\"vivo Y67\"\\tPD1612\\t6.0\\t\"24.55 GB\"\\tAndroid6.0\\t\"2.40 GB\"\\t02:00:00:00:00:00\\t192.168.0.102\\t0\\t0\\t863600031885927\\t22%\\t良好\\t非漫游\\t已连接\\t\"24.55 GB\"\\t720*1280像素\\t\"2018-04-21 19:37:49\"\\t回龙涛\\t187X0193126\\t1305XX199202083018\\t\"2018-04-21 19:37:49\"\\n',\n",
       " '中国电信\\t\"vivo X9\"\\tPD1616\\t7.1.2\\t\"52.96 GB\"\\tAndroid7.1.2\\t\"29.28 GB\"\\t02:00:00:00:00:00\\t192.168.0.105\\t0\\t0\\t864161030857010\\t54%\\t良好\\t非漫游\\t已连接\\t\"52.37 GB\"\\t1080*1920像素\\t\"2018-04-26 15:22:01\"\\t韦晓平\\t1557X867751\\t45260XX98611161833\\t\"2018-04-24 13:47:03\"\\n',\n",
       " '中国电信\\t\"vivo X9\"\\tPD1616\\t7.1.2\\t\"52.96 GB\"\\tAndroid7.1.2\\t\"29.27 GB\"\\t02:00:00:00:00:00\\t10.85.172.165\\t0\\t0\\t864161030857010\\t52%\\t良好\\t非漫游\\t已连接\\t\"52.37 GB\"\\t1080*1920像素\\t\"2018-04-26 15:39:48\"\\t韦晓平\\t1557X867751\\t45260XX98611161833\\t\"2018-04-24 13:47:03\"\\n',\n",
       " '中国电信\\t\"vivo X9\"\\tPD1616\\t7.1.2\\t\"52.96 GB\"\\tAndroid7.1.2\\t\"29.16 GB\"\\t02:00:00:00:00:00\\t100.124.238.32\\t0\\t0\\t864161030857010\\t28%\\t良好\\t非漫游\\t已连接\\t\"52.37 GB\"\\t1080*1920像素\\t\"2018-04-27 11:33:35\"\\t韦晓平\\t1557X867751\\t45260XX98611161833\\t\"2018-04-24 13:47:03\"\\n',\n",
       " 'CMCC\\t\"vivo X9Plus\"\\tPD1619\\t7.1.1\\t\"52.96 GB\"\\tAndroid7.1.1\\t\"6.53 GB\"\\t02:00:00:00:00:00\\t192.168.1.105\\t0\\t0\\t864427032448177\\t98%\\t良好\\t非漫游\\t已连接\\t\"52.37 GB\"\\t1080*1920像素\\t\"2018-05-01 10:29:29\"\\t雷涛\\t1530X732669\\t51052XX99405303030\\t\"2018-04-28 19:28:12\"\\n',\n",
       " '中国电信\\t\"vivo X20\"\\tPD1709\\t7.1.1\\t\"51.34 GB\"\\tAndroid7.1.1\\t\"29.23 GB\"\\t02:00:00:00:00:00\\t10.175.165.105\\t0\\t0\\t866933038437559\\t56%\\t良好\\t非漫游\\t已连接\\t\"50.75 GB\"\\t1080*2160像素\\t\"2018-05-03 15:22:12\"\\t聂子钧\\t1894X270083\\t22028XX99404201117\\t\"2018-05-03 15:11:13\"\\n',\n",
       " '中国电信\\t\"vivo X20\"\\tPD1709\\t7.1.1\\t\"51.34 GB\"\\tAndroid7.1.1\\t\"29.23 GB\"\\t02:00:00:00:00:00\\t10.175.165.105\\t0\\t0\\t866933038437559\\t76%\\t良好\\t非漫游\\t已连接\\t\"50.75 GB\"\\t1080*2160像素\\t\"2018-05-03 15:59:20\"\\t聂子钧\\t1894X270083\\t22028XX99404201117\\t\"2018-05-03 15:11:13\"\\n',\n",
       " '中国电信\\t\"vivo X20\"\\tPD1709\\t7.1.1\\t\"51.34 GB\"\\tAndroid7.1.1\\t\"29.23 GB\"\\t02:00:00:00:00:00\\t10.175.165.105\\t0\\t0\\t866933038437559\\t76%\\t良好\\t非漫游\\t已连接\\t\"50.75 GB\"\\t1080*2160像素\\t\"2018-05-03 16:08:35\"\\t聂子钧\\t1894X270083\\t22028XX99404201117\\t\"2018-05-03 15:11:13\"\\n',\n",
       " '中国电信\\t\"vivo X20\"\\tPD1709\\t7.1.1\\t\"51.34 GB\"\\tAndroid7.1.1\\t\"29.18 GB\"\\t02:00:00:00:00:00\\t10.175.165.105\\t0\\t0\\t866933038437559\\t36%\\t良好\\t非漫游\\t已连接\\t\"50.75 GB\"\\t1080*2160像素\\t\"2018-05-04 00:57:37\"\\t聂子钧\\t1894X270083\\t22028XX99404201117\\t\"2018-05-03 15:11:13\"\\n',\n",
       " '中国电信\\t\"vivo X20\"\\tPD1709\\t7.1.1\\t\"51.34 GB\"\\tAndroid7.1.1\\t\"29.15 GB\"\\t02:00:00:00:00:00\\t10.145.95.237\\t0\\t0\\t866933038437559\\t50%\\t良好\\t非漫游\\t已连接\\t\"50.75 GB\"\\t1080*2160像素\\t\"2018-05-04 12:35:22\"\\t聂子钧\\t1894U270083\\t22028XX99404201117\\t\"2018-05-03 15:11:13\"\\n',\n",
       " '中国电信\\t\"vivo X20\"\\tPD1709\\t7.1.1\\t\"51.34 GB\"\\tAndroid7.1.1\\t\"28.94 GB\"\\t02:00:00:00:00:00\\t10.10.195.231\\t0\\t0\\t866933038437559\\t40%\\t良好\\t非漫游\\t已连接\\t\"50.75 GB\"\\t1080*2160像素\\t\"2018-05-05 12:55:39\"\\t聂子钧\\t1894X270083\\t22028XX99404201117\\t\"2018-05-03 15:11:13\"\\n',\n",
       " '中国电信\\t\"vivo X20\"\\tPD1709\\t7.1.1\\t\"51.34 GB\"\\tAndroid7.1.1\\t\"26.27 GB\"\\t02:00:00:00:00:00\\t10.92.188.223\\t0\\t0\\t866933038437559\\t71%\\t良好\\t非漫游\\t已连接\\t\"50.75 GB\"\\t1080*2160像素\\t\"2018-05-10 09:13:11\"\\t聂子钧\\t1894D270083\\t22028XX99404201117\\t\"2018-05-03 15:11:13\"\\n',\n",
       " '中国电信\\t\"vivo X20\"\\tPD1709\\t7.1.1\\t\"51.34 GB\"\\tAndroid7.1.1\\t\"25.94 GB\"\\t02:00:00:00:00:00\\t10.89.79.183\\t0\\t0\\t866933038437559\\t47%\\t良好\\t非漫游\\t已连接\\t\"50.75 GB\"\\t1080*2160像素\\t\"2018-05-11 18:49:42\"\\t聂子钧\\t1894F270083\\t22028XX99404201117\\t\"2018-05-03 15:11:13\"\\n',\n",
       " '中国移动\\t\"iPhone 7 Plus\"\\tiPhone\\t11.3.1\\t119.2GB\\tIOS\\t79.5GB\\t\\t223.104.95.87\\t0\\t0\\t23B348E8-C3F6-43BB-8772-44F9F951A13B\\t20.00%\\t\\t\\t\\t\\t414*736dp\\t\"2018-05-07 17:45:06\"\\t李寿琴\\t15186993130\\t5103XX199008018121\\t\"2018-05-04 09:26:21\"\\n',\n",
       " '中国电信\\t\"OPPO R9s Plus\"\\tR9sPlus\\t6.0.1\\t\"53.92 GB\"\\tAndroid6.0.1\\t\"18.36 GB\"\\t02:00:00:00:00:00\\t100.69.38.52\\t0\\t0\\tA0000061AEFCEE\\t40%\\t良好\\t非漫游\\t已连接\\t\"53.87 GB\"\\t1080*1920像素\\t\"2018-05-07 13:14:11\"\\t廖忠益\\t180F5414945\\t5227XX19991018121X\\t\"2018-05-07 10:21:02\"\\n',\n",
       " '中国电信\\tEML-AL00\\tHWEML\\t8.1.0\\t121GB\\tAndroid8.1.0\\t98.13GB\\t02:00:00:00:00:00\\t10.147.188.61\\t0\\t0\\t867130036049994\\t78%\\t良好\\t非漫游\\t已连接\\t121GB\\t1080*2244像素\\t\"2018-05-07 16:08:40\"\\t刘姗姗\\t1373F535959\\t6421XX197805010066\\t\"2018-05-07 15:46:06\"\\n',\n",
       " 'CMCC\\tBLA-AL00\\tHWBLA\\t8.0.0\\t\"56.61 GB\"\\tAndroid8.0.0\\t\"39.56 GB\"\\t02:00:00:00:00:00\\t192.168.1.5\\t0\\t0\\t868794032519778\\t74%\\t良好\\t非漫游\\t已连接\\t\"56.59 GB\"\\t1080*2040像素\\t\"2018-05-08 13:23:34\"\\t赖孝科\\t1838F441400\\t5101XX199308195018\\t\"2018-05-08 13:20:21\"\\n',\n",
       " '中国电信\\t\"HTC M8d\"\\thtc_m8dwg\\t6.0\\t\"10.43 GB\"\\tAndroid6.0\\t\"3.71 GB\"\\t02:00:00:00:00:00\\t192.168.108.164\\t1\\t0\\tA1000037D2410A\\t26%\\t良好\\t非漫游\\t已连接\\t\"10.43 GB\"\\t1080*1920像素\\t\"2018-05-11 12:31:46\"\\t王鹏\\t1818F921023\\t5111XX198605262911\\t\"2018-05-11 12:28:38\"\\n',\n",
       " '中国电信\\t\"OPPO A59s\"\\tA59\\t5.1\\t\"26.12 GB\"\\tAndroid5.1\\t\"5.49 GB\"\\t6c:5c:14:43:aa:6e\\t192.168.0.101\\t0\\t0\\t863438035348331\\t95%\\t良好\\t非漫游\\t已连接\\t\"26.07 GB\"\\t720*1280像素\\t\"2018-05-11 13:45:53\"\\t岳茂林\\t1394F564247\\t2309XX198506150713\\t\"2018-05-11 13:45:53\"\\n',\n",
       " '中国移动\\t\"iPhone 6 Plus\"\\tiPhone\\t10.3.1\\t14.9GB\\tIOS\\t591.0MB\\t\\t110.85.16.150\\t0\\t0\\t82FD6916-0D80-4E96-B524-59D69CFD2C32\\t65.00%\\t\\t\\t\\t\\t414*736dp\\t\"2018-05-12 19:57:41\"\\t杨孙超\\t1348F432560\\t3505XX198110207411\\t\"2018-05-12 19:53:40\"\\n',\n",
       " '中国移动\\t\"iPhone 6 Plus\"\\tiPhone\\t10.3.1\\t14.9GB\\tIOS\\t582.6MB\\t\\t110.85.16.150\\t0\\t0\\t82FD6916-0D80-4E96-B524-59D69CFD2C32\\t61.00%\\t\\t\\t\\t\\t414*736dp\\t\"2018-05-12 20:13:41\"\\t杨孙超\\t1348D432560\\t3505XX198110207411\\t\"2018-05-12 19:53:40\"\\n',\n",
       " '中国移动\\t\"iPhone 6 Plus\"\\tiPhone\\t10.3.1\\t14.9GB\\tIOS\\t577.8MB\\t\\t110.85.16.150\\t0\\t0\\t82FD6916-0D80-4E96-B524-59D69CFD2C32\\t58.00%\\t\\t\\t\\t\\t414*736dp\\t\"2018-05-12 20:25:44\"\\t杨孙超\\t1348E432560\\t3505XX198110207411\\t\"2018-05-12 19:53:40\"\\n',\n",
       " '中国移动\\t\"iPhone 7\"\\t张幼稚的iPhone\\t10.3.3\\t29.8GB\\tIOS\\t923.3MB\\t\\t175.167.128.155\\t0\\t0\\t7D3491F8-9B00-4021-9EC2-1F9C10E3AA7C\\t85.00%\\t\\t\\t\\t\\t375*667dp\\t\"2018-05-13 14:09:18\"\\t张继锋\\t1584XX66044\\t2108XX199702107032\\t\"2018-05-13 14:04:46\"\\n',\n",
       " '中国联通\\tiPhone9,3\\tiPhone\\t11.3\\t119.2GB\\tIOS\\t97.6GB\\t\\t39.181.143.220\\t0\\t0\\tD84A1CEF-7C29-4E19-8318-3B1B3353827D\\t20.00%\\t\\t\\t\\t\\t375*667dp\\t\"2018-05-13 18:07:02\"\\t蔡宏双\\t166XX373168\\t4210XX198809202437\\t\"2018-05-13 18:07:02\"\\n',\n",
       " 'CMCC\\tTRT-AL00A\\tHWTRT-Q\\t7.0\\t\"53.80 GB\"\\tAndroid7.0\\t\"34.80 GB\"\\t02:00:00:00:00:00\\t172.20.10.9\\t0\\t0\\t867537030235900\\t0%\\t良好\\t非漫游\\t已连接\\t\"53.78 GB\"\\t720*1208像素\\t\"2018-05-13 21:41:17\"\\t曾伍义\\t152XX527030\\t5224XX199506039118\\t\"2018-05-13 21:41:17\"\\n',\n",
       " '中国移动\\t\"iPhone 8 Plus\"\\t\"冠群的 iPhone\"\\t11.3.1\\t59.6GB\\tIOS\\t46.2GB\\t\\t117.136.91.93\\t0\\t0\\tC230F610-09C7-4A1D-8864-185357CA8D28\\t10.00%\\t\\t\\t\\t\\t414*736dp\\t\"2018-05-13 23:29:45\"\\t高新彭\\t1309XX12332\\t1427XX199211126412\\t\"2018-05-13 23:27:24\"\\n',\n",
       " '中国电信\\t\"iPhone 7\"\\tiPhone\\t10.3.2\\t29.8GB\\tIOS\\t8.0GB\\t\\t106.61.94.77\\t0\\t0\\t7A83A787-4E4D-4A51-9777-C977CBEB965D\\t16.00%\\t\\t\\t\\t\\t375*667dp\\t\"2018-05-14 00:47:08\"\\t苏永顺\\t1818XX45051\\t53262XX19980729053X\\t\"2018-05-14 00:44:46\"\\n',\n",
       " '中国联通\\t\"MI 6\"\\tsagit\\t8.0.0\\t\"55.43 GB\"\\tAndroid8.0.0\\t\"24.87 GB\"\\t02:00:00:00:00:00\\t192.168.0.103\\t0\\t0\\t866822034415844\\t51%\\t良好\\t非漫游\\t已连接\\t\"55.43 GB\"\\t1080*1920像素\\t\"2018-05-14 12:05:19\"\\t任良奔\\t157XX056474\\t3426XX19940306115X\\t\"2018-05-14 12:05:19\"']"
      ]
     },
     "execution_count": 23,
     "metadata": {},
     "output_type": "execute_result"
    }
   ],
   "source": [
    "f"
   ]
  },
  {
   "cell_type": "code",
   "execution_count": 24,
   "id": "7a492a92",
   "metadata": {
    "scrolled": true
   },
   "outputs": [
    {
     "data": {
      "text/plain": [
       "'运营商\\t设备型号\\t设备名称\\t系统版本\\t内存容量\\t操作系统\\t内存剩余容量\\tMAC地址\\tIP地址\\t是否root\\t是否使用模拟器\\t设备身份码\\t电池电量\\tsim卡状态(服务状态)\\tsim卡状态(漫游)\\tsim卡状态(移动网络状态)\\tsd卡容量\\t分辨率\\t抓取时间\\t客户姓名\\t客户手机号\\t客户身份证号\\t客户注册时间\\n'"
      ]
     },
     "execution_count": 24,
     "metadata": {},
     "output_type": "execute_result"
    }
   ],
   "source": [
    "f[0]"
   ]
  },
  {
   "cell_type": "code",
   "execution_count": 25,
   "id": "b2720e3c",
   "metadata": {},
   "outputs": [],
   "source": [
    "c = f[3]"
   ]
  },
  {
   "cell_type": "code",
   "execution_count": 26,
   "id": "e359c2e3",
   "metadata": {
    "scrolled": true
   },
   "outputs": [
    {
     "data": {
      "text/plain": [
       "'中国电信\\t\"vivo X9\"\\tPD1616\\t7.1.2\\t\"52.96 GB\"\\tAndroid7.1.2\\t\"29.28 GB\"\\t02:00:00:00:00:00\\t192.168.0.105\\t0\\t0\\t864161030857010\\t54%\\t良好\\t非漫游\\t已连接\\t\"52.37 GB\"\\t1080*1920像素\\t\"2018-04-26 15:22:01\"\\t韦晓平\\t1557X867751\\t45260XX98611161833\\t\"2018-04-24 13:47:03\"\\n'"
      ]
     },
     "execution_count": 26,
     "metadata": {},
     "output_type": "execute_result"
    }
   ],
   "source": [
    "c"
   ]
  },
  {
   "cell_type": "code",
   "execution_count": 34,
   "id": "1d887810",
   "metadata": {},
   "outputs": [],
   "source": [
    "# split - 分隔\n",
    "arr = c.split('\\t')"
   ]
  },
  {
   "cell_type": "code",
   "execution_count": 35,
   "id": "63e4ea73",
   "metadata": {
    "scrolled": true
   },
   "outputs": [
    {
     "data": {
      "text/plain": [
       "['中国电信',\n",
       " '\"vivo X9\"',\n",
       " 'PD1616',\n",
       " '7.1.2',\n",
       " '\"52.96 GB\"',\n",
       " 'Android7.1.2',\n",
       " '\"29.28 GB\"',\n",
       " '02:00:00:00:00:00',\n",
       " '192.168.0.105',\n",
       " '0',\n",
       " '0',\n",
       " '864161030857010',\n",
       " '54%',\n",
       " '良好',\n",
       " '非漫游',\n",
       " '已连接',\n",
       " '\"52.37 GB\"',\n",
       " '1080*1920像素',\n",
       " '\"2018-04-26 15:22:01\"',\n",
       " '韦晓平',\n",
       " '1557X867751',\n",
       " '45260XX98611161833',\n",
       " '\"2018-04-24 13:47:03\"\\n']"
      ]
     },
     "execution_count": 35,
     "metadata": {},
     "output_type": "execute_result"
    }
   ],
   "source": [
    "arr"
   ]
  },
  {
   "cell_type": "code",
   "execution_count": 36,
   "id": "b59383e7",
   "metadata": {},
   "outputs": [],
   "source": [
    "# strip(x,y) - 删除两边\n",
    "# rstrip - 删除右边\n",
    "# lstrip - 删除左边\n",
    "arr = np.char.rstrip(arr,'\\n')"
   ]
  },
  {
   "cell_type": "code",
   "execution_count": 37,
   "id": "4e33e829",
   "metadata": {},
   "outputs": [
    {
     "data": {
      "text/plain": [
       "array(['中国电信', '\"vivo X9\"', 'PD1616', '7.1.2', '\"52.96 GB\"',\n",
       "       'Android7.1.2', '\"29.28 GB\"', '02:00:00:00:00:00', '192.168.0.105',\n",
       "       '0', '0', '864161030857010', '54%', '良好', '非漫游', '已连接',\n",
       "       '\"52.37 GB\"', '1080*1920像素', '\"2018-04-26 15:22:01\"', '韦晓平',\n",
       "       '1557X867751', '45260XX98611161833', '\"2018-04-24 13:47:03\"'],\n",
       "      dtype='<U22')"
      ]
     },
     "execution_count": 37,
     "metadata": {},
     "output_type": "execute_result"
    }
   ],
   "source": [
    "arr"
   ]
  },
  {
   "cell_type": "code",
   "execution_count": 38,
   "id": "679e1724",
   "metadata": {},
   "outputs": [],
   "source": [
    "arr = np.char.replace(arr,'\"',' ')"
   ]
  },
  {
   "cell_type": "code",
   "execution_count": 39,
   "id": "c7d4828b",
   "metadata": {},
   "outputs": [
    {
     "data": {
      "text/plain": [
       "array(['中国电信', ' vivo X9 ', 'PD1616', '7.1.2', ' 52.96 GB ',\n",
       "       'Android7.1.2', ' 29.28 GB ', '02:00:00:00:00:00', '192.168.0.105',\n",
       "       '0', '0', '864161030857010', '54%', '良好', '非漫游', '已连接',\n",
       "       ' 52.37 GB ', '1080*1920像素', ' 2018-04-26 15:22:01 ', '韦晓平',\n",
       "       '1557X867751', '45260XX98611161833', ' 2018-04-24 13:47:03 '],\n",
       "      dtype='<U21')"
      ]
     },
     "execution_count": 39,
     "metadata": {},
     "output_type": "execute_result"
    }
   ],
   "source": [
    "arr"
   ]
  },
  {
   "cell_type": "code",
   "execution_count": 40,
   "id": "521ec98d",
   "metadata": {},
   "outputs": [
    {
     "data": {
      "text/plain": [
       "array([-1, -1, -1, -1,  7, -1,  7, -1, -1, -1, -1, -1, -1, -1, -1, -1,  7,\n",
       "       -1, -1, -1, -1, -1, -1])"
      ]
     },
     "execution_count": 40,
     "metadata": {},
     "output_type": "execute_result"
    }
   ],
   "source": [
    "# char.find - 字符串匹配\n",
    "np.char.find(arr,'GB')"
   ]
  },
  {
   "cell_type": "code",
   "execution_count": 41,
   "id": "922d897f",
   "metadata": {},
   "outputs": [
    {
     "data": {
      "text/plain": [
       "'G'"
      ]
     },
     "execution_count": 41,
     "metadata": {},
     "output_type": "execute_result"
    }
   ],
   "source": [
    "arr[4][7]"
   ]
  },
  {
   "cell_type": "code",
   "execution_count": 42,
   "id": "5e354b5f",
   "metadata": {},
   "outputs": [
    {
     "data": {
      "text/plain": [
       "'B'"
      ]
     },
     "execution_count": 42,
     "metadata": {},
     "output_type": "execute_result"
    }
   ],
   "source": [
    "arr[6][8]"
   ]
  },
  {
   "cell_type": "code",
   "execution_count": 43,
   "id": "9ef6fd68",
   "metadata": {},
   "outputs": [
    {
     "data": {
      "text/plain": [
       "'G'"
      ]
     },
     "execution_count": 43,
     "metadata": {},
     "output_type": "execute_result"
    }
   ],
   "source": [
    "arr[-7][7]"
   ]
  },
  {
   "cell_type": "code",
   "execution_count": 44,
   "id": "caf65303",
   "metadata": {},
   "outputs": [
    {
     "data": {
      "text/plain": [
       "array([False, False, False, False, False, False, False, False, False,\n",
       "       False, False, False, False, False, False, False, False, False,\n",
       "       False, False, False, False, False])"
      ]
     },
     "execution_count": 44,
     "metadata": {},
     "output_type": "execute_result"
    }
   ],
   "source": [
    "# char.islower() - 判断是否全是小写\n",
    "np.char.islower(arr)"
   ]
  },
  {
   "cell_type": "code",
   "execution_count": 45,
   "id": "314f5492",
   "metadata": {
    "scrolled": false
   },
   "outputs": [
    {
     "data": {
      "text/plain": [
       "array([False, False, False, False, False, False, False, False, False,\n",
       "        True,  True,  True, False, False, False, False, False, False,\n",
       "       False, False, False, False, False])"
      ]
     },
     "execution_count": 45,
     "metadata": {},
     "output_type": "execute_result"
    }
   ],
   "source": [
    "# char.isdigit() - 是否只包含数字\n",
    "np.char.isdigit(arr)"
   ]
  },
  {
   "cell_type": "code",
   "execution_count": 49,
   "id": "94d0fc8a",
   "metadata": {},
   "outputs": [
    {
     "data": {
      "text/plain": [
       "'864161030857010'"
      ]
     },
     "execution_count": 49,
     "metadata": {},
     "output_type": "execute_result"
    }
   ],
   "source": [
    "arr[11]"
   ]
  },
  {
   "cell_type": "code",
   "execution_count": 47,
   "id": "f1efdf41",
   "metadata": {
    "scrolled": true
   },
   "outputs": [
    {
     "data": {
      "text/plain": [
       "array(['中国电信', ' vivo X9 ', 'PD1616', '7.1.2', ' 52.96 GB ',\n",
       "       'Android7.1.2', ' 29.28 GB ', '02:00:00:00:00:00', '192.168.0.105',\n",
       "       '0', '0', '864161030857010', '54%', '良好', '非漫游', '已连接',\n",
       "       ' 52.37 GB ', '1080*1920像素', ' 2018-04-26 15:22:01 ', '韦晓平',\n",
       "       '1557X867751', '45260XX98611161833', ' 2018-04-24 13:47:03 '],\n",
       "      dtype='<U21')"
      ]
     },
     "execution_count": 47,
     "metadata": {},
     "output_type": "execute_result"
    }
   ],
   "source": [
    "arr"
   ]
  },
  {
   "cell_type": "code",
   "execution_count": 46,
   "id": "1b059a7c",
   "metadata": {},
   "outputs": [
    {
     "data": {
      "text/plain": [
       "array([ True, False, False, False, False, False, False, False, False,\n",
       "       False, False, False, False,  True,  True,  True, False, False,\n",
       "       False,  True, False, False, False])"
      ]
     },
     "execution_count": 46,
     "metadata": {},
     "output_type": "execute_result"
    }
   ],
   "source": [
    "# char.isalpha() - 是否只包含字母\n",
    "np.char.isalpha(arr)"
   ]
  },
  {
   "cell_type": "code",
   "execution_count": 48,
   "id": "f78cb3f8",
   "metadata": {},
   "outputs": [
    {
     "data": {
      "text/plain": [
       "'中国电信'"
      ]
     },
     "execution_count": 48,
     "metadata": {},
     "output_type": "execute_result"
    }
   ],
   "source": [
    "arr[0]"
   ]
  },
  {
   "cell_type": "code",
   "execution_count": 50,
   "id": "adfaa247",
   "metadata": {},
   "outputs": [
    {
     "data": {
      "text/plain": [
       "array([0, 0, 2, 1, 0, 1, 0, 0, 3, 0, 0, 3, 0, 0, 0, 0, 0, 2, 3, 0, 2, 4,\n",
       "       2])"
      ]
     },
     "execution_count": 50,
     "metadata": {},
     "output_type": "execute_result"
    }
   ],
   "source": [
    "# char.count() - 计算字符串出现次数\n",
    "np.char.count(arr,'1')"
   ]
  },
  {
   "cell_type": "code",
   "execution_count": 51,
   "id": "5ca8cc55",
   "metadata": {},
   "outputs": [
    {
     "data": {
      "text/plain": [
       "'PD1616'"
      ]
     },
     "execution_count": 51,
     "metadata": {},
     "output_type": "execute_result"
    }
   ],
   "source": [
    "arr[2]"
   ]
  },
  {
   "cell_type": "code",
   "execution_count": 52,
   "id": "385322b8",
   "metadata": {},
   "outputs": [
    {
     "data": {
      "text/plain": [
       "array([False, False, False, False, False, False, False, False,  True,\n",
       "       False, False, False, False, False, False, False, False,  True,\n",
       "       False, False,  True, False, False])"
      ]
     },
     "execution_count": 52,
     "metadata": {},
     "output_type": "execute_result"
    }
   ],
   "source": [
    "# char.startswith() - 判断是否以某字符串开头\n",
    "np.char.startswith(arr,'1')"
   ]
  },
  {
   "cell_type": "code",
   "execution_count": 53,
   "id": "58f8ecc3",
   "metadata": {},
   "outputs": [
    {
     "data": {
      "text/plain": [
       "'192.168.0.105'"
      ]
     },
     "execution_count": 53,
     "metadata": {},
     "output_type": "execute_result"
    }
   ],
   "source": [
    "arr[8]"
   ]
  },
  {
   "cell_type": "code",
   "execution_count": 54,
   "id": "3be98f6b",
   "metadata": {},
   "outputs": [
    {
     "data": {
      "text/plain": [
       "array([False, False, False, False, False, False, False, False, False,\n",
       "       False, False, False, False, False, False, False, False, False,\n",
       "       False, False,  True, False, False])"
      ]
     },
     "execution_count": 54,
     "metadata": {},
     "output_type": "execute_result"
    }
   ],
   "source": [
    "# char.endswith() - 判断是否以某字符串结尾\n",
    "np.char.endswith(arr,'1')"
   ]
  },
  {
   "cell_type": "code",
   "execution_count": 55,
   "id": "cf2a4079",
   "metadata": {},
   "outputs": [
    {
     "data": {
      "text/plain": [
       "'1557X867751'"
      ]
     },
     "execution_count": 55,
     "metadata": {},
     "output_type": "execute_result"
    }
   ],
   "source": [
    "arr[-3]"
   ]
  }
 ],
 "metadata": {
  "kernelspec": {
   "display_name": "Python 3 (ipykernel)",
   "language": "python",
   "name": "python3"
  },
  "language_info": {
   "codemirror_mode": {
    "name": "ipython",
    "version": 3
   },
   "file_extension": ".py",
   "mimetype": "text/x-python",
   "name": "python",
   "nbconvert_exporter": "python",
   "pygments_lexer": "ipython3",
   "version": "3.9.7"
  }
 },
 "nbformat": 4,
 "nbformat_minor": 5
}
