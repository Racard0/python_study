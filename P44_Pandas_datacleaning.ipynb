{
 "cells": [
  {
   "cell_type": "markdown",
   "id": "c969cca4",
   "metadata": {},
   "source": [
    "# P44 数据清洗\n",
    "# 重复值处理"
   ]
  },
  {
   "cell_type": "code",
   "execution_count": 1,
   "id": "ad85d1df",
   "metadata": {},
   "outputs": [],
   "source": [
    "import numpy as np\n",
    "import pandas as pd\n",
    "import os\n",
    "os.chdir('E:\\云开见明\\云开见明Python数据分析师课程数据（仅与云开见明Python数据分析师配套）\\第三章')"
   ]
  },
  {
   "cell_type": "code",
   "execution_count": 2,
   "id": "33292d06",
   "metadata": {},
   "outputs": [],
   "source": [
    "df = pd.read_excel('data_test04.xlsx')"
   ]
  },
  {
   "cell_type": "code",
   "execution_count": 3,
   "id": "f100b737",
   "metadata": {},
   "outputs": [
    {
     "data": {
      "text/html": [
       "<div>\n",
       "<style scoped>\n",
       "    .dataframe tbody tr th:only-of-type {\n",
       "        vertical-align: middle;\n",
       "    }\n",
       "\n",
       "    .dataframe tbody tr th {\n",
       "        vertical-align: top;\n",
       "    }\n",
       "\n",
       "    .dataframe thead th {\n",
       "        text-align: right;\n",
       "    }\n",
       "</style>\n",
       "<table border=\"1\" class=\"dataframe\">\n",
       "  <thead>\n",
       "    <tr style=\"text-align: right;\">\n",
       "      <th></th>\n",
       "      <th>appcategory</th>\n",
       "      <th>appname</th>\n",
       "      <th>comments</th>\n",
       "      <th>install</th>\n",
       "      <th>love</th>\n",
       "      <th>size</th>\n",
       "      <th>update</th>\n",
       "    </tr>\n",
       "  </thead>\n",
       "  <tbody>\n",
       "    <tr>\n",
       "      <th>0</th>\n",
       "      <td>网上购物-商城-团购-优惠-快递</td>\n",
       "      <td>每日优鲜</td>\n",
       "      <td>1297</td>\n",
       "      <td>204.7万</td>\n",
       "      <td>89.00%</td>\n",
       "      <td>15.16MB</td>\n",
       "      <td>2017年10月11日</td>\n",
       "    </tr>\n",
       "    <tr>\n",
       "      <th>1</th>\n",
       "      <td>网上购物-商城</td>\n",
       "      <td>苏宁易购</td>\n",
       "      <td>577</td>\n",
       "      <td>7996.8万</td>\n",
       "      <td>73.00%</td>\n",
       "      <td>58.9MB</td>\n",
       "      <td>2017年09月21日</td>\n",
       "    </tr>\n",
       "    <tr>\n",
       "      <th>2</th>\n",
       "      <td>网上购物-商城-优惠</td>\n",
       "      <td>唯品会</td>\n",
       "      <td>2543</td>\n",
       "      <td>7090.1万</td>\n",
       "      <td>86.00%</td>\n",
       "      <td>41.43MB</td>\n",
       "      <td>2017年10月13日</td>\n",
       "    </tr>\n",
       "    <tr>\n",
       "      <th>3</th>\n",
       "      <td>网上购物-商城-优惠</td>\n",
       "      <td>唯品会</td>\n",
       "      <td>2543</td>\n",
       "      <td>7090.1万</td>\n",
       "      <td>86.00%</td>\n",
       "      <td>41.43MB</td>\n",
       "      <td>2017年10月13日</td>\n",
       "    </tr>\n",
       "    <tr>\n",
       "      <th>4</th>\n",
       "      <td>网上购物-商城</td>\n",
       "      <td>拼多多</td>\n",
       "      <td>1921</td>\n",
       "      <td>3841.9万</td>\n",
       "      <td>95.00%</td>\n",
       "      <td>13.35MB</td>\n",
       "      <td>2017年10月11日</td>\n",
       "    </tr>\n",
       "    <tr>\n",
       "      <th>5</th>\n",
       "      <td>网上购物-商城-优惠</td>\n",
       "      <td>寺库奢侈品</td>\n",
       "      <td>1964</td>\n",
       "      <td>175.4万</td>\n",
       "      <td>100.00%</td>\n",
       "      <td>17.21MB</td>\n",
       "      <td>2017年09月30日</td>\n",
       "    </tr>\n",
       "    <tr>\n",
       "      <th>6</th>\n",
       "      <td>网上购物-商城</td>\n",
       "      <td>淘宝</td>\n",
       "      <td>14244</td>\n",
       "      <td>4.6亿</td>\n",
       "      <td>68.00%</td>\n",
       "      <td>73.78MB</td>\n",
       "      <td>2017年10月13日</td>\n",
       "    </tr>\n",
       "    <tr>\n",
       "      <th>7</th>\n",
       "      <td>网上购物-商城-团购-优惠</td>\n",
       "      <td>当当</td>\n",
       "      <td>134</td>\n",
       "      <td>1615.3万</td>\n",
       "      <td>61.00%</td>\n",
       "      <td>37.01MB</td>\n",
       "      <td>2017年10月17日</td>\n",
       "    </tr>\n",
       "    <tr>\n",
       "      <th>8</th>\n",
       "      <td>网上购物-商城-团购-优惠</td>\n",
       "      <td>当当</td>\n",
       "      <td>134</td>\n",
       "      <td>1615.3万</td>\n",
       "      <td>61.00%</td>\n",
       "      <td>37.01MB</td>\n",
       "      <td>2017年10月17日</td>\n",
       "    </tr>\n",
       "    <tr>\n",
       "      <th>9</th>\n",
       "      <td>网上购物-商城-团购-优惠</td>\n",
       "      <td>当当</td>\n",
       "      <td>134</td>\n",
       "      <td>1615.3万</td>\n",
       "      <td>61.00%</td>\n",
       "      <td>37.01MB</td>\n",
       "      <td>2017年10月17日</td>\n",
       "    </tr>\n",
       "  </tbody>\n",
       "</table>\n",
       "</div>"
      ],
      "text/plain": [
       "        appcategory appname  comments  install     love     size       update\n",
       "0  网上购物-商城-团购-优惠-快递    每日优鲜      1297   204.7万   89.00%  15.16MB  2017年10月11日\n",
       "1           网上购物-商城    苏宁易购       577  7996.8万   73.00%   58.9MB  2017年09月21日\n",
       "2        网上购物-商城-优惠     唯品会      2543  7090.1万   86.00%  41.43MB  2017年10月13日\n",
       "3        网上购物-商城-优惠     唯品会      2543  7090.1万   86.00%  41.43MB  2017年10月13日\n",
       "4           网上购物-商城     拼多多      1921  3841.9万   95.00%  13.35MB  2017年10月11日\n",
       "5        网上购物-商城-优惠   寺库奢侈品      1964   175.4万  100.00%  17.21MB  2017年09月30日\n",
       "6           网上购物-商城      淘宝     14244     4.6亿   68.00%  73.78MB  2017年10月13日\n",
       "7     网上购物-商城-团购-优惠      当当       134  1615.3万   61.00%  37.01MB  2017年10月17日\n",
       "8     网上购物-商城-团购-优惠      当当       134  1615.3万   61.00%  37.01MB  2017年10月17日\n",
       "9     网上购物-商城-团购-优惠      当当       134  1615.3万   61.00%  37.01MB  2017年10月17日"
      ]
     },
     "execution_count": 3,
     "metadata": {},
     "output_type": "execute_result"
    }
   ],
   "source": [
    "df"
   ]
  },
  {
   "cell_type": "code",
   "execution_count": 4,
   "id": "afb2edf2",
   "metadata": {},
   "outputs": [
    {
     "data": {
      "text/html": [
       "<div>\n",
       "<style scoped>\n",
       "    .dataframe tbody tr th:only-of-type {\n",
       "        vertical-align: middle;\n",
       "    }\n",
       "\n",
       "    .dataframe tbody tr th {\n",
       "        vertical-align: top;\n",
       "    }\n",
       "\n",
       "    .dataframe thead th {\n",
       "        text-align: right;\n",
       "    }\n",
       "</style>\n",
       "<table border=\"1\" class=\"dataframe\">\n",
       "  <thead>\n",
       "    <tr style=\"text-align: right;\">\n",
       "      <th></th>\n",
       "      <th>appcategory</th>\n",
       "      <th>appname</th>\n",
       "      <th>comments</th>\n",
       "      <th>install</th>\n",
       "      <th>love</th>\n",
       "      <th>size</th>\n",
       "      <th>update</th>\n",
       "    </tr>\n",
       "  </thead>\n",
       "  <tbody>\n",
       "    <tr>\n",
       "      <th>3</th>\n",
       "      <td>网上购物-商城-优惠</td>\n",
       "      <td>唯品会</td>\n",
       "      <td>2543</td>\n",
       "      <td>7090.1万</td>\n",
       "      <td>86.00%</td>\n",
       "      <td>41.43MB</td>\n",
       "      <td>2017年10月13日</td>\n",
       "    </tr>\n",
       "    <tr>\n",
       "      <th>8</th>\n",
       "      <td>网上购物-商城-团购-优惠</td>\n",
       "      <td>当当</td>\n",
       "      <td>134</td>\n",
       "      <td>1615.3万</td>\n",
       "      <td>61.00%</td>\n",
       "      <td>37.01MB</td>\n",
       "      <td>2017年10月17日</td>\n",
       "    </tr>\n",
       "    <tr>\n",
       "      <th>9</th>\n",
       "      <td>网上购物-商城-团购-优惠</td>\n",
       "      <td>当当</td>\n",
       "      <td>134</td>\n",
       "      <td>1615.3万</td>\n",
       "      <td>61.00%</td>\n",
       "      <td>37.01MB</td>\n",
       "      <td>2017年10月17日</td>\n",
       "    </tr>\n",
       "  </tbody>\n",
       "</table>\n",
       "</div>"
      ],
      "text/plain": [
       "     appcategory appname  comments  install    love     size       update\n",
       "3     网上购物-商城-优惠     唯品会      2543  7090.1万  86.00%  41.43MB  2017年10月13日\n",
       "8  网上购物-商城-团购-优惠      当当       134  1615.3万  61.00%  37.01MB  2017年10月17日\n",
       "9  网上购物-商城-团购-优惠      当当       134  1615.3万  61.00%  37.01MB  2017年10月17日"
      ]
     },
     "execution_count": 4,
     "metadata": {},
     "output_type": "execute_result"
    }
   ],
   "source": [
    "# duplicated - 重复\n",
    "# 判断重复\n",
    "df[df.duplicated()]"
   ]
  },
  {
   "cell_type": "code",
   "execution_count": 5,
   "id": "091012ff",
   "metadata": {},
   "outputs": [
    {
     "data": {
      "text/plain": [
       "0    False\n",
       "1    False\n",
       "2     True\n",
       "3    False\n",
       "4    False\n",
       "5    False\n",
       "6    False\n",
       "7     True\n",
       "8     True\n",
       "9    False\n",
       "dtype: bool"
      ]
     },
     "execution_count": 5,
     "metadata": {},
     "output_type": "execute_result"
    }
   ],
   "source": [
    "# 根据变量判断财富值\n",
    "# keep() - 保留第几个，first，last，默认first\n",
    "df.duplicated(['appname','comments'],keep='last')"
   ]
  },
  {
   "cell_type": "code",
   "execution_count": 6,
   "id": "780796f3",
   "metadata": {},
   "outputs": [
    {
     "data": {
      "text/plain": [
       "3"
      ]
     },
     "execution_count": 6,
     "metadata": {},
     "output_type": "execute_result"
    }
   ],
   "source": [
    "np.sum(df.duplicated())"
   ]
  },
  {
   "cell_type": "code",
   "execution_count": 7,
   "id": "b3cb071b",
   "metadata": {},
   "outputs": [
    {
     "data": {
      "text/html": [
       "<div>\n",
       "<style scoped>\n",
       "    .dataframe tbody tr th:only-of-type {\n",
       "        vertical-align: middle;\n",
       "    }\n",
       "\n",
       "    .dataframe tbody tr th {\n",
       "        vertical-align: top;\n",
       "    }\n",
       "\n",
       "    .dataframe thead th {\n",
       "        text-align: right;\n",
       "    }\n",
       "</style>\n",
       "<table border=\"1\" class=\"dataframe\">\n",
       "  <thead>\n",
       "    <tr style=\"text-align: right;\">\n",
       "      <th></th>\n",
       "      <th>appcategory</th>\n",
       "      <th>appname</th>\n",
       "      <th>comments</th>\n",
       "      <th>install</th>\n",
       "      <th>love</th>\n",
       "      <th>size</th>\n",
       "      <th>update</th>\n",
       "    </tr>\n",
       "  </thead>\n",
       "  <tbody>\n",
       "    <tr>\n",
       "      <th>0</th>\n",
       "      <td>网上购物-商城-团购-优惠-快递</td>\n",
       "      <td>每日优鲜</td>\n",
       "      <td>1297</td>\n",
       "      <td>204.7万</td>\n",
       "      <td>89.00%</td>\n",
       "      <td>15.16MB</td>\n",
       "      <td>2017年10月11日</td>\n",
       "    </tr>\n",
       "    <tr>\n",
       "      <th>1</th>\n",
       "      <td>网上购物-商城</td>\n",
       "      <td>苏宁易购</td>\n",
       "      <td>577</td>\n",
       "      <td>7996.8万</td>\n",
       "      <td>73.00%</td>\n",
       "      <td>58.9MB</td>\n",
       "      <td>2017年09月21日</td>\n",
       "    </tr>\n",
       "    <tr>\n",
       "      <th>2</th>\n",
       "      <td>网上购物-商城-优惠</td>\n",
       "      <td>唯品会</td>\n",
       "      <td>2543</td>\n",
       "      <td>7090.1万</td>\n",
       "      <td>86.00%</td>\n",
       "      <td>41.43MB</td>\n",
       "      <td>2017年10月13日</td>\n",
       "    </tr>\n",
       "    <tr>\n",
       "      <th>4</th>\n",
       "      <td>网上购物-商城</td>\n",
       "      <td>拼多多</td>\n",
       "      <td>1921</td>\n",
       "      <td>3841.9万</td>\n",
       "      <td>95.00%</td>\n",
       "      <td>13.35MB</td>\n",
       "      <td>2017年10月11日</td>\n",
       "    </tr>\n",
       "    <tr>\n",
       "      <th>5</th>\n",
       "      <td>网上购物-商城-优惠</td>\n",
       "      <td>寺库奢侈品</td>\n",
       "      <td>1964</td>\n",
       "      <td>175.4万</td>\n",
       "      <td>100.00%</td>\n",
       "      <td>17.21MB</td>\n",
       "      <td>2017年09月30日</td>\n",
       "    </tr>\n",
       "    <tr>\n",
       "      <th>6</th>\n",
       "      <td>网上购物-商城</td>\n",
       "      <td>淘宝</td>\n",
       "      <td>14244</td>\n",
       "      <td>4.6亿</td>\n",
       "      <td>68.00%</td>\n",
       "      <td>73.78MB</td>\n",
       "      <td>2017年10月13日</td>\n",
       "    </tr>\n",
       "    <tr>\n",
       "      <th>7</th>\n",
       "      <td>网上购物-商城-团购-优惠</td>\n",
       "      <td>当当</td>\n",
       "      <td>134</td>\n",
       "      <td>1615.3万</td>\n",
       "      <td>61.00%</td>\n",
       "      <td>37.01MB</td>\n",
       "      <td>2017年10月17日</td>\n",
       "    </tr>\n",
       "  </tbody>\n",
       "</table>\n",
       "</div>"
      ],
      "text/plain": [
       "        appcategory appname  comments  install     love     size       update\n",
       "0  网上购物-商城-团购-优惠-快递    每日优鲜      1297   204.7万   89.00%  15.16MB  2017年10月11日\n",
       "1           网上购物-商城    苏宁易购       577  7996.8万   73.00%   58.9MB  2017年09月21日\n",
       "2        网上购物-商城-优惠     唯品会      2543  7090.1万   86.00%  41.43MB  2017年10月13日\n",
       "4           网上购物-商城     拼多多      1921  3841.9万   95.00%  13.35MB  2017年10月11日\n",
       "5        网上购物-商城-优惠   寺库奢侈品      1964   175.4万  100.00%  17.21MB  2017年09月30日\n",
       "6           网上购物-商城      淘宝     14244     4.6亿   68.00%  73.78MB  2017年10月13日\n",
       "7     网上购物-商城-团购-优惠      当当       134  1615.3万   61.00%  37.01MB  2017年10月17日"
      ]
     },
     "execution_count": 7,
     "metadata": {},
     "output_type": "execute_result"
    }
   ],
   "source": [
    "# 删除,视图上\n",
    "df.drop_duplicates()"
   ]
  },
  {
   "cell_type": "code",
   "execution_count": 8,
   "id": "827eaaf1",
   "metadata": {},
   "outputs": [
    {
     "data": {
      "text/html": [
       "<div>\n",
       "<style scoped>\n",
       "    .dataframe tbody tr th:only-of-type {\n",
       "        vertical-align: middle;\n",
       "    }\n",
       "\n",
       "    .dataframe tbody tr th {\n",
       "        vertical-align: top;\n",
       "    }\n",
       "\n",
       "    .dataframe thead th {\n",
       "        text-align: right;\n",
       "    }\n",
       "</style>\n",
       "<table border=\"1\" class=\"dataframe\">\n",
       "  <thead>\n",
       "    <tr style=\"text-align: right;\">\n",
       "      <th></th>\n",
       "      <th>appcategory</th>\n",
       "      <th>appname</th>\n",
       "      <th>comments</th>\n",
       "      <th>install</th>\n",
       "      <th>love</th>\n",
       "      <th>size</th>\n",
       "      <th>update</th>\n",
       "    </tr>\n",
       "  </thead>\n",
       "  <tbody>\n",
       "    <tr>\n",
       "      <th>0</th>\n",
       "      <td>网上购物-商城-团购-优惠-快递</td>\n",
       "      <td>每日优鲜</td>\n",
       "      <td>1297</td>\n",
       "      <td>204.7万</td>\n",
       "      <td>89.00%</td>\n",
       "      <td>15.16MB</td>\n",
       "      <td>2017年10月11日</td>\n",
       "    </tr>\n",
       "    <tr>\n",
       "      <th>1</th>\n",
       "      <td>网上购物-商城</td>\n",
       "      <td>苏宁易购</td>\n",
       "      <td>577</td>\n",
       "      <td>7996.8万</td>\n",
       "      <td>73.00%</td>\n",
       "      <td>58.9MB</td>\n",
       "      <td>2017年09月21日</td>\n",
       "    </tr>\n",
       "    <tr>\n",
       "      <th>2</th>\n",
       "      <td>网上购物-商城-优惠</td>\n",
       "      <td>唯品会</td>\n",
       "      <td>2543</td>\n",
       "      <td>7090.1万</td>\n",
       "      <td>86.00%</td>\n",
       "      <td>41.43MB</td>\n",
       "      <td>2017年10月13日</td>\n",
       "    </tr>\n",
       "    <tr>\n",
       "      <th>4</th>\n",
       "      <td>网上购物-商城</td>\n",
       "      <td>拼多多</td>\n",
       "      <td>1921</td>\n",
       "      <td>3841.9万</td>\n",
       "      <td>95.00%</td>\n",
       "      <td>13.35MB</td>\n",
       "      <td>2017年10月11日</td>\n",
       "    </tr>\n",
       "    <tr>\n",
       "      <th>5</th>\n",
       "      <td>网上购物-商城-优惠</td>\n",
       "      <td>寺库奢侈品</td>\n",
       "      <td>1964</td>\n",
       "      <td>175.4万</td>\n",
       "      <td>100.00%</td>\n",
       "      <td>17.21MB</td>\n",
       "      <td>2017年09月30日</td>\n",
       "    </tr>\n",
       "    <tr>\n",
       "      <th>6</th>\n",
       "      <td>网上购物-商城</td>\n",
       "      <td>淘宝</td>\n",
       "      <td>14244</td>\n",
       "      <td>4.6亿</td>\n",
       "      <td>68.00%</td>\n",
       "      <td>73.78MB</td>\n",
       "      <td>2017年10月13日</td>\n",
       "    </tr>\n",
       "    <tr>\n",
       "      <th>7</th>\n",
       "      <td>网上购物-商城-团购-优惠</td>\n",
       "      <td>当当</td>\n",
       "      <td>134</td>\n",
       "      <td>1615.3万</td>\n",
       "      <td>61.00%</td>\n",
       "      <td>37.01MB</td>\n",
       "      <td>2017年10月17日</td>\n",
       "    </tr>\n",
       "  </tbody>\n",
       "</table>\n",
       "</div>"
      ],
      "text/plain": [
       "        appcategory appname  comments  install     love     size       update\n",
       "0  网上购物-商城-团购-优惠-快递    每日优鲜      1297   204.7万   89.00%  15.16MB  2017年10月11日\n",
       "1           网上购物-商城    苏宁易购       577  7996.8万   73.00%   58.9MB  2017年09月21日\n",
       "2        网上购物-商城-优惠     唯品会      2543  7090.1万   86.00%  41.43MB  2017年10月13日\n",
       "4           网上购物-商城     拼多多      1921  3841.9万   95.00%  13.35MB  2017年10月11日\n",
       "5        网上购物-商城-优惠   寺库奢侈品      1964   175.4万  100.00%  17.21MB  2017年09月30日\n",
       "6           网上购物-商城      淘宝     14244     4.6亿   68.00%  73.78MB  2017年10月13日\n",
       "7     网上购物-商城-团购-优惠      当当       134  1615.3万   61.00%  37.01MB  2017年10月17日"
      ]
     },
     "execution_count": 8,
     "metadata": {},
     "output_type": "execute_result"
    }
   ],
   "source": [
    "df.drop_duplicates(['appname','comments'])"
   ]
  },
  {
   "cell_type": "code",
   "execution_count": 9,
   "id": "25c0d950",
   "metadata": {},
   "outputs": [
    {
     "data": {
      "text/html": [
       "<div>\n",
       "<style scoped>\n",
       "    .dataframe tbody tr th:only-of-type {\n",
       "        vertical-align: middle;\n",
       "    }\n",
       "\n",
       "    .dataframe tbody tr th {\n",
       "        vertical-align: top;\n",
       "    }\n",
       "\n",
       "    .dataframe thead th {\n",
       "        text-align: right;\n",
       "    }\n",
       "</style>\n",
       "<table border=\"1\" class=\"dataframe\">\n",
       "  <thead>\n",
       "    <tr style=\"text-align: right;\">\n",
       "      <th></th>\n",
       "      <th>appcategory</th>\n",
       "      <th>appname</th>\n",
       "      <th>comments</th>\n",
       "      <th>install</th>\n",
       "      <th>love</th>\n",
       "      <th>size</th>\n",
       "      <th>update</th>\n",
       "    </tr>\n",
       "  </thead>\n",
       "  <tbody>\n",
       "    <tr>\n",
       "      <th>0</th>\n",
       "      <td>网上购物-商城-团购-优惠-快递</td>\n",
       "      <td>每日优鲜</td>\n",
       "      <td>1297</td>\n",
       "      <td>204.7万</td>\n",
       "      <td>89.00%</td>\n",
       "      <td>15.16MB</td>\n",
       "      <td>2017年10月11日</td>\n",
       "    </tr>\n",
       "    <tr>\n",
       "      <th>1</th>\n",
       "      <td>网上购物-商城</td>\n",
       "      <td>苏宁易购</td>\n",
       "      <td>577</td>\n",
       "      <td>7996.8万</td>\n",
       "      <td>73.00%</td>\n",
       "      <td>58.9MB</td>\n",
       "      <td>2017年09月21日</td>\n",
       "    </tr>\n",
       "    <tr>\n",
       "      <th>2</th>\n",
       "      <td>网上购物-商城-优惠</td>\n",
       "      <td>唯品会</td>\n",
       "      <td>2543</td>\n",
       "      <td>7090.1万</td>\n",
       "      <td>86.00%</td>\n",
       "      <td>41.43MB</td>\n",
       "      <td>2017年10月13日</td>\n",
       "    </tr>\n",
       "    <tr>\n",
       "      <th>3</th>\n",
       "      <td>网上购物-商城-优惠</td>\n",
       "      <td>唯品会</td>\n",
       "      <td>2543</td>\n",
       "      <td>7090.1万</td>\n",
       "      <td>86.00%</td>\n",
       "      <td>41.43MB</td>\n",
       "      <td>2017年10月13日</td>\n",
       "    </tr>\n",
       "    <tr>\n",
       "      <th>4</th>\n",
       "      <td>网上购物-商城</td>\n",
       "      <td>拼多多</td>\n",
       "      <td>1921</td>\n",
       "      <td>3841.9万</td>\n",
       "      <td>95.00%</td>\n",
       "      <td>13.35MB</td>\n",
       "      <td>2017年10月11日</td>\n",
       "    </tr>\n",
       "    <tr>\n",
       "      <th>5</th>\n",
       "      <td>网上购物-商城-优惠</td>\n",
       "      <td>寺库奢侈品</td>\n",
       "      <td>1964</td>\n",
       "      <td>175.4万</td>\n",
       "      <td>100.00%</td>\n",
       "      <td>17.21MB</td>\n",
       "      <td>2017年09月30日</td>\n",
       "    </tr>\n",
       "    <tr>\n",
       "      <th>6</th>\n",
       "      <td>网上购物-商城</td>\n",
       "      <td>淘宝</td>\n",
       "      <td>14244</td>\n",
       "      <td>4.6亿</td>\n",
       "      <td>68.00%</td>\n",
       "      <td>73.78MB</td>\n",
       "      <td>2017年10月13日</td>\n",
       "    </tr>\n",
       "    <tr>\n",
       "      <th>7</th>\n",
       "      <td>网上购物-商城-团购-优惠</td>\n",
       "      <td>当当</td>\n",
       "      <td>134</td>\n",
       "      <td>1615.3万</td>\n",
       "      <td>61.00%</td>\n",
       "      <td>37.01MB</td>\n",
       "      <td>2017年10月17日</td>\n",
       "    </tr>\n",
       "    <tr>\n",
       "      <th>8</th>\n",
       "      <td>网上购物-商城-团购-优惠</td>\n",
       "      <td>当当</td>\n",
       "      <td>134</td>\n",
       "      <td>1615.3万</td>\n",
       "      <td>61.00%</td>\n",
       "      <td>37.01MB</td>\n",
       "      <td>2017年10月17日</td>\n",
       "    </tr>\n",
       "    <tr>\n",
       "      <th>9</th>\n",
       "      <td>网上购物-商城-团购-优惠</td>\n",
       "      <td>当当</td>\n",
       "      <td>134</td>\n",
       "      <td>1615.3万</td>\n",
       "      <td>61.00%</td>\n",
       "      <td>37.01MB</td>\n",
       "      <td>2017年10月17日</td>\n",
       "    </tr>\n",
       "  </tbody>\n",
       "</table>\n",
       "</div>"
      ],
      "text/plain": [
       "        appcategory appname  comments  install     love     size       update\n",
       "0  网上购物-商城-团购-优惠-快递    每日优鲜      1297   204.7万   89.00%  15.16MB  2017年10月11日\n",
       "1           网上购物-商城    苏宁易购       577  7996.8万   73.00%   58.9MB  2017年09月21日\n",
       "2        网上购物-商城-优惠     唯品会      2543  7090.1万   86.00%  41.43MB  2017年10月13日\n",
       "3        网上购物-商城-优惠     唯品会      2543  7090.1万   86.00%  41.43MB  2017年10月13日\n",
       "4           网上购物-商城     拼多多      1921  3841.9万   95.00%  13.35MB  2017年10月11日\n",
       "5        网上购物-商城-优惠   寺库奢侈品      1964   175.4万  100.00%  17.21MB  2017年09月30日\n",
       "6           网上购物-商城      淘宝     14244     4.6亿   68.00%  73.78MB  2017年10月13日\n",
       "7     网上购物-商城-团购-优惠      当当       134  1615.3万   61.00%  37.01MB  2017年10月17日\n",
       "8     网上购物-商城-团购-优惠      当当       134  1615.3万   61.00%  37.01MB  2017年10月17日\n",
       "9     网上购物-商城-团购-优惠      当当       134  1615.3万   61.00%  37.01MB  2017年10月17日"
      ]
     },
     "execution_count": 9,
     "metadata": {},
     "output_type": "execute_result"
    }
   ],
   "source": [
    "df"
   ]
  },
  {
   "cell_type": "code",
   "execution_count": 10,
   "id": "84424c91",
   "metadata": {},
   "outputs": [],
   "source": [
    "# 原数据上删除\n",
    "df.drop_duplicates(inplace=True)"
   ]
  },
  {
   "cell_type": "code",
   "execution_count": 11,
   "id": "c030069a",
   "metadata": {
    "scrolled": true
   },
   "outputs": [
    {
     "data": {
      "text/html": [
       "<div>\n",
       "<style scoped>\n",
       "    .dataframe tbody tr th:only-of-type {\n",
       "        vertical-align: middle;\n",
       "    }\n",
       "\n",
       "    .dataframe tbody tr th {\n",
       "        vertical-align: top;\n",
       "    }\n",
       "\n",
       "    .dataframe thead th {\n",
       "        text-align: right;\n",
       "    }\n",
       "</style>\n",
       "<table border=\"1\" class=\"dataframe\">\n",
       "  <thead>\n",
       "    <tr style=\"text-align: right;\">\n",
       "      <th></th>\n",
       "      <th>appcategory</th>\n",
       "      <th>appname</th>\n",
       "      <th>comments</th>\n",
       "      <th>install</th>\n",
       "      <th>love</th>\n",
       "      <th>size</th>\n",
       "      <th>update</th>\n",
       "    </tr>\n",
       "  </thead>\n",
       "  <tbody>\n",
       "    <tr>\n",
       "      <th>0</th>\n",
       "      <td>网上购物-商城-团购-优惠-快递</td>\n",
       "      <td>每日优鲜</td>\n",
       "      <td>1297</td>\n",
       "      <td>204.7万</td>\n",
       "      <td>89.00%</td>\n",
       "      <td>15.16MB</td>\n",
       "      <td>2017年10月11日</td>\n",
       "    </tr>\n",
       "    <tr>\n",
       "      <th>1</th>\n",
       "      <td>网上购物-商城</td>\n",
       "      <td>苏宁易购</td>\n",
       "      <td>577</td>\n",
       "      <td>7996.8万</td>\n",
       "      <td>73.00%</td>\n",
       "      <td>58.9MB</td>\n",
       "      <td>2017年09月21日</td>\n",
       "    </tr>\n",
       "    <tr>\n",
       "      <th>2</th>\n",
       "      <td>网上购物-商城-优惠</td>\n",
       "      <td>唯品会</td>\n",
       "      <td>2543</td>\n",
       "      <td>7090.1万</td>\n",
       "      <td>86.00%</td>\n",
       "      <td>41.43MB</td>\n",
       "      <td>2017年10月13日</td>\n",
       "    </tr>\n",
       "    <tr>\n",
       "      <th>4</th>\n",
       "      <td>网上购物-商城</td>\n",
       "      <td>拼多多</td>\n",
       "      <td>1921</td>\n",
       "      <td>3841.9万</td>\n",
       "      <td>95.00%</td>\n",
       "      <td>13.35MB</td>\n",
       "      <td>2017年10月11日</td>\n",
       "    </tr>\n",
       "    <tr>\n",
       "      <th>5</th>\n",
       "      <td>网上购物-商城-优惠</td>\n",
       "      <td>寺库奢侈品</td>\n",
       "      <td>1964</td>\n",
       "      <td>175.4万</td>\n",
       "      <td>100.00%</td>\n",
       "      <td>17.21MB</td>\n",
       "      <td>2017年09月30日</td>\n",
       "    </tr>\n",
       "    <tr>\n",
       "      <th>6</th>\n",
       "      <td>网上购物-商城</td>\n",
       "      <td>淘宝</td>\n",
       "      <td>14244</td>\n",
       "      <td>4.6亿</td>\n",
       "      <td>68.00%</td>\n",
       "      <td>73.78MB</td>\n",
       "      <td>2017年10月13日</td>\n",
       "    </tr>\n",
       "    <tr>\n",
       "      <th>7</th>\n",
       "      <td>网上购物-商城-团购-优惠</td>\n",
       "      <td>当当</td>\n",
       "      <td>134</td>\n",
       "      <td>1615.3万</td>\n",
       "      <td>61.00%</td>\n",
       "      <td>37.01MB</td>\n",
       "      <td>2017年10月17日</td>\n",
       "    </tr>\n",
       "  </tbody>\n",
       "</table>\n",
       "</div>"
      ],
      "text/plain": [
       "        appcategory appname  comments  install     love     size       update\n",
       "0  网上购物-商城-团购-优惠-快递    每日优鲜      1297   204.7万   89.00%  15.16MB  2017年10月11日\n",
       "1           网上购物-商城    苏宁易购       577  7996.8万   73.00%   58.9MB  2017年09月21日\n",
       "2        网上购物-商城-优惠     唯品会      2543  7090.1万   86.00%  41.43MB  2017年10月13日\n",
       "4           网上购物-商城     拼多多      1921  3841.9万   95.00%  13.35MB  2017年10月11日\n",
       "5        网上购物-商城-优惠   寺库奢侈品      1964   175.4万  100.00%  17.21MB  2017年09月30日\n",
       "6           网上购物-商城      淘宝     14244     4.6亿   68.00%  73.78MB  2017年10月13日\n",
       "7     网上购物-商城-团购-优惠      当当       134  1615.3万   61.00%  37.01MB  2017年10月17日"
      ]
     },
     "execution_count": 11,
     "metadata": {},
     "output_type": "execute_result"
    }
   ],
   "source": [
    "df"
   ]
  },
  {
   "cell_type": "code",
   "execution_count": 12,
   "id": "2f9c1515",
   "metadata": {},
   "outputs": [],
   "source": [
    "df.drop_duplicates?"
   ]
  },
  {
   "cell_type": "markdown",
   "id": "5e95a7fa",
   "metadata": {},
   "source": [
    "# P45 缺失值处理"
   ]
  },
  {
   "cell_type": "code",
   "execution_count": 13,
   "id": "6d53ecfd",
   "metadata": {},
   "outputs": [],
   "source": [
    "df1 = pd.read_excel('data_test05.xlsx')"
   ]
  },
  {
   "cell_type": "code",
   "execution_count": 14,
   "id": "b92c9879",
   "metadata": {},
   "outputs": [
    {
     "data": {
      "text/html": [
       "<div>\n",
       "<style scoped>\n",
       "    .dataframe tbody tr th:only-of-type {\n",
       "        vertical-align: middle;\n",
       "    }\n",
       "\n",
       "    .dataframe tbody tr th {\n",
       "        vertical-align: top;\n",
       "    }\n",
       "\n",
       "    .dataframe thead th {\n",
       "        text-align: right;\n",
       "    }\n",
       "</style>\n",
       "<table border=\"1\" class=\"dataframe\">\n",
       "  <thead>\n",
       "    <tr style=\"text-align: right;\">\n",
       "      <th></th>\n",
       "      <th>uid</th>\n",
       "      <th>regit_date</th>\n",
       "      <th>gender</th>\n",
       "      <th>age</th>\n",
       "      <th>income</th>\n",
       "    </tr>\n",
       "  </thead>\n",
       "  <tbody>\n",
       "    <tr>\n",
       "      <th>0</th>\n",
       "      <td>False</td>\n",
       "      <td>False</td>\n",
       "      <td>False</td>\n",
       "      <td>False</td>\n",
       "      <td>False</td>\n",
       "    </tr>\n",
       "    <tr>\n",
       "      <th>1</th>\n",
       "      <td>False</td>\n",
       "      <td>False</td>\n",
       "      <td>False</td>\n",
       "      <td>False</td>\n",
       "      <td>False</td>\n",
       "    </tr>\n",
       "    <tr>\n",
       "      <th>2</th>\n",
       "      <td>False</td>\n",
       "      <td>False</td>\n",
       "      <td>False</td>\n",
       "      <td>True</td>\n",
       "      <td>False</td>\n",
       "    </tr>\n",
       "    <tr>\n",
       "      <th>3</th>\n",
       "      <td>False</td>\n",
       "      <td>False</td>\n",
       "      <td>False</td>\n",
       "      <td>False</td>\n",
       "      <td>False</td>\n",
       "    </tr>\n",
       "    <tr>\n",
       "      <th>4</th>\n",
       "      <td>False</td>\n",
       "      <td>False</td>\n",
       "      <td>True</td>\n",
       "      <td>True</td>\n",
       "      <td>False</td>\n",
       "    </tr>\n",
       "    <tr>\n",
       "      <th>5</th>\n",
       "      <td>False</td>\n",
       "      <td>False</td>\n",
       "      <td>False</td>\n",
       "      <td>False</td>\n",
       "      <td>True</td>\n",
       "    </tr>\n",
       "    <tr>\n",
       "      <th>6</th>\n",
       "      <td>False</td>\n",
       "      <td>False</td>\n",
       "      <td>False</td>\n",
       "      <td>False</td>\n",
       "      <td>False</td>\n",
       "    </tr>\n",
       "    <tr>\n",
       "      <th>7</th>\n",
       "      <td>False</td>\n",
       "      <td>False</td>\n",
       "      <td>False</td>\n",
       "      <td>True</td>\n",
       "      <td>False</td>\n",
       "    </tr>\n",
       "    <tr>\n",
       "      <th>8</th>\n",
       "      <td>False</td>\n",
       "      <td>False</td>\n",
       "      <td>False</td>\n",
       "      <td>False</td>\n",
       "      <td>False</td>\n",
       "    </tr>\n",
       "    <tr>\n",
       "      <th>9</th>\n",
       "      <td>False</td>\n",
       "      <td>False</td>\n",
       "      <td>False</td>\n",
       "      <td>False</td>\n",
       "      <td>True</td>\n",
       "    </tr>\n",
       "  </tbody>\n",
       "</table>\n",
       "</div>"
      ],
      "text/plain": [
       "     uid  regit_date  gender    age  income\n",
       "0  False       False   False  False   False\n",
       "1  False       False   False  False   False\n",
       "2  False       False   False   True   False\n",
       "3  False       False   False  False   False\n",
       "4  False       False    True   True   False\n",
       "5  False       False   False  False    True\n",
       "6  False       False   False  False   False\n",
       "7  False       False   False   True   False\n",
       "8  False       False   False  False   False\n",
       "9  False       False   False  False    True"
      ]
     },
     "execution_count": 14,
     "metadata": {},
     "output_type": "execute_result"
    }
   ],
   "source": [
    "df1.isnull()"
   ]
  },
  {
   "cell_type": "code",
   "execution_count": 15,
   "id": "dc0a5c3c",
   "metadata": {},
   "outputs": [
    {
     "data": {
      "text/plain": [
       "0    0\n",
       "1    0\n",
       "2    1\n",
       "3    0\n",
       "4    2\n",
       "5    1\n",
       "6    0\n",
       "7    1\n",
       "8    0\n",
       "9    1\n",
       "dtype: int64"
      ]
     },
     "execution_count": 15,
     "metadata": {},
     "output_type": "execute_result"
    }
   ],
   "source": [
    "# 按行计算\n",
    "np.sum(df1.isnull(),axis=1)"
   ]
  },
  {
   "cell_type": "code",
   "execution_count": 16,
   "id": "8f40807e",
   "metadata": {},
   "outputs": [
    {
     "data": {
      "text/plain": [
       "uid           0\n",
       "regit_date    0\n",
       "gender        1\n",
       "age           3\n",
       "income        2\n",
       "dtype: int64"
      ]
     },
     "execution_count": 16,
     "metadata": {},
     "output_type": "execute_result"
    }
   ],
   "source": [
    "np.sum(df1.isnull())"
   ]
  },
  {
   "cell_type": "code",
   "execution_count": 17,
   "id": "2bfae41d",
   "metadata": {},
   "outputs": [
    {
     "data": {
      "text/plain": [
       "uid           0.0\n",
       "regit_date    0.0\n",
       "gender        0.1\n",
       "age           0.3\n",
       "income        0.2\n",
       "dtype: float64"
      ]
     },
     "execution_count": 17,
     "metadata": {},
     "output_type": "execute_result"
    }
   ],
   "source": [
    "# 缺失值比率\n",
    "df1.apply(lambda x:sum(x.isnull()) / len(x))"
   ]
  },
  {
   "cell_type": "code",
   "execution_count": 18,
   "id": "0a83cfe5",
   "metadata": {},
   "outputs": [
    {
     "data": {
      "text/html": [
       "<div>\n",
       "<style scoped>\n",
       "    .dataframe tbody tr th:only-of-type {\n",
       "        vertical-align: middle;\n",
       "    }\n",
       "\n",
       "    .dataframe tbody tr th {\n",
       "        vertical-align: top;\n",
       "    }\n",
       "\n",
       "    .dataframe thead th {\n",
       "        text-align: right;\n",
       "    }\n",
       "</style>\n",
       "<table border=\"1\" class=\"dataframe\">\n",
       "  <thead>\n",
       "    <tr style=\"text-align: right;\">\n",
       "      <th></th>\n",
       "      <th>uid</th>\n",
       "      <th>regit_date</th>\n",
       "      <th>gender</th>\n",
       "      <th>age</th>\n",
       "      <th>income</th>\n",
       "    </tr>\n",
       "  </thead>\n",
       "  <tbody>\n",
       "    <tr>\n",
       "      <th>0</th>\n",
       "      <td>81200457</td>\n",
       "      <td>2016-10-30</td>\n",
       "      <td>M</td>\n",
       "      <td>23.0</td>\n",
       "      <td>6500.0</td>\n",
       "    </tr>\n",
       "    <tr>\n",
       "      <th>1</th>\n",
       "      <td>81201135</td>\n",
       "      <td>2016-11-08</td>\n",
       "      <td>M</td>\n",
       "      <td>27.0</td>\n",
       "      <td>10300.0</td>\n",
       "    </tr>\n",
       "    <tr>\n",
       "      <th>2</th>\n",
       "      <td>80043782</td>\n",
       "      <td>2016-10-13</td>\n",
       "      <td>F</td>\n",
       "      <td>NaN</td>\n",
       "      <td>13500.0</td>\n",
       "    </tr>\n",
       "    <tr>\n",
       "      <th>3</th>\n",
       "      <td>84639281</td>\n",
       "      <td>2017-04-17</td>\n",
       "      <td>M</td>\n",
       "      <td>26.0</td>\n",
       "      <td>6000.0</td>\n",
       "    </tr>\n",
       "    <tr>\n",
       "      <th>4</th>\n",
       "      <td>73499801</td>\n",
       "      <td>2016-03-21</td>\n",
       "      <td>NaN</td>\n",
       "      <td>NaN</td>\n",
       "      <td>4500.0</td>\n",
       "    </tr>\n",
       "    <tr>\n",
       "      <th>5</th>\n",
       "      <td>72399510</td>\n",
       "      <td>2016-01-18</td>\n",
       "      <td>M</td>\n",
       "      <td>19.0</td>\n",
       "      <td>NaN</td>\n",
       "    </tr>\n",
       "    <tr>\n",
       "      <th>6</th>\n",
       "      <td>63881943</td>\n",
       "      <td>2015-10-07</td>\n",
       "      <td>M</td>\n",
       "      <td>21.0</td>\n",
       "      <td>10000.0</td>\n",
       "    </tr>\n",
       "    <tr>\n",
       "      <th>7</th>\n",
       "      <td>35442690</td>\n",
       "      <td>2015-04-10</td>\n",
       "      <td>F</td>\n",
       "      <td>NaN</td>\n",
       "      <td>5800.0</td>\n",
       "    </tr>\n",
       "    <tr>\n",
       "      <th>8</th>\n",
       "      <td>77638351</td>\n",
       "      <td>2016-07-12</td>\n",
       "      <td>M</td>\n",
       "      <td>25.0</td>\n",
       "      <td>18000.0</td>\n",
       "    </tr>\n",
       "    <tr>\n",
       "      <th>9</th>\n",
       "      <td>85200189</td>\n",
       "      <td>2017-05-18</td>\n",
       "      <td>M</td>\n",
       "      <td>22.0</td>\n",
       "      <td>NaN</td>\n",
       "    </tr>\n",
       "  </tbody>\n",
       "</table>\n",
       "</div>"
      ],
      "text/plain": [
       "        uid regit_date gender   age   income\n",
       "0  81200457 2016-10-30      M  23.0   6500.0\n",
       "1  81201135 2016-11-08      M  27.0  10300.0\n",
       "2  80043782 2016-10-13      F   NaN  13500.0\n",
       "3  84639281 2017-04-17      M  26.0   6000.0\n",
       "4  73499801 2016-03-21    NaN   NaN   4500.0\n",
       "5  72399510 2016-01-18      M  19.0      NaN\n",
       "6  63881943 2015-10-07      M  21.0  10000.0\n",
       "7  35442690 2015-04-10      F   NaN   5800.0\n",
       "8  77638351 2016-07-12      M  25.0  18000.0\n",
       "9  85200189 2017-05-18      M  22.0      NaN"
      ]
     },
     "execution_count": 18,
     "metadata": {},
     "output_type": "execute_result"
    }
   ],
   "source": [
    "df1"
   ]
  },
  {
   "cell_type": "code",
   "execution_count": 19,
   "id": "b571bc98",
   "metadata": {
    "scrolled": true
   },
   "outputs": [
    {
     "data": {
      "text/html": [
       "<div>\n",
       "<style scoped>\n",
       "    .dataframe tbody tr th:only-of-type {\n",
       "        vertical-align: middle;\n",
       "    }\n",
       "\n",
       "    .dataframe tbody tr th {\n",
       "        vertical-align: top;\n",
       "    }\n",
       "\n",
       "    .dataframe thead th {\n",
       "        text-align: right;\n",
       "    }\n",
       "</style>\n",
       "<table border=\"1\" class=\"dataframe\">\n",
       "  <thead>\n",
       "    <tr style=\"text-align: right;\">\n",
       "      <th></th>\n",
       "      <th>uid</th>\n",
       "      <th>regit_date</th>\n",
       "      <th>gender</th>\n",
       "      <th>age</th>\n",
       "      <th>income</th>\n",
       "    </tr>\n",
       "  </thead>\n",
       "  <tbody>\n",
       "    <tr>\n",
       "      <th>0</th>\n",
       "      <td>81200457</td>\n",
       "      <td>2016-10-30</td>\n",
       "      <td>M</td>\n",
       "      <td>23.0</td>\n",
       "      <td>6500.0</td>\n",
       "    </tr>\n",
       "    <tr>\n",
       "      <th>1</th>\n",
       "      <td>81201135</td>\n",
       "      <td>2016-11-08</td>\n",
       "      <td>M</td>\n",
       "      <td>27.0</td>\n",
       "      <td>10300.0</td>\n",
       "    </tr>\n",
       "    <tr>\n",
       "      <th>3</th>\n",
       "      <td>84639281</td>\n",
       "      <td>2017-04-17</td>\n",
       "      <td>M</td>\n",
       "      <td>26.0</td>\n",
       "      <td>6000.0</td>\n",
       "    </tr>\n",
       "    <tr>\n",
       "      <th>6</th>\n",
       "      <td>63881943</td>\n",
       "      <td>2015-10-07</td>\n",
       "      <td>M</td>\n",
       "      <td>21.0</td>\n",
       "      <td>10000.0</td>\n",
       "    </tr>\n",
       "    <tr>\n",
       "      <th>8</th>\n",
       "      <td>77638351</td>\n",
       "      <td>2016-07-12</td>\n",
       "      <td>M</td>\n",
       "      <td>25.0</td>\n",
       "      <td>18000.0</td>\n",
       "    </tr>\n",
       "  </tbody>\n",
       "</table>\n",
       "</div>"
      ],
      "text/plain": [
       "        uid regit_date gender   age   income\n",
       "0  81200457 2016-10-30      M  23.0   6500.0\n",
       "1  81201135 2016-11-08      M  27.0  10300.0\n",
       "3  84639281 2017-04-17      M  26.0   6000.0\n",
       "6  63881943 2015-10-07      M  21.0  10000.0\n",
       "8  77638351 2016-07-12      M  25.0  18000.0"
      ]
     },
     "execution_count": 19,
     "metadata": {},
     "output_type": "execute_result"
    }
   ],
   "source": [
    "# dropna() - 删除缺失值\n",
    "# 只要有一个缺失就会被删除\n",
    "df1.dropna()"
   ]
  },
  {
   "cell_type": "code",
   "execution_count": 20,
   "id": "176c7276",
   "metadata": {},
   "outputs": [
    {
     "data": {
      "text/html": [
       "<div>\n",
       "<style scoped>\n",
       "    .dataframe tbody tr th:only-of-type {\n",
       "        vertical-align: middle;\n",
       "    }\n",
       "\n",
       "    .dataframe tbody tr th {\n",
       "        vertical-align: top;\n",
       "    }\n",
       "\n",
       "    .dataframe thead th {\n",
       "        text-align: right;\n",
       "    }\n",
       "</style>\n",
       "<table border=\"1\" class=\"dataframe\">\n",
       "  <thead>\n",
       "    <tr style=\"text-align: right;\">\n",
       "      <th></th>\n",
       "      <th>uid</th>\n",
       "      <th>regit_date</th>\n",
       "      <th>gender</th>\n",
       "      <th>age</th>\n",
       "      <th>income</th>\n",
       "    </tr>\n",
       "  </thead>\n",
       "  <tbody>\n",
       "    <tr>\n",
       "      <th>0</th>\n",
       "      <td>81200457</td>\n",
       "      <td>2016-10-30</td>\n",
       "      <td>M</td>\n",
       "      <td>23.0</td>\n",
       "      <td>6500.0</td>\n",
       "    </tr>\n",
       "    <tr>\n",
       "      <th>1</th>\n",
       "      <td>81201135</td>\n",
       "      <td>2016-11-08</td>\n",
       "      <td>M</td>\n",
       "      <td>27.0</td>\n",
       "      <td>10300.0</td>\n",
       "    </tr>\n",
       "    <tr>\n",
       "      <th>2</th>\n",
       "      <td>80043782</td>\n",
       "      <td>2016-10-13</td>\n",
       "      <td>F</td>\n",
       "      <td>NaN</td>\n",
       "      <td>13500.0</td>\n",
       "    </tr>\n",
       "    <tr>\n",
       "      <th>3</th>\n",
       "      <td>84639281</td>\n",
       "      <td>2017-04-17</td>\n",
       "      <td>M</td>\n",
       "      <td>26.0</td>\n",
       "      <td>6000.0</td>\n",
       "    </tr>\n",
       "    <tr>\n",
       "      <th>4</th>\n",
       "      <td>73499801</td>\n",
       "      <td>2016-03-21</td>\n",
       "      <td>NaN</td>\n",
       "      <td>NaN</td>\n",
       "      <td>4500.0</td>\n",
       "    </tr>\n",
       "    <tr>\n",
       "      <th>5</th>\n",
       "      <td>72399510</td>\n",
       "      <td>2016-01-18</td>\n",
       "      <td>M</td>\n",
       "      <td>19.0</td>\n",
       "      <td>NaN</td>\n",
       "    </tr>\n",
       "    <tr>\n",
       "      <th>6</th>\n",
       "      <td>63881943</td>\n",
       "      <td>2015-10-07</td>\n",
       "      <td>M</td>\n",
       "      <td>21.0</td>\n",
       "      <td>10000.0</td>\n",
       "    </tr>\n",
       "    <tr>\n",
       "      <th>7</th>\n",
       "      <td>35442690</td>\n",
       "      <td>2015-04-10</td>\n",
       "      <td>F</td>\n",
       "      <td>NaN</td>\n",
       "      <td>5800.0</td>\n",
       "    </tr>\n",
       "    <tr>\n",
       "      <th>8</th>\n",
       "      <td>77638351</td>\n",
       "      <td>2016-07-12</td>\n",
       "      <td>M</td>\n",
       "      <td>25.0</td>\n",
       "      <td>18000.0</td>\n",
       "    </tr>\n",
       "    <tr>\n",
       "      <th>9</th>\n",
       "      <td>85200189</td>\n",
       "      <td>2017-05-18</td>\n",
       "      <td>M</td>\n",
       "      <td>22.0</td>\n",
       "      <td>NaN</td>\n",
       "    </tr>\n",
       "  </tbody>\n",
       "</table>\n",
       "</div>"
      ],
      "text/plain": [
       "        uid regit_date gender   age   income\n",
       "0  81200457 2016-10-30      M  23.0   6500.0\n",
       "1  81201135 2016-11-08      M  27.0  10300.0\n",
       "2  80043782 2016-10-13      F   NaN  13500.0\n",
       "3  84639281 2017-04-17      M  26.0   6000.0\n",
       "4  73499801 2016-03-21    NaN   NaN   4500.0\n",
       "5  72399510 2016-01-18      M  19.0      NaN\n",
       "6  63881943 2015-10-07      M  21.0  10000.0\n",
       "7  35442690 2015-04-10      F   NaN   5800.0\n",
       "8  77638351 2016-07-12      M  25.0  18000.0\n",
       "9  85200189 2017-05-18      M  22.0      NaN"
      ]
     },
     "execution_count": 20,
     "metadata": {},
     "output_type": "execute_result"
    }
   ],
   "source": [
    "# 按列删除\n",
    "# how - 删除方式，any只要有一个空就删除，all要全空\n",
    "df1.dropna(how = 'all',axis = 1)"
   ]
  },
  {
   "cell_type": "code",
   "execution_count": 21,
   "id": "3707fb40",
   "metadata": {},
   "outputs": [],
   "source": [
    "df1.drop?"
   ]
  },
  {
   "cell_type": "code",
   "execution_count": 22,
   "id": "8d5da826",
   "metadata": {
    "scrolled": true
   },
   "outputs": [
    {
     "data": {
      "text/html": [
       "<div>\n",
       "<style scoped>\n",
       "    .dataframe tbody tr th:only-of-type {\n",
       "        vertical-align: middle;\n",
       "    }\n",
       "\n",
       "    .dataframe tbody tr th {\n",
       "        vertical-align: top;\n",
       "    }\n",
       "\n",
       "    .dataframe thead th {\n",
       "        text-align: right;\n",
       "    }\n",
       "</style>\n",
       "<table border=\"1\" class=\"dataframe\">\n",
       "  <thead>\n",
       "    <tr style=\"text-align: right;\">\n",
       "      <th></th>\n",
       "      <th>uid</th>\n",
       "      <th>regit_date</th>\n",
       "      <th>income</th>\n",
       "    </tr>\n",
       "  </thead>\n",
       "  <tbody>\n",
       "    <tr>\n",
       "      <th>0</th>\n",
       "      <td>81200457</td>\n",
       "      <td>2016-10-30</td>\n",
       "      <td>6500.0</td>\n",
       "    </tr>\n",
       "    <tr>\n",
       "      <th>1</th>\n",
       "      <td>81201135</td>\n",
       "      <td>2016-11-08</td>\n",
       "      <td>10300.0</td>\n",
       "    </tr>\n",
       "    <tr>\n",
       "      <th>2</th>\n",
       "      <td>80043782</td>\n",
       "      <td>2016-10-13</td>\n",
       "      <td>13500.0</td>\n",
       "    </tr>\n",
       "    <tr>\n",
       "      <th>3</th>\n",
       "      <td>84639281</td>\n",
       "      <td>2017-04-17</td>\n",
       "      <td>6000.0</td>\n",
       "    </tr>\n",
       "    <tr>\n",
       "      <th>4</th>\n",
       "      <td>73499801</td>\n",
       "      <td>2016-03-21</td>\n",
       "      <td>4500.0</td>\n",
       "    </tr>\n",
       "    <tr>\n",
       "      <th>5</th>\n",
       "      <td>72399510</td>\n",
       "      <td>2016-01-18</td>\n",
       "      <td>NaN</td>\n",
       "    </tr>\n",
       "    <tr>\n",
       "      <th>6</th>\n",
       "      <td>63881943</td>\n",
       "      <td>2015-10-07</td>\n",
       "      <td>10000.0</td>\n",
       "    </tr>\n",
       "    <tr>\n",
       "      <th>7</th>\n",
       "      <td>35442690</td>\n",
       "      <td>2015-04-10</td>\n",
       "      <td>5800.0</td>\n",
       "    </tr>\n",
       "    <tr>\n",
       "      <th>8</th>\n",
       "      <td>77638351</td>\n",
       "      <td>2016-07-12</td>\n",
       "      <td>18000.0</td>\n",
       "    </tr>\n",
       "    <tr>\n",
       "      <th>9</th>\n",
       "      <td>85200189</td>\n",
       "      <td>2017-05-18</td>\n",
       "      <td>NaN</td>\n",
       "    </tr>\n",
       "  </tbody>\n",
       "</table>\n",
       "</div>"
      ],
      "text/plain": [
       "        uid regit_date   income\n",
       "0  81200457 2016-10-30   6500.0\n",
       "1  81201135 2016-11-08  10300.0\n",
       "2  80043782 2016-10-13  13500.0\n",
       "3  84639281 2017-04-17   6000.0\n",
       "4  73499801 2016-03-21   4500.0\n",
       "5  72399510 2016-01-18      NaN\n",
       "6  63881943 2015-10-07  10000.0\n",
       "7  35442690 2015-04-10   5800.0\n",
       "8  77638351 2016-07-12  18000.0\n",
       "9  85200189 2017-05-18      NaN"
      ]
     },
     "execution_count": 22,
     "metadata": {},
     "output_type": "execute_result"
    }
   ],
   "source": [
    "# 按列标签删除\n",
    "df1.drop(['gender','age'],axis=1)"
   ]
  },
  {
   "cell_type": "code",
   "execution_count": 23,
   "id": "8df9d668",
   "metadata": {},
   "outputs": [
    {
     "data": {
      "text/html": [
       "<div>\n",
       "<style scoped>\n",
       "    .dataframe tbody tr th:only-of-type {\n",
       "        vertical-align: middle;\n",
       "    }\n",
       "\n",
       "    .dataframe tbody tr th {\n",
       "        vertical-align: top;\n",
       "    }\n",
       "\n",
       "    .dataframe thead th {\n",
       "        text-align: right;\n",
       "    }\n",
       "</style>\n",
       "<table border=\"1\" class=\"dataframe\">\n",
       "  <thead>\n",
       "    <tr style=\"text-align: right;\">\n",
       "      <th></th>\n",
       "      <th>uid</th>\n",
       "      <th>regit_date</th>\n",
       "      <th>gender</th>\n",
       "      <th>age</th>\n",
       "      <th>income</th>\n",
       "    </tr>\n",
       "  </thead>\n",
       "  <tbody>\n",
       "    <tr>\n",
       "      <th>0</th>\n",
       "      <td>81200457</td>\n",
       "      <td>2016-10-30</td>\n",
       "      <td>M</td>\n",
       "      <td>23.0</td>\n",
       "      <td>6500.0</td>\n",
       "    </tr>\n",
       "    <tr>\n",
       "      <th>1</th>\n",
       "      <td>81201135</td>\n",
       "      <td>2016-11-08</td>\n",
       "      <td>M</td>\n",
       "      <td>27.0</td>\n",
       "      <td>10300.0</td>\n",
       "    </tr>\n",
       "    <tr>\n",
       "      <th>3</th>\n",
       "      <td>84639281</td>\n",
       "      <td>2017-04-17</td>\n",
       "      <td>M</td>\n",
       "      <td>26.0</td>\n",
       "      <td>6000.0</td>\n",
       "    </tr>\n",
       "    <tr>\n",
       "      <th>5</th>\n",
       "      <td>72399510</td>\n",
       "      <td>2016-01-18</td>\n",
       "      <td>M</td>\n",
       "      <td>19.0</td>\n",
       "      <td>NaN</td>\n",
       "    </tr>\n",
       "    <tr>\n",
       "      <th>6</th>\n",
       "      <td>63881943</td>\n",
       "      <td>2015-10-07</td>\n",
       "      <td>M</td>\n",
       "      <td>21.0</td>\n",
       "      <td>10000.0</td>\n",
       "    </tr>\n",
       "    <tr>\n",
       "      <th>8</th>\n",
       "      <td>77638351</td>\n",
       "      <td>2016-07-12</td>\n",
       "      <td>M</td>\n",
       "      <td>25.0</td>\n",
       "      <td>18000.0</td>\n",
       "    </tr>\n",
       "    <tr>\n",
       "      <th>9</th>\n",
       "      <td>85200189</td>\n",
       "      <td>2017-05-18</td>\n",
       "      <td>M</td>\n",
       "      <td>22.0</td>\n",
       "      <td>NaN</td>\n",
       "    </tr>\n",
       "  </tbody>\n",
       "</table>\n",
       "</div>"
      ],
      "text/plain": [
       "        uid regit_date gender   age   income\n",
       "0  81200457 2016-10-30      M  23.0   6500.0\n",
       "1  81201135 2016-11-08      M  27.0  10300.0\n",
       "3  84639281 2017-04-17      M  26.0   6000.0\n",
       "5  72399510 2016-01-18      M  19.0      NaN\n",
       "6  63881943 2015-10-07      M  21.0  10000.0\n",
       "8  77638351 2016-07-12      M  25.0  18000.0\n",
       "9  85200189 2017-05-18      M  22.0      NaN"
      ]
     },
     "execution_count": 23,
     "metadata": {},
     "output_type": "execute_result"
    }
   ],
   "source": [
    "# 删除gender或age有缺失值的数据的行\n",
    "df1.dropna(subset=['gender','age'],how='any')\n",
    "# 2，4，7"
   ]
  },
  {
   "cell_type": "code",
   "execution_count": 24,
   "id": "ed389240",
   "metadata": {},
   "outputs": [
    {
     "data": {
      "text/html": [
       "<div>\n",
       "<style scoped>\n",
       "    .dataframe tbody tr th:only-of-type {\n",
       "        vertical-align: middle;\n",
       "    }\n",
       "\n",
       "    .dataframe tbody tr th {\n",
       "        vertical-align: top;\n",
       "    }\n",
       "\n",
       "    .dataframe thead th {\n",
       "        text-align: right;\n",
       "    }\n",
       "</style>\n",
       "<table border=\"1\" class=\"dataframe\">\n",
       "  <thead>\n",
       "    <tr style=\"text-align: right;\">\n",
       "      <th></th>\n",
       "      <th>uid</th>\n",
       "      <th>regit_date</th>\n",
       "      <th>gender</th>\n",
       "      <th>age</th>\n",
       "      <th>income</th>\n",
       "    </tr>\n",
       "  </thead>\n",
       "  <tbody>\n",
       "    <tr>\n",
       "      <th>0</th>\n",
       "      <td>81200457</td>\n",
       "      <td>2016-10-30</td>\n",
       "      <td>M</td>\n",
       "      <td>23.0</td>\n",
       "      <td>6500.0</td>\n",
       "    </tr>\n",
       "    <tr>\n",
       "      <th>1</th>\n",
       "      <td>81201135</td>\n",
       "      <td>2016-11-08</td>\n",
       "      <td>M</td>\n",
       "      <td>27.0</td>\n",
       "      <td>10300.0</td>\n",
       "    </tr>\n",
       "    <tr>\n",
       "      <th>2</th>\n",
       "      <td>80043782</td>\n",
       "      <td>2016-10-13</td>\n",
       "      <td>F</td>\n",
       "      <td>NaN</td>\n",
       "      <td>13500.0</td>\n",
       "    </tr>\n",
       "    <tr>\n",
       "      <th>3</th>\n",
       "      <td>84639281</td>\n",
       "      <td>2017-04-17</td>\n",
       "      <td>M</td>\n",
       "      <td>26.0</td>\n",
       "      <td>6000.0</td>\n",
       "    </tr>\n",
       "    <tr>\n",
       "      <th>5</th>\n",
       "      <td>72399510</td>\n",
       "      <td>2016-01-18</td>\n",
       "      <td>M</td>\n",
       "      <td>19.0</td>\n",
       "      <td>NaN</td>\n",
       "    </tr>\n",
       "    <tr>\n",
       "      <th>6</th>\n",
       "      <td>63881943</td>\n",
       "      <td>2015-10-07</td>\n",
       "      <td>M</td>\n",
       "      <td>21.0</td>\n",
       "      <td>10000.0</td>\n",
       "    </tr>\n",
       "    <tr>\n",
       "      <th>7</th>\n",
       "      <td>35442690</td>\n",
       "      <td>2015-04-10</td>\n",
       "      <td>F</td>\n",
       "      <td>NaN</td>\n",
       "      <td>5800.0</td>\n",
       "    </tr>\n",
       "    <tr>\n",
       "      <th>8</th>\n",
       "      <td>77638351</td>\n",
       "      <td>2016-07-12</td>\n",
       "      <td>M</td>\n",
       "      <td>25.0</td>\n",
       "      <td>18000.0</td>\n",
       "    </tr>\n",
       "    <tr>\n",
       "      <th>9</th>\n",
       "      <td>85200189</td>\n",
       "      <td>2017-05-18</td>\n",
       "      <td>M</td>\n",
       "      <td>22.0</td>\n",
       "      <td>NaN</td>\n",
       "    </tr>\n",
       "  </tbody>\n",
       "</table>\n",
       "</div>"
      ],
      "text/plain": [
       "        uid regit_date gender   age   income\n",
       "0  81200457 2016-10-30      M  23.0   6500.0\n",
       "1  81201135 2016-11-08      M  27.0  10300.0\n",
       "2  80043782 2016-10-13      F   NaN  13500.0\n",
       "3  84639281 2017-04-17      M  26.0   6000.0\n",
       "5  72399510 2016-01-18      M  19.0      NaN\n",
       "6  63881943 2015-10-07      M  21.0  10000.0\n",
       "7  35442690 2015-04-10      F   NaN   5800.0\n",
       "8  77638351 2016-07-12      M  25.0  18000.0\n",
       "9  85200189 2017-05-18      M  22.0      NaN"
      ]
     },
     "execution_count": 24,
     "metadata": {},
     "output_type": "execute_result"
    }
   ],
   "source": [
    "# 必须同时缺失才删除\n",
    "df1.dropna(subset=['gender','age'],how='all')"
   ]
  },
  {
   "cell_type": "code",
   "execution_count": 25,
   "id": "b7bbc195",
   "metadata": {},
   "outputs": [
    {
     "data": {
      "text/plain": [
       "0    23.0\n",
       "1    27.0\n",
       "2     NaN\n",
       "3    26.0\n",
       "4     NaN\n",
       "5    19.0\n",
       "6    21.0\n",
       "7     NaN\n",
       "8    25.0\n",
       "9    22.0\n",
       "Name: age, dtype: float64"
      ]
     },
     "execution_count": 25,
     "metadata": {},
     "output_type": "execute_result"
    }
   ],
   "source": [
    "df1.age\n",
    "# 2 4 7"
   ]
  },
  {
   "cell_type": "code",
   "execution_count": 26,
   "id": "ecb67118",
   "metadata": {
    "scrolled": true
   },
   "outputs": [
    {
     "data": {
      "text/plain": [
       "0    23.000000\n",
       "1    27.000000\n",
       "2    23.285714\n",
       "3    26.000000\n",
       "4    23.285714\n",
       "5    19.000000\n",
       "6    21.000000\n",
       "7    23.285714\n",
       "8    25.000000\n",
       "9    22.000000\n",
       "Name: age, dtype: float64"
      ]
     },
     "execution_count": 26,
     "metadata": {},
     "output_type": "execute_result"
    }
   ],
   "source": [
    "# 填补法\n",
    "# 均值填补或中位数填补,数值法\n",
    "# mean - 均值\n",
    "df1.age.fillna(df1.age.mean())"
   ]
  },
  {
   "cell_type": "code",
   "execution_count": 27,
   "id": "c43911ee",
   "metadata": {
    "scrolled": false
   },
   "outputs": [
    {
     "data": {
      "text/plain": [
       "0    23.0\n",
       "1    27.0\n",
       "2    23.0\n",
       "3    26.0\n",
       "4    23.0\n",
       "5    19.0\n",
       "6    21.0\n",
       "7    23.0\n",
       "8    25.0\n",
       "9    22.0\n",
       "Name: age, dtype: float64"
      ]
     },
     "execution_count": 27,
     "metadata": {},
     "output_type": "execute_result"
    }
   ],
   "source": [
    "# median - 中位数\n",
    "df1.age.fillna(df1.age.median())"
   ]
  },
  {
   "cell_type": "code",
   "execution_count": 28,
   "id": "e880ddc9",
   "metadata": {},
   "outputs": [
    {
     "data": {
      "text/plain": [
       "0    23.0\n",
       "1    27.0\n",
       "2    20.0\n",
       "3    26.0\n",
       "4    20.0\n",
       "5    19.0\n",
       "6    21.0\n",
       "7    20.0\n",
       "8    25.0\n",
       "9    22.0\n",
       "Name: age, dtype: float64"
      ]
     },
     "execution_count": 28,
     "metadata": {},
     "output_type": "execute_result"
    }
   ],
   "source": [
    "# 就用20填补年龄\n",
    "df1.age.fillna(20)"
   ]
  },
  {
   "cell_type": "code",
   "execution_count": 29,
   "id": "ebeac12d",
   "metadata": {
    "scrolled": true
   },
   "outputs": [
    {
     "data": {
      "text/plain": [
       "0      M\n",
       "1      M\n",
       "2      F\n",
       "3      M\n",
       "4    NaN\n",
       "5      M\n",
       "6      M\n",
       "7      F\n",
       "8      M\n",
       "9      M\n",
       "Name: gender, dtype: object"
      ]
     },
     "execution_count": 29,
     "metadata": {},
     "output_type": "execute_result"
    }
   ],
   "source": [
    "# 性别缺失\n",
    "# mode - 众数，众数填补\n",
    "df1.gender"
   ]
  },
  {
   "cell_type": "code",
   "execution_count": 30,
   "id": "c456a63c",
   "metadata": {},
   "outputs": [
    {
     "data": {
      "text/plain": [
       "0    M\n",
       "dtype: object"
      ]
     },
     "execution_count": 30,
     "metadata": {},
     "output_type": "execute_result"
    }
   ],
   "source": [
    "# 出现最多的\n",
    "df1.gender.mode()"
   ]
  },
  {
   "cell_type": "code",
   "execution_count": 31,
   "id": "e4eab85a",
   "metadata": {},
   "outputs": [
    {
     "data": {
      "text/plain": [
       "0    M\n",
       "1    M\n",
       "2    F\n",
       "3    M\n",
       "4    M\n",
       "5    M\n",
       "6    M\n",
       "7    F\n",
       "8    M\n",
       "9    M\n",
       "Name: gender, dtype: object"
      ]
     },
     "execution_count": 31,
     "metadata": {},
     "output_type": "execute_result"
    }
   ],
   "source": [
    "# 取下标为0的众数\n",
    "df1.gender.fillna(df1.gender.mode()[0])"
   ]
  },
  {
   "cell_type": "code",
   "execution_count": 32,
   "id": "c54ee7b4",
   "metadata": {},
   "outputs": [
    {
     "data": {
      "text/plain": [
       "0    23.0\n",
       "1    27.0\n",
       "2     NaN\n",
       "3    26.0\n",
       "4     NaN\n",
       "5    19.0\n",
       "6    21.0\n",
       "7     NaN\n",
       "8    25.0\n",
       "9    22.0\n",
       "Name: age, dtype: float64"
      ]
     },
     "execution_count": 32,
     "metadata": {},
     "output_type": "execute_result"
    }
   ],
   "source": [
    "df1.age"
   ]
  },
  {
   "cell_type": "markdown",
   "id": "50be3ae4",
   "metadata": {},
   "source": [
    "###### 以上都需inplace=True才能改变视图"
   ]
  },
  {
   "cell_type": "code",
   "execution_count": 33,
   "id": "2065dec1",
   "metadata": {},
   "outputs": [
    {
     "data": {
      "text/html": [
       "<div>\n",
       "<style scoped>\n",
       "    .dataframe tbody tr th:only-of-type {\n",
       "        vertical-align: middle;\n",
       "    }\n",
       "\n",
       "    .dataframe tbody tr th {\n",
       "        vertical-align: top;\n",
       "    }\n",
       "\n",
       "    .dataframe thead th {\n",
       "        text-align: right;\n",
       "    }\n",
       "</style>\n",
       "<table border=\"1\" class=\"dataframe\">\n",
       "  <thead>\n",
       "    <tr style=\"text-align: right;\">\n",
       "      <th></th>\n",
       "      <th>uid</th>\n",
       "      <th>regit_date</th>\n",
       "      <th>gender</th>\n",
       "      <th>age</th>\n",
       "      <th>income</th>\n",
       "    </tr>\n",
       "  </thead>\n",
       "  <tbody>\n",
       "    <tr>\n",
       "      <th>0</th>\n",
       "      <td>81200457</td>\n",
       "      <td>2016-10-30</td>\n",
       "      <td>M</td>\n",
       "      <td>23.000000</td>\n",
       "      <td>6500.0</td>\n",
       "    </tr>\n",
       "    <tr>\n",
       "      <th>1</th>\n",
       "      <td>81201135</td>\n",
       "      <td>2016-11-08</td>\n",
       "      <td>M</td>\n",
       "      <td>27.000000</td>\n",
       "      <td>10300.0</td>\n",
       "    </tr>\n",
       "    <tr>\n",
       "      <th>2</th>\n",
       "      <td>80043782</td>\n",
       "      <td>2016-10-13</td>\n",
       "      <td>F</td>\n",
       "      <td>23.285714</td>\n",
       "      <td>13500.0</td>\n",
       "    </tr>\n",
       "    <tr>\n",
       "      <th>3</th>\n",
       "      <td>84639281</td>\n",
       "      <td>2017-04-17</td>\n",
       "      <td>M</td>\n",
       "      <td>26.000000</td>\n",
       "      <td>6000.0</td>\n",
       "    </tr>\n",
       "    <tr>\n",
       "      <th>4</th>\n",
       "      <td>73499801</td>\n",
       "      <td>2016-03-21</td>\n",
       "      <td>M</td>\n",
       "      <td>23.285714</td>\n",
       "      <td>4500.0</td>\n",
       "    </tr>\n",
       "    <tr>\n",
       "      <th>5</th>\n",
       "      <td>72399510</td>\n",
       "      <td>2016-01-18</td>\n",
       "      <td>M</td>\n",
       "      <td>19.000000</td>\n",
       "      <td>8250.0</td>\n",
       "    </tr>\n",
       "    <tr>\n",
       "      <th>6</th>\n",
       "      <td>63881943</td>\n",
       "      <td>2015-10-07</td>\n",
       "      <td>M</td>\n",
       "      <td>21.000000</td>\n",
       "      <td>10000.0</td>\n",
       "    </tr>\n",
       "    <tr>\n",
       "      <th>7</th>\n",
       "      <td>35442690</td>\n",
       "      <td>2015-04-10</td>\n",
       "      <td>F</td>\n",
       "      <td>23.285714</td>\n",
       "      <td>5800.0</td>\n",
       "    </tr>\n",
       "    <tr>\n",
       "      <th>8</th>\n",
       "      <td>77638351</td>\n",
       "      <td>2016-07-12</td>\n",
       "      <td>M</td>\n",
       "      <td>25.000000</td>\n",
       "      <td>18000.0</td>\n",
       "    </tr>\n",
       "    <tr>\n",
       "      <th>9</th>\n",
       "      <td>85200189</td>\n",
       "      <td>2017-05-18</td>\n",
       "      <td>M</td>\n",
       "      <td>22.000000</td>\n",
       "      <td>8250.0</td>\n",
       "    </tr>\n",
       "  </tbody>\n",
       "</table>\n",
       "</div>"
      ],
      "text/plain": [
       "        uid regit_date gender        age   income\n",
       "0  81200457 2016-10-30      M  23.000000   6500.0\n",
       "1  81201135 2016-11-08      M  27.000000  10300.0\n",
       "2  80043782 2016-10-13      F  23.285714  13500.0\n",
       "3  84639281 2017-04-17      M  26.000000   6000.0\n",
       "4  73499801 2016-03-21      M  23.285714   4500.0\n",
       "5  72399510 2016-01-18      M  19.000000   8250.0\n",
       "6  63881943 2015-10-07      M  21.000000  10000.0\n",
       "7  35442690 2015-04-10      F  23.285714   5800.0\n",
       "8  77638351 2016-07-12      M  25.000000  18000.0\n",
       "9  85200189 2017-05-18      M  22.000000   8250.0"
      ]
     },
     "execution_count": 33,
     "metadata": {},
     "output_type": "execute_result"
    }
   ],
   "source": [
    "# 多缺失值处理\n",
    "df1.fillna(value={'gender':df1.gender.mode()[0],'age':df1.age.mean(),\n",
    "                 'income':df1.income.median()})\n",
    "# 性别用众数，年龄用平均数，收入用中位数"
   ]
  },
  {
   "cell_type": "code",
   "execution_count": 34,
   "id": "4d8c29eb",
   "metadata": {},
   "outputs": [
    {
     "data": {
      "text/html": [
       "<div>\n",
       "<style scoped>\n",
       "    .dataframe tbody tr th:only-of-type {\n",
       "        vertical-align: middle;\n",
       "    }\n",
       "\n",
       "    .dataframe tbody tr th {\n",
       "        vertical-align: top;\n",
       "    }\n",
       "\n",
       "    .dataframe thead th {\n",
       "        text-align: right;\n",
       "    }\n",
       "</style>\n",
       "<table border=\"1\" class=\"dataframe\">\n",
       "  <thead>\n",
       "    <tr style=\"text-align: right;\">\n",
       "      <th></th>\n",
       "      <th>uid</th>\n",
       "      <th>regit_date</th>\n",
       "      <th>gender</th>\n",
       "      <th>age</th>\n",
       "      <th>income</th>\n",
       "    </tr>\n",
       "  </thead>\n",
       "  <tbody>\n",
       "    <tr>\n",
       "      <th>0</th>\n",
       "      <td>81200457</td>\n",
       "      <td>2016-10-30</td>\n",
       "      <td>M</td>\n",
       "      <td>23.0</td>\n",
       "      <td>6500.0</td>\n",
       "    </tr>\n",
       "    <tr>\n",
       "      <th>1</th>\n",
       "      <td>81201135</td>\n",
       "      <td>2016-11-08</td>\n",
       "      <td>M</td>\n",
       "      <td>27.0</td>\n",
       "      <td>10300.0</td>\n",
       "    </tr>\n",
       "    <tr>\n",
       "      <th>2</th>\n",
       "      <td>80043782</td>\n",
       "      <td>2016-10-13</td>\n",
       "      <td>F</td>\n",
       "      <td>NaN</td>\n",
       "      <td>13500.0</td>\n",
       "    </tr>\n",
       "    <tr>\n",
       "      <th>3</th>\n",
       "      <td>84639281</td>\n",
       "      <td>2017-04-17</td>\n",
       "      <td>M</td>\n",
       "      <td>26.0</td>\n",
       "      <td>6000.0</td>\n",
       "    </tr>\n",
       "    <tr>\n",
       "      <th>4</th>\n",
       "      <td>73499801</td>\n",
       "      <td>2016-03-21</td>\n",
       "      <td>NaN</td>\n",
       "      <td>NaN</td>\n",
       "      <td>4500.0</td>\n",
       "    </tr>\n",
       "    <tr>\n",
       "      <th>5</th>\n",
       "      <td>72399510</td>\n",
       "      <td>2016-01-18</td>\n",
       "      <td>M</td>\n",
       "      <td>19.0</td>\n",
       "      <td>NaN</td>\n",
       "    </tr>\n",
       "    <tr>\n",
       "      <th>6</th>\n",
       "      <td>63881943</td>\n",
       "      <td>2015-10-07</td>\n",
       "      <td>M</td>\n",
       "      <td>21.0</td>\n",
       "      <td>10000.0</td>\n",
       "    </tr>\n",
       "    <tr>\n",
       "      <th>7</th>\n",
       "      <td>35442690</td>\n",
       "      <td>2015-04-10</td>\n",
       "      <td>F</td>\n",
       "      <td>NaN</td>\n",
       "      <td>5800.0</td>\n",
       "    </tr>\n",
       "    <tr>\n",
       "      <th>8</th>\n",
       "      <td>77638351</td>\n",
       "      <td>2016-07-12</td>\n",
       "      <td>M</td>\n",
       "      <td>25.0</td>\n",
       "      <td>18000.0</td>\n",
       "    </tr>\n",
       "    <tr>\n",
       "      <th>9</th>\n",
       "      <td>85200189</td>\n",
       "      <td>2017-05-18</td>\n",
       "      <td>M</td>\n",
       "      <td>22.0</td>\n",
       "      <td>NaN</td>\n",
       "    </tr>\n",
       "  </tbody>\n",
       "</table>\n",
       "</div>"
      ],
      "text/plain": [
       "        uid regit_date gender   age   income\n",
       "0  81200457 2016-10-30      M  23.0   6500.0\n",
       "1  81201135 2016-11-08      M  27.0  10300.0\n",
       "2  80043782 2016-10-13      F   NaN  13500.0\n",
       "3  84639281 2017-04-17      M  26.0   6000.0\n",
       "4  73499801 2016-03-21    NaN   NaN   4500.0\n",
       "5  72399510 2016-01-18      M  19.0      NaN\n",
       "6  63881943 2015-10-07      M  21.0  10000.0\n",
       "7  35442690 2015-04-10      F   NaN   5800.0\n",
       "8  77638351 2016-07-12      M  25.0  18000.0\n",
       "9  85200189 2017-05-18      M  22.0      NaN"
      ]
     },
     "execution_count": 34,
     "metadata": {},
     "output_type": "execute_result"
    }
   ],
   "source": [
    "df1"
   ]
  },
  {
   "cell_type": "code",
   "execution_count": 35,
   "id": "574aed04",
   "metadata": {},
   "outputs": [
    {
     "data": {
      "text/html": [
       "<div>\n",
       "<style scoped>\n",
       "    .dataframe tbody tr th:only-of-type {\n",
       "        vertical-align: middle;\n",
       "    }\n",
       "\n",
       "    .dataframe tbody tr th {\n",
       "        vertical-align: top;\n",
       "    }\n",
       "\n",
       "    .dataframe thead th {\n",
       "        text-align: right;\n",
       "    }\n",
       "</style>\n",
       "<table border=\"1\" class=\"dataframe\">\n",
       "  <thead>\n",
       "    <tr style=\"text-align: right;\">\n",
       "      <th></th>\n",
       "      <th>uid</th>\n",
       "      <th>regit_date</th>\n",
       "      <th>gender</th>\n",
       "      <th>age</th>\n",
       "      <th>income</th>\n",
       "    </tr>\n",
       "  </thead>\n",
       "  <tbody>\n",
       "    <tr>\n",
       "      <th>0</th>\n",
       "      <td>81200457</td>\n",
       "      <td>2016-10-30</td>\n",
       "      <td>M</td>\n",
       "      <td>23.0</td>\n",
       "      <td>6500.0</td>\n",
       "    </tr>\n",
       "    <tr>\n",
       "      <th>1</th>\n",
       "      <td>81201135</td>\n",
       "      <td>2016-11-08</td>\n",
       "      <td>M</td>\n",
       "      <td>27.0</td>\n",
       "      <td>10300.0</td>\n",
       "    </tr>\n",
       "    <tr>\n",
       "      <th>2</th>\n",
       "      <td>80043782</td>\n",
       "      <td>2016-10-13</td>\n",
       "      <td>F</td>\n",
       "      <td>27.0</td>\n",
       "      <td>13500.0</td>\n",
       "    </tr>\n",
       "    <tr>\n",
       "      <th>3</th>\n",
       "      <td>84639281</td>\n",
       "      <td>2017-04-17</td>\n",
       "      <td>M</td>\n",
       "      <td>26.0</td>\n",
       "      <td>6000.0</td>\n",
       "    </tr>\n",
       "    <tr>\n",
       "      <th>4</th>\n",
       "      <td>73499801</td>\n",
       "      <td>2016-03-21</td>\n",
       "      <td>M</td>\n",
       "      <td>26.0</td>\n",
       "      <td>4500.0</td>\n",
       "    </tr>\n",
       "    <tr>\n",
       "      <th>5</th>\n",
       "      <td>72399510</td>\n",
       "      <td>2016-01-18</td>\n",
       "      <td>M</td>\n",
       "      <td>19.0</td>\n",
       "      <td>4500.0</td>\n",
       "    </tr>\n",
       "    <tr>\n",
       "      <th>6</th>\n",
       "      <td>63881943</td>\n",
       "      <td>2015-10-07</td>\n",
       "      <td>M</td>\n",
       "      <td>21.0</td>\n",
       "      <td>10000.0</td>\n",
       "    </tr>\n",
       "    <tr>\n",
       "      <th>7</th>\n",
       "      <td>35442690</td>\n",
       "      <td>2015-04-10</td>\n",
       "      <td>F</td>\n",
       "      <td>21.0</td>\n",
       "      <td>5800.0</td>\n",
       "    </tr>\n",
       "    <tr>\n",
       "      <th>8</th>\n",
       "      <td>77638351</td>\n",
       "      <td>2016-07-12</td>\n",
       "      <td>M</td>\n",
       "      <td>25.0</td>\n",
       "      <td>18000.0</td>\n",
       "    </tr>\n",
       "    <tr>\n",
       "      <th>9</th>\n",
       "      <td>85200189</td>\n",
       "      <td>2017-05-18</td>\n",
       "      <td>M</td>\n",
       "      <td>22.0</td>\n",
       "      <td>18000.0</td>\n",
       "    </tr>\n",
       "  </tbody>\n",
       "</table>\n",
       "</div>"
      ],
      "text/plain": [
       "        uid regit_date gender   age   income\n",
       "0  81200457 2016-10-30      M  23.0   6500.0\n",
       "1  81201135 2016-11-08      M  27.0  10300.0\n",
       "2  80043782 2016-10-13      F  27.0  13500.0\n",
       "3  84639281 2017-04-17      M  26.0   6000.0\n",
       "4  73499801 2016-03-21      M  26.0   4500.0\n",
       "5  72399510 2016-01-18      M  19.0   4500.0\n",
       "6  63881943 2015-10-07      M  21.0  10000.0\n",
       "7  35442690 2015-04-10      F  21.0   5800.0\n",
       "8  77638351 2016-07-12      M  25.0  18000.0\n",
       "9  85200189 2017-05-18      M  22.0  18000.0"
      ]
     },
     "execution_count": 35,
     "metadata": {},
     "output_type": "execute_result"
    }
   ],
   "source": [
    "# 前向填补，用上一个数据填补\n",
    "# ffill\n",
    "df1.fillna(method='ffill')"
   ]
  },
  {
   "cell_type": "code",
   "execution_count": 36,
   "id": "018b50e6",
   "metadata": {},
   "outputs": [
    {
     "data": {
      "text/html": [
       "<div>\n",
       "<style scoped>\n",
       "    .dataframe tbody tr th:only-of-type {\n",
       "        vertical-align: middle;\n",
       "    }\n",
       "\n",
       "    .dataframe tbody tr th {\n",
       "        vertical-align: top;\n",
       "    }\n",
       "\n",
       "    .dataframe thead th {\n",
       "        text-align: right;\n",
       "    }\n",
       "</style>\n",
       "<table border=\"1\" class=\"dataframe\">\n",
       "  <thead>\n",
       "    <tr style=\"text-align: right;\">\n",
       "      <th></th>\n",
       "      <th>uid</th>\n",
       "      <th>regit_date</th>\n",
       "      <th>gender</th>\n",
       "      <th>age</th>\n",
       "      <th>income</th>\n",
       "    </tr>\n",
       "  </thead>\n",
       "  <tbody>\n",
       "    <tr>\n",
       "      <th>0</th>\n",
       "      <td>81200457</td>\n",
       "      <td>2016-10-30</td>\n",
       "      <td>M</td>\n",
       "      <td>23.0</td>\n",
       "      <td>6500.0</td>\n",
       "    </tr>\n",
       "    <tr>\n",
       "      <th>1</th>\n",
       "      <td>81201135</td>\n",
       "      <td>2016-11-08</td>\n",
       "      <td>M</td>\n",
       "      <td>27.0</td>\n",
       "      <td>10300.0</td>\n",
       "    </tr>\n",
       "    <tr>\n",
       "      <th>2</th>\n",
       "      <td>80043782</td>\n",
       "      <td>2016-10-13</td>\n",
       "      <td>F</td>\n",
       "      <td>26.0</td>\n",
       "      <td>13500.0</td>\n",
       "    </tr>\n",
       "    <tr>\n",
       "      <th>3</th>\n",
       "      <td>84639281</td>\n",
       "      <td>2017-04-17</td>\n",
       "      <td>M</td>\n",
       "      <td>26.0</td>\n",
       "      <td>6000.0</td>\n",
       "    </tr>\n",
       "    <tr>\n",
       "      <th>4</th>\n",
       "      <td>73499801</td>\n",
       "      <td>2016-03-21</td>\n",
       "      <td>M</td>\n",
       "      <td>19.0</td>\n",
       "      <td>4500.0</td>\n",
       "    </tr>\n",
       "    <tr>\n",
       "      <th>5</th>\n",
       "      <td>72399510</td>\n",
       "      <td>2016-01-18</td>\n",
       "      <td>M</td>\n",
       "      <td>19.0</td>\n",
       "      <td>10000.0</td>\n",
       "    </tr>\n",
       "    <tr>\n",
       "      <th>6</th>\n",
       "      <td>63881943</td>\n",
       "      <td>2015-10-07</td>\n",
       "      <td>M</td>\n",
       "      <td>21.0</td>\n",
       "      <td>10000.0</td>\n",
       "    </tr>\n",
       "    <tr>\n",
       "      <th>7</th>\n",
       "      <td>35442690</td>\n",
       "      <td>2015-04-10</td>\n",
       "      <td>F</td>\n",
       "      <td>25.0</td>\n",
       "      <td>5800.0</td>\n",
       "    </tr>\n",
       "    <tr>\n",
       "      <th>8</th>\n",
       "      <td>77638351</td>\n",
       "      <td>2016-07-12</td>\n",
       "      <td>M</td>\n",
       "      <td>25.0</td>\n",
       "      <td>18000.0</td>\n",
       "    </tr>\n",
       "    <tr>\n",
       "      <th>9</th>\n",
       "      <td>85200189</td>\n",
       "      <td>2017-05-18</td>\n",
       "      <td>M</td>\n",
       "      <td>22.0</td>\n",
       "      <td>NaN</td>\n",
       "    </tr>\n",
       "  </tbody>\n",
       "</table>\n",
       "</div>"
      ],
      "text/plain": [
       "        uid regit_date gender   age   income\n",
       "0  81200457 2016-10-30      M  23.0   6500.0\n",
       "1  81201135 2016-11-08      M  27.0  10300.0\n",
       "2  80043782 2016-10-13      F  26.0  13500.0\n",
       "3  84639281 2017-04-17      M  26.0   6000.0\n",
       "4  73499801 2016-03-21      M  19.0   4500.0\n",
       "5  72399510 2016-01-18      M  19.0  10000.0\n",
       "6  63881943 2015-10-07      M  21.0  10000.0\n",
       "7  35442690 2015-04-10      F  25.0   5800.0\n",
       "8  77638351 2016-07-12      M  25.0  18000.0\n",
       "9  85200189 2017-05-18      M  22.0      NaN"
      ]
     },
     "execution_count": 36,
     "metadata": {},
     "output_type": "execute_result"
    }
   ],
   "source": [
    "# 后向填补,用下一个数据填补\n",
    "# bfill\n",
    "df1.fillna(method='bfill')"
   ]
  },
  {
   "cell_type": "code",
   "execution_count": 37,
   "id": "a169cca8",
   "metadata": {},
   "outputs": [
    {
     "data": {
      "text/plain": [
       "0    23.0\n",
       "1    27.0\n",
       "2    26.5\n",
       "3    26.0\n",
       "4    22.5\n",
       "5    19.0\n",
       "6    21.0\n",
       "7    23.0\n",
       "8    25.0\n",
       "9    22.0\n",
       "Name: age, dtype: float64"
      ]
     },
     "execution_count": 37,
     "metadata": {},
     "output_type": "execute_result"
    }
   ],
   "source": [
    "# 插值法，前一个和后一个相加除2\n",
    "# interpolate - 插\n",
    "df1.age.interpolate(method='linear')"
   ]
  },
  {
   "cell_type": "code",
   "execution_count": 38,
   "id": "eef151b3",
   "metadata": {},
   "outputs": [
    {
     "data": {
      "text/plain": [
       "0    23.0\n",
       "1    27.0\n",
       "2    26.5\n",
       "3    26.0\n",
       "4    22.5\n",
       "5    19.0\n",
       "6    21.0\n",
       "7    23.0\n",
       "8    25.0\n",
       "9    22.0\n",
       "Name: age, dtype: float64"
      ]
     },
     "execution_count": 38,
     "metadata": {},
     "output_type": "execute_result"
    }
   ],
   "source": [
    "# 多项插值\n",
    "# polynomial - 多项式\n",
    "df1.age.interpolate(method='polynomial',order=1)"
   ]
  },
  {
   "cell_type": "code",
   "execution_count": 39,
   "id": "2b8b991a",
   "metadata": {},
   "outputs": [
    {
     "data": {
      "text/plain": [
       "0    23.000000\n",
       "1    27.000000\n",
       "2    27.875282\n",
       "3    26.000000\n",
       "4    21.748310\n",
       "5    19.000000\n",
       "6    21.000000\n",
       "7    23.939144\n",
       "8    25.000000\n",
       "9    22.000000\n",
       "Name: age, dtype: float64"
      ]
     },
     "execution_count": 39,
     "metadata": {},
     "output_type": "execute_result"
    }
   ],
   "source": [
    "df1.age.interpolate(method='polynomial',order=2)"
   ]
  },
  {
   "cell_type": "markdown",
   "id": "1044264d",
   "metadata": {},
   "source": [
    "# P46 异常值处理"
   ]
  },
  {
   "cell_type": "code",
   "execution_count": 40,
   "id": "d56cde1c",
   "metadata": {},
   "outputs": [],
   "source": [
    "sunspots = pd.read_csv('sunspots.csv')"
   ]
  },
  {
   "cell_type": "code",
   "execution_count": 41,
   "id": "7ca11425",
   "metadata": {},
   "outputs": [
    {
     "data": {
      "text/html": [
       "<div>\n",
       "<style scoped>\n",
       "    .dataframe tbody tr th:only-of-type {\n",
       "        vertical-align: middle;\n",
       "    }\n",
       "\n",
       "    .dataframe tbody tr th {\n",
       "        vertical-align: top;\n",
       "    }\n",
       "\n",
       "    .dataframe thead th {\n",
       "        text-align: right;\n",
       "    }\n",
       "</style>\n",
       "<table border=\"1\" class=\"dataframe\">\n",
       "  <thead>\n",
       "    <tr style=\"text-align: right;\">\n",
       "      <th></th>\n",
       "      <th>year</th>\n",
       "      <th>counts</th>\n",
       "    </tr>\n",
       "  </thead>\n",
       "  <tbody>\n",
       "    <tr>\n",
       "      <th>0</th>\n",
       "      <td>1700</td>\n",
       "      <td>5.0</td>\n",
       "    </tr>\n",
       "    <tr>\n",
       "      <th>1</th>\n",
       "      <td>1701</td>\n",
       "      <td>11.0</td>\n",
       "    </tr>\n",
       "    <tr>\n",
       "      <th>2</th>\n",
       "      <td>1702</td>\n",
       "      <td>16.0</td>\n",
       "    </tr>\n",
       "    <tr>\n",
       "      <th>3</th>\n",
       "      <td>1703</td>\n",
       "      <td>23.0</td>\n",
       "    </tr>\n",
       "    <tr>\n",
       "      <th>4</th>\n",
       "      <td>1704</td>\n",
       "      <td>36.0</td>\n",
       "    </tr>\n",
       "    <tr>\n",
       "      <th>...</th>\n",
       "      <td>...</td>\n",
       "      <td>...</td>\n",
       "    </tr>\n",
       "    <tr>\n",
       "      <th>284</th>\n",
       "      <td>1984</td>\n",
       "      <td>45.9</td>\n",
       "    </tr>\n",
       "    <tr>\n",
       "      <th>285</th>\n",
       "      <td>1985</td>\n",
       "      <td>17.9</td>\n",
       "    </tr>\n",
       "    <tr>\n",
       "      <th>286</th>\n",
       "      <td>1986</td>\n",
       "      <td>13.4</td>\n",
       "    </tr>\n",
       "    <tr>\n",
       "      <th>287</th>\n",
       "      <td>1987</td>\n",
       "      <td>29.2</td>\n",
       "    </tr>\n",
       "    <tr>\n",
       "      <th>288</th>\n",
       "      <td>1988</td>\n",
       "      <td>100.2</td>\n",
       "    </tr>\n",
       "  </tbody>\n",
       "</table>\n",
       "<p>289 rows × 2 columns</p>\n",
       "</div>"
      ],
      "text/plain": [
       "     year  counts\n",
       "0    1700     5.0\n",
       "1    1701    11.0\n",
       "2    1702    16.0\n",
       "3    1703    23.0\n",
       "4    1704    36.0\n",
       "..    ...     ...\n",
       "284  1984    45.9\n",
       "285  1985    17.9\n",
       "286  1986    13.4\n",
       "287  1987    29.2\n",
       "288  1988   100.2\n",
       "\n",
       "[289 rows x 2 columns]"
      ]
     },
     "execution_count": 41,
     "metadata": {},
     "output_type": "execute_result"
    }
   ],
   "source": [
    "sunspots"
   ]
  },
  {
   "cell_type": "code",
   "execution_count": 42,
   "id": "46032dd3",
   "metadata": {},
   "outputs": [],
   "source": [
    "# 均值\n",
    "xbar = sunspots.counts.mean()"
   ]
  },
  {
   "cell_type": "code",
   "execution_count": 43,
   "id": "293e8f4b",
   "metadata": {},
   "outputs": [
    {
     "data": {
      "text/plain": [
       "48.61349480968862"
      ]
     },
     "execution_count": 43,
     "metadata": {},
     "output_type": "execute_result"
    }
   ],
   "source": [
    "xbar"
   ]
  },
  {
   "cell_type": "code",
   "execution_count": 44,
   "id": "73b5a3cb",
   "metadata": {},
   "outputs": [],
   "source": [
    "# 标准差\n",
    "xstd = sunspots.counts.std()"
   ]
  },
  {
   "cell_type": "code",
   "execution_count": 45,
   "id": "71a9e14b",
   "metadata": {},
   "outputs": [
    {
     "data": {
      "text/plain": [
       "39.47410268182879"
      ]
     },
     "execution_count": 45,
     "metadata": {},
     "output_type": "execute_result"
    }
   ],
   "source": [
    "xstd"
   ]
  },
  {
   "cell_type": "code",
   "execution_count": 46,
   "id": "38452341",
   "metadata": {},
   "outputs": [
    {
     "data": {
      "text/plain": [
       "127.5617001733462"
      ]
     },
     "execution_count": 46,
     "metadata": {},
     "output_type": "execute_result"
    }
   ],
   "source": [
    "# 上限\n",
    "xbar+2*xstd"
   ]
  },
  {
   "cell_type": "code",
   "execution_count": 47,
   "id": "dea5b742",
   "metadata": {},
   "outputs": [
    {
     "data": {
      "text/plain": [
       "-30.33471055396896"
      ]
     },
     "execution_count": 47,
     "metadata": {},
     "output_type": "execute_result"
    }
   ],
   "source": [
    "# 下限\n",
    "xbar-2*xstd"
   ]
  },
  {
   "cell_type": "code",
   "execution_count": 48,
   "id": "a0087cec",
   "metadata": {},
   "outputs": [
    {
     "data": {
      "text/plain": [
       "True"
      ]
     },
     "execution_count": 48,
     "metadata": {},
     "output_type": "execute_result"
    }
   ],
   "source": [
    "# 查看超过上限情况\n",
    "any(sunspots.counts > xbar+2*xstd)"
   ]
  },
  {
   "cell_type": "code",
   "execution_count": 49,
   "id": "4b3f0690",
   "metadata": {},
   "outputs": [
    {
     "data": {
      "text/plain": [
       "False"
      ]
     },
     "execution_count": 49,
     "metadata": {},
     "output_type": "execute_result"
    }
   ],
   "source": [
    "# 下限情况\n",
    "any(sunspots.counts < xbar-2*xstd)"
   ]
  },
  {
   "cell_type": "code",
   "execution_count": 50,
   "id": "6a3cc946",
   "metadata": {},
   "outputs": [
    {
     "data": {
      "text/plain": [
       "<AxesSubplot:ylabel='Frequency'>"
      ]
     },
     "execution_count": 50,
     "metadata": {},
     "output_type": "execute_result"
    },
    {
     "data": {
      "image/png": "[encoded data removed]",
      "text/plain": [
       "<Figure size 432x288 with 1 Axes>"
      ]
     },
     "metadata": {
      "needs_background": "light"
     },
     "output_type": "display_data"
    }
   ],
   "source": [
    "# 分布图\n",
    "# hist - 直方图\n",
    "sunspots.counts.plot(kind='hist')"
   ]
  },
  {
   "cell_type": "code",
   "execution_count": 51,
   "id": "8b90157a",
   "metadata": {},
   "outputs": [],
   "source": [
    "Q1 = sunspots.counts.quantile(q=0.25) #下四分位数\n",
    "Q2 = sunspots.counts.quantile(q=0.75) #上四分位数\n",
    "IQR = Q2 - Q1 #分位差"
   ]
  },
  {
   "cell_type": "code",
   "execution_count": 52,
   "id": "e5aef034",
   "metadata": {},
   "outputs": [],
   "source": [
    "UL = Q2 + 1.5*IQR #异常值上限"
   ]
  },
  {
   "cell_type": "code",
   "execution_count": 53,
   "id": "9ed23089",
   "metadata": {},
   "outputs": [
    {
     "data": {
      "text/plain": [
       "148.85000000000002"
      ]
     },
     "execution_count": 53,
     "metadata": {},
     "output_type": "execute_result"
    }
   ],
   "source": [
    "UL"
   ]
  },
  {
   "cell_type": "code",
   "execution_count": 54,
   "id": "a98d0618",
   "metadata": {},
   "outputs": [
    {
     "data": {
      "text/plain": [
       "-64.35000000000001"
      ]
     },
     "execution_count": 54,
     "metadata": {},
     "output_type": "execute_result"
    }
   ],
   "source": [
    "Q1 - 1.5*IQR #异常值下限"
   ]
  },
  {
   "cell_type": "code",
   "execution_count": 55,
   "id": "1137cdd0",
   "metadata": {},
   "outputs": [
    {
     "data": {
      "text/plain": [
       "True"
      ]
     },
     "execution_count": 55,
     "metadata": {},
     "output_type": "execute_result"
    }
   ],
   "source": [
    "# 检测是否有异常值\n",
    "any(sunspots.counts > Q2 + 1.5*IQR)"
   ]
  },
  {
   "cell_type": "code",
   "execution_count": 56,
   "id": "c2759a9a",
   "metadata": {},
   "outputs": [
    {
     "data": {
      "text/plain": [
       "False"
      ]
     },
     "execution_count": 56,
     "metadata": {},
     "output_type": "execute_result"
    }
   ],
   "source": [
    "any(sunspots.counts < Q1 - 1.5*IQR)"
   ]
  },
  {
   "cell_type": "code",
   "execution_count": 57,
   "id": "ddf64ab9",
   "metadata": {},
   "outputs": [
    {
     "data": {
      "text/plain": [
       "<AxesSubplot:>"
      ]
     },
     "execution_count": 57,
     "metadata": {},
     "output_type": "execute_result"
    },
    {
     "data": {
      "image/png": "[encoded data removed]",
      "text/plain": [
       "<Figure size 432x288 with 1 Axes>"
      ]
     },
     "metadata": {
      "needs_background": "light"
     },
     "output_type": "display_data"
    }
   ],
   "source": [
    "# 箱线图\n",
    "sunspots.counts.plot(kind='box')"
   ]
  },
  {
   "cell_type": "code",
   "execution_count": 58,
   "id": "2ec85c9e",
   "metadata": {},
   "outputs": [],
   "source": [
    "# 处理异常值"
   ]
  },
  {
   "cell_type": "code",
   "execution_count": 59,
   "id": "4fe1be52",
   "metadata": {},
   "outputs": [
    {
     "data": {
      "text/plain": [
       "count    289.000000\n",
       "mean      48.613495\n",
       "std       39.474103\n",
       "min        0.000000\n",
       "25%       15.600000\n",
       "50%       39.000000\n",
       "75%       68.900000\n",
       "max      190.200000\n",
       "Name: counts, dtype: float64"
      ]
     },
     "execution_count": 59,
     "metadata": {},
     "output_type": "execute_result"
    }
   ],
   "source": [
    "sunspots.counts.describe()"
   ]
  },
  {
   "cell_type": "code",
   "execution_count": 60,
   "id": "2e299d59",
   "metadata": {},
   "outputs": [],
   "source": [
    "# 1、替换法\n",
    "# 找到小于上限的最大值\n",
    "replace_value = sunspots.counts[sunspots.counts < UL].max()"
   ]
  },
  {
   "cell_type": "code",
   "execution_count": 61,
   "id": "c48f9b4d",
   "metadata": {},
   "outputs": [],
   "source": [
    "# 将所有大于上限的值都替换成replace_value\n",
    "sunspots.loc[sunspots.counts > UL,'counts'] = replace_value"
   ]
  },
  {
   "cell_type": "code",
   "execution_count": 62,
   "id": "162c012c",
   "metadata": {},
   "outputs": [
    {
     "data": {
      "text/plain": [
       "141.7"
      ]
     },
     "execution_count": 62,
     "metadata": {},
     "output_type": "execute_result"
    }
   ],
   "source": [
    "replace_value"
   ]
  },
  {
   "cell_type": "code",
   "execution_count": 63,
   "id": "0fb03644",
   "metadata": {},
   "outputs": [
    {
     "data": {
      "text/plain": [
       "count    289.000000\n",
       "mean      48.066090\n",
       "std       37.918895\n",
       "min        0.000000\n",
       "25%       15.600000\n",
       "50%       39.000000\n",
       "75%       68.900000\n",
       "max      141.700000\n",
       "Name: counts, dtype: float64"
      ]
     },
     "execution_count": 63,
     "metadata": {},
     "output_type": "execute_result"
    }
   ],
   "source": [
    "sunspots.counts.describe()"
   ]
  },
  {
   "cell_type": "code",
   "execution_count": 64,
   "id": "bdc50331",
   "metadata": {},
   "outputs": [],
   "source": [
    "# 2、分位数法\n",
    "P1 = sunspots.counts.quantile(0.01) # 1%分位数\n",
    "P99 = sunspots.counts.quantile(0.99) # 99%分位数"
   ]
  },
  {
   "cell_type": "code",
   "execution_count": 65,
   "id": "03991b0f",
   "metadata": {},
   "outputs": [],
   "source": [
    "# 低于P1的用P1替换\n",
    "# 大于P2的用P2替换"
   ]
  },
  {
   "cell_type": "code",
   "execution_count": 66,
   "id": "68386659",
   "metadata": {},
   "outputs": [],
   "source": [
    "sunspots['counts_new'] = sunspots['counts']"
   ]
  },
  {
   "cell_type": "code",
   "execution_count": 67,
   "id": "c18edf57",
   "metadata": {},
   "outputs": [],
   "source": [
    "sunspots.loc[sunspots['counts_new'] > P99,'counts_new '] = P99"
   ]
  },
  {
   "cell_type": "code",
   "execution_count": 68,
   "id": "8e89d042",
   "metadata": {},
   "outputs": [],
   "source": [
    "sunspots.loc[sunspots['counts_new'] < P1,'counts_new'] = P1"
   ]
  },
  {
   "cell_type": "code",
   "execution_count": 69,
   "id": "df9f462a",
   "metadata": {},
   "outputs": [
    {
     "data": {
      "text/html": [
       "<div>\n",
       "<style scoped>\n",
       "    .dataframe tbody tr th:only-of-type {\n",
       "        vertical-align: middle;\n",
       "    }\n",
       "\n",
       "    .dataframe tbody tr th {\n",
       "        vertical-align: top;\n",
       "    }\n",
       "\n",
       "    .dataframe thead th {\n",
       "        text-align: right;\n",
       "    }\n",
       "</style>\n",
       "<table border=\"1\" class=\"dataframe\">\n",
       "  <thead>\n",
       "    <tr style=\"text-align: right;\">\n",
       "      <th></th>\n",
       "      <th>year</th>\n",
       "      <th>counts</th>\n",
       "      <th>counts_new</th>\n",
       "      <th>counts_new</th>\n",
       "    </tr>\n",
       "  </thead>\n",
       "  <tbody>\n",
       "    <tr>\n",
       "      <th>count</th>\n",
       "      <td>289.000000</td>\n",
       "      <td>289.000000</td>\n",
       "      <td>289.000000</td>\n",
       "      <td>0.0</td>\n",
       "    </tr>\n",
       "    <tr>\n",
       "      <th>mean</th>\n",
       "      <td>1844.000000</td>\n",
       "      <td>48.066090</td>\n",
       "      <td>48.078879</td>\n",
       "      <td>NaN</td>\n",
       "    </tr>\n",
       "    <tr>\n",
       "      <th>std</th>\n",
       "      <td>83.571327</td>\n",
       "      <td>37.918895</td>\n",
       "      <td>37.902830</td>\n",
       "      <td>NaN</td>\n",
       "    </tr>\n",
       "    <tr>\n",
       "      <th>min</th>\n",
       "      <td>1700.000000</td>\n",
       "      <td>0.000000</td>\n",
       "      <td>1.232000</td>\n",
       "      <td>NaN</td>\n",
       "    </tr>\n",
       "    <tr>\n",
       "      <th>25%</th>\n",
       "      <td>1772.000000</td>\n",
       "      <td>15.600000</td>\n",
       "      <td>15.600000</td>\n",
       "      <td>NaN</td>\n",
       "    </tr>\n",
       "    <tr>\n",
       "      <th>50%</th>\n",
       "      <td>1844.000000</td>\n",
       "      <td>39.000000</td>\n",
       "      <td>39.000000</td>\n",
       "      <td>NaN</td>\n",
       "    </tr>\n",
       "    <tr>\n",
       "      <th>75%</th>\n",
       "      <td>1916.000000</td>\n",
       "      <td>68.900000</td>\n",
       "      <td>68.900000</td>\n",
       "      <td>NaN</td>\n",
       "    </tr>\n",
       "    <tr>\n",
       "      <th>max</th>\n",
       "      <td>1988.000000</td>\n",
       "      <td>141.700000</td>\n",
       "      <td>141.700000</td>\n",
       "      <td>NaN</td>\n",
       "    </tr>\n",
       "  </tbody>\n",
       "</table>\n",
       "</div>"
      ],
      "text/plain": [
       "              year      counts  counts_new  counts_new \n",
       "count   289.000000  289.000000  289.000000          0.0\n",
       "mean   1844.000000   48.066090   48.078879          NaN\n",
       "std      83.571327   37.918895   37.902830          NaN\n",
       "min    1700.000000    0.000000    1.232000          NaN\n",
       "25%    1772.000000   15.600000   15.600000          NaN\n",
       "50%    1844.000000   39.000000   39.000000          NaN\n",
       "75%    1916.000000   68.900000   68.900000          NaN\n",
       "max    1988.000000  141.700000  141.700000          NaN"
      ]
     },
     "execution_count": 69,
     "metadata": {},
     "output_type": "execute_result"
    }
   ],
   "source": [
    "sunspots.describe()"
   ]
  },
  {
   "cell_type": "markdown",
   "id": "75a445b6",
   "metadata": {},
   "source": [
    "# P47 数据离散化"
   ]
  },
  {
   "cell_type": "code",
   "execution_count": 70,
   "id": "e6db05ea",
   "metadata": {},
   "outputs": [],
   "source": [
    "# 数据离散化就是分箱\n",
    "# 分箱的方法是等等频或等宽"
   ]
  },
  {
   "cell_type": "code",
   "execution_count": 86,
   "id": "614a2063",
   "metadata": {},
   "outputs": [],
   "source": [
    "sunspots1 = pd.read_csv('sunspots.csv')"
   ]
  },
  {
   "cell_type": "code",
   "execution_count": 87,
   "id": "e16418fe",
   "metadata": {},
   "outputs": [
    {
     "data": {
      "text/html": [
       "<div>\n",
       "<style scoped>\n",
       "    .dataframe tbody tr th:only-of-type {\n",
       "        vertical-align: middle;\n",
       "    }\n",
       "\n",
       "    .dataframe tbody tr th {\n",
       "        vertical-align: top;\n",
       "    }\n",
       "\n",
       "    .dataframe thead th {\n",
       "        text-align: right;\n",
       "    }\n",
       "</style>\n",
       "<table border=\"1\" class=\"dataframe\">\n",
       "  <thead>\n",
       "    <tr style=\"text-align: right;\">\n",
       "      <th></th>\n",
       "      <th>year</th>\n",
       "      <th>counts</th>\n",
       "    </tr>\n",
       "  </thead>\n",
       "  <tbody>\n",
       "    <tr>\n",
       "      <th>0</th>\n",
       "      <td>1700</td>\n",
       "      <td>5.0</td>\n",
       "    </tr>\n",
       "    <tr>\n",
       "      <th>1</th>\n",
       "      <td>1701</td>\n",
       "      <td>11.0</td>\n",
       "    </tr>\n",
       "    <tr>\n",
       "      <th>2</th>\n",
       "      <td>1702</td>\n",
       "      <td>16.0</td>\n",
       "    </tr>\n",
       "    <tr>\n",
       "      <th>3</th>\n",
       "      <td>1703</td>\n",
       "      <td>23.0</td>\n",
       "    </tr>\n",
       "    <tr>\n",
       "      <th>4</th>\n",
       "      <td>1704</td>\n",
       "      <td>36.0</td>\n",
       "    </tr>\n",
       "    <tr>\n",
       "      <th>...</th>\n",
       "      <td>...</td>\n",
       "      <td>...</td>\n",
       "    </tr>\n",
       "    <tr>\n",
       "      <th>284</th>\n",
       "      <td>1984</td>\n",
       "      <td>45.9</td>\n",
       "    </tr>\n",
       "    <tr>\n",
       "      <th>285</th>\n",
       "      <td>1985</td>\n",
       "      <td>17.9</td>\n",
       "    </tr>\n",
       "    <tr>\n",
       "      <th>286</th>\n",
       "      <td>1986</td>\n",
       "      <td>13.4</td>\n",
       "    </tr>\n",
       "    <tr>\n",
       "      <th>287</th>\n",
       "      <td>1987</td>\n",
       "      <td>29.2</td>\n",
       "    </tr>\n",
       "    <tr>\n",
       "      <th>288</th>\n",
       "      <td>1988</td>\n",
       "      <td>100.2</td>\n",
       "    </tr>\n",
       "  </tbody>\n",
       "</table>\n",
       "<p>289 rows × 2 columns</p>\n",
       "</div>"
      ],
      "text/plain": [
       "     year  counts\n",
       "0    1700     5.0\n",
       "1    1701    11.0\n",
       "2    1702    16.0\n",
       "3    1703    23.0\n",
       "4    1704    36.0\n",
       "..    ...     ...\n",
       "284  1984    45.9\n",
       "285  1985    17.9\n",
       "286  1986    13.4\n",
       "287  1987    29.2\n",
       "288  1988   100.2\n",
       "\n",
       "[289 rows x 2 columns]"
      ]
     },
     "execution_count": 87,
     "metadata": {},
     "output_type": "execute_result"
    }
   ],
   "source": [
    "sunspots1"
   ]
  },
  {
   "cell_type": "code",
   "execution_count": 90,
   "id": "80fa91fc",
   "metadata": {},
   "outputs": [],
   "source": [
    "# 分段\n",
    "# 分成四段\n",
    "# （1，5）\n",
    "sunspots1['counts_bin'] = pd.cut(sunspots1['counts'],4)"
   ]
  },
  {
   "cell_type": "code",
   "execution_count": 91,
   "id": "9571ce26",
   "metadata": {},
   "outputs": [
    {
     "data": {
      "text/plain": [
       "(-0.19, 47.55]     171\n",
       "(47.55, 95.1]       78\n",
       "(95.1, 142.65]      33\n",
       "(142.65, 190.2]      7\n",
       "Name: counts_bin, dtype: int64"
      ]
     },
     "execution_count": 91,
     "metadata": {},
     "output_type": "execute_result"
    }
   ],
   "source": [
    "# 前一列是分段范围\n",
    "sunspots1['counts_bin'].value_counts()"
   ]
  },
  {
   "cell_type": "code",
   "execution_count": 101,
   "id": "431ed992",
   "metadata": {},
   "outputs": [],
   "source": [
    "# labels = 标签\n",
    "sunspots1['counts_bin'] = pd.cut(sunspots1['counts'],4,labels=range(1,5))"
   ]
  },
  {
   "cell_type": "code",
   "execution_count": 102,
   "id": "501edd0c",
   "metadata": {},
   "outputs": [
    {
     "data": {
      "text/plain": [
       "1    171\n",
       "2     78\n",
       "3     33\n",
       "4      7\n",
       "Name: counts_bin, dtype: int64"
      ]
     },
     "execution_count": 102,
     "metadata": {},
     "output_type": "execute_result"
    }
   ],
   "source": [
    "sunspots1['counts_bin'].value_counts()"
   ]
  },
  {
   "cell_type": "code",
   "execution_count": 103,
   "id": "7fb965da",
   "metadata": {},
   "outputs": [
    {
     "data": {
      "text/plain": [
       "<AxesSubplot:>"
      ]
     },
     "execution_count": 103,
     "metadata": {},
     "output_type": "execute_result"
    },
    {
     "data": {
      "image/png": "[encoded data removed]",
      "text/plain": [
       "<Figure size 432x288 with 1 Axes>"
      ]
     },
     "metadata": {
      "needs_background": "light"
     },
     "output_type": "display_data"
    }
   ],
   "source": [
    "sunspots1['counts_bin'].hist()"
   ]
  },
  {
   "cell_type": "code",
   "execution_count": 104,
   "id": "6eb1dfe3",
   "metadata": {},
   "outputs": [],
   "source": [
    "k=4\n",
    "w=[i/k for i in range(k+1)]"
   ]
  },
  {
   "cell_type": "code",
   "execution_count": 106,
   "id": "6c77349b",
   "metadata": {},
   "outputs": [
    {
     "data": {
      "text/plain": [
       "[0.0, 0.25, 0.5, 0.75, 1.0]"
      ]
     },
     "execution_count": 106,
     "metadata": {},
     "output_type": "execute_result"
    }
   ],
   "source": [
    "# 分段标准\n",
    "w"
   ]
  },
  {
   "cell_type": "code",
   "execution_count": 111,
   "id": "69e2d093",
   "metadata": {},
   "outputs": [],
   "source": [
    "pd.cut?"
   ]
  },
  {
   "cell_type": "code",
   "execution_count": 110,
   "id": "5e27c79e",
   "metadata": {},
   "outputs": [],
   "source": [
    "# 等频分段\n",
    "sunspots1['count_bin1'] = pd.qcut(sunspots1['counts'],w,labels=range(1,5))"
   ]
  },
  {
   "cell_type": "code",
   "execution_count": 113,
   "id": "dfd50b40",
   "metadata": {},
   "outputs": [
    {
     "data": {
      "text/plain": [
       "<AxesSubplot:>"
      ]
     },
     "execution_count": 113,
     "metadata": {},
     "output_type": "execute_result"
    },
    {
     "data": {
      "image/png": "[encoded data removed]",
      "text/plain": [
       "<Figure size 432x288 with 1 Axes>"
      ]
     },
     "metadata": {
      "needs_background": "light"
     },
     "output_type": "display_data"
    }
   ],
   "source": [
    "sunspots1['count_bin1'].hist()"
   ]
  },
  {
   "cell_type": "code",
   "execution_count": 116,
   "id": "0d45ddf9",
   "metadata": {},
   "outputs": [],
   "source": [
    "# 直接算出分位数\n",
    "k=4\n",
    "w1 = sunspots1['counts'].quantile([i/k for i in range(k+1)])"
   ]
  },
  {
   "cell_type": "code",
   "execution_count": 115,
   "id": "7192c777",
   "metadata": {},
   "outputs": [
    {
     "data": {
      "text/plain": [
       "0.00      0.0\n",
       "0.25     15.6\n",
       "0.50     39.0\n",
       "0.75     68.9\n",
       "1.00    190.2\n",
       "Name: counts, dtype: float64"
      ]
     },
     "execution_count": 115,
     "metadata": {},
     "output_type": "execute_result"
    }
   ],
   "source": [
    "w1"
   ]
  },
  {
   "cell_type": "code",
   "execution_count": 118,
   "id": "ba262e67",
   "metadata": {},
   "outputs": [],
   "source": [
    "sunspots1['counts_bin2']=pd.cut(sunspots1['counts'],w1,labels=range(1,5))"
   ]
  },
  {
   "cell_type": "code",
   "execution_count": 120,
   "id": "35b28b73",
   "metadata": {},
   "outputs": [
    {
     "data": {
      "text/plain": [
       "<AxesSubplot:>"
      ]
     },
     "execution_count": 120,
     "metadata": {},
     "output_type": "execute_result"
    },
    {
     "data": {
      "image/png": "[encoded data removed]",
      "text/plain": [
       "<Figure size 432x288 with 1 Axes>"
      ]
     },
     "metadata": {
      "needs_background": "light"
     },
     "output_type": "display_data"
    }
   ],
   "source": [
    "sunspots1['counts_bin2'].hist()"
   ]
  },
  {
   "cell_type": "code",
   "execution_count": null,
   "id": "ab2eae12",
   "metadata": {},
   "outputs": [],
   "source": []
  }
 ],
 "metadata": {
  "kernelspec": {
   "display_name": "Python 3 (ipykernel)",
   "language": "python",
   "name": "python3"
  },
  "language_info": {
   "codemirror_mode": {
    "name": "ipython",
    "version": 3
   },
   "file_extension": ".py",
   "mimetype": "text/x-python",
   "name": "python",
   "nbconvert_exporter": "python",
   "pygments_lexer": "ipython3",
   "version": "3.9.7"
  }
 },
 "nbformat": 4,
 "nbformat_minor": 5
}
