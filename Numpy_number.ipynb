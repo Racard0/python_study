{
 "cells": [
  {
   "cell_type": "markdown",
   "id": "ce44a13e",
   "metadata": {},
   "source": [
    "# P26 Numpy运用_numpy统计计算"
   ]
  },
  {
   "cell_type": "markdown",
   "id": "03885435",
   "metadata": {},
   "source": [
    "## Numpy随机数生成"
   ]
  },
  {
   "cell_type": "code",
   "execution_count": 3,
   "id": "00534509",
   "metadata": {},
   "outputs": [],
   "source": [
    "import numpy as np"
   ]
  },
  {
   "cell_type": "code",
   "execution_count": 6,
   "id": "ebc715fe",
   "metadata": {},
   "outputs": [
    {
     "data": {
      "text/plain": [
       "0.5434049417909654"
      ]
     },
     "execution_count": 6,
     "metadata": {},
     "output_type": "execute_result"
    }
   ],
   "source": [
    "np.random.random() #0-1之间的浮点数"
   ]
  },
  {
   "cell_type": "code",
   "execution_count": 7,
   "id": "25048661",
   "metadata": {},
   "outputs": [
    {
     "data": {
      "text/plain": [
       "array([0.27836939, 0.42451759, 0.84477613, 0.00471886, 0.12156912,\n",
       "       0.67074908, 0.82585276, 0.13670659, 0.57509333, 0.89132195,\n",
       "       0.20920212, 0.18532822, 0.10837689, 0.21969749, 0.97862378,\n",
       "       0.81168315, 0.17194101, 0.81622475, 0.27407375, 0.43170418,\n",
       "       0.94002982, 0.81764938, 0.33611195, 0.17541045, 0.37283205,\n",
       "       0.00568851, 0.25242635, 0.79566251, 0.01525497, 0.59884338,\n",
       "       0.60380454, 0.10514769, 0.38194344, 0.03647606, 0.89041156,\n",
       "       0.98092086, 0.05994199, 0.89054594, 0.5769015 , 0.74247969,\n",
       "       0.63018394, 0.58184219, 0.02043913, 0.21002658, 0.54468488,\n",
       "       0.76911517, 0.25069523, 0.28589569, 0.85239509, 0.97500649,\n",
       "       0.88485329, 0.35950784, 0.59885895, 0.35479561, 0.34019022,\n",
       "       0.17808099, 0.23769421, 0.04486228, 0.50543143, 0.37625245,\n",
       "       0.5928054 , 0.62994188, 0.14260031, 0.9338413 , 0.94637988,\n",
       "       0.60229666, 0.38776628, 0.363188  , 0.20434528, 0.27676506,\n",
       "       0.24653588, 0.173608  , 0.96660969, 0.9570126 , 0.59797368,\n",
       "       0.73130075, 0.34038522, 0.0920556 , 0.46349802, 0.50869889,\n",
       "       0.08846017, 0.52803522, 0.99215804, 0.39503593, 0.33559644,\n",
       "       0.80545054, 0.75434899, 0.31306644, 0.63403668, 0.54040458,\n",
       "       0.29679375, 0.1107879 , 0.3126403 , 0.45697913, 0.65894007,\n",
       "       0.25425752, 0.64110126, 0.20012361, 0.65762481, 0.77828922])"
      ]
     },
     "execution_count": 7,
     "metadata": {},
     "output_type": "execute_result"
    }
   ],
   "source": [
    "np.random.random([100]) #0-1,100个"
   ]
  },
  {
   "cell_type": "code",
   "execution_count": 13,
   "id": "5382cf4d",
   "metadata": {
    "scrolled": true
   },
   "outputs": [
    {
     "data": {
      "text/plain": [
       "array([[0.67074908, 0.82585276, 0.13670659, 0.57509333],\n",
       "       [0.89132195, 0.20920212, 0.18532822, 0.10837689],\n",
       "       [0.21969749, 0.97862378, 0.81168315, 0.17194101]])"
      ]
     },
     "execution_count": 13,
     "metadata": {},
     "output_type": "execute_result"
    }
   ],
   "source": [
    "np.random.random((3,4)) #0-1,3行4列"
   ]
  },
  {
   "cell_type": "code",
   "execution_count": 14,
   "id": "0a3bfd0f",
   "metadata": {
    "scrolled": true
   },
   "outputs": [
    {
     "data": {
      "text/plain": [
       "array([[0.54340494, 0.27836939, 0.42451759],\n",
       "       [0.84477613, 0.00471886, 0.12156912]])"
      ]
     },
     "execution_count": 14,
     "metadata": {},
     "output_type": "execute_result"
    }
   ],
   "source": [
    "# seed - 随机数种子\n",
    "# 有种子后随机数不会再变\n",
    "np.random.seed(100)\n",
    "np.random.random(([2,3]))"
   ]
  },
  {
   "cell_type": "code",
   "execution_count": 17,
   "id": "901e37b5",
   "metadata": {},
   "outputs": [
    {
     "data": {
      "text/plain": [
       "array([[0.76911517, 0.25069523, 0.28589569, 0.85239509, 0.97500649,\n",
       "        0.88485329, 0.35950784, 0.59885895, 0.35479561, 0.34019022],\n",
       "       [0.17808099, 0.23769421, 0.04486228, 0.50543143, 0.37625245,\n",
       "        0.5928054 , 0.62994188, 0.14260031, 0.9338413 , 0.94637988]])"
      ]
     },
     "execution_count": 17,
     "metadata": {},
     "output_type": "execute_result"
    }
   ],
   "source": [
    "# rand - 产生均匀分布的,每个数产生的概率是一样的\n",
    "np.random.rand(2,10)"
   ]
  },
  {
   "cell_type": "code",
   "execution_count": 20,
   "id": "60ffd1f7",
   "metadata": {},
   "outputs": [
    {
     "data": {
      "text/plain": [
       "array([[3.86340794, 5.90880791, 1.37523615, 8.08270408, 9.65825815,\n",
       "        7.79795804, 2.39335082, 8.67260413, 8.08115013, 0.63681124],\n",
       "       [2.31228304, 5.89685449, 1.37486948, 6.78440704, 9.9219069 ,\n",
       "        2.85751985, 7.6091276 , 0.46527168, 3.32535907, 9.44552791]])"
      ]
     },
     "execution_count": 20,
     "metadata": {},
     "output_type": "execute_result"
    }
   ],
   "source": [
    "np.random.rand(2,10)*10"
   ]
  },
  {
   "cell_type": "code",
   "execution_count": 19,
   "id": "47aa543a",
   "metadata": {},
   "outputs": [
    {
     "data": {
      "text/plain": [
       "2"
      ]
     },
     "execution_count": 19,
     "metadata": {},
     "output_type": "execute_result"
    }
   ],
   "source": [
    "np.random.rand(10,10).ndim"
   ]
  },
  {
   "cell_type": "code",
   "execution_count": 21,
   "id": "7df5e312",
   "metadata": {},
   "outputs": [
    {
     "data": {
      "text/plain": [
       "array([94, 18, 66, 36,  7, 62,  1, 85, 77, 57, 30, 92, 16, 81, 96, 20, 35,\n",
       "       82, 23, 42, 99,  7, 77, 47, 18, 43, 87, 92, 88, 85,  1, 94, 92, 91,\n",
       "       41, 22, 77, 48, 89, 59,  9, 69, 50, 62, 42, 71, 49, 14, 90,  1,  7,\n",
       "       63, 47, 57, 26, 82, 16, 51, 87, 10, 68, 39, 98,  0,  1, 83,  4, 58,\n",
       "       41,  6, 37, 84, 80, 76, 37, 41, 37, 67, 47, 32, 32, 22, 28, 56, 86,\n",
       "       38,  1, 49, 93, 91, 71, 44, 56, 14,  5, 96, 95, 56, 27, 97])"
      ]
     },
     "execution_count": 21,
     "metadata": {},
     "output_type": "execute_result"
    }
   ],
   "source": [
    "# randint - 产生一定范围的随机整数\n",
    "np.random.randint(0,100,size = 100)"
   ]
  },
  {
   "cell_type": "code",
   "execution_count": 22,
   "id": "bdeeae02",
   "metadata": {},
   "outputs": [
    {
     "data": {
      "text/plain": [
       "array([[94, 14, 42, 92, 87, 29, 81, 50, 69,  7],\n",
       "       [ 4, 87, 66, 19, 86, 82, 98, 52, 83, 76],\n",
       "       [11, 37, 79,  9, 11, 30, 69, 65, 51, 26],\n",
       "       [55, 37, 89, 36, 39, 82,  3, 33, 37, 41],\n",
       "       [53,  6, 14, 18, 18, 94, 19, 84, 73, 15],\n",
       "       [77, 25, 47, 37, 57, 26, 59, 53, 46, 47],\n",
       "       [86, 45, 78, 60, 44,  8, 93,  7, 53, 36],\n",
       "       [64, 34,  4, 12, 40, 34, 93, 96, 15, 82],\n",
       "       [12, 85, 23, 67, 60, 79,  9, 63, 55, 72],\n",
       "       [16, 91, 26, 27, 88, 34, 23, 58, 74, 12]])"
      ]
     },
     "execution_count": 22,
     "metadata": {},
     "output_type": "execute_result"
    }
   ],
   "source": [
    "np.random.randint(0,100,size = [10,10])"
   ]
  },
  {
   "cell_type": "code",
   "execution_count": 23,
   "id": "d1484e72",
   "metadata": {},
   "outputs": [
    {
     "data": {
      "text/plain": [
       "array([45.53549671, 73.84515305, 81.2236278 , 92.72911736, 82.63756067,\n",
       "        2.99565977, 77.28028218, 52.17773936, 88.53873322, 45.85616671,\n",
       "       54.07225762, 90.77649983, 55.63100403, 18.71147223, 68.11113675,\n",
       "        1.38466854, 38.00916579, 80.86844901, 57.61254124, 15.17845045,\n",
       "       32.98547604, 95.17731461,  3.0384723 , 77.81735272, 18.13838598,\n",
       "       21.36568685, 65.25962229, 14.40919461, 38.10072706, 40.57345326,\n",
       "       65.89654346, 51.18226737, 48.25851039, 52.40217983, 80.62858732,\n",
       "       80.43910807, 14.77004361, 99.34535771,  6.77677358, 99.5815807 ,\n",
       "       12.34496927,  6.19291979, 70.40354418, 96.0979653 , 71.21509479,\n",
       "       66.30813223, 13.36749622, 18.03451692, 15.67158689,  9.04734813,\n",
       "       97.18661482, 50.98611303, 45.08774763, 32.97009785, 49.3512042 ,\n",
       "       14.36009851, 15.09202908, 81.53385795, 21.12818838,  8.65423224,\n",
       "       38.72574175, 89.3403414 , 42.86432979, 76.63040122, 99.5265402 ,\n",
       "        2.00628509, 10.81982287, 69.47426715, 89.06640505, 49.24763238,\n",
       "        7.02679904,  8.84373643, 10.62081585, 20.12588782, 87.73640053,\n",
       "       94.32225022, 13.5636138 , 85.87269727, 75.71582824, 68.61716145,\n",
       "       85.63933902, 23.08777529, 51.93379792, 34.33334452, 65.87729294,\n",
       "       28.27902539, 50.24664338, 30.32775196, 55.25294234, 16.11270971,\n",
       "       56.85489646, 48.57098681, 12.75195435, 54.36921692, 20.04906087,\n",
       "       67.016086  , 55.8112217 , 23.23783175, 51.55884856, 31.49919734])"
      ]
     },
     "execution_count": 23,
     "metadata": {},
     "output_type": "execute_result"
    }
   ],
   "source": [
    "# uniform - 产生服从条件，均匀分布的随机数(即有小数)\n",
    "np.random.uniform(low=0,high=100,size=100)"
   ]
  },
  {
   "cell_type": "code",
   "execution_count": 24,
   "id": "f5e80b69",
   "metadata": {},
   "outputs": [
    {
     "data": {
      "text/plain": [
       "array([8.46593, 4.47376, 1.00085, 9.01592, 8.56088, 2.8633 , 2.59015,\n",
       "       0.66371, 3.17632, 0.51843])"
      ]
     },
     "execution_count": 24,
     "metadata": {},
     "output_type": "execute_result"
    }
   ],
   "source": [
    "# np.set_printoptions控制小数位数\n",
    "# precision - 精确\n",
    "np.set_printoptions(precision=5)\n",
    "np.random.uniform(low=0,high=10,size=10)"
   ]
  },
  {
   "cell_type": "code",
   "execution_count": 27,
   "id": "ba6aec5d",
   "metadata": {},
   "outputs": [],
   "source": [
    "np.set_printoptions?"
   ]
  },
  {
   "cell_type": "code",
   "execution_count": 37,
   "id": "a217d06a",
   "metadata": {},
   "outputs": [
    {
     "data": {
      "text/plain": [
       "array([-2.41779,  6.44169, -0.97378,  6.23715,  2.58092,  2.62725,\n",
       "        3.97752, -0.78722,  6.76555,  3.93971,  2.86183, -1.46962,\n",
       "        2.41223,  1.14189,  0.25227, -2.10027,  3.6258 , -1.2265 ,\n",
       "       -5.01042,  3.98676,  2.54051,  1.20189, -1.71162,  1.63554,\n",
       "       -1.75929,  1.53684,  0.85657,  1.10889,  0.07654,  2.29359,\n",
       "        3.60139,  0.47608,  4.43734,  1.68059, -0.83292, -1.96489,\n",
       "       -2.38618,  0.14321, -1.53999,  1.18778,  0.1702 ,  3.04393,\n",
       "        2.16289, -1.94442,  8.32017,  2.97922,  2.22398,  4.65864,\n",
       "       -1.18735, -1.40108,  0.7107 ,  0.36174, -0.04586, -3.14896,\n",
       "        0.57552, -3.87849,  2.03881,  2.03301, -1.28085,  0.70471,\n",
       "        6.68449,  3.81656, -0.21534,  3.52201,  0.86424, -1.45206,\n",
       "        2.03377, -0.53596,  0.13778, -1.3107 , -3.86486, -3.20485,\n",
       "        0.79472,  0.44658,  4.45644,  2.17413, -0.90816,  3.88605,\n",
       "       -1.25188,  2.22055, -3.21996,  0.55116,  6.55694,  1.4389 ,\n",
       "       -1.33942,  1.41599, -1.68796, -0.74047,  2.96281,  0.41972,\n",
       "        7.03926, -0.96746,  2.04304,  3.97793,  6.40496, -0.9703 ,\n",
       "        6.3064 , -4.0208 ,  4.93654,  1.83948])"
      ]
     },
     "execution_count": 37,
     "metadata": {},
     "output_type": "execute_result"
    }
   ],
   "source": [
    "# normal - 产生服从条件的正态分布随机数\n",
    "np.random.normal(1,3,size=100)\n",
    "# 均值为1，标准差为3的100个数"
   ]
  },
  {
   "cell_type": "code",
   "execution_count": 36,
   "id": "54e2a94d",
   "metadata": {},
   "outputs": [
    {
     "data": {
      "text/plain": [
       "1.0003897144559886"
      ]
     },
     "execution_count": 36,
     "metadata": {},
     "output_type": "execute_result"
    }
   ],
   "source": [
    "# mean - 求均值\n",
    "np.mean(np.random.normal(1,3,size=1000000))"
   ]
  },
  {
   "cell_type": "code",
   "execution_count": 38,
   "id": "7c165812",
   "metadata": {},
   "outputs": [
    {
     "data": {
      "text/plain": [
       "2.997431407927736"
      ]
     },
     "execution_count": 38,
     "metadata": {},
     "output_type": "execute_result"
    }
   ],
   "source": [
    "# std - 标准差\n",
    "np.std(np.random.normal(1,3,size=1000000))"
   ]
  },
  {
   "cell_type": "code",
   "execution_count": 39,
   "id": "03aec854",
   "metadata": {},
   "outputs": [
    {
     "data": {
      "text/plain": [
       "array([ 0.03939, -0.05922, -0.58985,  1.46641, -0.40116, -0.21331,\n",
       "       -0.96734,  0.03453, -0.46632, -0.11407,  0.3762 ,  0.11397,\n",
       "       -1.64413, -1.33898, -0.11285,  1.26454, -0.75351,  1.91179,\n",
       "       -0.61937,  0.47028,  0.4606 ,  1.67581, -1.78693, -0.48536,\n",
       "        1.47888, -0.12118, -0.39127,  1.37957, -0.38066, -0.01848,\n",
       "       -1.25712, -0.65355, -0.326  , -0.06739,  0.42033, -1.1375 ,\n",
       "        0.07894, -0.50868,  0.56833, -1.51061, -0.80267,  0.80556,\n",
       "        0.48162,  1.10181, -0.0552 , -0.98193,  1.7289 , -0.70695,\n",
       "        0.48949,  0.30741, -1.3285 , -0.70317, -0.87301,  1.71973,\n",
       "        0.43106,  2.94401, -0.50134, -0.51737,  0.6696 , -0.65193,\n",
       "       -2.54665, -1.11988, -0.80065, -0.01535,  0.87175,  1.22608,\n",
       "       -0.5091 , -0.02764,  0.77333,  0.61157, -0.67559,  1.71639,\n",
       "       -1.00779,  1.34486, -0.01668,  2.0202 ,  0.61231, -0.92158,\n",
       "       -1.30073,  0.01229, -1.89695,  0.24846,  0.97859, -1.12347,\n",
       "       -0.43573, -1.2761 ,  0.17064,  0.0821 , -0.7063 , -0.69186,\n",
       "       -0.39492, -0.68551, -1.82253,  0.28132,  0.72219, -0.43424,\n",
       "        1.55933,  0.35439,  0.48595,  0.17321])"
      ]
     },
     "execution_count": 39,
     "metadata": {},
     "output_type": "execute_result"
    }
   ],
   "source": [
    "# randn - 产生标准正态分布随机数\n",
    "# 标准正态分布，均值为0，标准差为1\n",
    "np.random.randn(100)"
   ]
  },
  {
   "cell_type": "code",
   "execution_count": 52,
   "id": "35f993ea",
   "metadata": {},
   "outputs": [
    {
     "data": {
      "text/plain": [
       "-0.0011708440384256104"
      ]
     },
     "execution_count": 52,
     "metadata": {},
     "output_type": "execute_result"
    }
   ],
   "source": [
    "np.mean(np.random.randn(1000000))"
   ]
  },
  {
   "cell_type": "code",
   "execution_count": 53,
   "id": "5eb70fe9",
   "metadata": {},
   "outputs": [
    {
     "data": {
      "text/plain": [
       "1.0012216675213486"
      ]
     },
     "execution_count": 53,
     "metadata": {},
     "output_type": "execute_result"
    }
   ],
   "source": [
    "np.std(np.random.randn(1000000))"
   ]
  },
  {
   "cell_type": "code",
   "execution_count": 54,
   "id": "f64afaea",
   "metadata": {},
   "outputs": [
    {
     "data": {
      "text/plain": [
       "array([[-0.85158, -0.05563, -0.18443,  0.07528, -1.31207],\n",
       "       [ 1.20085, -1.55815, -0.60545,  0.93409,  2.3342 ],\n",
       "       [-0.51522, -1.39186, -0.46334, -0.34074,  0.63619],\n",
       "       [ 1.24714,  0.70917, -2.42771,  0.67097,  0.13175],\n",
       "       [-0.55309, -0.37579,  0.81195, -0.35325,  0.05595],\n",
       "       [-0.79556, -0.65913, -1.03055, -1.53451,  1.35   ],\n",
       "       [ 1.40083, -1.98137, -1.19842, -2.21561, -0.69589],\n",
       "       [ 0.13994,  0.3337 ,  0.43517,  1.32148, -0.37539],\n",
       "       [-0.02477,  1.31564, -0.30658, -0.70972,  0.63912],\n",
       "       [-0.3482 ,  0.43805, -0.49679, -0.81663, -1.26888]])"
      ]
     },
     "execution_count": 54,
     "metadata": {},
     "output_type": "execute_result"
    }
   ],
   "source": [
    "# 二维\n",
    "np.random.randn(10,5)"
   ]
  },
  {
   "cell_type": "code",
   "execution_count": 55,
   "id": "dfb911e8",
   "metadata": {},
   "outputs": [
    {
     "data": {
      "text/plain": [
       "array([[ 0.19739, -0.74513, -2.25782, -1.41776,  0.49765],\n",
       "       [ 1.42624,  1.48757, -1.46078, -0.27431,  0.91277],\n",
       "       [-0.12581,  0.32499,  0.16204, -0.20097, -1.15531],\n",
       "       [-1.22525,  1.82797, -0.66879,  1.06452, -0.70451],\n",
       "       [ 1.32558,  2.148  ,  0.32172,  0.10492, -0.5772 ],\n",
       "       [ 1.49969, -1.33613, -1.06388, -0.93216,  0.18295],\n",
       "       [-1.45465,  1.64336, -0.7796 ,  0.23128,  1.02404],\n",
       "       [ 0.16598,  0.99367,  0.31984,  0.61031,  0.65184],\n",
       "       [ 0.47263, -0.25908, -1.25868, -0.74583,  1.35743],\n",
       "       [-0.03822,  1.13098, -1.35833,  0.82085,  1.7032 ]])"
      ]
     },
     "execution_count": 55,
     "metadata": {},
     "output_type": "execute_result"
    }
   ],
   "source": [
    "np.random.normal(size = (10,5))"
   ]
  },
  {
   "cell_type": "code",
   "execution_count": 56,
   "id": "bdbe3982",
   "metadata": {},
   "outputs": [
    {
     "data": {
      "text/plain": [
       "-0.185936687846522"
      ]
     },
     "execution_count": 56,
     "metadata": {},
     "output_type": "execute_result"
    }
   ],
   "source": [
    "np.mean(np.random.normal(size = (10,5)))"
   ]
  },
  {
   "cell_type": "code",
   "execution_count": 57,
   "id": "b359e1be",
   "metadata": {},
   "outputs": [
    {
     "data": {
      "text/plain": [
       "0.9999517484024029"
      ]
     },
     "execution_count": 57,
     "metadata": {},
     "output_type": "execute_result"
    }
   ],
   "source": [
    "np.std(np.random.normal(size = (10,5)))"
   ]
  },
  {
   "cell_type": "code",
   "execution_count": 58,
   "id": "bd8770e9",
   "metadata": {},
   "outputs": [],
   "source": [
    "# shuffle - 对序列随机排序\n",
    "# 直接作用原数据\n",
    "arr = [1,2,3,4,5,6,7,8,9,-1]\n",
    "np.random.shuffle(arr)"
   ]
  },
  {
   "cell_type": "code",
   "execution_count": 59,
   "id": "ae7f22d5",
   "metadata": {},
   "outputs": [
    {
     "data": {
      "text/plain": [
       "[5, 3, 4, 8, 2, 1, 9, 6, 7, -1]"
      ]
     },
     "execution_count": 59,
     "metadata": {},
     "output_type": "execute_result"
    }
   ],
   "source": [
    "arr"
   ]
  },
  {
   "cell_type": "code",
   "execution_count": 60,
   "id": "757bd2e5",
   "metadata": {},
   "outputs": [
    {
     "data": {
      "text/plain": [
       "array([3, 8, 2, 7, 6, 1, 4, 5])"
      ]
     },
     "execution_count": 60,
     "metadata": {},
     "output_type": "execute_result"
    }
   ],
   "source": [
    "# permutation - 随机排列，但返回的是视图\n",
    "arr = [1,2,3,4,5,6,7,8]\n",
    "np.random.permutation(arr)"
   ]
  },
  {
   "cell_type": "code",
   "execution_count": 61,
   "id": "b8cfecd1",
   "metadata": {},
   "outputs": [
    {
     "data": {
      "text/plain": [
       "[1, 2, 3, 4, 5, 6, 7, 8]"
      ]
     },
     "execution_count": 61,
     "metadata": {},
     "output_type": "execute_result"
    }
   ],
   "source": [
    "arr"
   ]
  },
  {
   "cell_type": "markdown",
   "id": "8d928c87",
   "metadata": {},
   "source": [
    "# P28 Numpy统计相关函数"
   ]
  },
  {
   "cell_type": "code",
   "execution_count": 74,
   "id": "0877e149",
   "metadata": {},
   "outputs": [],
   "source": [
    "data = np.genfromtxt(r'E:\\云开见明\\云开见明Python数据分析师课程数据（仅与云开见明Python数据分析师配套）\\第二章\\arr.txt',delimiter = ',',skip_header = 1)"
   ]
  },
  {
   "cell_type": "code",
   "execution_count": 75,
   "id": "5d663123",
   "metadata": {},
   "outputs": [
    {
     "data": {
      "text/plain": [
       "(6, 7)"
      ]
     },
     "execution_count": 75,
     "metadata": {},
     "output_type": "execute_result"
    }
   ],
   "source": [
    "data.shape"
   ]
  },
  {
   "cell_type": "code",
   "execution_count": 76,
   "id": "92a92a08",
   "metadata": {
    "scrolled": true
   },
   "outputs": [
    {
     "data": {
      "text/plain": [
       "array([[0.92513, 0.84167, 0.3574 , 0.04359, 0.30477, 0.39819, 0.70496],\n",
       "       [0.99536, 0.35591, 0.76255, 0.59318, 0.6917 , 0.15113, 0.39888],\n",
       "       [0.24086, 0.34346, 0.51313, 0.66663, 0.10591, 0.1309 , 0.32198],\n",
       "       [0.66156, 0.84651, 0.55326, 0.85445, 0.38484, 0.31679, 0.35426],\n",
       "       [0.17108, 0.82911, 0.33867, 0.55237, 0.57855, 0.52153, 0.00269],\n",
       "       [0.98835, 0.90534, 0.20764, 0.29249, 0.52001, 0.90191, 0.98363]])"
      ]
     },
     "execution_count": 76,
     "metadata": {},
     "output_type": "execute_result"
    }
   ],
   "source": [
    "data"
   ]
  },
  {
   "cell_type": "code",
   "execution_count": 79,
   "id": "0701aedb",
   "metadata": {},
   "outputs": [
    {
     "data": {
      "text/plain": [
       "21.612298"
      ]
     },
     "execution_count": 79,
     "metadata": {},
     "output_type": "execute_result"
    }
   ],
   "source": [
    "data.sum()"
   ]
  },
  {
   "cell_type": "code",
   "execution_count": 80,
   "id": "e9fc664f",
   "metadata": {},
   "outputs": [
    {
     "data": {
      "text/plain": [
       "array([3.98234, 4.122  , 2.73264, 3.0027 , 2.58578, 2.42044, 2.7664 ])"
      ]
     },
     "execution_count": 80,
     "metadata": {},
     "output_type": "execute_result"
    }
   ],
   "source": [
    "# axis=0，按列从上到下\n",
    "data.sum(axis = 0)"
   ]
  },
  {
   "cell_type": "code",
   "execution_count": 81,
   "id": "5f9d252b",
   "metadata": {},
   "outputs": [
    {
     "data": {
      "text/plain": [
       "array([3.5757 , 3.9487 , 2.32285, 3.97167, 2.99401, 4.79936])"
      ]
     },
     "execution_count": 81,
     "metadata": {},
     "output_type": "execute_result"
    }
   ],
   "source": [
    "# axis=1,按行从左到右\n",
    "data.sum(axis = 1)"
   ]
  },
  {
   "cell_type": "code",
   "execution_count": 83,
   "id": "f448844c",
   "metadata": {},
   "outputs": [
    {
     "data": {
      "text/plain": [
       "4.122002"
      ]
     },
     "execution_count": 83,
     "metadata": {},
     "output_type": "execute_result"
    }
   ],
   "source": [
    "data[:,1].sum(axis=0)"
   ]
  },
  {
   "cell_type": "code",
   "execution_count": 88,
   "id": "7e95ee9a",
   "metadata": {},
   "outputs": [
    {
     "data": {
      "text/plain": [
       "array([ 0.92513,  1.7668 ,  2.1242 ,  2.16779,  2.47256,  2.87075,\n",
       "        3.5757 ,  4.57106,  4.92698,  5.68953,  6.2827 ,  6.9744 ,\n",
       "        7.12553,  7.52441,  7.76526,  8.10872,  8.62185,  9.28847,\n",
       "        9.39438,  9.52528,  9.84726, 10.50882, 11.35533, 11.90858,\n",
       "       12.76304, 13.14787, 13.46466, 13.81893, 13.99001, 14.81912,\n",
       "       15.15779, 15.71016, 16.28871, 16.81025, 16.81293, 17.80128,\n",
       "       18.70662, 18.91426, 19.20675, 19.72676, 20.62867, 21.6123 ])"
      ]
     },
     "execution_count": 88,
     "metadata": {},
     "output_type": "execute_result"
    }
   ],
   "source": [
    "data.cumsum()"
   ]
  },
  {
   "cell_type": "code",
   "execution_count": 85,
   "id": "017a1d26",
   "metadata": {},
   "outputs": [
    {
     "data": {
      "text/plain": [
       "array([[0.92513, 0.84167, 0.3574 , 0.04359, 0.30477, 0.39819, 0.70496],\n",
       "       [1.92049, 1.19759, 1.11995, 0.63677, 0.99647, 0.54931, 1.10384],\n",
       "       [2.16135, 1.54104, 1.63307, 1.30339, 1.10238, 0.68021, 1.42582],\n",
       "       [2.82291, 2.38755, 2.18633, 2.15785, 1.48722, 0.997  , 1.78008],\n",
       "       [2.99399, 3.21666, 2.525  , 2.71021, 2.06577, 1.51853, 1.78277],\n",
       "       [3.98234, 4.122  , 2.73264, 3.0027 , 2.58578, 2.42044, 2.7664 ]])"
      ]
     },
     "execution_count": 85,
     "metadata": {},
     "output_type": "execute_result"
    }
   ],
   "source": [
    "# cumsum - 累计求和\n",
    "# 列\n",
    "data.cumsum(axis=0)"
   ]
  },
  {
   "cell_type": "code",
   "execution_count": 86,
   "id": "84131b05",
   "metadata": {},
   "outputs": [
    {
     "data": {
      "text/plain": [
       "array([[0.92513, 1.7668 , 2.1242 , 2.16779, 2.47256, 2.87075, 3.5757 ],\n",
       "       [0.99536, 1.35127, 2.11382, 2.707  , 3.3987 , 3.54983, 3.9487 ],\n",
       "       [0.24086, 0.58431, 1.09744, 1.76406, 1.86997, 2.00087, 2.32285],\n",
       "       [0.66156, 1.50807, 2.06133, 2.91578, 3.30062, 3.6174 , 3.97167],\n",
       "       [0.17108, 1.00019, 1.33887, 1.89124, 2.46979, 2.99132, 2.99401],\n",
       "       [0.98835, 1.89369, 2.10132, 2.39381, 2.91382, 3.81573, 4.79936]])"
      ]
     },
     "execution_count": 86,
     "metadata": {},
     "output_type": "execute_result"
    }
   ],
   "source": [
    "# 行\n",
    "data.cumsum(axis=1)"
   ]
  },
  {
   "cell_type": "code",
   "execution_count": 89,
   "id": "e6be61de",
   "metadata": {},
   "outputs": [
    {
     "data": {
      "text/plain": [
       "array([9.25132e-01, 7.78656e-01, 2.78290e-01, 1.21309e-02, 3.69712e-03,\n",
       "       1.47214e-03, 1.03780e-03, 1.03298e-03, 3.67654e-04, 2.80354e-04,\n",
       "       1.66299e-04, 1.15030e-04, 1.73841e-05, 6.93410e-06, 1.67012e-06,\n",
       "       5.73612e-07, 2.94336e-07, 1.96212e-07, 2.07804e-08, 2.72005e-09,\n",
       "       8.75806e-10, 5.79402e-10, 4.90467e-10, 2.71354e-10, 2.31859e-10,\n",
       "       8.92282e-11, 2.82664e-11, 1.00138e-11, 1.71318e-12, 1.42042e-12,\n",
       "       4.81056e-13, 2.65721e-13, 1.53733e-13, 8.01768e-14, 2.15515e-16,\n",
       "       2.13003e-16, 1.92841e-16, 4.00407e-17, 1.17115e-17, 6.09008e-18,\n",
       "       5.49271e-18, 5.40280e-18])"
      ]
     },
     "execution_count": 89,
     "metadata": {},
     "output_type": "execute_result"
    }
   ],
   "source": [
    "# cumprod - 累计积\n",
    "data.cumprod()"
   ]
  },
  {
   "cell_type": "code",
   "execution_count": 90,
   "id": "5da14cb8",
   "metadata": {},
   "outputs": [
    {
     "data": {
      "text/plain": [
       "array([[9.25132e-01, 8.41670e-01, 3.57398e-01, 4.35910e-02, 3.04768e-01,\n",
       "        3.98186e-01, 7.04959e-01],\n",
       "       [9.20838e-01, 2.99563e-01, 2.72533e-01, 2.58572e-02, 2.10809e-01,\n",
       "        6.01767e-02, 2.81191e-01],\n",
       "       [2.21789e-01, 1.02887e-01, 1.39844e-01, 1.72370e-02, 2.23263e-02,\n",
       "        7.87682e-03, 9.05382e-02],\n",
       "       [1.46728e-01, 8.70942e-02, 7.73699e-02, 1.47282e-02, 8.59202e-03,\n",
       "        2.49528e-03, 3.20745e-02],\n",
       "       [2.51025e-02, 7.22109e-02, 2.62029e-02, 8.13543e-03, 4.97092e-03,\n",
       "        1.30137e-03, 8.62163e-05],\n",
       "       [2.48099e-02, 6.53756e-02, 5.44067e-03, 2.37952e-03, 2.58493e-03,\n",
       "        1.17372e-03, 8.48051e-05]])"
      ]
     },
     "execution_count": 90,
     "metadata": {},
     "output_type": "execute_result"
    }
   ],
   "source": [
    "data.cumprod(axis=0)"
   ]
  },
  {
   "cell_type": "code",
   "execution_count": 91,
   "id": "b3114dff",
   "metadata": {},
   "outputs": [
    {
     "data": {
      "text/plain": [
       "array([[9.25132e-01, 7.78656e-01, 2.78290e-01, 1.21309e-02, 3.69712e-03,\n",
       "        1.47214e-03, 1.03780e-03],\n",
       "       [9.95358e-01, 3.54263e-01, 2.70142e-01, 1.60242e-01, 1.10840e-01,\n",
       "        1.67509e-02, 6.68153e-03],\n",
       "       [2.40856e-01, 8.27234e-02, 4.24477e-02, 2.82967e-02, 2.99685e-03,\n",
       "        3.92272e-04, 1.26304e-04],\n",
       "       [6.61564e-01, 5.60018e-01, 3.09834e-01, 2.64738e-01, 1.01881e-01,\n",
       "        3.22748e-02, 1.14338e-02],\n",
       "       [1.71082e-01, 1.41846e-01, 4.80392e-02, 2.65354e-02, 1.53521e-02,\n",
       "        8.00663e-03, 2.15218e-05],\n",
       "       [9.88345e-01, 8.94790e-01, 1.85791e-01, 5.43417e-02, 2.82582e-02,\n",
       "        2.54864e-02, 2.50692e-02]])"
      ]
     },
     "execution_count": 91,
     "metadata": {},
     "output_type": "execute_result"
    }
   ],
   "source": [
    "data.cumprod(axis=1)"
   ]
  },
  {
   "cell_type": "code",
   "execution_count": 92,
   "id": "6e0cba4a",
   "metadata": {},
   "outputs": [
    {
     "data": {
      "text/plain": [
       "0.995358"
      ]
     },
     "execution_count": 92,
     "metadata": {},
     "output_type": "execute_result"
    }
   ],
   "source": [
    "# max\n",
    "data.max()"
   ]
  },
  {
   "cell_type": "code",
   "execution_count": 93,
   "id": "7a59fd25",
   "metadata": {},
   "outputs": [
    {
     "data": {
      "text/plain": [
       "array([0.99536, 0.90534, 0.76255, 0.85445, 0.6917 , 0.90191, 0.98363])"
      ]
     },
     "execution_count": 93,
     "metadata": {},
     "output_type": "execute_result"
    }
   ],
   "source": [
    "data.max(axis=0)"
   ]
  },
  {
   "cell_type": "code",
   "execution_count": 94,
   "id": "80378a8a",
   "metadata": {},
   "outputs": [
    {
     "data": {
      "text/plain": [
       "array([0.92513, 0.99536, 0.66663, 0.85445, 0.82911, 0.98835])"
      ]
     },
     "execution_count": 94,
     "metadata": {},
     "output_type": "execute_result"
    }
   ],
   "source": [
    "data.max(axis=1)"
   ]
  },
  {
   "cell_type": "code",
   "execution_count": 99,
   "id": "e2ff3263",
   "metadata": {},
   "outputs": [
    {
     "data": {
      "text/plain": [
       "0.5165690000000001"
      ]
     },
     "execution_count": 99,
     "metadata": {},
     "output_type": "execute_result"
    }
   ],
   "source": [
    "# percentile - 百分比\n",
    "# percentile(x,y),分位数，x中y%的那个数\n",
    "np.percentile(data,50)"
   ]
  },
  {
   "cell_type": "code",
   "execution_count": 100,
   "id": "e053df35",
   "metadata": {},
   "outputs": [
    {
     "data": {
      "text/plain": [
       "array([0.15312, 0.31809, 0.51657, 0.74815, 0.905  ])"
      ]
     },
     "execution_count": 100,
     "metadata": {},
     "output_type": "execute_result"
    }
   ],
   "source": [
    "np.percentile(data,[10,25,50,75,90])"
   ]
  },
  {
   "cell_type": "code",
   "execution_count": 97,
   "id": "133a3ca1",
   "metadata": {},
   "outputs": [
    {
     "data": {
      "text/plain": [
       "0.5165690000000001"
      ]
     },
     "execution_count": 97,
     "metadata": {},
     "output_type": "execute_result"
    }
   ],
   "source": [
    "# median - 中位数\n",
    "# 直接求中位数\n",
    "np.median(data)"
   ]
  },
  {
   "cell_type": "code",
   "execution_count": 102,
   "id": "630b814f",
   "metadata": {},
   "outputs": [
    {
     "data": {
      "text/plain": [
       "0.9926699999999999"
      ]
     },
     "execution_count": 102,
     "metadata": {},
     "output_type": "execute_result"
    }
   ],
   "source": [
    "# ptp - 极差\n",
    "np.ptp(data)"
   ]
  },
  {
   "cell_type": "code",
   "execution_count": 105,
   "id": "863ee0ae",
   "metadata": {},
   "outputs": [
    {
     "data": {
      "text/plain": [
       "0.9926699999999999"
      ]
     },
     "execution_count": 105,
     "metadata": {},
     "output_type": "execute_result"
    }
   ],
   "source": [
    "# 同上\n",
    "np.max(data) - np.min(data)"
   ]
  },
  {
   "cell_type": "code",
   "execution_count": 106,
   "id": "4ab245e2",
   "metadata": {},
   "outputs": [
    {
     "data": {
      "text/plain": [
       "array([0.82428, 0.56189, 0.55491, 0.81086, 0.58579, 0.77102, 0.98094])"
      ]
     },
     "execution_count": 106,
     "metadata": {},
     "output_type": "execute_result"
    }
   ],
   "source": [
    "data.ptp(axis = 0)"
   ]
  },
  {
   "cell_type": "code",
   "execution_count": 107,
   "id": "ac7618bc",
   "metadata": {},
   "outputs": [
    {
     "data": {
      "text/plain": [
       "array([0.88154, 0.84423, 0.56072, 0.53766, 0.82642, 0.78071])"
      ]
     },
     "execution_count": 107,
     "metadata": {},
     "output_type": "execute_result"
    }
   ],
   "source": [
    "data.ptp(axis = 1)"
   ]
  },
  {
   "cell_type": "code",
   "execution_count": 108,
   "id": "5a684092",
   "metadata": {},
   "outputs": [
    {
     "data": {
      "text/plain": [
       "array([[ True,  True, False, False, False, False,  True],\n",
       "       [ True, False,  True,  True,  True, False, False],\n",
       "       [False, False,  True,  True, False, False, False],\n",
       "       [ True,  True,  True,  True, False, False, False],\n",
       "       [False,  True, False,  True,  True,  True, False],\n",
       "       [ True,  True, False, False,  True,  True,  True]])"
      ]
     },
     "execution_count": 108,
     "metadata": {},
     "output_type": "execute_result"
    }
   ],
   "source": [
    "data >0.5"
   ]
  },
  {
   "cell_type": "code",
   "execution_count": 109,
   "id": "2b7c018d",
   "metadata": {},
   "outputs": [
    {
     "data": {
      "text/plain": [
       "22"
      ]
     },
     "execution_count": 109,
     "metadata": {},
     "output_type": "execute_result"
    }
   ],
   "source": [
    "np.sum(data>0.5)"
   ]
  }
 ],
 "metadata": {
  "kernelspec": {
   "display_name": "Python 3 (ipykernel)",
   "language": "python",
   "name": "python3"
  },
  "language_info": {
   "codemirror_mode": {
    "name": "ipython",
    "version": 3
   },
   "file_extension": ".py",
   "mimetype": "text/x-python",
   "name": "python",
   "nbconvert_exporter": "python",
   "pygments_lexer": "ipython3",
   "version": "3.9.7"
  }
 },
 "nbformat": 4,
 "nbformat_minor": 5
}
