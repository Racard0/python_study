{
 "cells": [
  {
   "cell_type": "markdown",
   "id": "f0f3ec49",
   "metadata": {},
   "source": [
    "# P13 json "
   ]
  },
  {
   "cell_type": "code",
   "execution_count": 1,
   "id": "9aa7d798",
   "metadata": {},
   "outputs": [],
   "source": [
    "import json"
   ]
  },
  {
   "cell_type": "code",
   "execution_count": 2,
   "id": "c2ddc960",
   "metadata": {},
   "outputs": [],
   "source": [
    "with open('E:\\云开见明\\云开见明Python数据分析师课程数据（仅与云开见明Python数据分析师配套）\\第一章\\sample1.json', encoding = 'utf-8', mode  = 'r') as f:\n",
    "    f_read = f.read() "
   ]
  },
  {
   "cell_type": "code",
   "execution_count": 3,
   "id": "a5e50fd8",
   "metadata": {},
   "outputs": [
    {
     "data": {
      "text/plain": [
       "'{\\n\\t\"code\": 200,\\n\\t\"apiRecordId\": \"19092102\",\\n\\t\"ratingRequestId\": \"19092102\",\\n\\t\"message\": \"成功\",\\n\\t\"content\": {\\n\\t\\t\"EG_zhibiao5\": \"1\",\\n\\t\\t\"EG_zhibiao6\": \"0\",\\n\\t\\t\"EG_zhibiao3\": \"正常\",\\n\\t\\t\"EG_zhibiao4\": \"0\",\\n\\t\\t\"EG_zhibiao9\": \"0\",\\n\\t\\t\"EG_zhibiao7\": \"0\",\\n\\t\\t\"EG_zhibiao8\": \"0\",\\n\\t\\t\"IG_zhibiao4\": \"0\",\\n\\t\\t\"RP_zhibiao3\": \"0\",\\n\\t\\t\"IG_zhibiao3\": \"0\",\\n\\t\\t\"IG_zhibiao2\": \"42.25\",\\n\\t\\t\"RP_zhibiao1\": \"0\",\\n\\t\\t\"IG_zhibiao1\": \"中国大陆\",\\n\\t\\t\"RP_zhibiao2\": \"0\",\\n\\t\\t\"BTM_zhibiao11\": \"0.169262908908\",\\n\\t\\t\"BTM_zhibiao12\": \"0.0272\",\\n\\t\\t\"BTM_zhibiao8\": \"12\",\\n\\t\\t\"BTM_zhibiao9\": \"0\",\\n\\t\\t\"BTM_zhibiao6\": \"9\",\\n\\t\\t\"BTM_zhibiao7\": \"51\",\\n\\t\\t\"BTM_zhibiao4\": \"181723.4051\",\\n\\t\\t\"BTM_zhibiao5\": \"3.8136\",\\n\\t\\t\"BTM_zhibiao2\": \"0\",\\n\\t\\t\"BTM_zhibiao3\": \"天津\",\\n\\t\\t\"BTM_zhibiao1\": \"食杂店\",\\n\\t\\t\"EG_zhibiao11\": \"2\",\\n\\t\\t\"EG_zhibiao10\": \"0\",\\n\\t\\t\"EG_zhibiao1\": \"1\",\\n\\t\\t\"EG_zhibiao2\": \"1\"\\n\\t},\\n\\t\"status\": 200\\n}'"
      ]
     },
     "execution_count": 3,
     "metadata": {},
     "output_type": "execute_result"
    }
   ],
   "source": [
    "f_read"
   ]
  },
  {
   "cell_type": "code",
   "execution_count": 5,
   "id": "4c9e4af4",
   "metadata": {},
   "outputs": [
    {
     "data": {
      "text/plain": [
       "str"
      ]
     },
     "execution_count": 5,
     "metadata": {},
     "output_type": "execute_result"
    }
   ],
   "source": [
    "type(f_read)"
   ]
  },
  {
   "cell_type": "code",
   "execution_count": 6,
   "id": "79ad6981",
   "metadata": {},
   "outputs": [],
   "source": [
    "data = json.loads(f_read)"
   ]
  },
  {
   "cell_type": "code",
   "execution_count": 8,
   "id": "bc475c53",
   "metadata": {},
   "outputs": [
    {
     "data": {
      "text/plain": [
       "{'code': 200,\n",
       " 'apiRecordId': '19092102',\n",
       " 'ratingRequestId': '19092102',\n",
       " 'message': '成功',\n",
       " 'content': {'EG_zhibiao5': '1',\n",
       "  'EG_zhibiao6': '0',\n",
       "  'EG_zhibiao3': '正常',\n",
       "  'EG_zhibiao4': '0',\n",
       "  'EG_zhibiao9': '0',\n",
       "  'EG_zhibiao7': '0',\n",
       "  'EG_zhibiao8': '0',\n",
       "  'IG_zhibiao4': '0',\n",
       "  'RP_zhibiao3': '0',\n",
       "  'IG_zhibiao3': '0',\n",
       "  'IG_zhibiao2': '42.25',\n",
       "  'RP_zhibiao1': '0',\n",
       "  'IG_zhibiao1': '中国大陆',\n",
       "  'RP_zhibiao2': '0',\n",
       "  'BTM_zhibiao11': '0.169262908908',\n",
       "  'BTM_zhibiao12': '0.0272',\n",
       "  'BTM_zhibiao8': '12',\n",
       "  'BTM_zhibiao9': '0',\n",
       "  'BTM_zhibiao6': '9',\n",
       "  'BTM_zhibiao7': '51',\n",
       "  'BTM_zhibiao4': '181723.4051',\n",
       "  'BTM_zhibiao5': '3.8136',\n",
       "  'BTM_zhibiao2': '0',\n",
       "  'BTM_zhibiao3': '天津',\n",
       "  'BTM_zhibiao1': '食杂店',\n",
       "  'EG_zhibiao11': '2',\n",
       "  'EG_zhibiao10': '0',\n",
       "  'EG_zhibiao1': '1',\n",
       "  'EG_zhibiao2': '1'},\n",
       " 'status': 200}"
      ]
     },
     "execution_count": 8,
     "metadata": {},
     "output_type": "execute_result"
    }
   ],
   "source": [
    "data"
   ]
  },
  {
   "cell_type": "code",
   "execution_count": 9,
   "id": "ec8820b0",
   "metadata": {},
   "outputs": [
    {
     "data": {
      "text/plain": [
       "dict"
      ]
     },
     "execution_count": 9,
     "metadata": {},
     "output_type": "execute_result"
    }
   ],
   "source": [
    "type(data)"
   ]
  },
  {
   "cell_type": "code",
   "execution_count": 11,
   "id": "719568e2",
   "metadata": {},
   "outputs": [
    {
     "data": {
      "text/plain": [
       "'食杂店'"
      ]
     },
     "execution_count": 11,
     "metadata": {},
     "output_type": "execute_result"
    }
   ],
   "source": [
    "data['content']['BTM_zhibiao1']"
   ]
  },
  {
   "cell_type": "code",
   "execution_count": 22,
   "id": "8d38d5c7",
   "metadata": {},
   "outputs": [],
   "source": [
    "with open('E:\\云开见明\\云开见明Python数据分析师课程数据（仅与云开见明Python数据分析师配套）\\第一章\\sample3.json', encoding = 'utf-8', mode  = 'r') as f:\n",
    "    f_read = f.read() "
   ]
  },
  {
   "cell_type": "code",
   "execution_count": 23,
   "id": "36209b3b",
   "metadata": {},
   "outputs": [
    {
     "data": {
      "text/plain": [
       "'{\\n\\t\"code\": 200,\\n\\t\"apiRecordId\": \"Z20190921180807000000287\",\\n\\t\"ratingRequestId\": null,\\n\\t\"message\": \"成功\",\\n\\t\"content\": {\\n\\t\\t\"BTM_zhibiao17\": \"179192\",\\n\\t\\t\"BTM_zhibiao18\": \"67\",\\n\\t\\t\"BTM_zhibiao15\": \"乡村\",\\n\\t\\t\"BTM_zhibiao16\": \"大\",\\n\\t\\t\"EG_zhibiao9\": \"0\",\\n\\t\\t\"BTM_zhibiao19\": \"165\",\\n\\t\\t\"IC_zhibiao17\": \"0\",\\n\\t\\t\"IG_zhibiao6\": \"男\",\\n\\t\\t\"IG_zhibiao5\": \"0\",\\n\\t\\t\"IG_zhibiao2\": \"31.67\",\\n\\t\\t\"BTM_zhibiao13\": \"天津市宁河县王芝菊百货经营部\",\\n\\t\\t\"IG_zhibiao8\": \"大学本科\",\\n\\t\\t\"IG_zhibiao7\": \"已婚\",\\n\\t\\t\"BTM_zhibiao14\": \"0.8148\",\\n\\t\\t\"BTM_zhibiao11\": \"0.169262908908\",\\n\\t\\t\"BTM_zhibiao12\": \"0.0272\",\\n\\t\\t\"BTM_zhibiao26\": \"24\",\\n\\t\\t\"EG_zhibiao13\": \"0\",\\n\\t\\t\"IC_zhibiao41\": \"1\",\\n\\t\\t\"EG_zhibiao12\": \"2\",\\n\\t\\t\"EG_zhibiao15\": \"股份有限公司\",\\n\\t\\t\"EG_zhibiao14\": \"0\",\\n\\t\\t\"EG_zhibiao11\": \"2\",\\n\\t\\t\"EG_zhibiao10\": \"0\",\\n\\t\\t\"BTM_zhibiao20\": \"0.1816\",\\n\\t\\t\"BTM_zhibiao21\": \"0.4477\",\\n\\t\\t\"BTM_zhibiao24\": \"0.8473\",\\n\\t\\t\"EG_zhibiao17\": \"0\",\\n\\t\\t\"BTM_zhibiao25\": \"1.0\",\\n\\t\\t\"EG_zhibiao16\": \"3\",\\n\\t\\t\"BTM_zhibiao22\": \"-0.2305\",\\n\\t\\t\"IC_zhibiao40\": \"3\",\\n\\t\\t\"EG_zhibiao18\": \"天津市王宗立烟经营部\",\\n\\t\\t\"BTM_zhibiao23\": \"-0.1262\",\\n\\t\\t\"IC_zhibiao39\": \"7\",\\n\\t\\t\"IC_zhibiao38\": \"4\",\\n\\t\\t\"IC_zhibiao31\": \"1.0\",\\n\\t\\t\"RP_zhibiao4\": \"0\",\\n\\t\\t\"IC_zhibiao30\": \"0.0\",\\n\\t\\t\"IC_zhibiao33\": \"3.8194\",\\n\\t\\t\"EN_zhibiao1\": \"12.017\",\\n\\t\\t\"IC_zhibiao32\": \"30000.0\",\\n\\t\\t\"IC_zhibiao35\": \"0.0364\",\\n\\t\\t\"IC_zhibiao34\": \"27000\",\\n\\t\\t\"IC_zhibiao37\": \"82100.0\",\\n\\t\\t\"IC_zhibiao36\": \"0.1364\",\\n\\t\\t\"EN_zhibiao6\": \"48.5\",\\n\\t\\t\"EN_zhibiao2\": \"11.167\",\\n\\t\\t\"EN_zhibiao3\": \"10.833\",\\n\\t\\t\"EN_zhibiao4\": \"12.017\",\\n\\t\\t\"EN_zhibiao5\": \"97.371\",\\n\\t\\t\"BTM_zhibiao6\": \"9\",\\n\\t\\t\"IC_zhibiao28\": \"106\",\\n\\t\\t\"IC_zhibiao27\": \"2\",\\n\\t\\t\"BTM_zhibiao1\": \"食杂店\",\\n\\t\\t\"IC_zhibiao29\": \"0\",\\n\\t\\t\"IC_zhibiao22\": \"0\",\\n\\t\\t\"IC_zhibiao24\": \"0\",\\n\\t\\t\"IC_zhibiao23\": \"6\",\\n\\t\\t\"IC_zhibiao26\": \"0.0\",\\n\\t\\t\"IC_zhibiao25\": \"0\",\\n\\t\\t\"EG_zhibiao2\": \"1\"\\n\\t},\\n\\t\"status\": 200\\n}'"
      ]
     },
     "execution_count": 23,
     "metadata": {},
     "output_type": "execute_result"
    }
   ],
   "source": [
    "f_read"
   ]
  },
  {
   "cell_type": "code",
   "execution_count": 24,
   "id": "17cd4309",
   "metadata": {},
   "outputs": [],
   "source": [
    "data = json.loads(f_read)"
   ]
  },
  {
   "cell_type": "code",
   "execution_count": 32,
   "id": "5edd93ba",
   "metadata": {},
   "outputs": [
    {
     "data": {
      "text/plain": [
       "{'BTM_zhibiao17': '179192',\n",
       " 'BTM_zhibiao18': '67',\n",
       " 'BTM_zhibiao15': '乡村',\n",
       " 'BTM_zhibiao16': '大',\n",
       " 'EG_zhibiao9': '0',\n",
       " 'BTM_zhibiao19': '165',\n",
       " 'IC_zhibiao17': '0',\n",
       " 'IG_zhibiao6': '男',\n",
       " 'IG_zhibiao5': '0',\n",
       " 'IG_zhibiao2': '31.67',\n",
       " 'BTM_zhibiao13': '天津市宁河县王芝菊百货经营部',\n",
       " 'IG_zhibiao8': '大学本科',\n",
       " 'IG_zhibiao7': '已婚',\n",
       " 'BTM_zhibiao14': '0.8148',\n",
       " 'BTM_zhibiao11': '0.169262908908',\n",
       " 'BTM_zhibiao12': '0.0272',\n",
       " 'BTM_zhibiao26': '24',\n",
       " 'EG_zhibiao13': '0',\n",
       " 'IC_zhibiao41': '1',\n",
       " 'EG_zhibiao12': '2',\n",
       " 'EG_zhibiao15': '股份有限公司',\n",
       " 'EG_zhibiao14': '0',\n",
       " 'EG_zhibiao11': '2',\n",
       " 'EG_zhibiao10': '0',\n",
       " 'BTM_zhibiao20': '0.1816',\n",
       " 'BTM_zhibiao21': '0.4477',\n",
       " 'BTM_zhibiao24': '0.8473',\n",
       " 'EG_zhibiao17': '0',\n",
       " 'BTM_zhibiao25': '1.0',\n",
       " 'EG_zhibiao16': '3',\n",
       " 'BTM_zhibiao22': '-0.2305',\n",
       " 'IC_zhibiao40': '3',\n",
       " 'EG_zhibiao18': '天津市王宗立烟经营部',\n",
       " 'BTM_zhibiao23': '-0.1262',\n",
       " 'IC_zhibiao39': '7',\n",
       " 'IC_zhibiao38': '4',\n",
       " 'IC_zhibiao31': '1.0',\n",
       " 'RP_zhibiao4': '0',\n",
       " 'IC_zhibiao30': '0.0',\n",
       " 'IC_zhibiao33': '3.8194',\n",
       " 'EN_zhibiao1': '12.017',\n",
       " 'IC_zhibiao32': '30000.0',\n",
       " 'IC_zhibiao35': '0.0364',\n",
       " 'IC_zhibiao34': '27000',\n",
       " 'IC_zhibiao37': '82100.0',\n",
       " 'IC_zhibiao36': '0.1364',\n",
       " 'EN_zhibiao6': '48.5',\n",
       " 'EN_zhibiao2': '11.167',\n",
       " 'EN_zhibiao3': '10.833',\n",
       " 'EN_zhibiao4': '12.017',\n",
       " 'EN_zhibiao5': '97.371',\n",
       " 'BTM_zhibiao6': '9',\n",
       " 'IC_zhibiao28': '106',\n",
       " 'IC_zhibiao27': '2',\n",
       " 'BTM_zhibiao1': '食杂店',\n",
       " 'IC_zhibiao29': '0',\n",
       " 'IC_zhibiao22': '0',\n",
       " 'IC_zhibiao24': '0',\n",
       " 'IC_zhibiao23': '6',\n",
       " 'IC_zhibiao26': '0.0',\n",
       " 'IC_zhibiao25': '0',\n",
       " 'EG_zhibiao2': '1'}"
      ]
     },
     "execution_count": 32,
     "metadata": {},
     "output_type": "execute_result"
    }
   ],
   "source": [
    "data['content']"
   ]
  },
  {
   "cell_type": "code",
   "execution_count": 33,
   "id": "f3a6b44c",
   "metadata": {},
   "outputs": [],
   "source": [
    "# 数据存储为json格式\n",
    "json_data = data['content']"
   ]
  },
  {
   "cell_type": "code",
   "execution_count": 43,
   "id": "4a1fe7bb",
   "metadata": {},
   "outputs": [],
   "source": [
    "# indent -  缩进为0\n",
    "# 有编码， 有ASCII\n",
    "with open('E:\\云开见明\\云开见明Python数据分析师课程数据（仅与云开见明Python数据分析师配套）\\第一章\\json_test有缩进.json', 'w', encoding = 'utf-8') as f:\n",
    "    json.dump(json_data, f, indent = 0, ensure_ascii = False)\n",
    "f.close()"
   ]
  },
  {
   "cell_type": "code",
   "execution_count": 40,
   "id": "00fdf169",
   "metadata": {},
   "outputs": [],
   "source": [
    "# 无缩进\n",
    "# 无编码， 无ASCII\n",
    "with open('E:\\云开见明\\云开见明Python数据分析师课程数据（仅与云开见明Python数据分析师配套）\\第一章\\json_test无缩进.json', 'w') as f:\n",
    "    json.dump(json_data, f)\n",
    "f.close()"
   ]
  },
  {
   "cell_type": "code",
   "execution_count": null,
   "id": "5b8b5aa3",
   "metadata": {},
   "outputs": [],
   "source": []
  }
 ],
 "metadata": {
  "kernelspec": {
   "display_name": "Python 3 (ipykernel)",
   "language": "python",
   "name": "python3"
  },
  "language_info": {
   "codemirror_mode": {
    "name": "ipython",
    "version": 3
   },
   "file_extension": ".py",
   "mimetype": "text/x-python",
   "name": "python",
   "nbconvert_exporter": "python",
   "pygments_lexer": "ipython3",
   "version": "3.9.7"
  }
 },
 "nbformat": 4,
 "nbformat_minor": 5
}
