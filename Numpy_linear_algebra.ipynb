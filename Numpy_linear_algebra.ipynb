{
 "cells": [
  {
   "cell_type": "markdown",
   "id": "20ebe26b",
   "metadata": {},
   "source": [
    "# P29 Numpy线性代数"
   ]
  },
  {
   "cell_type": "code",
   "execution_count": 6,
   "id": "2f009083",
   "metadata": {},
   "outputs": [],
   "source": [
    "import numpy as np"
   ]
  },
  {
   "cell_type": "code",
   "execution_count": 2,
   "id": "4f656000",
   "metadata": {},
   "outputs": [],
   "source": [
    "a=[1,2,3]\n",
    "b=[4,5,6]"
   ]
  },
  {
   "cell_type": "code",
   "execution_count": 4,
   "id": "0cd15a23",
   "metadata": {},
   "outputs": [
    {
     "data": {
      "text/plain": [
       "32"
      ]
     },
     "execution_count": 4,
     "metadata": {},
     "output_type": "execute_result"
    }
   ],
   "source": [
    "np.dot(a,b)\n",
    "# dot - 矩阵乘法,1*4+2*5+3*6=32"
   ]
  },
  {
   "cell_type": "code",
   "execution_count": 7,
   "id": "c2a14175",
   "metadata": {},
   "outputs": [],
   "source": [
    "arr = np.array([1,2,3,4]).reshape(4,1)"
   ]
  },
  {
   "cell_type": "code",
   "execution_count": 8,
   "id": "3f94d144",
   "metadata": {},
   "outputs": [
    {
     "data": {
      "text/plain": [
       "array([[1],\n",
       "       [2],\n",
       "       [3],\n",
       "       [4]])"
      ]
     },
     "execution_count": 8,
     "metadata": {},
     "output_type": "execute_result"
    }
   ],
   "source": [
    "arr"
   ]
  },
  {
   "cell_type": "code",
   "execution_count": 9,
   "id": "9fdd1c7a",
   "metadata": {},
   "outputs": [
    {
     "data": {
      "text/plain": [
       "matrix([[1, 2, 3, 4]])"
      ]
     },
     "execution_count": 9,
     "metadata": {},
     "output_type": "execute_result"
    }
   ],
   "source": [
    "np.matrix([1,2,3,4])"
   ]
  },
  {
   "cell_type": "code",
   "execution_count": 11,
   "id": "ef580a1b",
   "metadata": {},
   "outputs": [],
   "source": [
    "arr1 = np.arange(12).reshape(3,4)"
   ]
  },
  {
   "cell_type": "code",
   "execution_count": 12,
   "id": "2bf4112e",
   "metadata": {},
   "outputs": [
    {
     "data": {
      "text/plain": [
       "array([[ 0,  1,  2,  3],\n",
       "       [ 4,  5,  6,  7],\n",
       "       [ 8,  9, 10, 11]])"
      ]
     },
     "execution_count": 12,
     "metadata": {},
     "output_type": "execute_result"
    }
   ],
   "source": [
    "arr1"
   ]
  },
  {
   "cell_type": "code",
   "execution_count": 17,
   "id": "f42555ce",
   "metadata": {},
   "outputs": [
    {
     "data": {
      "text/plain": [
       "array([[ 20],\n",
       "       [ 60],\n",
       "       [100]])"
      ]
     },
     "execution_count": 17,
     "metadata": {},
     "output_type": "execute_result"
    }
   ],
   "source": [
    "np.dot(arr1,arr)\n",
    "# 1*0+2*1+3*2+4*3=20\n",
    "# 1*4+2*5+3*6+4*7=60\n",
    "# 1*8+2*9+3*10+4*11=100"
   ]
  },
  {
   "cell_type": "code",
   "execution_count": 14,
   "id": "122e27df",
   "metadata": {},
   "outputs": [],
   "source": [
    "arr2 = np.array([[1,3],[5,7]])"
   ]
  },
  {
   "cell_type": "code",
   "execution_count": 15,
   "id": "d88b15c8",
   "metadata": {},
   "outputs": [
    {
     "data": {
      "text/plain": [
       "array([[1, 3],\n",
       "       [5, 7]])"
      ]
     },
     "execution_count": 15,
     "metadata": {},
     "output_type": "execute_result"
    }
   ],
   "source": [
    "arr2"
   ]
  },
  {
   "cell_type": "code",
   "execution_count": 16,
   "id": "5b068665",
   "metadata": {},
   "outputs": [],
   "source": [
    "arr3 = np.array([[-2,-4],[-6,-8]])"
   ]
  },
  {
   "cell_type": "code",
   "execution_count": 17,
   "id": "6a38993e",
   "metadata": {},
   "outputs": [
    {
     "data": {
      "text/plain": [
       "array([[-2, -4],\n",
       "       [-6, -8]])"
      ]
     },
     "execution_count": 17,
     "metadata": {},
     "output_type": "execute_result"
    }
   ],
   "source": [
    "arr3"
   ]
  },
  {
   "cell_type": "code",
   "execution_count": 24,
   "id": "a826ec8e",
   "metadata": {},
   "outputs": [
    {
     "data": {
      "text/plain": [
       "array([[-20, -28],\n",
       "       [-52, -76]])"
      ]
     },
     "execution_count": 24,
     "metadata": {},
     "output_type": "execute_result"
    }
   ],
   "source": [
    "np.dot(arr2,arr3)\n",
    "# 1*-2+3*-6=-20\n",
    "# 1*-4+3*-8=-28\n",
    "# 5*-2+7*-6=-52\n",
    "# 5*-4+7*-8=-76"
   ]
  },
  {
   "cell_type": "code",
   "execution_count": 26,
   "id": "36c527e7",
   "metadata": {},
   "outputs": [
    {
     "data": {
      "text/plain": [
       "array([[ -2, -12],\n",
       "       [-30, -56]])"
      ]
     },
     "execution_count": 26,
     "metadata": {},
     "output_type": "execute_result"
    }
   ],
   "source": [
    "arr2 * arr3\n",
    "# 1*-2\n",
    "# 3*-4\n",
    "# 5*-6\n",
    "# 7*-8"
   ]
  },
  {
   "cell_type": "code",
   "execution_count": 62,
   "id": "b3ad911c",
   "metadata": {},
   "outputs": [],
   "source": [
    "arr2 = np.array([1,2,3,4,5,6,7,8,9,10,-1,-2,-3,-4,-5,-6,-7,-8,-9,-10,1.2,1.3,1.4,1.5,1.6]).reshape(5,5)"
   ]
  },
  {
   "cell_type": "code",
   "execution_count": 71,
   "id": "73474a28",
   "metadata": {},
   "outputs": [],
   "source": [
    "arr3 = np.array([1,2,3,4,5,6,7,8,9,10,-1,-2,-3,-4,-5,-6,-7,-8,-9,-10,1.2,1.3,1.4,1.5,1.6]).reshape(5,5)"
   ]
  },
  {
   "cell_type": "code",
   "execution_count": 63,
   "id": "38d14d22",
   "metadata": {},
   "outputs": [
    {
     "data": {
      "text/plain": [
       "array([[  1. ,   2. ,   3. ,   4. ,   5. ],\n",
       "       [  6. ,   7. ,   8. ,   9. ,  10. ],\n",
       "       [ -1. ,  -2. ,  -3. ,  -4. ,  -5. ],\n",
       "       [ -6. ,  -7. ,  -8. ,  -9. , -10. ],\n",
       "       [  1.2,   1.3,   1.4,   1.5,   1.6]])"
      ]
     },
     "execution_count": 63,
     "metadata": {},
     "output_type": "execute_result"
    }
   ],
   "source": [
    "arr2"
   ]
  },
  {
   "cell_type": "code",
   "execution_count": 64,
   "id": "3025208e",
   "metadata": {},
   "outputs": [],
   "source": [
    "# transpose - 颠倒、置换\n",
    "# transpose() - 矩阵转置\n",
    "arr2 = np.transpose(arr2)"
   ]
  },
  {
   "cell_type": "code",
   "execution_count": 65,
   "id": "757c829b",
   "metadata": {
    "scrolled": true
   },
   "outputs": [
    {
     "data": {
      "text/plain": [
       "array([[  1. ,   6. ,  -1. ,  -6. ,   1.2],\n",
       "       [  2. ,   7. ,  -2. ,  -7. ,   1.3],\n",
       "       [  3. ,   8. ,  -3. ,  -8. ,   1.4],\n",
       "       [  4. ,   9. ,  -4. ,  -9. ,   1.5],\n",
       "       [  5. ,  10. ,  -5. , -10. ,   1.6]])"
      ]
     },
     "execution_count": 65,
     "metadata": {},
     "output_type": "execute_result"
    }
   ],
   "source": [
    "arr2"
   ]
  },
  {
   "cell_type": "code",
   "execution_count": 66,
   "id": "feeff854",
   "metadata": {
    "scrolled": true
   },
   "outputs": [],
   "source": [
    "arr2 = arr2[:2,:2]"
   ]
  },
  {
   "cell_type": "code",
   "execution_count": 67,
   "id": "7276fa4e",
   "metadata": {},
   "outputs": [
    {
     "data": {
      "text/plain": [
       "array([[1., 6.],\n",
       "       [2., 7.]])"
      ]
     },
     "execution_count": 67,
     "metadata": {},
     "output_type": "execute_result"
    }
   ],
   "source": [
    "arr2"
   ]
  },
  {
   "cell_type": "code",
   "execution_count": 68,
   "id": "213e81bd",
   "metadata": {},
   "outputs": [],
   "source": [
    "# linalg.inv() - 求逆矩阵\n",
    "arr2_inv = np.linalg.inv(arr2)\n",
    "# (1 2)(a b)   (1 0)\n",
    "#            = \n",
    "# (2 7)(c d)   (0 1)\n",
    "# a=-1.4\n",
    "# b=1.2\n",
    "# c=0.4\n",
    "# d=-0.2"
   ]
  },
  {
   "cell_type": "code",
   "execution_count": 69,
   "id": "3c03af73",
   "metadata": {},
   "outputs": [
    {
     "data": {
      "text/plain": [
       "array([[-1.4,  1.2],\n",
       "       [ 0.4, -0.2]])"
      ]
     },
     "execution_count": 69,
     "metadata": {},
     "output_type": "execute_result"
    }
   ],
   "source": [
    "arr2_inv"
   ]
  },
  {
   "cell_type": "code",
   "execution_count": 70,
   "id": "97e3ace5",
   "metadata": {},
   "outputs": [
    {
     "data": {
      "text/plain": [
       "array([[1., 0.],\n",
       "       [0., 1.]])"
      ]
     },
     "execution_count": 70,
     "metadata": {},
     "output_type": "execute_result"
    }
   ],
   "source": [
    "# 相乘为单位矩阵\n",
    "np.dot(arr2_inv,arr2)"
   ]
  },
  {
   "cell_type": "code",
   "execution_count": 75,
   "id": "4f006296",
   "metadata": {},
   "outputs": [
    {
     "data": {
      "text/plain": [
       "array([[  1. ,   2. ,   3. ,   4. ,   5. ],\n",
       "       [  6. ,   7. ,   8. ,   9. ,  10. ],\n",
       "       [ -1. ,  -2. ,  -3. ,  -4. ,  -5. ],\n",
       "       [ -6. ,  -7. ,  -8. ,  -9. , -10. ],\n",
       "       [  1.2,   1.3,   1.4,   1.5,   1.6]])"
      ]
     },
     "execution_count": 75,
     "metadata": {},
     "output_type": "execute_result"
    }
   ],
   "source": [
    "arr3"
   ]
  },
  {
   "cell_type": "code",
   "execution_count": 74,
   "id": "b36da35a",
   "metadata": {},
   "outputs": [
    {
     "data": {
      "text/plain": [
       "array([ 1. ,  7. , -3. , -9. ,  1.6])"
      ]
     },
     "execution_count": 74,
     "metadata": {},
     "output_type": "execute_result"
    }
   ],
   "source": [
    "# diag() - 对角线元素\n",
    "np.diag(arr3)"
   ]
  },
  {
   "cell_type": "markdown",
   "id": "ae9d1055",
   "metadata": {},
   "source": [
    "###### 矩阵求方程组"
   ]
  },
  {
   "cell_type": "code",
   "execution_count": 76,
   "id": "74c1371e",
   "metadata": {},
   "outputs": [],
   "source": [
    "# linalg.solve()"
   ]
  },
  {
   "cell_type": "markdown",
   "id": "2af9a220",
   "metadata": {},
   "source": [
    "x+2y+3z = 26\n",
    "2x+3y+z = 36\n",
    "3x+2y+z = 69"
   ]
  },
  {
   "cell_type": "code",
   "execution_count": 99,
   "id": "32e4ab03",
   "metadata": {},
   "outputs": [],
   "source": [
    "A = np.array([[1,2,3],[2,3,1],[3,1,2]])\n",
    "B = np.array([[26],[36],[69]])"
   ]
  },
  {
   "cell_type": "code",
   "execution_count": 101,
   "id": "c2f8b3f7",
   "metadata": {},
   "outputs": [],
   "source": [
    "X = np.linalg.solve(A,B)"
   ]
  },
  {
   "cell_type": "code",
   "execution_count": 102,
   "id": "75d7c866",
   "metadata": {},
   "outputs": [
    {
     "data": {
      "text/plain": [
       "array([[18.23809524],\n",
       "       [-3.04761905],\n",
       "       [ 8.66666667]])"
      ]
     },
     "execution_count": 102,
     "metadata": {},
     "output_type": "execute_result"
    }
   ],
   "source": [
    "X"
   ]
  },
  {
   "cell_type": "code",
   "execution_count": 103,
   "id": "69b2dd8d",
   "metadata": {},
   "outputs": [
    {
     "data": {
      "text/plain": [
       "array([[26.],\n",
       "       [36.],\n",
       "       [69.]])"
      ]
     },
     "execution_count": 103,
     "metadata": {},
     "output_type": "execute_result"
    }
   ],
   "source": [
    "# 验证\n",
    "np.dot(A,X)"
   ]
  },
  {
   "cell_type": "code",
   "execution_count": null,
   "id": "04953875",
   "metadata": {},
   "outputs": [],
   "source": []
  }
 ],
 "metadata": {
  "kernelspec": {
   "display_name": "Python 3 (ipykernel)",
   "language": "python",
   "name": "python3"
  },
  "language_info": {
   "codemirror_mode": {
    "name": "ipython",
    "version": 3
   },
   "file_extension": ".py",
   "mimetype": "text/x-python",
   "name": "python",
   "nbconvert_exporter": "python",
   "pygments_lexer": "ipython3",
   "version": "3.9.7"
  }
 },
 "nbformat": 4,
 "nbformat_minor": 5
}
