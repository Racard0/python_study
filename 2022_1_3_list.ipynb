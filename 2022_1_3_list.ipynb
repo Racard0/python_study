{
 "cells": [
  {
   "cell_type": "code",
   "execution_count": null,
   "id": "74b74e8d",
   "metadata": {},
   "outputs": [],
   "source": [
    "# 列表\n",
    "a = [1,2,3,4,5]"
   ]
  },
  {
   "cell_type": "code",
   "execution_count": null,
   "id": "0b7aae75",
   "metadata": {},
   "outputs": [],
   "source": [
    "a"
   ]
  },
  {
   "cell_type": "code",
   "execution_count": null,
   "id": "8e30ace0",
   "metadata": {},
   "outputs": [],
   "source": [
    "a = []"
   ]
  },
  {
   "cell_type": "code",
   "execution_count": null,
   "id": "f32e61a5",
   "metadata": {},
   "outputs": [],
   "source": [
    "a"
   ]
  },
  {
   "cell_type": "code",
   "execution_count": null,
   "id": "3afc5adb",
   "metadata": {},
   "outputs": [],
   "source": [
    "a = list('abcdefg')"
   ]
  },
  {
   "cell_type": "code",
   "execution_count": null,
   "id": "2fc2bd90",
   "metadata": {},
   "outputs": [],
   "source": [
    "a"
   ]
  },
  {
   "cell_type": "code",
   "execution_count": null,
   "id": "9bbc3d63",
   "metadata": {},
   "outputs": [],
   "source": [
    "# 倒数第一个\n",
    "a[-1]"
   ]
  },
  {
   "cell_type": "code",
   "execution_count": null,
   "id": "36929a1c",
   "metadata": {},
   "outputs": [],
   "source": [
    "a[-2]"
   ]
  },
  {
   "cell_type": "code",
   "execution_count": null,
   "id": "2a4978dd",
   "metadata": {},
   "outputs": [],
   "source": [
    "a[:3]"
   ]
  },
  {
   "cell_type": "code",
   "execution_count": null,
   "id": "b1e6cc78",
   "metadata": {},
   "outputs": [],
   "source": [
    "# 倒置\n",
    "a[::-1]"
   ]
  },
  {
   "cell_type": "code",
   "execution_count": null,
   "id": "42eeb115",
   "metadata": {},
   "outputs": [],
   "source": [
    "a[::-2]"
   ]
  },
  {
   "cell_type": "code",
   "execution_count": null,
   "id": "555bbe96",
   "metadata": {},
   "outputs": [],
   "source": [
    "a[::-3]"
   ]
  },
  {
   "cell_type": "code",
   "execution_count": null,
   "id": "1c7475f8",
   "metadata": {},
   "outputs": [],
   "source": [
    "a[1] = 'one'"
   ]
  },
  {
   "cell_type": "code",
   "execution_count": null,
   "id": "d88b2a57",
   "metadata": {},
   "outputs": [],
   "source": [
    "a"
   ]
  },
  {
   "cell_type": "code",
   "execution_count": null,
   "id": "69ead393",
   "metadata": {},
   "outputs": [],
   "source": [
    "# 尾插 append用于添加单个元素\n",
    "a.append(7)"
   ]
  },
  {
   "cell_type": "code",
   "execution_count": null,
   "id": "1fa6fb8c",
   "metadata": {},
   "outputs": [],
   "source": [
    "a"
   ]
  },
  {
   "cell_type": "code",
   "execution_count": null,
   "id": "84cf509b",
   "metadata": {},
   "outputs": [],
   "source": [
    "a.append('two')"
   ]
  },
  {
   "cell_type": "code",
   "execution_count": null,
   "id": "68d11d6f",
   "metadata": {},
   "outputs": [],
   "source": [
    "a"
   ]
  },
  {
   "cell_type": "code",
   "execution_count": null,
   "id": "0c93bed2",
   "metadata": {},
   "outputs": [],
   "source": [
    "# extend用于列表拼接\n",
    "a.extend(['three','fout','five'])"
   ]
  },
  {
   "cell_type": "code",
   "execution_count": null,
   "id": "d66b2d22",
   "metadata": {},
   "outputs": [],
   "source": [
    "a"
   ]
  },
  {
   "cell_type": "code",
   "execution_count": null,
   "id": "365e2eea",
   "metadata": {},
   "outputs": [],
   "source": [
    "# 作为一个整体被添加\n",
    "a.append([1,2,3])"
   ]
  },
  {
   "cell_type": "code",
   "execution_count": null,
   "id": "b46410d8",
   "metadata": {},
   "outputs": [],
   "source": [
    "a"
   ]
  },
  {
   "cell_type": "code",
   "execution_count": null,
   "id": "b939d45a",
   "metadata": {},
   "outputs": [],
   "source": [
    "# 尾删\n",
    "a.pop()"
   ]
  },
  {
   "cell_type": "code",
   "execution_count": null,
   "id": "96f6c708",
   "metadata": {},
   "outputs": [],
   "source": [
    "a.pop() "
   ]
  },
  {
   "cell_type": "code",
   "execution_count": null,
   "id": "99d5a8da",
   "metadata": {},
   "outputs": [],
   "source": [
    "a"
   ]
  },
  {
   "cell_type": "code",
   "execution_count": null,
   "id": "f83ba465",
   "metadata": {},
   "outputs": [],
   "source": [
    "a"
   ]
  },
  {
   "cell_type": "code",
   "execution_count": null,
   "id": "59015558",
   "metadata": {},
   "outputs": [],
   "source": [
    "a.pop()"
   ]
  },
  {
   "cell_type": "code",
   "execution_count": null,
   "id": "db999a1e",
   "metadata": {},
   "outputs": [],
   "source": [
    "a"
   ]
  },
  {
   "cell_type": "code",
   "execution_count": null,
   "id": "50500c28",
   "metadata": {},
   "outputs": [],
   "source": [
    "# 删除指定元素\n",
    "a.pop(1)"
   ]
  },
  {
   "cell_type": "code",
   "execution_count": null,
   "id": "47bf69ad",
   "metadata": {},
   "outputs": [],
   "source": [
    "a"
   ]
  },
  {
   "cell_type": "code",
   "execution_count": null,
   "id": "c624941a",
   "metadata": {},
   "outputs": [],
   "source": [
    "a.pop(1)"
   ]
  },
  {
   "cell_type": "code",
   "execution_count": null,
   "id": "0c649534",
   "metadata": {},
   "outputs": [],
   "source": [
    "a"
   ]
  },
  {
   "cell_type": "code",
   "execution_count": null,
   "id": "bbe7fdc0",
   "metadata": {},
   "outputs": [],
   "source": [
    "# del - 删除整个列表"
   ]
  },
  {
   "cell_type": "code",
   "execution_count": null,
   "id": "ff69348f",
   "metadata": {},
   "outputs": [],
   "source": [
    "a"
   ]
  },
  {
   "cell_type": "code",
   "execution_count": null,
   "id": "e24a5902",
   "metadata": {},
   "outputs": [],
   "source": [
    "# count 计数器\n",
    "# a出现的次数\n",
    "a.count('a')"
   ]
  },
  {
   "cell_type": "code",
   "execution_count": null,
   "id": "e72a184c",
   "metadata": {},
   "outputs": [],
   "source": [
    "a.count('two')"
   ]
  },
  {
   "cell_type": "code",
   "execution_count": null,
   "id": "febdc706",
   "metadata": {},
   "outputs": [],
   "source": [
    "a.count('b')"
   ]
  },
  {
   "cell_type": "code",
   "execution_count": null,
   "id": "9f0d0720",
   "metadata": {},
   "outputs": [],
   "source": [
    "# index 元素第一次出现的位置\n",
    "a.index('two')"
   ]
  },
  {
   "cell_type": "code",
   "execution_count": null,
   "id": "f43cdb0f",
   "metadata": {},
   "outputs": [],
   "source": [
    "a.index(7)"
   ]
  },
  {
   "cell_type": "code",
   "execution_count": 45,
   "id": "946782d8",
   "metadata": {},
   "outputs": [],
   "source": [
    "# insert - 插入,运行两次可重复插入 \n",
    "a.insert(0, 'fuck')"
   ]
  },
  {
   "cell_type": "code",
   "execution_count": 46,
   "id": "1e706af2",
   "metadata": {},
   "outputs": [
    {
     "data": {
      "text/plain": [
       "['fuck', 'fuck', 'a', 'd', 'e', 'f', 'g', 7, 'two', 'three']"
      ]
     },
     "execution_count": 46,
     "metadata": {},
     "output_type": "execute_result"
    }
   ],
   "source": [
    "a"
   ]
  },
  {
   "cell_type": "code",
   "execution_count": 47,
   "id": "bd2ddcb5",
   "metadata": {},
   "outputs": [],
   "source": [
    "# remove - 移除\n",
    "a.remove('fuck')"
   ]
  },
  {
   "cell_type": "code",
   "execution_count": 48,
   "id": "505a25d7",
   "metadata": {},
   "outputs": [
    {
     "data": {
      "text/plain": [
       "['fuck', 'a', 'd', 'e', 'f', 'g', 7, 'two', 'three']"
      ]
     },
     "execution_count": 48,
     "metadata": {},
     "output_type": "execute_result"
    }
   ],
   "source": [
    "a"
   ]
  },
  {
   "cell_type": "code",
   "execution_count": 49,
   "id": "8626f383",
   "metadata": {},
   "outputs": [],
   "source": [
    "# reverse - 翻转\n",
    "a.reverse()"
   ]
  },
  {
   "cell_type": "code",
   "execution_count": 50,
   "id": "f94a3187",
   "metadata": {},
   "outputs": [
    {
     "data": {
      "text/plain": [
       "['three', 'two', 7, 'g', 'f', 'e', 'd', 'a', 'fuck']"
      ]
     },
     "execution_count": 50,
     "metadata": {},
     "output_type": "execute_result"
    }
   ],
   "source": [
    "a"
   ]
  },
  {
   "cell_type": "code",
   "execution_count": 51,
   "id": "91101418",
   "metadata": {},
   "outputs": [
    {
     "data": {
      "text/plain": [
       "['three', 'two', 7, 'g', 'f', 'e', 'd', 'a', 'fuck']"
      ]
     },
     "execution_count": 51,
     "metadata": {},
     "output_type": "execute_result"
    }
   ],
   "source": [
    "a"
   ]
  },
  {
   "cell_type": "code",
   "execution_count": 52,
   "id": "4dd2a20c",
   "metadata": {},
   "outputs": [
    {
     "data": {
      "text/plain": [
       "'three'"
      ]
     },
     "execution_count": 52,
     "metadata": {},
     "output_type": "execute_result"
    }
   ],
   "source": [
    "a[0]"
   ]
  },
  {
   "cell_type": "code",
   "execution_count": 54,
   "id": "4ebfb8e1",
   "metadata": {},
   "outputs": [],
   "source": [
    "b = [6,5,0,9,8,1,2]"
   ]
  },
  {
   "cell_type": "code",
   "execution_count": 55,
   "id": "2a6020ba",
   "metadata": {},
   "outputs": [
    {
     "data": {
      "text/plain": [
       "[6, 5, 0, 9, 8, 1, 2]"
      ]
     },
     "execution_count": 55,
     "metadata": {},
     "output_type": "execute_result"
    }
   ],
   "source": [
    "b"
   ]
  },
  {
   "cell_type": "code",
   "execution_count": 56,
   "id": "f0c52594",
   "metadata": {},
   "outputs": [],
   "source": [
    "# sort - 排序\n",
    "b.sort()"
   ]
  },
  {
   "cell_type": "code",
   "execution_count": 57,
   "id": "4e9ef357",
   "metadata": {},
   "outputs": [
    {
     "data": {
      "text/plain": [
       "[0, 1, 2, 5, 6, 8, 9]"
      ]
     },
     "execution_count": 57,
     "metadata": {},
     "output_type": "execute_result"
    }
   ],
   "source": [
    "b"
   ]
  },
  {
   "cell_type": "code",
   "execution_count": 58,
   "id": "1c45016e",
   "metadata": {},
   "outputs": [
    {
     "data": {
      "text/plain": [
       "9"
      ]
     },
     "execution_count": 58,
     "metadata": {},
     "output_type": "execute_result"
    }
   ],
   "source": [
    "max(b)"
   ]
  },
  {
   "cell_type": "code",
   "execution_count": 60,
   "id": "20f707ab",
   "metadata": {},
   "outputs": [
    {
     "data": {
      "text/plain": [
       "0"
      ]
     },
     "execution_count": 60,
     "metadata": {},
     "output_type": "execute_result"
    }
   ],
   "source": [
    "min(b)"
   ]
  },
  {
   "cell_type": "code",
   "execution_count": 61,
   "id": "961310b5",
   "metadata": {},
   "outputs": [
    {
     "data": {
      "text/plain": [
       "9"
      ]
     },
     "execution_count": 61,
     "metadata": {},
     "output_type": "execute_result"
    }
   ],
   "source": [
    "# len - 长度\n",
    "len(a)"
   ]
  },
  {
   "cell_type": "code",
   "execution_count": 62,
   "id": "0b89b03b",
   "metadata": {},
   "outputs": [
    {
     "data": {
      "text/plain": [
       "7"
      ]
     },
     "execution_count": 62,
     "metadata": {},
     "output_type": "execute_result"
    }
   ],
   "source": [
    "len(b)"
   ]
  },
  {
   "cell_type": "code",
   "execution_count": 63,
   "id": "64b70e53",
   "metadata": {},
   "outputs": [],
   "source": [
    "c = []"
   ]
  },
  {
   "cell_type": "code",
   "execution_count": 64,
   "id": "c9c5cce2",
   "metadata": {},
   "outputs": [
    {
     "data": {
      "text/plain": [
       "0"
      ]
     },
     "execution_count": 64,
     "metadata": {},
     "output_type": "execute_result"
    }
   ],
   "source": [
    "len(c)"
   ]
  },
  {
   "cell_type": "code",
   "execution_count": 65,
   "id": "ce29f906",
   "metadata": {},
   "outputs": [],
   "source": [
    "d = [1,2,3]\n",
    "e = [4,5,6]"
   ]
  },
  {
   "cell_type": "code",
   "execution_count": 66,
   "id": "b0666487",
   "metadata": {},
   "outputs": [
    {
     "data": {
      "text/plain": [
       "[1, 2, 3, 4, 5, 6]"
      ]
     },
     "execution_count": 66,
     "metadata": {},
     "output_type": "execute_result"
    }
   ],
   "source": [
    "d+e"
   ]
  },
  {
   "cell_type": "code",
   "execution_count": 67,
   "id": "1be4c4e5",
   "metadata": {},
   "outputs": [],
   "source": [
    "f = list('python')"
   ]
  },
  {
   "cell_type": "code",
   "execution_count": 68,
   "id": "f79203c2",
   "metadata": {},
   "outputs": [
    {
     "data": {
      "text/plain": [
       "['p', 'y', 't', 'h', 'o', 'n']"
      ]
     },
     "execution_count": 68,
     "metadata": {},
     "output_type": "execute_result"
    }
   ],
   "source": [
    "f"
   ]
  },
  {
   "cell_type": "code",
   "execution_count": 69,
   "id": "94856585",
   "metadata": {},
   "outputs": [
    {
     "data": {
      "text/plain": [
       "['three',\n",
       " 'two',\n",
       " 7,\n",
       " 'g',\n",
       " 'f',\n",
       " 'e',\n",
       " 'd',\n",
       " 'a',\n",
       " 'fuck',\n",
       " 'p',\n",
       " 'y',\n",
       " 't',\n",
       " 'h',\n",
       " 'o',\n",
       " 'n']"
      ]
     },
     "execution_count": 69,
     "metadata": {},
     "output_type": "execute_result"
    }
   ],
   "source": [
    "a+f"
   ]
  },
  {
   "cell_type": "code",
   "execution_count": 70,
   "id": "8acf0d0c",
   "metadata": {},
   "outputs": [
    {
     "data": {
      "text/plain": [
       "['three',\n",
       " 'two',\n",
       " 7,\n",
       " 'g',\n",
       " 'f',\n",
       " 'e',\n",
       " 'd',\n",
       " 'a',\n",
       " 'fuck',\n",
       " 'three',\n",
       " 'two',\n",
       " 7,\n",
       " 'g',\n",
       " 'f',\n",
       " 'e',\n",
       " 'd',\n",
       " 'a',\n",
       " 'fuck',\n",
       " 'three',\n",
       " 'two',\n",
       " 7,\n",
       " 'g',\n",
       " 'f',\n",
       " 'e',\n",
       " 'd',\n",
       " 'a',\n",
       " 'fuck']"
      ]
     },
     "execution_count": 70,
     "metadata": {},
     "output_type": "execute_result"
    }
   ],
   "source": [
    "# * - 类似复制\n",
    "a*3"
   ]
  },
  {
   "cell_type": "code",
   "execution_count": null,
   "id": "5f3283c6",
   "metadata": {},
   "outputs": [],
   "source": []
  }
 ],
 "metadata": {
  "kernelspec": {
   "display_name": "Python 3 (ipykernel)",
   "language": "python",
   "name": "python3"
  },
  "language_info": {
   "codemirror_mode": {
    "name": "ipython",
    "version": 3
   },
   "file_extension": ".py",
   "mimetype": "text/x-python",
   "name": "python",
   "nbconvert_exporter": "python",
   "pygments_lexer": "ipython3",
   "version": "3.9.7"
  }
 },
 "nbformat": 4,
 "nbformat_minor": 5
}
