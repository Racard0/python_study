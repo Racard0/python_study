{
 "cells": [
  {
   "cell_type": "code",
   "execution_count": null,
   "id": "48032cf3",
   "metadata": {},
   "outputs": [],
   "source": [
    "# 条件语句 if elseif else\n",
    "x = -1"
   ]
  },
  {
   "cell_type": "code",
   "execution_count": null,
   "id": "deed7000",
   "metadata": {},
   "outputs": [],
   "source": [
    "if x < 0:\n",
    "    print('x小于0')\n",
    "else:\n",
    "    print('x大于0')"
   ]
  },
  {
   "cell_type": "code",
   "execution_count": null,
   "id": "9ac1fcb1",
   "metadata": {},
   "outputs": [],
   "source": [
    "print('x < 0') if x < 0 else print('x >= 0')"
   ]
  },
  {
   "cell_type": "code",
   "execution_count": null,
   "id": "66d33715",
   "metadata": {},
   "outputs": [],
   "source": [
    "score = int(input('yours number:'))"
   ]
  },
  {
   "cell_type": "code",
   "execution_count": null,
   "id": "663d67a0",
   "metadata": {},
   "outputs": [],
   "source": [
    "if score < 60:\n",
    "    print('no pass')\n",
    "elif score <70:\n",
    "    print('just so so')\n",
    "elif score < 80:\n",
    "    print('okok')\n",
    "elif score < 90:\n",
    "    print('pass')\n",
    "else:\n",
    "    print('excellent')"
   ]
  },
  {
   "cell_type": "code",
   "execution_count": null,
   "id": "f0c4adc7",
   "metadata": {},
   "outputs": [],
   "source": [
    "name = input('name:')\n",
    "place = input('born:')\n",
    "social_insurance = int(input('social_insurance:'))\n",
    "age = int(input('age:'))"
   ]
  },
  {
   "cell_type": "code",
   "execution_count": null,
   "id": "46908ae6",
   "metadata": {},
   "outputs": [],
   "source": [
    "print(name)"
   ]
  },
  {
   "cell_type": "code",
   "execution_count": null,
   "id": "892218a6",
   "metadata": {},
   "outputs": [],
   "source": [
    "print(name)\n",
    "if place != 'peiking':\n",
    "    if social_insurance >= 5 and age >= 18: \n",
    "        print('can buy!')\n",
    "    else:\n",
    "        print('can not buy')\n",
    "elif place == 'peiking' and age >= 18:\n",
    "    print('can buy')\n",
    "else:\n",
    "    print('can not buy')"
   ]
  },
  {
   "cell_type": "markdown",
   "id": "7a59c198",
   "metadata": {},
   "source": [
    "# 循环语句"
   ]
  },
  {
   "cell_type": "code",
   "execution_count": null,
   "id": "8426cfb5",
   "metadata": {},
   "outputs": [],
   "source": [
    "fruits = ['apple', 'banana', 'orign']\n",
    "for fruit in fruits:\n",
    "    print(fruit)\n",
    "# for"
   ]
  },
  {
   "cell_type": "code",
   "execution_count": null,
   "id": "d9f9219c",
   "metadata": {},
   "outputs": [],
   "source": [
    "for i in range(1,10):\n",
    "    print(i)"
   ]
  },
  {
   "cell_type": "code",
   "execution_count": null,
   "id": "eb8e34f8",
   "metadata": {},
   "outputs": [],
   "source": [
    "for i in range(1, 10 ,2):\n",
    "    print(i)"
   ]
  },
  {
   "cell_type": "code",
   "execution_count": null,
   "id": "06cb8f5e",
   "metadata": {},
   "outputs": [],
   "source": [
    "total = 0\n",
    "for i in range(1,101):\n",
    "    total += i\n",
    "total"
   ]
  },
  {
   "cell_type": "code",
   "execution_count": null,
   "id": "a962aeca",
   "metadata": {},
   "outputs": [],
   "source": [
    "d = {'name':'racardo', 'age': 21, 'gender': 'male', 'department': 'computer science'}\n",
    "for key in d:\n",
    "    print(key, d[key])"
   ]
  },
  {
   "cell_type": "markdown",
   "id": "4a268703",
   "metadata": {},
   "source": [
    "# while"
   ]
  },
  {
   "cell_type": "code",
   "execution_count": 7,
   "id": "b9188617",
   "metadata": {},
   "outputs": [],
   "source": [
    "# while"
   ]
  },
  {
   "cell_type": "code",
   "execution_count": 12,
   "id": "2ce3ff6b",
   "metadata": {},
   "outputs": [
    {
     "name": "stdout",
     "output_type": "stream",
     "text": [
      "2\n",
      "3\n",
      "4\n",
      "5\n",
      "6\n",
      "7\n",
      "8\n",
      "9\n",
      "10\n",
      "sum = 45\n"
     ]
    }
   ],
   "source": [
    "x = 1\n",
    "sum = 0\n",
    "while x < 10:\n",
    "    sum += x\n",
    "    x += 1\n",
    "    print(x)\n",
    "print('sum =',sum)"
   ]
  },
  {
   "cell_type": "markdown",
   "id": "2b5c0346",
   "metadata": {},
   "source": [
    "# break continue pass"
   ]
  },
  {
   "cell_type": "code",
   "execution_count": 22,
   "id": "7cea295c",
   "metadata": {},
   "outputs": [
    {
     "name": "stdout",
     "output_type": "stream",
     "text": [
      "55 10\n"
     ]
    }
   ],
   "source": [
    "# break\n",
    "x = 0\n",
    "for i in range(1,101):\n",
    "    x += i\n",
    "    if i >= 10:\n",
    "        break\n",
    "print(x,i)"
   ]
  },
  {
   "cell_type": "code",
   "execution_count": 5,
   "id": "6b43650a",
   "metadata": {},
   "outputs": [
    {
     "name": "stdout",
     "output_type": "stream",
     "text": [
      "1\n",
      "2\n",
      "4\n",
      "5\n",
      "7\n",
      "8\n",
      "10\n"
     ]
    }
   ],
   "source": [
    "# continue\n",
    "count  = 0\n",
    "while count < 10:\n",
    "    count += 1\n",
    "    if count % 3 == 0:\n",
    "        continue\n",
    "    else:\n",
    "        print(count)"
   ]
  },
  {
   "cell_type": "code",
   "execution_count": 7,
   "id": "33dcd5fa",
   "metadata": {},
   "outputs": [
    {
     "data": {
      "text/plain": [
       "[0, 1, 4, 9, 16, 25, 36, 49, 64, 81]"
      ]
     },
     "execution_count": 7,
     "metadata": {},
     "output_type": "execute_result"
    }
   ],
   "source": [
    "suqare = []\n",
    "for i in range(10):\n",
    "    suqare.append(i**2)\n",
    "suqare"
   ]
  },
  {
   "cell_type": "code",
   "execution_count": 10,
   "id": "abdba8ac",
   "metadata": {},
   "outputs": [
    {
     "data": {
      "text/plain": [
       "[0, 1, 4, 9, 16, 25, 36, 49, 64, 81]"
      ]
     },
     "execution_count": 10,
     "metadata": {},
     "output_type": "execute_result"
    }
   ],
   "source": [
    "a = [i**2 for i in range(10)]\n",
    "a"
   ]
  },
  {
   "cell_type": "code",
   "execution_count": 14,
   "id": "46e12d1a",
   "metadata": {},
   "outputs": [
    {
     "data": {
      "text/plain": [
       "[2, 4, 6, 6]"
      ]
     },
     "execution_count": 14,
     "metadata": {},
     "output_type": "execute_result"
    }
   ],
   "source": [
    "vec = [-1,2,-3,4,-5,6,6,-5,-6]\n",
    "[x for x in vec if x > 0]\n",
    "# 找出大于0的数"
   ]
  },
  {
   "cell_type": "code",
   "execution_count": 16,
   "id": "43b5bba5",
   "metadata": {},
   "outputs": [
    {
     "data": {
      "text/plain": [
       "[1.4142135623730951, 2.0, 2.449489742783178, 2.449489742783178]"
      ]
     },
     "execution_count": 16,
     "metadata": {},
     "output_type": "execute_result"
    }
   ],
   "source": [
    "[i**0.5 for i in vec if i > 0]\n",
    "# 大于0的数的根号"
   ]
  },
  {
   "cell_type": "code",
   "execution_count": 17,
   "id": "c3d1790e",
   "metadata": {},
   "outputs": [
    {
     "data": {
      "text/plain": [
       "[-1, 2, -3, 4, -5, 6, 6, -5, -6, 'fuck']"
      ]
     },
     "execution_count": 17,
     "metadata": {},
     "output_type": "execute_result"
    }
   ],
   "source": [
    "vec.append('fuck')\n",
    "vec"
   ]
  },
  {
   "cell_type": "code",
   "execution_count": 20,
   "id": "83ea0815",
   "metadata": {},
   "outputs": [
    {
     "name": "stdout",
     "output_type": "stream",
     "text": [
      "error\n"
     ]
    },
    {
     "data": {
      "text/plain": [
       "-2"
      ]
     },
     "execution_count": 20,
     "metadata": {},
     "output_type": "execute_result"
    }
   ],
   "source": [
    "sum = 0\n",
    "for i in vec:\n",
    "    try:\n",
    "        sum += i\n",
    "    except:\n",
    "        print('error')\n",
    "        pass\n",
    "sum\n",
    "# try except 处理异常语句"
   ]
  }
 ],
 "metadata": {
  "kernelspec": {
   "display_name": "Python 3 (ipykernel)",
   "language": "python",
   "name": "python3"
  },
  "language_info": {
   "codemirror_mode": {
    "name": "ipython",
    "version": 3
   },
   "file_extension": ".py",
   "mimetype": "text/x-python",
   "name": "python",
   "nbconvert_exporter": "python",
   "pygments_lexer": "ipython3",
   "version": "3.9.7"
  }
 },
 "nbformat": 4,
 "nbformat_minor": 5
}
