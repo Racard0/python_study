{
 "cells": [
  {
   "cell_type": "code",
   "execution_count": null,
   "id": "48032cf3",
   "metadata": {},
   "outputs": [],
   "source": [
    "# 条件语句 if elseif else\n",
    "x = -1"
   ]
  },
  {
   "cell_type": "code",
   "execution_count": null,
   "id": "deed7000",
   "metadata": {},
   "outputs": [],
   "source": [
    "if x < 0:\n",
    "    print('x小于0')\n",
    "else:\n",
    "    print('x大于0')"
   ]
  },
  {
   "cell_type": "code",
   "execution_count": null,
   "id": "9ac1fcb1",
   "metadata": {},
   "outputs": [],
   "source": [
    "print('x < 0') if x < 0 else print('x >= 0')"
   ]
  },
  {
   "cell_type": "code",
   "execution_count": null,
   "id": "66d33715",
   "metadata": {},
   "outputs": [],
   "source": [
    "score = int(input('yours number:'))"
   ]
  },
  {
   "cell_type": "code",
   "execution_count": null,
   "id": "663d67a0",
   "metadata": {},
   "outputs": [],
   "source": [
    "if score < 60:\n",
    "    print('no pass')\n",
    "elif score <70:\n",
    "    print('just so so')\n",
    "elif score < 80:\n",
    "    print('okok')\n",
    "elif score < 90:\n",
    "    print('pass')\n",
    "else:\n",
    "    print('excellent')"
   ]
  },
  {
   "cell_type": "code",
   "execution_count": null,
   "id": "f0c4adc7",
   "metadata": {},
   "outputs": [],
   "source": [
    "name = input('name:')\n",
    "place = input('born:')\n",
    "social_insurance = int(input('social_insurance:'))\n",
    "age = int(input('age:'))"
   ]
  },
  {
   "cell_type": "code",
   "execution_count": null,
   "id": "46908ae6",
   "metadata": {},
   "outputs": [],
   "source": [
    "print(name)"
   ]
  },
  {
   "cell_type": "code",
   "execution_count": null,
   "id": "892218a6",
   "metadata": {},
   "outputs": [],
   "source": [
    "print(name)\n",
    "if place != 'peiking':\n",
    "    if social_insurance >= 5 and age >= 18: \n",
    "        print('can buy!')\n",
    "    else:\n",
    "        print('can not buy')\n",
    "elif place == 'peiking' and age >= 18:\n",
    "    print('can buy')\n",
    "else:\n",
    "    print('can not buy')"
   ]
  },
  {
   "cell_type": "markdown",
   "id": "7a59c198",
   "metadata": {},
   "source": [
    "# 循环语句"
   ]
  },
  {
   "cell_type": "code",
   "execution_count": null,
   "id": "8426cfb5",
   "metadata": {},
   "outputs": [],
   "source": [
    "fruits = ['apple', 'banana', 'orign']\n",
    "for fruit in fruits:\n",
    "    print(fruit)\n",
    "# for"
   ]
  },
  {
   "cell_type": "code",
   "execution_count": null,
   "id": "d9f9219c",
   "metadata": {},
   "outputs": [],
   "source": [
    "for i in range(1,10):\n",
    "    print(i)"
   ]
  },
  {
   "cell_type": "code",
   "execution_count": null,
   "id": "eb8e34f8",
   "metadata": {},
   "outputs": [],
   "source": [
    "for i in range(1, 10 ,2):\n",
    "    print(i)"
   ]
  },
  {
   "cell_type": "code",
   "execution_count": null,
   "id": "06cb8f5e",
   "metadata": {},
   "outputs": [],
   "source": [
    "total = 0\n",
    "for i in range(1,101):\n",
    "    total += i\n",
    "total"
   ]
  },
  {
   "cell_type": "code",
   "execution_count": null,
   "id": "a962aeca",
   "metadata": {},
   "outputs": [],
   "source": [
    "d = {'name':'racardo', 'age': 21, 'gender': 'male', 'department': 'computer science'}\n",
    "for key in d:\n",
    "    print(key, d[key])"
   ]
  },
  {
   "cell_type": "markdown",
   "id": "4a268703",
   "metadata": {},
   "source": [
    "# while"
   ]
  },
  {
   "cell_type": "code",
   "execution_count": 7,
   "id": "b9188617",
   "metadata": {},
   "outputs": [],
   "source": [
    "# while"
   ]
  },
  {
   "cell_type": "code",
   "execution_count": 12,
   "id": "2ce3ff6b",
   "metadata": {},
   "outputs": [
    {
     "name": "stdout",
     "output_type": "stream",
     "text": [
      "2\n",
      "3\n",
      "4\n",
      "5\n",
      "6\n",
      "7\n",
      "8\n",
      "9\n",
      "10\n",
      "sum = 45\n"
     ]
    }
   ],
   "source": [
    "x = 1\n",
    "sum = 0\n",
    "while x < 10:\n",
    "    sum += x\n",
    "    x += 1\n",
    "    print(x)\n",
    "print('sum =',sum)"
   ]
  }
 ],
 "metadata": {
  "kernelspec": {
   "display_name": "Python 3 (ipykernel)",
   "language": "python",
   "name": "python3"
  },
  "language_info": {
   "codemirror_mode": {
    "name": "ipython",
    "version": 3
   },
   "file_extension": ".py",
   "mimetype": "text/x-python",
   "name": "python",
   "nbconvert_exporter": "python",
   "pygments_lexer": "ipython3",
   "version": "3.9.7"
  }
 },
 "nbformat": 4,
 "nbformat_minor": 5
}
