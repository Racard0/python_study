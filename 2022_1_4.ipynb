{
 "cells": [
  {
   "cell_type": "markdown",
   "id": "38a05593",
   "metadata": {},
   "source": [
    "# P11 进阶运用"
   ]
  },
  {
   "cell_type": "markdown",
   "id": "1b867b0f",
   "metadata": {},
   "source": [
    "## 函数编写"
   ]
  },
  {
   "cell_type": "code",
   "execution_count": 4,
   "id": "5d855eb1",
   "metadata": {},
   "outputs": [
    {
     "data": {
      "text/plain": [
       "4.12"
      ]
     },
     "execution_count": 4,
     "metadata": {},
     "output_type": "execute_result"
    }
   ],
   "source": [
    "round(4.1234567,2)\n",
    "# 保留两位小数"
   ]
  },
  {
   "cell_type": "code",
   "execution_count": 3,
   "id": "83947fdc",
   "metadata": {},
   "outputs": [
    {
     "data": {
      "text/plain": [
       "4.123"
      ]
     },
     "execution_count": 3,
     "metadata": {},
     "output_type": "execute_result"
    }
   ],
   "source": [
    "round(4.1234567,3)"
   ]
  },
  {
   "cell_type": "code",
   "execution_count": 7,
   "id": "b5bb2e0c",
   "metadata": {},
   "outputs": [
    {
     "data": {
      "text/plain": [
       "[1, 2, 3, 4]"
      ]
     },
     "execution_count": 7,
     "metadata": {},
     "output_type": "execute_result"
    }
   ],
   "source": [
    "a = list((1,2,3,4))\n",
    "a"
   ]
  },
  {
   "cell_type": "code",
   "execution_count": 8,
   "id": "61a35afa",
   "metadata": {},
   "outputs": [
    {
     "data": {
      "text/plain": [
       "list"
      ]
     },
     "execution_count": 8,
     "metadata": {},
     "output_type": "execute_result"
    }
   ],
   "source": [
    "type(a)"
   ]
  },
  {
   "cell_type": "code",
   "execution_count": 9,
   "id": "daddbf55",
   "metadata": {},
   "outputs": [
    {
     "data": {
      "text/plain": [
       "False"
      ]
     },
     "execution_count": 9,
     "metadata": {},
     "output_type": "execute_result"
    }
   ],
   "source": [
    "# isinstance - 判断是否为某种类型\n",
    "isinstance(a,str)"
   ]
  },
  {
   "cell_type": "code",
   "execution_count": 12,
   "id": "4176bd9c",
   "metadata": {},
   "outputs": [
    {
     "data": {
      "text/plain": [
       "True"
      ]
     },
     "execution_count": 12,
     "metadata": {},
     "output_type": "execute_result"
    }
   ],
   "source": [
    "isinstance(a,list)"
   ]
  },
  {
   "cell_type": "code",
   "execution_count": 13,
   "id": "2e89af01",
   "metadata": {},
   "outputs": [
    {
     "data": {
      "text/plain": [
       "4"
      ]
     },
     "execution_count": 13,
     "metadata": {},
     "output_type": "execute_result"
    }
   ],
   "source": [
    "len(a)"
   ]
  },
  {
   "cell_type": "code",
   "execution_count": 14,
   "id": "f44f71c2",
   "metadata": {},
   "outputs": [],
   "source": [
    "a = 'fuckyouman'"
   ]
  },
  {
   "cell_type": "code",
   "execution_count": 15,
   "id": "80fdf83f",
   "metadata": {},
   "outputs": [
    {
     "data": {
      "text/plain": [
       "10"
      ]
     },
     "execution_count": 15,
     "metadata": {},
     "output_type": "execute_result"
    }
   ],
   "source": [
    "len(a)"
   ]
  },
  {
   "cell_type": "code",
   "execution_count": 23,
   "id": "e9dc8001",
   "metadata": {},
   "outputs": [
    {
     "name": "stdout",
     "output_type": "stream",
     "text": [
      "0 fuck\n",
      "1 you\n",
      "2 man\n"
     ]
    }
   ],
   "source": [
    "# enumerate - 遍历一个数据对象组合为一个索引序列，同时列出数据和下标\n",
    "a1 = ['fuck', 'you', 'man']\n",
    "for i, j in enumerate(a1):\n",
    "    print(i,j)"
   ]
  },
  {
   "cell_type": "code",
   "execution_count": 26,
   "id": "5b046fd9",
   "metadata": {},
   "outputs": [
    {
     "data": {
      "text/plain": [
       "[('fuck', 2), ('you', 5), ('bullshit', 0), ('nigger', 1)]"
      ]
     },
     "execution_count": 26,
     "metadata": {},
     "output_type": "execute_result"
    }
   ],
   "source": [
    "# zip - 将对象中对应的元素打包成一个个元组，返回元组组成的列表\n",
    "list1 = ['fuck', 'you', 'bullshit', 'nigger']\n",
    "list2 = [2,5,0,1]\n",
    "list(zip(list1, list2))"
   ]
  },
  {
   "cell_type": "code",
   "execution_count": 27,
   "id": "f14c943e",
   "metadata": {},
   "outputs": [
    {
     "data": {
      "text/plain": [
       "3"
      ]
     },
     "execution_count": 27,
     "metadata": {},
     "output_type": "execute_result"
    }
   ],
   "source": [
    "import math\n",
    "# floor 向下取整\n",
    "math.floor(3.13)"
   ]
  },
  {
   "cell_type": "code",
   "execution_count": 28,
   "id": "3c25ec8e",
   "metadata": {},
   "outputs": [
    {
     "data": {
      "text/plain": [
       "4"
      ]
     },
     "execution_count": 28,
     "metadata": {},
     "output_type": "execute_result"
    }
   ],
   "source": [
    "# ceil 向上取整\n",
    "math.ceil(3.14)"
   ]
  },
  {
   "cell_type": "code",
   "execution_count": 29,
   "id": "d8725ffa",
   "metadata": {},
   "outputs": [
    {
     "data": {
      "text/plain": [
       "1"
      ]
     },
     "execution_count": 29,
     "metadata": {},
     "output_type": "execute_result"
    }
   ],
   "source": [
    "# numpy - 一个扩展库\n",
    "# np - numpy重命名为np\n",
    "import numpy as np\n",
    "np.min([1,3,5,7])"
   ]
  },
  {
   "cell_type": "code",
   "execution_count": 30,
   "id": "fa19f3b5",
   "metadata": {},
   "outputs": [
    {
     "data": {
      "text/plain": [
       "0"
      ]
     },
     "execution_count": 30,
     "metadata": {},
     "output_type": "execute_result"
    }
   ],
   "source": [
    "# 下标\n",
    "np.argmin([1,3,5,7])"
   ]
  },
  {
   "cell_type": "code",
   "execution_count": 31,
   "id": "36577a1d",
   "metadata": {},
   "outputs": [
    {
     "data": {
      "text/plain": [
       "3"
      ]
     },
     "execution_count": 31,
     "metadata": {},
     "output_type": "execute_result"
    }
   ],
   "source": [
    "np.argmax([1,3,5,7])"
   ]
  },
  {
   "cell_type": "code",
   "execution_count": null,
   "id": "b6810a69",
   "metadata": {},
   "outputs": [],
   "source": []
  }
 ],
 "metadata": {
  "kernelspec": {
   "display_name": "Python 3 (ipykernel)",
   "language": "python",
   "name": "python3"
  },
  "language_info": {
   "codemirror_mode": {
    "name": "ipython",
    "version": 3
   },
   "file_extension": ".py",
   "mimetype": "text/x-python",
   "name": "python",
   "nbconvert_exporter": "python",
   "pygments_lexer": "ipython3",
   "version": "3.9.7"
  }
 },
 "nbformat": 4,
 "nbformat_minor": 5
}
