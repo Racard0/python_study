{
 "cells": [
  {
   "cell_type": "markdown",
   "id": "6b150089",
   "metadata": {},
   "source": [
    "# 索引和切片 P20"
   ]
  },
  {
   "cell_type": "code",
   "execution_count": 2,
   "id": "35dc443d",
   "metadata": {},
   "outputs": [],
   "source": [
    "import numpy as np"
   ]
  },
  {
   "cell_type": "code",
   "execution_count": 3,
   "id": "684e91af",
   "metadata": {},
   "outputs": [],
   "source": [
    "arr = np.arange(1,10)"
   ]
  },
  {
   "cell_type": "code",
   "execution_count": 4,
   "id": "3bd81def",
   "metadata": {},
   "outputs": [
    {
     "data": {
      "text/plain": [
       "array([1, 2, 3, 4, 5, 6, 7, 8, 9])"
      ]
     },
     "execution_count": 4,
     "metadata": {},
     "output_type": "execute_result"
    }
   ],
   "source": [
    "arr"
   ]
  },
  {
   "cell_type": "code",
   "execution_count": 5,
   "id": "a83d5df2",
   "metadata": {},
   "outputs": [
    {
     "data": {
      "text/plain": [
       "1"
      ]
     },
     "execution_count": 5,
     "metadata": {},
     "output_type": "execute_result"
    }
   ],
   "source": [
    "arr[0]"
   ]
  },
  {
   "cell_type": "code",
   "execution_count": 6,
   "id": "8e4a0d71",
   "metadata": {},
   "outputs": [
    {
     "data": {
      "text/plain": [
       "array([4, 5])"
      ]
     },
     "execution_count": 6,
     "metadata": {},
     "output_type": "execute_result"
    }
   ],
   "source": [
    "arr[3:5]"
   ]
  },
  {
   "cell_type": "code",
   "execution_count": 7,
   "id": "ad1eb72c",
   "metadata": {},
   "outputs": [
    {
     "data": {
      "text/plain": [
       "array([9, 8, 7, 6, 5, 4, 3, 2, 1])"
      ]
     },
     "execution_count": 7,
     "metadata": {},
     "output_type": "execute_result"
    }
   ],
   "source": [
    "arr[::-1]"
   ]
  },
  {
   "cell_type": "code",
   "execution_count": 8,
   "id": "b7e27e0f",
   "metadata": {},
   "outputs": [
    {
     "data": {
      "text/plain": [
       "9"
      ]
     },
     "execution_count": 8,
     "metadata": {},
     "output_type": "execute_result"
    }
   ],
   "source": [
    "arr[-1]"
   ]
  },
  {
   "cell_type": "code",
   "execution_count": 9,
   "id": "acbb3afe",
   "metadata": {},
   "outputs": [
    {
     "data": {
      "text/plain": [
       "array([6, 7])"
      ]
     },
     "execution_count": 9,
     "metadata": {},
     "output_type": "execute_result"
    }
   ],
   "source": [
    "arr[-4:-2]"
   ]
  },
  {
   "cell_type": "code",
   "execution_count": 10,
   "id": "1c67ab97",
   "metadata": {},
   "outputs": [],
   "source": [
    "arr[4] = 250"
   ]
  },
  {
   "cell_type": "code",
   "execution_count": 11,
   "id": "4b906f76",
   "metadata": {},
   "outputs": [
    {
     "data": {
      "text/plain": [
       "array([  1,   2,   3,   4, 250,   6,   7,   8,   9])"
      ]
     },
     "execution_count": 11,
     "metadata": {},
     "output_type": "execute_result"
    }
   ],
   "source": [
    "arr"
   ]
  },
  {
   "cell_type": "markdown",
   "id": "52ead5e9",
   "metadata": {},
   "source": [
    "*浅拷贝，新元素改变，原元素也随着改变，类似c中的传地址\n",
    "\n",
    "*视图上修改源数据也会改变"
   ]
  },
  {
   "cell_type": "code",
   "execution_count": 12,
   "id": "453925fa",
   "metadata": {},
   "outputs": [],
   "source": [
    "arr1 = arr"
   ]
  },
  {
   "cell_type": "code",
   "execution_count": 13,
   "id": "0850eacc",
   "metadata": {},
   "outputs": [
    {
     "data": {
      "text/plain": [
       "array([  1,   2,   3,   4, 250,   6,   7,   8,   9])"
      ]
     },
     "execution_count": 13,
     "metadata": {},
     "output_type": "execute_result"
    }
   ],
   "source": [
    "arr1"
   ]
  },
  {
   "cell_type": "code",
   "execution_count": 14,
   "id": "4249ddf2",
   "metadata": {},
   "outputs": [],
   "source": [
    "arr1[1:3] = (369,258)"
   ]
  },
  {
   "cell_type": "code",
   "execution_count": 15,
   "id": "15c0643f",
   "metadata": {},
   "outputs": [
    {
     "data": {
      "text/plain": [
       "array([  1, 369, 258,   4, 250,   6,   7,   8,   9])"
      ]
     },
     "execution_count": 15,
     "metadata": {},
     "output_type": "execute_result"
    }
   ],
   "source": [
    "arr1"
   ]
  },
  {
   "cell_type": "code",
   "execution_count": 16,
   "id": "10017d13",
   "metadata": {},
   "outputs": [
    {
     "data": {
      "text/plain": [
       "array([  1, 369, 258,   4, 250,   6,   7,   8,   9])"
      ]
     },
     "execution_count": 16,
     "metadata": {},
     "output_type": "execute_result"
    }
   ],
   "source": [
    "arr"
   ]
  },
  {
   "cell_type": "markdown",
   "id": "cefde543",
   "metadata": {},
   "source": [
    "*copy - 深拷贝"
   ]
  },
  {
   "cell_type": "code",
   "execution_count": 17,
   "id": "737cd8bb",
   "metadata": {},
   "outputs": [],
   "source": [
    "arr2 = arr.copy()"
   ]
  },
  {
   "cell_type": "code",
   "execution_count": 18,
   "id": "9349b07e",
   "metadata": {},
   "outputs": [
    {
     "data": {
      "text/plain": [
       "array([  1, 369, 258,   4, 250,   6,   7,   8,   9])"
      ]
     },
     "execution_count": 18,
     "metadata": {},
     "output_type": "execute_result"
    }
   ],
   "source": [
    "arr2"
   ]
  },
  {
   "cell_type": "code",
   "execution_count": 19,
   "id": "e2ab6cc5",
   "metadata": {},
   "outputs": [],
   "source": [
    "arr2[6:8] = (22,33)"
   ]
  },
  {
   "cell_type": "code",
   "execution_count": 20,
   "id": "e6b0124c",
   "metadata": {},
   "outputs": [
    {
     "data": {
      "text/plain": [
       "array([  1, 369, 258,   4, 250,   6,  22,  33,   9])"
      ]
     },
     "execution_count": 20,
     "metadata": {},
     "output_type": "execute_result"
    }
   ],
   "source": [
    "arr2"
   ]
  },
  {
   "cell_type": "code",
   "execution_count": 21,
   "id": "f7b56c86",
   "metadata": {},
   "outputs": [
    {
     "data": {
      "text/plain": [
       "array([  1, 369, 258,   4, 250,   6,   7,   8,   9])"
      ]
     },
     "execution_count": 21,
     "metadata": {},
     "output_type": "execute_result"
    }
   ],
   "source": [
    "# 原数据不会改变\n",
    "arr"
   ]
  },
  {
   "cell_type": "code",
   "execution_count": 93,
   "id": "e3c0db70",
   "metadata": {},
   "outputs": [],
   "source": [
    "data = ((1,3,5,-7,-90),(-2,4,-6,8,10),(22,33,-2,-5,-8),(-66,-22,33,9,13.114))"
   ]
  },
  {
   "cell_type": "code",
   "execution_count": 94,
   "id": "076dc8ab",
   "metadata": {},
   "outputs": [],
   "source": [
    "arr3 = np.array(data)"
   ]
  },
  {
   "cell_type": "code",
   "execution_count": 95,
   "id": "a7864c15",
   "metadata": {
    "scrolled": false
   },
   "outputs": [
    {
     "data": {
      "text/plain": [
       "array([[  1.   ,   3.   ,   5.   ,  -7.   , -90.   ],\n",
       "       [ -2.   ,   4.   ,  -6.   ,   8.   ,  10.   ],\n",
       "       [ 22.   ,  33.   ,  -2.   ,  -5.   ,  -8.   ],\n",
       "       [-66.   , -22.   ,  33.   ,   9.   ,  13.114]])"
      ]
     },
     "execution_count": 95,
     "metadata": {},
     "output_type": "execute_result"
    }
   ],
   "source": [
    "arr3"
   ]
  },
  {
   "cell_type": "code",
   "execution_count": 96,
   "id": "af559cd6",
   "metadata": {},
   "outputs": [],
   "source": [
    "arr5 = arr3.copy()"
   ]
  },
  {
   "cell_type": "code",
   "execution_count": 25,
   "id": "65d52427",
   "metadata": {},
   "outputs": [
    {
     "data": {
      "text/plain": [
       "array([-66.   , -22.   ,  33.   ,   9.   ,  13.114])"
      ]
     },
     "execution_count": 25,
     "metadata": {},
     "output_type": "execute_result"
    }
   ],
   "source": [
    "arr3[3]"
   ]
  },
  {
   "cell_type": "code",
   "execution_count": 26,
   "id": "ebedb325",
   "metadata": {},
   "outputs": [
    {
     "data": {
      "text/plain": [
       "-22.0"
      ]
     },
     "execution_count": 26,
     "metadata": {},
     "output_type": "execute_result"
    }
   ],
   "source": [
    "arr3[3,1]"
   ]
  },
  {
   "cell_type": "code",
   "execution_count": 27,
   "id": "74cdbd83",
   "metadata": {},
   "outputs": [
    {
     "data": {
      "text/plain": [
       "array([[ 5., -7.],\n",
       "       [-6.,  8.],\n",
       "       [-2., -5.],\n",
       "       [33.,  9.]])"
      ]
     },
     "execution_count": 27,
     "metadata": {},
     "output_type": "execute_result"
    }
   ],
   "source": [
    "arr3[:,2:4]"
   ]
  },
  {
   "cell_type": "code",
   "execution_count": 28,
   "id": "20fa2ce6",
   "metadata": {},
   "outputs": [
    {
     "data": {
      "text/plain": [
       "array([[ 22.   ,  33.   ,  -2.   ,  -5.   ,  -8.   ],\n",
       "       [-66.   , -22.   ,  33.   ,   9.   ,  13.114]])"
      ]
     },
     "execution_count": 28,
     "metadata": {},
     "output_type": "execute_result"
    }
   ],
   "source": [
    "arr3[2:4]"
   ]
  },
  {
   "cell_type": "code",
   "execution_count": 29,
   "id": "7ae4ce01",
   "metadata": {},
   "outputs": [
    {
     "data": {
      "text/plain": [
       "array([[-6.   ,  8.   , 10.   ],\n",
       "       [-2.   , -5.   , -8.   ],\n",
       "       [33.   ,  9.   , 13.114]])"
      ]
     },
     "execution_count": 29,
     "metadata": {},
     "output_type": "execute_result"
    }
   ],
   "source": [
    "# 从第二行第三列开始\n",
    "arr3[1:,2:]"
   ]
  },
  {
   "cell_type": "code",
   "execution_count": 30,
   "id": "09d63126",
   "metadata": {},
   "outputs": [
    {
     "data": {
      "text/plain": [
       "33.0"
      ]
     },
     "execution_count": 30,
     "metadata": {},
     "output_type": "execute_result"
    }
   ],
   "source": [
    "arr3[2,1]"
   ]
  },
  {
   "cell_type": "code",
   "execution_count": 31,
   "id": "a6bf5c22",
   "metadata": {},
   "outputs": [
    {
     "data": {
      "text/plain": [
       "array([[False, False, False, False, False],\n",
       "       [False, False, False, False, False],\n",
       "       [ True,  True, False, False, False],\n",
       "       [False, False,  True, False, False]])"
      ]
     },
     "execution_count": 31,
     "metadata": {},
     "output_type": "execute_result"
    }
   ],
   "source": [
    "arr3 > 20"
   ]
  },
  {
   "cell_type": "code",
   "execution_count": 32,
   "id": "3fac8c4f",
   "metadata": {},
   "outputs": [
    {
     "data": {
      "text/plain": [
       "array([22., 33., 33.])"
      ]
     },
     "execution_count": 32,
     "metadata": {},
     "output_type": "execute_result"
    }
   ],
   "source": [
    "arr3[arr3>20]"
   ]
  },
  {
   "cell_type": "code",
   "execution_count": 33,
   "id": "9e8e6471",
   "metadata": {},
   "outputs": [
    {
     "data": {
      "text/plain": [
       "array([[ True,  True,  True,  True,  True],\n",
       "       [ True,  True,  True,  True,  True],\n",
       "       [False, False,  True,  True,  True],\n",
       "       [ True,  True, False,  True,  True]])"
      ]
     },
     "execution_count": 33,
     "metadata": {},
     "output_type": "execute_result"
    }
   ],
   "source": [
    "# 取反\n",
    "~(arr3 > 20)"
   ]
  },
  {
   "cell_type": "code",
   "execution_count": 34,
   "id": "de8aaccf",
   "metadata": {},
   "outputs": [
    {
     "data": {
      "text/plain": [
       "array([  1.   ,   3.   ,   5.   ,  -7.   , -90.   ,  -2.   ,   4.   ,\n",
       "        -6.   ,   8.   ,  10.   ,  -2.   ,  -5.   ,  -8.   , -66.   ,\n",
       "       -22.   ,   9.   ,  13.114])"
      ]
     },
     "execution_count": 34,
     "metadata": {},
     "output_type": "execute_result"
    }
   ],
   "source": [
    "arr3[~(arr3>20)]"
   ]
  },
  {
   "cell_type": "code",
   "execution_count": 35,
   "id": "e3267c2d",
   "metadata": {},
   "outputs": [
    {
     "data": {
      "text/plain": [
       "array([[False, False, False, False, False],\n",
       "       [False, False, False,  True,  True],\n",
       "       [False, False, False, False, False],\n",
       "       [False, False, False,  True,  True]])"
      ]
     },
     "execution_count": 35,
     "metadata": {},
     "output_type": "execute_result"
    }
   ],
   "source": [
    "(arr3 > 5) & (arr3 < 15)"
   ]
  },
  {
   "cell_type": "code",
   "execution_count": 36,
   "id": "22d931fb",
   "metadata": {},
   "outputs": [
    {
     "data": {
      "text/plain": [
       "array([ 8.   , 10.   ,  9.   , 13.114])"
      ]
     },
     "execution_count": 36,
     "metadata": {},
     "output_type": "execute_result"
    }
   ],
   "source": [
    "arr3[(arr3>5) & (arr3<15)]"
   ]
  },
  {
   "cell_type": "markdown",
   "id": "6a8fa1f8",
   "metadata": {},
   "source": [
    "# 花式索引 P21"
   ]
  },
  {
   "cell_type": "code",
   "execution_count": 37,
   "id": "ed6aeaa5",
   "metadata": {
    "scrolled": true
   },
   "outputs": [
    {
     "data": {
      "text/plain": [
       "array([[  1.   ,   3.   ,   5.   ,  -7.   , -90.   ],\n",
       "       [ -2.   ,   4.   ,  -6.   ,   8.   ,  10.   ],\n",
       "       [ 22.   ,  33.   ,  -2.   ,  -5.   ,  -8.   ],\n",
       "       [-66.   , -22.   ,  33.   ,   9.   ,  13.114]])"
      ]
     },
     "execution_count": 37,
     "metadata": {},
     "output_type": "execute_result"
    }
   ],
   "source": [
    "arr3"
   ]
  },
  {
   "cell_type": "code",
   "execution_count": 38,
   "id": "e17e97fe",
   "metadata": {
    "scrolled": true
   },
   "outputs": [
    {
     "data": {
      "text/plain": [
       "array([[22., 33., -2., -5., -8.],\n",
       "       [-2.,  4., -6.,  8., 10.]])"
      ]
     },
     "execution_count": 38,
     "metadata": {},
     "output_type": "execute_result"
    }
   ],
   "source": [
    "# 第三行和第二行  \n",
    "arr3[[2,1]]"
   ]
  },
  {
   "cell_type": "code",
   "execution_count": 39,
   "id": "4c261848",
   "metadata": {},
   "outputs": [
    {
     "data": {
      "text/plain": [
       "array([33., -6.])"
      ]
     },
     "execution_count": 39,
     "metadata": {},
     "output_type": "execute_result"
    }
   ],
   "source": [
    "arr3[[2,1],[1,2]] # 相当于arr3[2,1] arr3[1,2]"
   ]
  },
  {
   "cell_type": "code",
   "execution_count": 40,
   "id": "10e305f3",
   "metadata": {},
   "outputs": [
    {
     "data": {
      "text/plain": [
       "33.0"
      ]
     },
     "execution_count": 40,
     "metadata": {},
     "output_type": "execute_result"
    }
   ],
   "source": [
    "arr3[2,1]"
   ]
  },
  {
   "cell_type": "code",
   "execution_count": 41,
   "id": "cd9a1100",
   "metadata": {},
   "outputs": [
    {
     "data": {
      "text/plain": [
       "-6.0"
      ]
     },
     "execution_count": 41,
     "metadata": {},
     "output_type": "execute_result"
    }
   ],
   "source": [
    "arr3[1,2]"
   ]
  },
  {
   "cell_type": "code",
   "execution_count": 42,
   "id": "75cf6270",
   "metadata": {},
   "outputs": [
    {
     "data": {
      "text/plain": [
       "array([[ -7.,   3.],\n",
       "       [  8.,   4.],\n",
       "       [ -5.,  33.],\n",
       "       [  9., -22.]])"
      ]
     },
     "execution_count": 42,
     "metadata": {},
     "output_type": "execute_result"
    }
   ],
   "source": [
    "arr3[:,[3,1]] # 相当于arr3[:,3] arr3[:,1]"
   ]
  },
  {
   "cell_type": "code",
   "execution_count": 43,
   "id": "16a0d4dc",
   "metadata": {},
   "outputs": [
    {
     "data": {
      "text/plain": [
       "array([-7.,  8., -5.,  9.])"
      ]
     },
     "execution_count": 43,
     "metadata": {},
     "output_type": "execute_result"
    }
   ],
   "source": [
    "arr3[:,3]"
   ]
  },
  {
   "cell_type": "code",
   "execution_count": 44,
   "id": "0e4aaba8",
   "metadata": {},
   "outputs": [
    {
     "data": {
      "text/plain": [
       "array([  3.,   4.,  33., -22.])"
      ]
     },
     "execution_count": 44,
     "metadata": {},
     "output_type": "execute_result"
    }
   ],
   "source": [
    "arr3[:,1]"
   ]
  },
  {
   "cell_type": "code",
   "execution_count": 45,
   "id": "4818c9e0",
   "metadata": {},
   "outputs": [
    {
     "data": {
      "text/plain": [
       "array([[-7.],\n",
       "       [ 8.],\n",
       "       [-5.],\n",
       "       [ 9.]])"
      ]
     },
     "execution_count": 45,
     "metadata": {},
     "output_type": "execute_result"
    }
   ],
   "source": [
    "arr3[:,[3]]"
   ]
  },
  {
   "cell_type": "code",
   "execution_count": 46,
   "id": "c0ae34d2",
   "metadata": {
    "scrolled": true
   },
   "outputs": [
    {
     "data": {
      "text/plain": [
       "array([[  3.],\n",
       "       [  4.],\n",
       "       [ 33.],\n",
       "       [-22.]])"
      ]
     },
     "execution_count": 46,
     "metadata": {},
     "output_type": "execute_result"
    }
   ],
   "source": [
    "arr3[:,[1]]"
   ]
  },
  {
   "cell_type": "code",
   "execution_count": 47,
   "id": "67efb09b",
   "metadata": {},
   "outputs": [
    {
     "data": {
      "text/plain": [
       "array([[  1.   ,   3.   ,   5.   ,  -7.   , -90.   ],\n",
       "       [ -2.   ,   4.   ,  -6.   ,   8.   ,  10.   ],\n",
       "       [ 22.   ,  33.   ,  -2.   ,  -5.   ,  -8.   ],\n",
       "       [-66.   , -22.   ,  33.   ,   9.   ,  13.114]])"
      ]
     },
     "execution_count": 47,
     "metadata": {},
     "output_type": "execute_result"
    }
   ],
   "source": [
    "arr3"
   ]
  },
  {
   "cell_type": "code",
   "execution_count": 48,
   "id": "e64a4a14",
   "metadata": {},
   "outputs": [
    {
     "data": {
      "text/plain": [
       "array([  4., -66.])"
      ]
     },
     "execution_count": 48,
     "metadata": {},
     "output_type": "execute_result"
    }
   ],
   "source": [
    "arr3[[1,-1],[1,0]]"
   ]
  },
  {
   "cell_type": "code",
   "execution_count": 49,
   "id": "a4230d27",
   "metadata": {
    "scrolled": true
   },
   "outputs": [
    {
     "data": {
      "text/plain": [
       "array([[  3.,   1.,  -7.],\n",
       "       [-22., -66.,   9.]])"
      ]
     },
     "execution_count": 49,
     "metadata": {},
     "output_type": "execute_result"
    }
   ],
   "source": [
    "# ix_\n",
    "arr3[np.ix_([0,-1],[1,0,3])]"
   ]
  },
  {
   "cell_type": "code",
   "execution_count": 50,
   "id": "1141baf0",
   "metadata": {},
   "outputs": [
    {
     "data": {
      "text/plain": [
       "array([[  3.,   1.,  -7.],\n",
       "       [-22., -66.,   9.]])"
      ]
     },
     "execution_count": 50,
     "metadata": {},
     "output_type": "execute_result"
    }
   ],
   "source": [
    "arr3[[0,-1]][:,[1,0,3]]"
   ]
  },
  {
   "cell_type": "code",
   "execution_count": 51,
   "id": "78817b73",
   "metadata": {},
   "outputs": [
    {
     "data": {
      "text/plain": [
       "(array([[ 0],\n",
       "        [-1]]),\n",
       " array([[1, 0, 3]]))"
      ]
     },
     "execution_count": 51,
     "metadata": {},
     "output_type": "execute_result"
    }
   ],
   "source": [
    "np.ix_([0,-1],[1,0,3])"
   ]
  },
  {
   "cell_type": "markdown",
   "id": "5299e717",
   "metadata": {},
   "source": [
    "# 数组形状改变 P22"
   ]
  },
  {
   "cell_type": "code",
   "execution_count": 52,
   "id": "f9c81d09",
   "metadata": {
    "scrolled": false
   },
   "outputs": [
    {
     "data": {
      "text/plain": [
       "array([[  1.   ,   3.   ,   5.   ,  -7.   , -90.   ],\n",
       "       [ -2.   ,   4.   ,  -6.   ,   8.   ,  10.   ],\n",
       "       [ 22.   ,  33.   ,  -2.   ,  -5.   ,  -8.   ],\n",
       "       [-66.   , -22.   ,  33.   ,   9.   ,  13.114]])"
      ]
     },
     "execution_count": 52,
     "metadata": {},
     "output_type": "execute_result"
    }
   ],
   "source": [
    "arr3"
   ]
  },
  {
   "cell_type": "code",
   "execution_count": 53,
   "id": "8660d797",
   "metadata": {},
   "outputs": [],
   "source": [
    "arr4 = arr3.copy()"
   ]
  },
  {
   "cell_type": "code",
   "execution_count": 54,
   "id": "c63db5a8",
   "metadata": {
    "scrolled": false
   },
   "outputs": [
    {
     "data": {
      "text/plain": [
       "array([[  1.   ,   3.   ,   5.   ,  -7.   , -90.   ],\n",
       "       [ -2.   ,   4.   ,  -6.   ,   8.   ,  10.   ],\n",
       "       [ 22.   ,  33.   ,  -2.   ,  -5.   ,  -8.   ],\n",
       "       [-66.   , -22.   ,  33.   ,   9.   ,  13.114]])"
      ]
     },
     "execution_count": 54,
     "metadata": {},
     "output_type": "execute_result"
    }
   ],
   "source": [
    "arr4"
   ]
  },
  {
   "cell_type": "code",
   "execution_count": 55,
   "id": "68cbc5f7",
   "metadata": {
    "scrolled": true
   },
   "outputs": [
    {
     "data": {
      "text/plain": [
       "array([[  1.   ,   3.   ],\n",
       "       [  5.   ,  -7.   ],\n",
       "       [-90.   ,  -2.   ],\n",
       "       [  4.   ,  -6.   ],\n",
       "       [  8.   ,  10.   ],\n",
       "       [ 22.   ,  33.   ],\n",
       "       [ -2.   ,  -5.   ],\n",
       "       [ -8.   , -66.   ],\n",
       "       [-22.   ,  33.   ],\n",
       "       [  9.   ,  13.114]])"
      ]
     },
     "execution_count": 55,
     "metadata": {},
     "output_type": "execute_result"
    }
   ],
   "source": [
    "# 不改变原视图\n",
    "arr4.reshape(10,2)"
   ]
  },
  {
   "cell_type": "code",
   "execution_count": 56,
   "id": "b43995af",
   "metadata": {
    "scrolled": false
   },
   "outputs": [
    {
     "data": {
      "text/plain": [
       "array([[  1.   ,   3.   ,   5.   ,  -7.   , -90.   ],\n",
       "       [ -2.   ,   4.   ,  -6.   ,   8.   ,  10.   ],\n",
       "       [ 22.   ,  33.   ,  -2.   ,  -5.   ,  -8.   ],\n",
       "       [-66.   , -22.   ,  33.   ,   9.   ,  13.114]])"
      ]
     },
     "execution_count": 56,
     "metadata": {},
     "output_type": "execute_result"
    }
   ],
   "source": [
    "arr4"
   ]
  },
  {
   "cell_type": "code",
   "execution_count": 57,
   "id": "907faa0a",
   "metadata": {
    "scrolled": false
   },
   "outputs": [
    {
     "data": {
      "text/plain": [
       "array([[  1.   ,   3.   ,   5.   ,  -7.   , -90.   ],\n",
       "       [ -2.   ,   4.   ,  -6.   ,   8.   ,  10.   ],\n",
       "       [ 22.   ,  33.   ,  -2.   ,  -5.   ,  -8.   ],\n",
       "       [-66.   , -22.   ,  33.   ,   9.   ,  13.114]])"
      ]
     },
     "execution_count": 57,
     "metadata": {},
     "output_type": "execute_result"
    }
   ],
   "source": [
    "arr3"
   ]
  },
  {
   "cell_type": "code",
   "execution_count": 58,
   "id": "49f68185",
   "metadata": {},
   "outputs": [],
   "source": [
    "# 改变原视图\n",
    "arr3.resize(10,2)"
   ]
  },
  {
   "cell_type": "code",
   "execution_count": 59,
   "id": "98718d30",
   "metadata": {},
   "outputs": [
    {
     "data": {
      "text/plain": [
       "array([[  1.   ,   3.   ],\n",
       "       [  5.   ,  -7.   ],\n",
       "       [-90.   ,  -2.   ],\n",
       "       [  4.   ,  -6.   ],\n",
       "       [  8.   ,  10.   ],\n",
       "       [ 22.   ,  33.   ],\n",
       "       [ -2.   ,  -5.   ],\n",
       "       [ -8.   , -66.   ],\n",
       "       [-22.   ,  33.   ],\n",
       "       [  9.   ,  13.114]])"
      ]
     },
     "execution_count": 59,
     "metadata": {},
     "output_type": "execute_result"
    }
   ],
   "source": [
    "arr3"
   ]
  },
  {
   "cell_type": "code",
   "execution_count": 60,
   "id": "7ac002b4",
   "metadata": {},
   "outputs": [
    {
     "data": {
      "text/plain": [
       "array([[  1.   ,   3.   ,   5.   ,  -7.   , -90.   ],\n",
       "       [ -2.   ,   4.   ,  -6.   ,   8.   ,  10.   ],\n",
       "       [ 22.   ,  33.   ,  -2.   ,  -5.   ,  -8.   ],\n",
       "       [-66.   , -22.   ,  33.   ,   9.   ,  13.114]])"
      ]
     },
     "execution_count": 60,
     "metadata": {},
     "output_type": "execute_result"
    }
   ],
   "source": [
    "arr4"
   ]
  },
  {
   "cell_type": "code",
   "execution_count": 91,
   "id": "e641c998",
   "metadata": {},
   "outputs": [],
   "source": [
    "arr5 = arr4.copy()"
   ]
  },
  {
   "cell_type": "code",
   "execution_count": 92,
   "id": "ce65f8f6",
   "metadata": {},
   "outputs": [
    {
     "data": {
      "text/plain": [
       "array([[  1.   ,   3.   ],\n",
       "       [  5.   ,  -7.   ],\n",
       "       [-90.   ,  -2.   ],\n",
       "       [  4.   ,  -6.   ],\n",
       "       [  8.   ,  10.   ],\n",
       "       [ 22.   ,  33.   ],\n",
       "       [ -2.   ,  -5.   ],\n",
       "       [ -8.   , -66.   ],\n",
       "       [-22.   ,  33.   ],\n",
       "       [  9.   ,  13.114]])"
      ]
     },
     "execution_count": 92,
     "metadata": {},
     "output_type": "execute_result"
    }
   ],
   "source": [
    "arr5"
   ]
  },
  {
   "cell_type": "code",
   "execution_count": 63,
   "id": "37efac39",
   "metadata": {},
   "outputs": [],
   "source": [
    "# shape也改变自身\n",
    "arr4.shape = (10,2)"
   ]
  },
  {
   "cell_type": "code",
   "execution_count": 64,
   "id": "2f3995b8",
   "metadata": {},
   "outputs": [
    {
     "data": {
      "text/plain": [
       "array([[  1.   ,   3.   ],\n",
       "       [  5.   ,  -7.   ],\n",
       "       [-90.   ,  -2.   ],\n",
       "       [  4.   ,  -6.   ],\n",
       "       [  8.   ,  10.   ],\n",
       "       [ 22.   ,  33.   ],\n",
       "       [ -2.   ,  -5.   ],\n",
       "       [ -8.   , -66.   ],\n",
       "       [-22.   ,  33.   ],\n",
       "       [  9.   ,  13.114]])"
      ]
     },
     "execution_count": 64,
     "metadata": {},
     "output_type": "execute_result"
    }
   ],
   "source": [
    "arr4"
   ]
  },
  {
   "cell_type": "code",
   "execution_count": 65,
   "id": "b3fde4ad",
   "metadata": {},
   "outputs": [
    {
     "data": {
      "text/plain": [
       "array([[  1.   ,   3.   ],\n",
       "       [  5.   ,  -7.   ],\n",
       "       [-90.   ,  -2.   ],\n",
       "       [  4.   ,  -6.   ],\n",
       "       [  8.   ,  10.   ],\n",
       "       [ 22.   ,  33.   ],\n",
       "       [ -2.   ,  -5.   ],\n",
       "       [ -8.   , -66.   ],\n",
       "       [-22.   ,  33.   ],\n",
       "       [  9.   ,  13.114]])"
      ]
     },
     "execution_count": 65,
     "metadata": {},
     "output_type": "execute_result"
    }
   ],
   "source": [
    "arr3"
   ]
  },
  {
   "cell_type": "code",
   "execution_count": 66,
   "id": "1751a925",
   "metadata": {},
   "outputs": [
    {
     "data": {
      "text/plain": [
       "array([[  1.   ,   3.   ],\n",
       "       [  5.   ,  -7.   ],\n",
       "       [-90.   ,  -2.   ],\n",
       "       [  4.   ,  -6.   ],\n",
       "       [  8.   ,  10.   ],\n",
       "       [ 22.   ,  33.   ],\n",
       "       [ -2.   ,  -5.   ],\n",
       "       [ -8.   , -66.   ],\n",
       "       [-22.   ,  33.   ],\n",
       "       [  9.   ,  13.114]])"
      ]
     },
     "execution_count": 66,
     "metadata": {},
     "output_type": "execute_result"
    }
   ],
   "source": [
    "arr4"
   ]
  },
  {
   "cell_type": "code",
   "execution_count": 67,
   "id": "0f94dcc2",
   "metadata": {},
   "outputs": [
    {
     "data": {
      "text/plain": [
       "array([[  1.   ,   3.   ,   5.   ,  -7.   , -90.   ],\n",
       "       [ -2.   ,   4.   ,  -6.   ,   8.   ,  10.   ],\n",
       "       [ 22.   ,  33.   ,  -2.   ,  -5.   ,  -8.   ],\n",
       "       [-66.   , -22.   ,  33.   ,   9.   ,  13.114]])"
      ]
     },
     "execution_count": 67,
     "metadata": {},
     "output_type": "execute_result"
    }
   ],
   "source": [
    "arr5"
   ]
  },
  {
   "cell_type": "code",
   "execution_count": 68,
   "id": "b38f0dd7",
   "metadata": {},
   "outputs": [
    {
     "data": {
      "text/plain": [
       "array([  1.   ,   3.   ,   5.   ,  -7.   , -90.   ,  -2.   ,   4.   ,\n",
       "        -6.   ,   8.   ,  10.   ,  22.   ,  33.   ,  -2.   ,  -5.   ,\n",
       "        -8.   , -66.   , -22.   ,  33.   ,   9.   ,  13.114])"
      ]
     },
     "execution_count": 68,
     "metadata": {},
     "output_type": "execute_result"
    }
   ],
   "source": [
    "# ravel - 降维,横向\n",
    "arr5.ravel()"
   ]
  },
  {
   "cell_type": "code",
   "execution_count": 69,
   "id": "9411a756",
   "metadata": {},
   "outputs": [
    {
     "data": {
      "text/plain": [
       "array([[  1.   ,   3.   ,   5.   ,  -7.   , -90.   ],\n",
       "       [ -2.   ,   4.   ,  -6.   ,   8.   ,  10.   ],\n",
       "       [ 22.   ,  33.   ,  -2.   ,  -5.   ,  -8.   ],\n",
       "       [-66.   , -22.   ,  33.   ,   9.   ,  13.114]])"
      ]
     },
     "execution_count": 69,
     "metadata": {},
     "output_type": "execute_result"
    }
   ],
   "source": [
    "arr5"
   ]
  },
  {
   "cell_type": "code",
   "execution_count": 70,
   "id": "e6e86b31",
   "metadata": {},
   "outputs": [
    {
     "data": {
      "text/plain": [
       "array([  1.   ,  -2.   ,  22.   , -66.   ,   3.   ,   4.   ,  33.   ,\n",
       "       -22.   ,   5.   ,  -6.   ,  -2.   ,  33.   ,  -7.   ,   8.   ,\n",
       "        -5.   ,   9.   , -90.   ,  10.   ,  -8.   ,  13.114])"
      ]
     },
     "execution_count": 70,
     "metadata": {},
     "output_type": "execute_result"
    }
   ],
   "source": [
    "# 纵向\n",
    "# ravel - 缠绕\n",
    "arr5.ravel(order = 'F')"
   ]
  },
  {
   "cell_type": "code",
   "execution_count": 71,
   "id": "26cc6fee",
   "metadata": {},
   "outputs": [
    {
     "data": {
      "text/plain": [
       "array([[  1.   ,   3.   ,   5.   ,  -7.   , -90.   ],\n",
       "       [ -2.   ,   4.   ,  -6.   ,   8.   ,  10.   ],\n",
       "       [ 22.   ,  33.   ,  -2.   ,  -5.   ,  -8.   ],\n",
       "       [-66.   , -22.   ,  33.   ,   9.   ,  13.114]])"
      ]
     },
     "execution_count": 71,
     "metadata": {},
     "output_type": "execute_result"
    }
   ],
   "source": [
    "arr5"
   ]
  },
  {
   "cell_type": "code",
   "execution_count": 72,
   "id": "e871d435",
   "metadata": {},
   "outputs": [
    {
     "data": {
      "text/plain": [
       "array([  1.   ,   3.   ,   5.   ,  -7.   , -90.   ,  -2.   ,   4.   ,\n",
       "        -6.   ,   8.   ,  10.   ,  22.   ,  33.   ,  -2.   ,  -5.   ,\n",
       "        -8.   , -66.   , -22.   ,  33.   ,   9.   ,  13.114])"
      ]
     },
     "execution_count": 72,
     "metadata": {},
     "output_type": "execute_result"
    }
   ],
   "source": [
    "# flatten - 使变平，横向\n",
    "arr5.flatten()"
   ]
  },
  {
   "cell_type": "code",
   "execution_count": 73,
   "id": "c3d90087",
   "metadata": {},
   "outputs": [
    {
     "data": {
      "text/plain": [
       "array([[  1.   ,   3.   ,   5.   ,  -7.   , -90.   ],\n",
       "       [ -2.   ,   4.   ,  -6.   ,   8.   ,  10.   ],\n",
       "       [ 22.   ,  33.   ,  -2.   ,  -5.   ,  -8.   ],\n",
       "       [-66.   , -22.   ,  33.   ,   9.   ,  13.114]])"
      ]
     },
     "execution_count": 73,
     "metadata": {},
     "output_type": "execute_result"
    }
   ],
   "source": [
    "arr5"
   ]
  },
  {
   "cell_type": "code",
   "execution_count": 74,
   "id": "f1823a3d",
   "metadata": {},
   "outputs": [
    {
     "data": {
      "text/plain": [
       "array([  1.   ,  -2.   ,  22.   , -66.   ,   3.   ,   4.   ,  33.   ,\n",
       "       -22.   ,   5.   ,  -6.   ,  -2.   ,  33.   ,  -7.   ,   8.   ,\n",
       "        -5.   ,   9.   , -90.   ,  10.   ,  -8.   ,  13.114])"
      ]
     },
     "execution_count": 74,
     "metadata": {},
     "output_type": "execute_result"
    }
   ],
   "source": [
    "# 纵向\n",
    "arr5.flatten(order = 'F')"
   ]
  },
  {
   "cell_type": "code",
   "execution_count": 75,
   "id": "020c71cf",
   "metadata": {},
   "outputs": [
    {
     "data": {
      "text/plain": [
       "array([[  1.   ,   3.   ,   5.   ,  -7.   , -90.   ],\n",
       "       [ -2.   ,   4.   ,  -6.   ,   8.   ,  10.   ],\n",
       "       [ 22.   ,  33.   ,  -2.   ,  -5.   ,  -8.   ],\n",
       "       [-66.   , -22.   ,  33.   ,   9.   ,  13.114]])"
      ]
     },
     "execution_count": 75,
     "metadata": {},
     "output_type": "execute_result"
    }
   ],
   "source": [
    "arr5"
   ]
  },
  {
   "cell_type": "code",
   "execution_count": 76,
   "id": "b02d889b",
   "metadata": {
    "scrolled": true
   },
   "outputs": [
    {
     "data": {
      "text/plain": [
       "array([[  1.   ,   3.   ,   5.   ,  -7.   , -90.   ,  -2.   ,   4.   ,\n",
       "         -6.   ,   8.   ,  10.   ],\n",
       "       [ 22.   ,  33.   ,  -2.   ,  -5.   ,  -8.   , -66.   , -22.   ,\n",
       "         33.   ,   9.   ,  13.114]])"
      ]
     },
     "execution_count": 76,
     "metadata": {},
     "output_type": "execute_result"
    }
   ],
   "source": [
    "# 两行\n",
    "arr5.reshape(2,-1)"
   ]
  },
  {
   "cell_type": "code",
   "execution_count": 77,
   "id": "c5328dad",
   "metadata": {},
   "outputs": [
    {
     "data": {
      "text/plain": [
       "array([  1.   ,   3.   ,   5.   ,  -7.   , -90.   ,  -2.   ,   4.   ,\n",
       "        -6.   ,   8.   ,  10.   ,  22.   ,  33.   ,  -2.   ,  -5.   ,\n",
       "        -8.   , -66.   , -22.   ,  33.   ,   9.   ,  13.114])"
      ]
     },
     "execution_count": 77,
     "metadata": {},
     "output_type": "execute_result"
    }
   ],
   "source": [
    "arr5.reshape(-1)"
   ]
  },
  {
   "cell_type": "code",
   "execution_count": 78,
   "id": "8e83626f",
   "metadata": {},
   "outputs": [
    {
     "data": {
      "text/plain": [
       "array([[  1.   ,   3.   ],\n",
       "       [  5.   ,  -7.   ],\n",
       "       [-90.   ,  -2.   ],\n",
       "       [  4.   ,  -6.   ],\n",
       "       [  8.   ,  10.   ],\n",
       "       [ 22.   ,  33.   ],\n",
       "       [ -2.   ,  -5.   ],\n",
       "       [ -8.   , -66.   ],\n",
       "       [-22.   ,  33.   ],\n",
       "       [  9.   ,  13.114]])"
      ]
     },
     "execution_count": 78,
     "metadata": {},
     "output_type": "execute_result"
    }
   ],
   "source": [
    "arr5.reshape(-1,2)"
   ]
  },
  {
   "cell_type": "code",
   "execution_count": 79,
   "id": "d78da2e4",
   "metadata": {},
   "outputs": [
    {
     "data": {
      "text/plain": [
       "array([[  1.   ],\n",
       "       [  3.   ],\n",
       "       [  5.   ],\n",
       "       [ -7.   ],\n",
       "       [-90.   ],\n",
       "       [ -2.   ],\n",
       "       [  4.   ],\n",
       "       [ -6.   ],\n",
       "       [  8.   ],\n",
       "       [ 10.   ],\n",
       "       [ 22.   ],\n",
       "       [ 33.   ],\n",
       "       [ -2.   ],\n",
       "       [ -5.   ],\n",
       "       [ -8.   ],\n",
       "       [-66.   ],\n",
       "       [-22.   ],\n",
       "       [ 33.   ],\n",
       "       [  9.   ],\n",
       "       [ 13.114]])"
      ]
     },
     "execution_count": 79,
     "metadata": {},
     "output_type": "execute_result"
    }
   ],
   "source": [
    "arr5.reshape(-1,1)"
   ]
  },
  {
   "cell_type": "code",
   "execution_count": 97,
   "id": "006cdea9",
   "metadata": {
    "scrolled": true
   },
   "outputs": [
    {
     "data": {
      "text/plain": [
       "array([[  1.   ,   3.   ,   5.   ,  -7.   , -90.   ],\n",
       "       [ -2.   ,   4.   ,  -6.   ,   8.   ,  10.   ],\n",
       "       [ 22.   ,  33.   ,  -2.   ,  -5.   ,  -8.   ],\n",
       "       [-66.   , -22.   ,  33.   ,   9.   ,  13.114]])"
      ]
     },
     "execution_count": 97,
     "metadata": {},
     "output_type": "execute_result"
    }
   ],
   "source": [
    "arr5"
   ]
  },
  {
   "cell_type": "code",
   "execution_count": 98,
   "id": "3e98767b",
   "metadata": {},
   "outputs": [],
   "source": [
    "arr6 = arr5.copy()"
   ]
  },
  {
   "cell_type": "code",
   "execution_count": 99,
   "id": "bc8a15da",
   "metadata": {},
   "outputs": [
    {
     "data": {
      "text/plain": [
       "array([[  1.   ,   3.   ,   5.   ,  -7.   , -90.   ],\n",
       "       [ -2.   ,   4.   ,  -6.   ,   8.   ,  10.   ],\n",
       "       [ 22.   ,  33.   ,  -2.   ,  -5.   ,  -8.   ],\n",
       "       [-66.   , -22.   ,  33.   ,   9.   ,  13.114]])"
      ]
     },
     "execution_count": 99,
     "metadata": {},
     "output_type": "execute_result"
    }
   ],
   "source": [
    "arr6"
   ]
  },
  {
   "cell_type": "code",
   "execution_count": 100,
   "id": "1e0a12eb",
   "metadata": {},
   "outputs": [],
   "source": [
    "arr5 = arr5.ravel()"
   ]
  },
  {
   "cell_type": "code",
   "execution_count": 101,
   "id": "3745a8ed",
   "metadata": {},
   "outputs": [
    {
     "data": {
      "text/plain": [
       "array([  1.   ,   3.   ,   5.   ,  -7.   , -90.   ,  -2.   ,   4.   ,\n",
       "        -6.   ,   8.   ,  10.   ,  22.   ,  33.   ,  -2.   ,  -5.   ,\n",
       "        -8.   , -66.   , -22.   ,  33.   ,   9.   ,  13.114])"
      ]
     },
     "execution_count": 101,
     "metadata": {},
     "output_type": "execute_result"
    }
   ],
   "source": [
    "arr5"
   ]
  },
  {
   "cell_type": "code",
   "execution_count": 103,
   "id": "fd53eb1d",
   "metadata": {},
   "outputs": [
    {
     "data": {
      "text/plain": [
       "1"
      ]
     },
     "execution_count": 103,
     "metadata": {},
     "output_type": "execute_result"
    }
   ],
   "source": [
    "# ndim - 维度\n",
    "arr5.ndim"
   ]
  },
  {
   "cell_type": "code",
   "execution_count": 104,
   "id": "e952ef6e",
   "metadata": {},
   "outputs": [
    {
     "data": {
      "text/plain": [
       "(20,)"
      ]
     },
     "execution_count": 104,
     "metadata": {},
     "output_type": "execute_result"
    }
   ],
   "source": [
    "# 行和列\n",
    "arr5.shape"
   ]
  },
  {
   "cell_type": "code",
   "execution_count": 105,
   "id": "c9b41b2b",
   "metadata": {},
   "outputs": [
    {
     "data": {
      "text/plain": [
       "(4, 5)"
      ]
     },
     "execution_count": 105,
     "metadata": {},
     "output_type": "execute_result"
    }
   ],
   "source": [
    "arr6.shape"
   ]
  },
  {
   "cell_type": "code",
   "execution_count": 106,
   "id": "78217fdc",
   "metadata": {},
   "outputs": [
    {
     "data": {
      "text/plain": [
       "array([  1.   ,   3.   ,   5.   ,  -7.   , -90.   ,  -2.   ,   4.   ,\n",
       "        -6.   ,   8.   ,  10.   ,  22.   ,  33.   ,  -2.   ,  -5.   ,\n",
       "        -8.   , -66.   , -22.   ,  33.   ,   9.   ,  13.114])"
      ]
     },
     "execution_count": 106,
     "metadata": {},
     "output_type": "execute_result"
    }
   ],
   "source": [
    "arr5"
   ]
  },
  {
   "cell_type": "code",
   "execution_count": 110,
   "id": "f6b3858e",
   "metadata": {},
   "outputs": [
    {
     "data": {
      "text/plain": [
       "(1, 20)"
      ]
     },
     "execution_count": 110,
     "metadata": {},
     "output_type": "execute_result"
    }
   ],
   "source": [
    "# 增加维度\n",
    "arr5[np.newaxis,:].shape"
   ]
  },
  {
   "cell_type": "code",
   "execution_count": 111,
   "id": "edcd4d72",
   "metadata": {},
   "outputs": [
    {
     "data": {
      "text/plain": [
       "array([  1.   ,   3.   ,   5.   ,  -7.   , -90.   ,  -2.   ,   4.   ,\n",
       "        -6.   ,   8.   ,  10.   ,  22.   ,  33.   ,  -2.   ,  -5.   ,\n",
       "        -8.   , -66.   , -22.   ,  33.   ,   9.   ,  13.114])"
      ]
     },
     "execution_count": 111,
     "metadata": {},
     "output_type": "execute_result"
    }
   ],
   "source": [
    "arr5"
   ]
  },
  {
   "cell_type": "code",
   "execution_count": 114,
   "id": "01e765f5",
   "metadata": {},
   "outputs": [
    {
     "data": {
      "text/plain": [
       "array([[  1.   ],\n",
       "       [  3.   ],\n",
       "       [  5.   ],\n",
       "       [ -7.   ],\n",
       "       [-90.   ],\n",
       "       [ -2.   ],\n",
       "       [  4.   ],\n",
       "       [ -6.   ],\n",
       "       [  8.   ],\n",
       "       [ 10.   ],\n",
       "       [ 22.   ],\n",
       "       [ 33.   ],\n",
       "       [ -2.   ],\n",
       "       [ -5.   ],\n",
       "       [ -8.   ],\n",
       "       [-66.   ],\n",
       "       [-22.   ],\n",
       "       [ 33.   ],\n",
       "       [  9.   ],\n",
       "       [ 13.114]])"
      ]
     },
     "execution_count": 114,
     "metadata": {},
     "output_type": "execute_result"
    }
   ],
   "source": [
    "# 增加到列\n",
    "arr5[:,np.newaxis]"
   ]
  },
  {
   "cell_type": "code",
   "execution_count": 115,
   "id": "23ea61b2",
   "metadata": {},
   "outputs": [
    {
     "data": {
      "text/plain": [
       "(20, 1)"
      ]
     },
     "execution_count": 115,
     "metadata": {},
     "output_type": "execute_result"
    }
   ],
   "source": [
    "arr5[:,np.newaxis].shape"
   ]
  },
  {
   "cell_type": "code",
   "execution_count": 116,
   "id": "0a6cf9ed",
   "metadata": {},
   "outputs": [
    {
     "data": {
      "text/plain": [
       "2"
      ]
     },
     "execution_count": 116,
     "metadata": {},
     "output_type": "execute_result"
    }
   ],
   "source": [
    "arr5[:,np.newaxis].ndim"
   ]
  },
  {
   "cell_type": "code",
   "execution_count": 117,
   "id": "4d790494",
   "metadata": {
    "scrolled": false
   },
   "outputs": [
    {
     "data": {
      "text/plain": [
       "array([[  1.   ,   3.   ,   5.   ,  -7.   , -90.   ],\n",
       "       [ -2.   ,   4.   ,  -6.   ,   8.   ,  10.   ],\n",
       "       [ 22.   ,  33.   ,  -2.   ,  -5.   ,  -8.   ],\n",
       "       [-66.   , -22.   ,  33.   ,   9.   ,  13.114]])"
      ]
     },
     "execution_count": 117,
     "metadata": {},
     "output_type": "execute_result"
    }
   ],
   "source": [
    "arr6"
   ]
  },
  {
   "cell_type": "code",
   "execution_count": 124,
   "id": "e569851d",
   "metadata": {},
   "outputs": [],
   "source": [
    "# delete - 删除（目标，行，列）\n",
    "arr6 = np.delete(arr6,0,0)"
   ]
  },
  {
   "cell_type": "code",
   "execution_count": 125,
   "id": "a71642a7",
   "metadata": {},
   "outputs": [
    {
     "data": {
      "text/plain": [
       "array([[ -2.   ,   4.   ,  -6.   ,   8.   ,  10.   ],\n",
       "       [ 22.   ,  33.   ,  -2.   ,  -5.   ,  -8.   ],\n",
       "       [-66.   , -22.   ,  33.   ,   9.   ,  13.114]])"
      ]
     },
     "execution_count": 125,
     "metadata": {},
     "output_type": "execute_result"
    }
   ],
   "source": [
    "arr6"
   ]
  },
  {
   "cell_type": "code",
   "execution_count": 119,
   "id": "68c1893e",
   "metadata": {},
   "outputs": [],
   "source": [
    "arr7 = np.arange(12).reshape(3,4)"
   ]
  },
  {
   "cell_type": "code",
   "execution_count": 120,
   "id": "84f5c122",
   "metadata": {},
   "outputs": [
    {
     "data": {
      "text/plain": [
       "array([[ 0,  1,  2,  3],\n",
       "       [ 4,  5,  6,  7],\n",
       "       [ 8,  9, 10, 11]])"
      ]
     },
     "execution_count": 120,
     "metadata": {},
     "output_type": "execute_result"
    }
   ],
   "source": [
    "arr7"
   ]
  },
  {
   "cell_type": "code",
   "execution_count": 126,
   "id": "8992b777",
   "metadata": {
    "scrolled": true
   },
   "outputs": [
    {
     "data": {
      "text/plain": [
       "array([[ -2.   ,   4.   ,  -6.   ,   8.   ,  10.   ,   0.   ,   1.   ,\n",
       "          2.   ,   3.   ],\n",
       "       [ 22.   ,  33.   ,  -2.   ,  -5.   ,  -8.   ,   4.   ,   5.   ,\n",
       "          6.   ,   7.   ],\n",
       "       [-66.   , -22.   ,  33.   ,   9.   ,  13.114,   8.   ,   9.   ,\n",
       "         10.   ,  11.   ]])"
      ]
     },
     "execution_count": 126,
     "metadata": {},
     "output_type": "execute_result"
    }
   ],
   "source": [
    "# 横向合并\n",
    "np.hstack((arr6,arr7))"
   ]
  },
  {
   "cell_type": "code",
   "execution_count": 132,
   "id": "33b775a7",
   "metadata": {},
   "outputs": [
    {
     "data": {
      "text/plain": [
       "array([[ -2.   ,  -6.   ,   8.   ,  10.   ,   0.   ,   1.   ,   2.   ,\n",
       "          3.   ],\n",
       "       [ 22.   ,  -2.   ,  -5.   ,  -8.   ,   4.   ,   5.   ,   6.   ,\n",
       "          7.   ],\n",
       "       [-66.   ,  33.   ,   9.   ,  13.114,   8.   ,   9.   ,  10.   ,\n",
       "         11.   ]])"
      ]
     },
     "execution_count": 132,
     "metadata": {},
     "output_type": "execute_result"
    }
   ],
   "source": [
    "# 同上\n",
    "# concatenate - 连锁状\n",
    "np.concatenate((arr6,arr7), axis = 1)"
   ]
  },
  {
   "cell_type": "code",
   "execution_count": 129,
   "id": "1b57c05e",
   "metadata": {},
   "outputs": [],
   "source": [
    "# 删除一列\n",
    "arr6 = np.delete(arr6,1,1)"
   ]
  },
  {
   "cell_type": "code",
   "execution_count": 130,
   "id": "49071cdc",
   "metadata": {},
   "outputs": [
    {
     "data": {
      "text/plain": [
       "array([[ -2.   ,  -6.   ,   8.   ,  10.   ],\n",
       "       [ 22.   ,  -2.   ,  -5.   ,  -8.   ],\n",
       "       [-66.   ,  33.   ,   9.   ,  13.114]])"
      ]
     },
     "execution_count": 130,
     "metadata": {},
     "output_type": "execute_result"
    }
   ],
   "source": [
    "arr6"
   ]
  },
  {
   "cell_type": "code",
   "execution_count": 128,
   "id": "577d1d4e",
   "metadata": {},
   "outputs": [
    {
     "data": {
      "text/plain": [
       "array([[ 0,  1,  2,  3],\n",
       "       [ 4,  5,  6,  7],\n",
       "       [ 8,  9, 10, 11]])"
      ]
     },
     "execution_count": 128,
     "metadata": {},
     "output_type": "execute_result"
    }
   ],
   "source": [
    "arr7"
   ]
  },
  {
   "cell_type": "code",
   "execution_count": 131,
   "id": "f8542c40",
   "metadata": {},
   "outputs": [
    {
     "data": {
      "text/plain": [
       "array([[ -2.   ,  -6.   ,   8.   ,  10.   ],\n",
       "       [ 22.   ,  -2.   ,  -5.   ,  -8.   ],\n",
       "       [-66.   ,  33.   ,   9.   ,  13.114],\n",
       "       [  0.   ,   1.   ,   2.   ,   3.   ],\n",
       "       [  4.   ,   5.   ,   6.   ,   7.   ],\n",
       "       [  8.   ,   9.   ,  10.   ,  11.   ]])"
      ]
     },
     "execution_count": 131,
     "metadata": {},
     "output_type": "execute_result"
    }
   ],
   "source": [
    "# 纵向合并\n",
    "np.vstack((arr6,arr7))"
   ]
  },
  {
   "cell_type": "code",
   "execution_count": 133,
   "id": "e79074aa",
   "metadata": {},
   "outputs": [
    {
     "data": {
      "text/plain": [
       "array([[ -2.   ,  -6.   ,   8.   ,  10.   ],\n",
       "       [ 22.   ,  -2.   ,  -5.   ,  -8.   ],\n",
       "       [-66.   ,  33.   ,   9.   ,  13.114],\n",
       "       [  0.   ,   1.   ,   2.   ,   3.   ],\n",
       "       [  4.   ,   5.   ,   6.   ,   7.   ],\n",
       "       [  8.   ,   9.   ,  10.   ,  11.   ]])"
      ]
     },
     "execution_count": 133,
     "metadata": {},
     "output_type": "execute_result"
    }
   ],
   "source": [
    "# 同上\n",
    "np.concatenate((arr6,arr7), axis=0)"
   ]
  },
  {
   "cell_type": "code",
   "execution_count": 134,
   "id": "92bec599",
   "metadata": {},
   "outputs": [],
   "source": [
    "arr8 = np.array([0,1,2,3])"
   ]
  },
  {
   "cell_type": "code",
   "execution_count": 135,
   "id": "b641d2d1",
   "metadata": {},
   "outputs": [
    {
     "data": {
      "text/plain": [
       "array([0, 1, 2, 3])"
      ]
     },
     "execution_count": 135,
     "metadata": {},
     "output_type": "execute_result"
    }
   ],
   "source": [
    "arr8"
   ]
  },
  {
   "cell_type": "code",
   "execution_count": 141,
   "id": "79586c09",
   "metadata": {},
   "outputs": [],
   "source": [
    "arr8 = arr8.reshape(2,2)"
   ]
  },
  {
   "cell_type": "code",
   "execution_count": 142,
   "id": "849319cc",
   "metadata": {},
   "outputs": [
    {
     "data": {
      "text/plain": [
       "array([[0, 1],\n",
       "       [2, 3]])"
      ]
     },
     "execution_count": 142,
     "metadata": {},
     "output_type": "execute_result"
    }
   ],
   "source": [
    "arr8"
   ]
  },
  {
   "cell_type": "code",
   "execution_count": 143,
   "id": "f466b718",
   "metadata": {},
   "outputs": [
    {
     "data": {
      "text/plain": [
       "array([[0, 1, 0, 1, 0, 1, 0, 1],\n",
       "       [2, 3, 2, 3, 2, 3, 2, 3],\n",
       "       [0, 1, 0, 1, 0, 1, 0, 1],\n",
       "       [2, 3, 2, 3, 2, 3, 2, 3],\n",
       "       [0, 1, 0, 1, 0, 1, 0, 1],\n",
       "       [2, 3, 2, 3, 2, 3, 2, 3],\n",
       "       [0, 1, 0, 1, 0, 1, 0, 1],\n",
       "       [2, 3, 2, 3, 2, 3, 2, 3]])"
      ]
     },
     "execution_count": 143,
     "metadata": {},
     "output_type": "execute_result"
    }
   ],
   "source": [
    "# 复制（x,y)份，沿x行，y列复制\n",
    "np.tile(arr8,(4,4))"
   ]
  },
  {
   "cell_type": "code",
   "execution_count": 145,
   "id": "11541e84",
   "metadata": {},
   "outputs": [
    {
     "data": {
      "text/plain": [
       "(8, 8)"
      ]
     },
     "execution_count": 145,
     "metadata": {},
     "output_type": "execute_result"
    }
   ],
   "source": [
    "np.tile(arr8,(4,4)).shape"
   ]
  },
  {
   "cell_type": "code",
   "execution_count": 146,
   "id": "637b86f9",
   "metadata": {},
   "outputs": [],
   "source": [
    "# 三维数组\n",
    "arr9 = np.arange(8).reshape(2,2,2)"
   ]
  },
  {
   "cell_type": "code",
   "execution_count": 147,
   "id": "fbaf525e",
   "metadata": {},
   "outputs": [
    {
     "data": {
      "text/plain": [
       "array([[[0, 1],\n",
       "        [2, 3]],\n",
       "\n",
       "       [[4, 5],\n",
       "        [6, 7]]])"
      ]
     },
     "execution_count": 147,
     "metadata": {},
     "output_type": "execute_result"
    }
   ],
   "source": [
    "arr9"
   ]
  },
  {
   "cell_type": "code",
   "execution_count": 148,
   "id": "c74fb32f",
   "metadata": {},
   "outputs": [
    {
     "data": {
      "text/plain": [
       "3"
      ]
     },
     "execution_count": 148,
     "metadata": {},
     "output_type": "execute_result"
    }
   ],
   "source": [
    "arr9.ndim"
   ]
  },
  {
   "cell_type": "code",
   "execution_count": 149,
   "id": "aac46c4c",
   "metadata": {},
   "outputs": [
    {
     "data": {
      "text/plain": [
       "(2, 2, 2)"
      ]
     },
     "execution_count": 149,
     "metadata": {},
     "output_type": "execute_result"
    }
   ],
   "source": [
    "arr9.shape"
   ]
  },
  {
   "cell_type": "code",
   "execution_count": 150,
   "id": "1fdebdae",
   "metadata": {},
   "outputs": [
    {
     "data": {
      "text/plain": [
       "0"
      ]
     },
     "execution_count": 150,
     "metadata": {},
     "output_type": "execute_result"
    }
   ],
   "source": [
    "arr9[0][0][0]"
   ]
  },
  {
   "cell_type": "code",
   "execution_count": 151,
   "id": "e8261c74",
   "metadata": {},
   "outputs": [
    {
     "data": {
      "text/plain": [
       "6"
      ]
     },
     "execution_count": 151,
     "metadata": {},
     "output_type": "execute_result"
    }
   ],
   "source": [
    "arr9[1][1][0]"
   ]
  },
  {
   "cell_type": "code",
   "execution_count": null,
   "id": "bd5967b5",
   "metadata": {},
   "outputs": [],
   "source": []
  }
 ],
 "metadata": {
  "kernelspec": {
   "display_name": "Python 3 (ipykernel)",
   "language": "python",
   "name": "python3"
  },
  "language_info": {
   "codemirror_mode": {
    "name": "ipython",
    "version": 3
   },
   "file_extension": ".py",
   "mimetype": "text/x-python",
   "name": "python",
   "nbconvert_exporter": "python",
   "pygments_lexer": "ipython3",
   "version": "3.9.7"
  }
 },
 "nbformat": 4,
 "nbformat_minor": 5
}
