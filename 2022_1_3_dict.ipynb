{
 "cells": [
  {
   "cell_type": "code",
   "execution_count": 15,
   "id": "a1b0b228",
   "metadata": {},
   "outputs": [],
   "source": [
    "# 字典 - 由key和value组成\n",
    "dict_1 = {'name':'racardo','age':17,'id':2008}"
   ]
  },
  {
   "cell_type": "code",
   "execution_count": 16,
   "id": "741d907f",
   "metadata": {},
   "outputs": [
    {
     "data": {
      "text/plain": [
       "dict"
      ]
     },
     "execution_count": 16,
     "metadata": {},
     "output_type": "execute_result"
    }
   ],
   "source": [
    "type(dict_1)"
   ]
  },
  {
   "cell_type": "code",
   "execution_count": 17,
   "id": "67f54882",
   "metadata": {},
   "outputs": [
    {
     "data": {
      "text/plain": [
       "{'name': 'racardo', 'age': 17, 'id': 2008}"
      ]
     },
     "execution_count": 17,
     "metadata": {},
     "output_type": "execute_result"
    }
   ],
   "source": [
    "dict_1"
   ]
  },
  {
   "cell_type": "code",
   "execution_count": 20,
   "id": "c7b76978",
   "metadata": {},
   "outputs": [],
   "source": [
    "dict_a = dict(name='racardo',age=35,id=2008)"
   ]
  },
  {
   "cell_type": "code",
   "execution_count": 21,
   "id": "1fcbe1c7",
   "metadata": {},
   "outputs": [
    {
     "data": {
      "text/plain": [
       "{'name': 'racardo', 'age': 35, 'id': 2008}"
      ]
     },
     "execution_count": 21,
     "metadata": {},
     "output_type": "execute_result"
    }
   ],
   "source": [
    "dict_a"
   ]
  },
  {
   "cell_type": "code",
   "execution_count": 25,
   "id": "b9b16fc6",
   "metadata": {},
   "outputs": [
    {
     "data": {
      "text/plain": [
       "'racardo'"
      ]
     },
     "execution_count": 25,
     "metadata": {},
     "output_type": "execute_result"
    }
   ],
   "source": [
    "dict_a['name']"
   ]
  },
  {
   "cell_type": "code",
   "execution_count": 26,
   "id": "9e22c3f7",
   "metadata": {},
   "outputs": [
    {
     "data": {
      "text/plain": [
       "3"
      ]
     },
     "execution_count": 26,
     "metadata": {},
     "output_type": "execute_result"
    }
   ],
   "source": [
    "len(dict_a)"
   ]
  },
  {
   "cell_type": "code",
   "execution_count": 33,
   "id": "c81145d5",
   "metadata": {},
   "outputs": [],
   "source": [
    "dict_a['city'] = 'peiking'"
   ]
  },
  {
   "cell_type": "code",
   "execution_count": 34,
   "id": "feb17dda",
   "metadata": {},
   "outputs": [],
   "source": [
    "dict_a['num']=10086"
   ]
  },
  {
   "cell_type": "code",
   "execution_count": 35,
   "id": "2112eea4",
   "metadata": {},
   "outputs": [
    {
     "data": {
      "text/plain": [
       "{'name': 'racardo', 'age': 35, 'id': 2008, 'num': 10086, 'city': 'peiking'}"
      ]
     },
     "execution_count": 35,
     "metadata": {},
     "output_type": "execute_result"
    }
   ],
   "source": [
    "dict_a"
   ]
  },
  {
   "cell_type": "code",
   "execution_count": 36,
   "id": "add1076c",
   "metadata": {},
   "outputs": [],
   "source": [
    "del dict_a['city']"
   ]
  },
  {
   "cell_type": "code",
   "execution_count": 37,
   "id": "84c8b7d1",
   "metadata": {},
   "outputs": [
    {
     "data": {
      "text/plain": [
       "{'name': 'racardo', 'age': 35, 'id': 2008, 'num': 10086}"
      ]
     },
     "execution_count": 37,
     "metadata": {},
     "output_type": "execute_result"
    }
   ],
   "source": [
    "dict_a"
   ]
  },
  {
   "cell_type": "code",
   "execution_count": 38,
   "id": "c61a6453",
   "metadata": {},
   "outputs": [
    {
     "data": {
      "text/plain": [
       "10086"
      ]
     },
     "execution_count": 38,
     "metadata": {},
     "output_type": "execute_result"
    }
   ],
   "source": [
    "dict_a.pop('num')"
   ]
  },
  {
   "cell_type": "code",
   "execution_count": 39,
   "id": "1c6f9eaa",
   "metadata": {},
   "outputs": [
    {
     "data": {
      "text/plain": [
       "{'name': 'racardo', 'age': 35, 'id': 2008}"
      ]
     },
     "execution_count": 39,
     "metadata": {},
     "output_type": "execute_result"
    }
   ],
   "source": [
    "dict_a"
   ]
  },
  {
   "cell_type": "code",
   "execution_count": 43,
   "id": "2b4ffa4f",
   "metadata": {},
   "outputs": [],
   "source": [
    "dict_a['word']='hello'\n",
    "# 添加键和值"
   ]
  },
  {
   "cell_type": "code",
   "execution_count": 44,
   "id": "40674bbb",
   "metadata": {},
   "outputs": [
    {
     "data": {
      "text/plain": [
       "{'name': 'racardo', 'age': 35, 'id': 2008, 'word': 'hello'}"
      ]
     },
     "execution_count": 44,
     "metadata": {},
     "output_type": "execute_result"
    }
   ],
   "source": [
    "dict_a"
   ]
  },
  {
   "cell_type": "code",
   "execution_count": 46,
   "id": "7128bb77",
   "metadata": {},
   "outputs": [
    {
     "data": {
      "text/plain": [
       "True"
      ]
     },
     "execution_count": 46,
     "metadata": {},
     "output_type": "execute_result"
    }
   ],
   "source": [
    "'word' in dict_a\n",
    "# 判断健是否存在"
   ]
  },
  {
   "cell_type": "code",
   "execution_count": 47,
   "id": "27226cac",
   "metadata": {},
   "outputs": [
    {
     "data": {
      "text/plain": [
       "False"
      ]
     },
     "execution_count": 47,
     "metadata": {},
     "output_type": "execute_result"
    }
   ],
   "source": [
    "'nigger' in dict_a"
   ]
  },
  {
   "cell_type": "code",
   "execution_count": 48,
   "id": "b2259ae6",
   "metadata": {},
   "outputs": [],
   "source": [
    "# get - 返回指定键的值，如果不存在返回none或设置的值\n",
    "dict_a.get('nigger')"
   ]
  },
  {
   "cell_type": "code",
   "execution_count": 50,
   "id": "02d28816",
   "metadata": {},
   "outputs": [
    {
     "data": {
      "text/plain": [
       "0"
      ]
     },
     "execution_count": 50,
     "metadata": {},
     "output_type": "execute_result"
    }
   ],
   "source": [
    "dict_a.get('nigger',0)"
   ]
  },
  {
   "cell_type": "code",
   "execution_count": 51,
   "id": "852eb45f",
   "metadata": {},
   "outputs": [
    {
     "data": {
      "text/plain": [
       "'hello'"
      ]
     },
     "execution_count": 51,
     "metadata": {},
     "output_type": "execute_result"
    }
   ],
   "source": [
    "dict_a.get('word')"
   ]
  },
  {
   "cell_type": "code",
   "execution_count": 52,
   "id": "1002b939",
   "metadata": {},
   "outputs": [
    {
     "data": {
      "text/plain": [
       "True"
      ]
     },
     "execution_count": 52,
     "metadata": {},
     "output_type": "execute_result"
    }
   ],
   "source": [
    "dict_a.get('nigger') is None"
   ]
  },
  {
   "cell_type": "code",
   "execution_count": 53,
   "id": "1d21574b",
   "metadata": {},
   "outputs": [
    {
     "data": {
      "text/plain": [
       "dict_keys(['name', 'age', 'id', 'word'])"
      ]
     },
     "execution_count": 53,
     "metadata": {},
     "output_type": "execute_result"
    }
   ],
   "source": [
    "dict_a.keys()\n",
    "# 返回所有键"
   ]
  },
  {
   "cell_type": "code",
   "execution_count": 54,
   "id": "a766c7ab",
   "metadata": {},
   "outputs": [
    {
     "data": {
      "text/plain": [
       "dict_values(['racardo', 35, 2008, 'hello'])"
      ]
     },
     "execution_count": 54,
     "metadata": {},
     "output_type": "execute_result"
    }
   ],
   "source": [
    "dict_a.values()"
   ]
  },
  {
   "cell_type": "code",
   "execution_count": 55,
   "id": "faeb6375",
   "metadata": {},
   "outputs": [
    {
     "data": {
      "text/plain": [
       "dict_items([('name', 'racardo'), ('age', 35), ('id', 2008), ('word', 'hello')])"
      ]
     },
     "execution_count": 55,
     "metadata": {},
     "output_type": "execute_result"
    }
   ],
   "source": [
    "dict_a.items()\n",
    "# 键和值"
   ]
  },
  {
   "cell_type": "code",
   "execution_count": 57,
   "id": "b1a2393d",
   "metadata": {},
   "outputs": [
    {
     "name": "stdout",
     "output_type": "stream",
     "text": [
      "name\n",
      "racardo\n",
      "age\n",
      "35\n",
      "id\n",
      "2008\n",
      "word\n",
      "hello\n"
     ]
    }
   ],
   "source": [
    "for key in dict_a.keys():\n",
    "    print(key)\n",
    "    print(dict_a[key])"
   ]
  },
  {
   "cell_type": "code",
   "execution_count": 59,
   "id": "45486716",
   "metadata": {},
   "outputs": [],
   "source": [
    "dict_a.clear()\n",
    "# 清空字典内容"
   ]
  },
  {
   "cell_type": "code",
   "execution_count": 60,
   "id": "ffe89ce1",
   "metadata": {},
   "outputs": [
    {
     "data": {
      "text/plain": [
       "{}"
      ]
     },
     "execution_count": 60,
     "metadata": {},
     "output_type": "execute_result"
    }
   ],
   "source": [
    "dict_a"
   ]
  }
 ],
 "metadata": {
  "kernelspec": {
   "display_name": "Python 3 (ipykernel)",
   "language": "python",
   "name": "python3"
  },
  "language_info": {
   "codemirror_mode": {
    "name": "ipython",
    "version": 3
   },
   "file_extension": ".py",
   "mimetype": "text/x-python",
   "name": "python",
   "nbconvert_exporter": "python",
   "pygments_lexer": "ipython3",
   "version": "3.9.7"
  }
 },
 "nbformat": 4,
 "nbformat_minor": 5
}
